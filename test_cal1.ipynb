{
 "cells": [
  {
   "cell_type": "code",
   "execution_count": 1,
   "metadata": {},
   "outputs": [
    {
     "name": "stderr",
     "output_type": "stream",
     "text": [
      "Using backend: pytorch\n",
      "/usr/local/lib/python3.6/dist-packages/dgl/base.py:25: UserWarning: Detected an old version of PyTorch. Suggest using torch>=1.2.0 for the best experience.\n",
      "  warnings.warn(msg, warn_type)\n"
     ]
    }
   ],
   "source": [
    "import time\n",
    "import os\n",
    "import random\n",
    "import numpy as np\n",
    "import networkx as nx\n",
    "import torch.nn.functional as F\n",
    "import matplotlib.pyplot as plt\n",
    "\n",
    "import torchvision\n",
    "# Torch\n",
    "import torch\n",
    "import numpy as np\n",
    "import torch.nn as nn\n",
    "import torch.optim as optim\n",
    "from torch.utils.data import DataLoader, Dataset\n",
    "import torch.optim.lr_scheduler as lr_scheduler\n",
    "from torch.utils.data.sampler import SubsetRandomSampler\n",
    "\n",
    "# Torchvison\n",
    "from torchvision.transforms import transforms\n",
    "import torchvision.models as models\n",
    "from torchvision.datasets import CIFAR100, CIFAR10, Caltech101,Cityscapes\n",
    "\n",
    "# Utils\n",
    "import visdom\n",
    "from tqdm import tqdm\n",
    "\n",
    "# Custom\n",
    "import models.resnet as resnet\n",
    "import models.lossnet as lossnet\n",
    "from config import *\n",
    "from data.sampler import SubsetSequentialSampler\n",
    "import copy\n",
    "import pickle\n",
    "\n",
    "import arguments\n",
    "from utils import *\n",
    "from sklearn.metrics import accuracy_score\n",
    "from sklearn import metrics\n",
    "from scipy import sparse\n",
    "from dgl import DGLGraph\n",
    "from dgl.data import register_data_args, load_data\n",
    "from sklearn.preprocessing import LabelBinarizer\n",
    "from sklearn.model_selection import train_test_split\n",
    "\n",
    "from gcn import GCN\n",
    "from vat import VATLoss\n",
    "from imutils import paths\n",
    "import cv2\n",
    "import pretrainedmodels\n"
   ]
  },
  {
   "cell_type": "code",
   "execution_count": 2,
   "metadata": {},
   "outputs": [],
   "source": [
    "def seed_everything(SEED=42):\n",
    "    random.seed(SEED)\n",
    "    np.random.seed(SEED)\n",
    "    torch.manual_seed(SEED)\n",
    "    torch.cuda.manual_seed(SEED)\n",
    "    torch.cuda.manual_seed_all(SEED)\n",
    "    # torch.backends.cudnn.deterministic = True\n",
    "    # os.environ['PYTHONHASHSEED']=str(SEED)\n",
    "    # torch.backends.cudnn.benchmark = False # as all the inputs are not of same size\n",
    "SEED=42\n",
    "seed_everything(SEED=SEED)\n",
    "\n",
    "RGB_MEAN = [0.5429, 0.5263, 0.4994]\n",
    "RGB_STD = [0.2422, 0.2392, 0.2406]"
   ]
  },
  {
   "cell_type": "code",
   "execution_count": 3,
   "metadata": {},
   "outputs": [],
   "source": [
    "if torch.cuda.is_available():\n",
    "    device = 'cuda'\n",
    "else:\n",
    "    device = 'cpu'\n",
    "\n",
    "epochs = 100"
   ]
  },
  {
   "cell_type": "code",
   "execution_count": 4,
   "metadata": {},
   "outputs": [
    {
     "name": "stdout",
     "output_type": "stream",
     "text": [
      "101\n",
      "x_train examples: (5205,)\n",
      "x_test examples: (1736,)\n",
      "x_val examples: (1736,)\n"
     ]
    }
   ],
   "source": [
    "image_paths = list(paths.list_images('./caltech/101_ObjectCategories'))\n",
    "\n",
    "data = []\n",
    "labels = []\n",
    "label_names = []\n",
    "for image_path in image_paths:\n",
    "    label = image_path.split(os.path.sep)[-2]\n",
    "    if label == 'BACKGROUND_Google':\n",
    "        continue\n",
    "\n",
    "    image = cv2.imread(image_path)\n",
    "    image = cv2.cvtColor(image, cv2.COLOR_BGR2RGB)\n",
    "\n",
    "    data.append(image)\n",
    "    label_names.append(label)\n",
    "    labels.append(label)\n",
    "data = np.array(data)\n",
    "labels = np.array(labels)\n",
    "lb = LabelBinarizer()\n",
    "labels = lb.fit_transform(labels)\n",
    "print(len(lb.classes_))\n",
    "\n",
    "(X, x_val , Y, y_val) = train_test_split(data, labels, \n",
    "                                                    test_size=0.2,  \n",
    "                                                    stratify=labels,\n",
    "                                                    random_state=42)\n",
    "\n",
    "(x_train, x_test, y_train, y_test) = train_test_split(X, Y, \n",
    "                                                    test_size=0.25, \n",
    "                                                    random_state=42)\n",
    "\n",
    "print(f\"x_train examples: {x_train.shape}\\nx_test examples: {x_test.shape}\\nx_val examples: {x_val.shape}\")\n",
    "\n",
    "# define transforms\n",
    "# train_transform = transforms.Compose(\n",
    "#     [transforms.ToPILImage(),\n",
    "# \t transforms.Resize((224, 224)),\n",
    "#     #  transforms.RandomRotation((-30, 30)),\n",
    "#     #  transforms.RandomHorizontalFlip(p=0.5),\n",
    "#     #  transforms.RandomVerticalFlip(p=0.5),\n",
    "#      transforms.ToTensor(),\n",
    "#      transforms.Normalize(mean=[0.485, 0.456, 0.406],\n",
    "#                           std=[0.229, 0.224, 0.225])])\n",
    "\n",
    "train_transform = transforms.Compose([\n",
    "                            transforms.RandomResizedCrop(256, (.8, 1)),\n",
    "                            transforms.RandomHorizontalFlip(),\n",
    "                            transforms.RandomRotation(degrees=15),\n",
    "                            transforms.ColorJitter(),\n",
    "                            transforms.CenterCrop(224),\n",
    "                            transforms.ToTensor(),\n",
    "                            transforms.Normalize(RGB_MEAN, RGB_STD),\n",
    "                            ])\n",
    "val_transform = transforms.Compose(\n",
    "    [transforms.ToPILImage(),\n",
    "\t transforms.Resize((224, 224)),\n",
    "     transforms.ToTensor(),\n",
    "     transforms.Normalize(mean=[0.485, 0.456, 0.406],\n",
    "                          std=[0.229, 0.224, 0.225])])\n",
    "\n",
    "class ImageDataset(Dataset):\n",
    "    def __init__(self, images, labels=None, transforms=None):\n",
    "        self.X = images\n",
    "        self.y = labels\n",
    "        self.transforms = transforms\n",
    "         \n",
    "    def __len__(self):\n",
    "        return (len(self.X))\n",
    "    \n",
    "    def __getitem__(self, i):\n",
    "        data = self.X[i][:]\n",
    "        \n",
    "        if self.transforms:\n",
    "            data = self.transforms(data)\n",
    "            \n",
    "        if self.y is not None:\n",
    "            return (data, self.y[i])\n",
    "        else:\n",
    "            return data\n",
    " \n",
    "train_data = ImageDataset(x_train, y_train, train_transform)\n",
    "val_data = ImageDataset(x_val, y_val, val_transform)\n",
    "test_data = ImageDataset(x_test, y_test, val_transform)\n",
    " \n",
    "# dataloaders\n",
    "trainloader = DataLoader(train_data, batch_size=16, shuffle=True,num_workers=16)\n",
    "valloader = DataLoader(val_data, batch_size=16, shuffle=True,num_workers=16)\n",
    "testloader = DataLoader(test_data, batch_size=16, shuffle=False,num_workers=16)\n",
    "\n"
   ]
  },
  {
   "cell_type": "code",
   "execution_count": 5,
   "metadata": {},
   "outputs": [],
   "source": [
    "train_transform = transforms.Compose(\n",
    "    [transforms.ToPILImage(),\n",
    "\t transforms.Resize((224, 224)),\n",
    "#      transforms.RandomCrop(224),\n",
    "#      transforms.RandomHorizontalFlip(),\n",
    "    #  transforms.RandomRotation((-30, 30)),\n",
    "    #  transforms.RandomHorizontalFlip(p=0.5),\n",
    "    #  transforms.RandomVerticalFlip(p=0.5),\n",
    "     transforms.ToTensor(),\n",
    "     transforms.Normalize(mean=[0.485, 0.456, 0.406],\n",
    "                          std=[0.229, 0.224, 0.225])])\n",
    "\n",
    "# train_transform = transforms.Compose([\n",
    "#                             transforms.ToPILImage(),\n",
    "#                             transforms.RandomResizedCrop(256, (.8, 1)),\n",
    "#                             transforms.RandomHorizontalFlip(),\n",
    "#                             transforms.RandomRotation(degrees=15),\n",
    "#                             transforms.ColorJitter(),\n",
    "#                             transforms.CenterCrop(224),\n",
    "#                             transforms.ToTensor(),\n",
    "#                             transforms.Normalize(RGB_MEAN, RGB_STD),\n",
    "#                             ])\n",
    "val_transform = transforms.Compose(\n",
    "    [transforms.ToPILImage(),\n",
    "\t transforms.Resize((224, 224)),\n",
    "     transforms.ToTensor(),\n",
    "     transforms.Normalize(mean=[0.485, 0.456, 0.406],\n",
    "                          std=[0.229, 0.224, 0.225])])\n",
    "\n",
    "class ImageDataset(Dataset):\n",
    "    def __init__(self, images, labels=None, transforms=None):\n",
    "        self.X = images\n",
    "        self.y = labels\n",
    "        self.transforms = transforms\n",
    "         \n",
    "    def __len__(self):\n",
    "        return (len(self.X))\n",
    "    \n",
    "    def __getitem__(self, i):\n",
    "        data = self.X[i][:]\n",
    "        \n",
    "        if self.transforms:\n",
    "            data = self.transforms(data)\n",
    "            \n",
    "        if self.y is not None:\n",
    "            return (data, self.y[i])\n",
    "        else:\n",
    "            return data\n",
    " \n",
    "train_data = ImageDataset(x_train, y_train, train_transform)\n",
    "val_data = ImageDataset(x_val, y_val, val_transform)\n",
    "test_data = ImageDataset(x_test, y_test, val_transform)\n",
    " \n",
    "# dataloaders\n",
    "trainloader = DataLoader(train_data, batch_size=128, shuffle=True,num_workers=16)\n",
    "valloader = DataLoader(val_data, batch_size=128, shuffle=True,num_workers=16)\n",
    "testloader = DataLoader(test_data, batch_size=128, shuffle=False,num_workers=16)"
   ]
  },
  {
   "cell_type": "code",
   "execution_count": 6,
   "metadata": {
    "scrolled": true
   },
   "outputs": [],
   "source": [
    "def train_epoch(models, criterion, optimizers, dataloaders, epoch, epoch_loss, vis=None, plot_data=None):\n",
    "    models['backbone'].train()\n",
    "    # models['module'].train()\n",
    "    global iters\n",
    "\n",
    "    for data in tqdm(dataloaders['train'], leave=False, total=len(dataloaders['train'])):\n",
    "        inputs = data[0].cuda()\n",
    "        labels = data[1].cuda()\n",
    "        # print(inputs.shape, labels.shape)\n",
    "#         iters += 1\n",
    "\n",
    "        optimizers['backbone'].zero_grad()\n",
    "        # optimizers['module'].zero_grad()\n",
    "\n",
    "#         scores, features, for_gcn = models['backbone'](inputs)\n",
    "        scores = models['backbone'](inputs)\n",
    "#         print(scores.shape)\n",
    "#         print(torch.max(labels, 1)[1])\n",
    "        target_loss = criterion(scores, torch.max(labels, 1)[1])\n",
    "\n",
    "        # if epoch > epoch_loss:\n",
    "        #     # After 120 epochs, stop the gradient from the loss prediction module propagated to the target model.\n",
    "        #     features[0] = features[0].detach()\n",
    "        #     features[1] = features[1].detach()\n",
    "        #     features[2] = features[2].detach()\n",
    "        #     features[3] = features[3].detach()\n",
    "        # pred_loss = models['module'](features)\n",
    "        # pred_loss = pred_loss.view(pred_loss.size(0))\n",
    "\n",
    "        # m_backbone_loss = torch.sum(target_loss) / target_loss.size(0)\n",
    "        # m_module_loss   = LossPredLoss(pred_loss, target_loss, margin=MARGIN)\n",
    "        # loss            = m_backbone_loss + WEIGHT * m_module_loss\n",
    "\n",
    "        target_loss.backward()\n",
    "        optimizers['backbone'].step()\n",
    "        # optimizers['module'].step()\n",
    "\n",
    "        # Visualize\n",
    "        # if (iters % 100 == 0) and (vis != None) and (plot_data != None):\n",
    "        #     plot_data['X'].append(iters)\n",
    "        #     plot_data['Y'].append([\n",
    "        #         m_backbone_loss.item(),\n",
    "        #         m_module_loss.item(),\n",
    "        #         loss.item()\n",
    "        #     ])\n",
    "        #     vis.line(\n",
    "        #         X=np.stack([np.array(plot_data['X'])] * len(plot_data['legend']), 1),\n",
    "        #         Y=np.array(plot_data['Y']),\n",
    "        #         opts={\n",
    "        #             'title': 'Loss over Time',\n",
    "        #             'legend': plot_data['legend'],\n",
    "        #             'xlabel': 'Iterations',\n",
    "        #             'ylabel': 'Loss',\n",
    "        #             'width': 1200,\n",
    "        #             'height': 390,\n",
    "        #         },\n",
    "        #         win=1\n",
    "        #     )\n",
    "\n",
    "#\n",
    "def test(models, dataloaders, mode='val'):\n",
    "    assert mode == 'val' or mode == 'test'\n",
    "    models['backbone'].eval()\n",
    "    # models['module'].eval()\n",
    "\n",
    "    total = 0\n",
    "    correct = 0\n",
    "    with torch.no_grad():\n",
    "        for (inputs, labels) in dataloaders[mode]:\n",
    "            inputs = inputs.cuda()\n",
    "            labels = labels.cuda()\n",
    "            labels = torch.max(labels, 1)[1]\n",
    "#             scores, _, _ = models['backbone'](inputs)\n",
    "            scores = models['backbone'](inputs)\n",
    "            _, preds = torch.max(scores.data, 1)\n",
    "            total += labels.size(0)\n",
    "            correct += (preds == labels).sum().item()\n",
    "    \n",
    "    return 100 * correct / total\n",
    "\n",
    "#\n",
    "def train(models, criterion, optimizers, schedulers, dataloaders, num_epochs, epoch_loss, vis, plot_data, cycle, accuracies):\n",
    "    print('>> Train a Model.')\n",
    "    best_acc = 0.\n",
    "    checkpoint_dir = os.path.join('./cifar10', 'train', 'weights')\n",
    "    if not os.path.exists(checkpoint_dir):\n",
    "        os.makedirs(checkpoint_dir)\n",
    "    \n",
    "    for epoch in range(num_epochs):\n",
    "        schedulers['backbone'].step()\n",
    "        # schedulers['module'].step()\n",
    "\n",
    "        train_epoch(models, criterion, optimizers, dataloaders, epoch, epoch_loss, vis, plot_data)\n",
    "        print(accuracies, epoch)\n",
    "\n",
    "        # Save a checkpoint\n",
    "        acc = test(models, dataloaders, 'test')\n",
    "        print(acc)\n",
    "        # if best_acc < acc:\n",
    "        #     best_acc = acc\n",
    "        #     best_model = copy.deepcopy(models['backbone'])\n",
    "        # # test_acc = test(models, dataloaders, 'test')\n",
    "        # print(acc, 'val_acc', best_acc, 'best_acc', 'accs', accuracies, 'epoch', epoch, 'cycle' ,cycle)\n",
    "\n",
    "\n",
    "\n",
    "        # if False and epoch % 5 == 4:\n",
    "        #     acc = test(models, dataloaders, 'test')\n",
    "        #     if best_acc < acc:\n",
    "        #         best_acc = acc\n",
    "        #         torch.save({\n",
    "        #             'epoch': epoch + 1,\n",
    "        #             'state_dict_backbone': models['backbone'].state_dict(),\n",
    "        #             'state_dict_module': models['module'].state_dict()\n",
    "        #         },\n",
    "        #         '%s/active_resnet18_cifar10.pth' % (checkpoint_dir))\n",
    "        #     print('Val Acc: {:.3f} \\t Best Acc: {:.3f}'.format(acc, best_acc))\n",
    "\n",
    "    torch.save(models['backbone'].state_dict(), \"model_\" + str(cycle) + \".pt\")\n",
    "    print('>> Finished.')\n",
    "# args = arguments.get_args()\n",
    "# os.environ['CUDA_VISIBLE_DEVICES'] = \"0\"\n",
    "accuracies = []\n",
    "# main(args)\n",
    "# vis = visdom.Visdom(server='http://localhost', port=9000)\n",
    "vis = None\n",
    "plot_data = {'X': [], 'Y': [], 'legend': ['Backbone Loss', 'Module Loss', 'Total Loss']}"
   ]
  },
  {
   "cell_type": "code",
   "execution_count": 13,
   "metadata": {},
   "outputs": [],
   "source": [
    "class ResNet18(nn.Module):\n",
    "    def __init__(self, pretrained):\n",
    "        super(ResNet18, self).__init__()\n",
    "        if pretrained is True:\n",
    "            self.model = pretrainedmodels.__dict__['resnet18'](pretrained='imagenet')\n",
    "        else:\n",
    "            self.model = pretrainedmodels.__dict__['resnet18'](pretrained=None)\n",
    "        \n",
    "        # change the classification layer\n",
    "        self.l0 = nn.Linear(512, len(lb.classes_))\n",
    "        self.dropout = nn.Dropout2d(0.5)\n",
    "    def forward(self, x):\n",
    "        # get the batch size only, ignore (c, h, w)\n",
    "        batch, _, _, _ = x.shape\n",
    "        x = self.model.features(x)\n",
    "        x = F.adaptive_avg_pool2d(x, 1).reshape(batch, -1)\n",
    "        x = self.dropout(x)\n",
    "        l0 = self.l0(x)\n",
    "        return l0"
   ]
  },
  {
   "cell_type": "code",
   "execution_count": null,
   "metadata": {},
   "outputs": [
    {
     "name": "stderr",
     "output_type": "stream",
     "text": [
      "\r",
      "  0%|          | 0/41 [00:00<?, ?it/s]"
     ]
    },
    {
     "name": "stdout",
     "output_type": "stream",
     "text": [
      ">> Train a Model.\n"
     ]
    },
    {
     "name": "stderr",
     "output_type": "stream",
     "text": [
      "                                               "
     ]
    },
    {
     "name": "stdout",
     "output_type": "stream",
     "text": [
      "[74.42396313364056, 73.963133640553] 0\n"
     ]
    },
    {
     "name": "stderr",
     "output_type": "stream",
     "text": [
      "  0%|          | 0/41 [00:00<?, ?it/s]"
     ]
    },
    {
     "name": "stdout",
     "output_type": "stream",
     "text": [
      "5.529953917050691\n"
     ]
    },
    {
     "name": "stderr",
     "output_type": "stream",
     "text": [
      "                                               "
     ]
    },
    {
     "name": "stdout",
     "output_type": "stream",
     "text": [
      "[74.42396313364056, 73.963133640553] 1\n"
     ]
    },
    {
     "name": "stderr",
     "output_type": "stream",
     "text": [
      "  0%|          | 0/41 [00:00<?, ?it/s]"
     ]
    },
    {
     "name": "stdout",
     "output_type": "stream",
     "text": [
      "9.389400921658986\n"
     ]
    },
    {
     "name": "stderr",
     "output_type": "stream",
     "text": [
      "                                               "
     ]
    },
    {
     "name": "stdout",
     "output_type": "stream",
     "text": [
      "[74.42396313364056, 73.963133640553] 2\n"
     ]
    },
    {
     "name": "stderr",
     "output_type": "stream",
     "text": [
      "  0%|          | 0/41 [00:00<?, ?it/s]"
     ]
    },
    {
     "name": "stdout",
     "output_type": "stream",
     "text": [
      "10.253456221198157\n"
     ]
    },
    {
     "name": "stderr",
     "output_type": "stream",
     "text": [
      "                                               "
     ]
    },
    {
     "name": "stdout",
     "output_type": "stream",
     "text": [
      "[74.42396313364056, 73.963133640553] 3\n"
     ]
    },
    {
     "name": "stderr",
     "output_type": "stream",
     "text": [
      "  0%|          | 0/41 [00:00<?, ?it/s]"
     ]
    },
    {
     "name": "stdout",
     "output_type": "stream",
     "text": [
      "11.347926267281107\n"
     ]
    },
    {
     "name": "stderr",
     "output_type": "stream",
     "text": [
      "                                               "
     ]
    },
    {
     "name": "stdout",
     "output_type": "stream",
     "text": [
      "[74.42396313364056, 73.963133640553] 4\n"
     ]
    },
    {
     "name": "stderr",
     "output_type": "stream",
     "text": [
      "  0%|          | 0/41 [00:00<?, ?it/s]"
     ]
    },
    {
     "name": "stdout",
     "output_type": "stream",
     "text": [
      "13.59447004608295\n"
     ]
    },
    {
     "name": "stderr",
     "output_type": "stream",
     "text": [
      "                                               \r"
     ]
    },
    {
     "name": "stdout",
     "output_type": "stream",
     "text": [
      "[74.42396313364056, 73.963133640553] 5\n"
     ]
    },
    {
     "name": "stderr",
     "output_type": "stream",
     "text": [
      "\r",
      "  0%|          | 0/41 [00:00<?, ?it/s]"
     ]
    },
    {
     "name": "stdout",
     "output_type": "stream",
     "text": [
      "14.976958525345623\n"
     ]
    },
    {
     "name": "stderr",
     "output_type": "stream",
     "text": [
      "                                               "
     ]
    },
    {
     "name": "stdout",
     "output_type": "stream",
     "text": [
      "[74.42396313364056, 73.963133640553] 6\n"
     ]
    },
    {
     "name": "stderr",
     "output_type": "stream",
     "text": [
      "  0%|          | 0/41 [00:00<?, ?it/s]"
     ]
    },
    {
     "name": "stdout",
     "output_type": "stream",
     "text": [
      "14.285714285714286\n"
     ]
    },
    {
     "name": "stderr",
     "output_type": "stream",
     "text": [
      "                                               "
     ]
    },
    {
     "name": "stdout",
     "output_type": "stream",
     "text": [
      "[74.42396313364056, 73.963133640553] 7\n"
     ]
    },
    {
     "name": "stderr",
     "output_type": "stream",
     "text": [
      "  0%|          | 0/41 [00:00<?, ?it/s]"
     ]
    },
    {
     "name": "stdout",
     "output_type": "stream",
     "text": [
      "17.16589861751152\n"
     ]
    },
    {
     "name": "stderr",
     "output_type": "stream",
     "text": [
      "                                               \r"
     ]
    },
    {
     "name": "stdout",
     "output_type": "stream",
     "text": [
      "[74.42396313364056, 73.963133640553] 8\n"
     ]
    },
    {
     "name": "stderr",
     "output_type": "stream",
     "text": [
      "\r",
      "  0%|          | 0/41 [00:00<?, ?it/s]"
     ]
    },
    {
     "name": "stdout",
     "output_type": "stream",
     "text": [
      "19.297235023041473\n"
     ]
    },
    {
     "name": "stderr",
     "output_type": "stream",
     "text": [
      "                                               "
     ]
    },
    {
     "name": "stdout",
     "output_type": "stream",
     "text": [
      "[74.42396313364056, 73.963133640553] 9\n"
     ]
    },
    {
     "name": "stderr",
     "output_type": "stream",
     "text": [
      "  0%|          | 0/41 [00:00<?, ?it/s]"
     ]
    },
    {
     "name": "stdout",
     "output_type": "stream",
     "text": [
      "21.255760368663594\n"
     ]
    },
    {
     "name": "stderr",
     "output_type": "stream",
     "text": [
      "                                               "
     ]
    },
    {
     "name": "stdout",
     "output_type": "stream",
     "text": [
      "[74.42396313364056, 73.963133640553] 10\n"
     ]
    },
    {
     "name": "stderr",
     "output_type": "stream",
     "text": [
      "  0%|          | 0/41 [00:00<?, ?it/s]"
     ]
    },
    {
     "name": "stdout",
     "output_type": "stream",
     "text": [
      "23.214285714285715\n"
     ]
    },
    {
     "name": "stderr",
     "output_type": "stream",
     "text": [
      "                                               \r"
     ]
    },
    {
     "name": "stdout",
     "output_type": "stream",
     "text": [
      "[74.42396313364056, 73.963133640553] 11\n"
     ]
    },
    {
     "name": "stderr",
     "output_type": "stream",
     "text": [
      "\r",
      "  0%|          | 0/41 [00:00<?, ?it/s]"
     ]
    },
    {
     "name": "stdout",
     "output_type": "stream",
     "text": [
      "22.638248847926267\n"
     ]
    },
    {
     "name": "stderr",
     "output_type": "stream",
     "text": [
      "                                               "
     ]
    },
    {
     "name": "stdout",
     "output_type": "stream",
     "text": [
      "[74.42396313364056, 73.963133640553] 12\n"
     ]
    },
    {
     "name": "stderr",
     "output_type": "stream",
     "text": [
      "  0%|          | 0/41 [00:00<?, ?it/s]"
     ]
    },
    {
     "name": "stdout",
     "output_type": "stream",
     "text": [
      "24.65437788018433\n"
     ]
    },
    {
     "name": "stderr",
     "output_type": "stream",
     "text": [
      "                                               "
     ]
    },
    {
     "name": "stdout",
     "output_type": "stream",
     "text": [
      "[74.42396313364056, 73.963133640553] 13\n"
     ]
    },
    {
     "name": "stderr",
     "output_type": "stream",
     "text": [
      "  0%|          | 0/41 [00:00<?, ?it/s]"
     ]
    },
    {
     "name": "stdout",
     "output_type": "stream",
     "text": [
      "28.571428571428573\n"
     ]
    },
    {
     "name": "stderr",
     "output_type": "stream",
     "text": [
      "                                               "
     ]
    },
    {
     "name": "stdout",
     "output_type": "stream",
     "text": [
      "[74.42396313364056, 73.963133640553] 14\n"
     ]
    },
    {
     "name": "stderr",
     "output_type": "stream",
     "text": [
      "  0%|          | 0/41 [00:00<?, ?it/s]"
     ]
    },
    {
     "name": "stdout",
     "output_type": "stream",
     "text": [
      "30.069124423963135\n"
     ]
    },
    {
     "name": "stderr",
     "output_type": "stream",
     "text": [
      "                                               "
     ]
    },
    {
     "name": "stdout",
     "output_type": "stream",
     "text": [
      "[74.42396313364056, 73.963133640553] 15\n"
     ]
    },
    {
     "name": "stderr",
     "output_type": "stream",
     "text": [
      "  0%|          | 0/41 [00:00<?, ?it/s]"
     ]
    },
    {
     "name": "stdout",
     "output_type": "stream",
     "text": [
      "33.525345622119815\n"
     ]
    },
    {
     "name": "stderr",
     "output_type": "stream",
     "text": [
      "                                               "
     ]
    },
    {
     "name": "stdout",
     "output_type": "stream",
     "text": [
      "[74.42396313364056, 73.963133640553] 16\n"
     ]
    },
    {
     "name": "stderr",
     "output_type": "stream",
     "text": [
      "  0%|          | 0/41 [00:00<?, ?it/s]"
     ]
    },
    {
     "name": "stdout",
     "output_type": "stream",
     "text": [
      "36.80875576036866\n"
     ]
    },
    {
     "name": "stderr",
     "output_type": "stream",
     "text": [
      "                                               "
     ]
    },
    {
     "name": "stdout",
     "output_type": "stream",
     "text": [
      "[74.42396313364056, 73.963133640553] 17\n"
     ]
    },
    {
     "name": "stderr",
     "output_type": "stream",
     "text": [
      "  0%|          | 0/41 [00:00<?, ?it/s]"
     ]
    },
    {
     "name": "stdout",
     "output_type": "stream",
     "text": [
      "34.33179723502304\n"
     ]
    },
    {
     "name": "stderr",
     "output_type": "stream",
     "text": [
      "                                               "
     ]
    },
    {
     "name": "stdout",
     "output_type": "stream",
     "text": [
      "[74.42396313364056, 73.963133640553] 18\n"
     ]
    },
    {
     "name": "stderr",
     "output_type": "stream",
     "text": [
      "  0%|          | 0/41 [00:00<?, ?it/s]"
     ]
    },
    {
     "name": "stdout",
     "output_type": "stream",
     "text": [
      "35.714285714285715\n"
     ]
    },
    {
     "name": "stderr",
     "output_type": "stream",
     "text": [
      "                                               "
     ]
    },
    {
     "name": "stdout",
     "output_type": "stream",
     "text": [
      "[74.42396313364056, 73.963133640553] 19\n"
     ]
    },
    {
     "name": "stderr",
     "output_type": "stream",
     "text": [
      "  0%|          | 0/41 [00:00<?, ?it/s]"
     ]
    },
    {
     "name": "stdout",
     "output_type": "stream",
     "text": [
      "38.42165898617512\n"
     ]
    },
    {
     "name": "stderr",
     "output_type": "stream",
     "text": [
      "                                               "
     ]
    },
    {
     "name": "stdout",
     "output_type": "stream",
     "text": [
      "[74.42396313364056, 73.963133640553] 20\n"
     ]
    },
    {
     "name": "stderr",
     "output_type": "stream",
     "text": [
      "  0%|          | 0/41 [00:00<?, ?it/s]"
     ]
    },
    {
     "name": "stdout",
     "output_type": "stream",
     "text": [
      "38.882488479262676\n"
     ]
    },
    {
     "name": "stderr",
     "output_type": "stream",
     "text": [
      "                                               \r"
     ]
    },
    {
     "name": "stdout",
     "output_type": "stream",
     "text": [
      "[74.42396313364056, 73.963133640553] 21\n"
     ]
    },
    {
     "name": "stderr",
     "output_type": "stream",
     "text": [
      "\r",
      "  0%|          | 0/41 [00:00<?, ?it/s]"
     ]
    },
    {
     "name": "stdout",
     "output_type": "stream",
     "text": [
      "40.84101382488479\n"
     ]
    },
    {
     "name": "stderr",
     "output_type": "stream",
     "text": [
      "                                               "
     ]
    },
    {
     "name": "stdout",
     "output_type": "stream",
     "text": [
      "[74.42396313364056, 73.963133640553] 22\n"
     ]
    },
    {
     "name": "stderr",
     "output_type": "stream",
     "text": [
      "  0%|          | 0/41 [00:00<?, ?it/s]"
     ]
    },
    {
     "name": "stdout",
     "output_type": "stream",
     "text": [
      "41.41705069124424\n"
     ]
    },
    {
     "name": "stderr",
     "output_type": "stream",
     "text": [
      "                                               "
     ]
    },
    {
     "name": "stdout",
     "output_type": "stream",
     "text": [
      "[74.42396313364056, 73.963133640553] 23\n"
     ]
    },
    {
     "name": "stderr",
     "output_type": "stream",
     "text": [
      "  0%|          | 0/41 [00:00<?, ?it/s]"
     ]
    },
    {
     "name": "stdout",
     "output_type": "stream",
     "text": [
      "44.29723502304147\n"
     ]
    },
    {
     "name": "stderr",
     "output_type": "stream",
     "text": [
      "                                               "
     ]
    },
    {
     "name": "stdout",
     "output_type": "stream",
     "text": [
      "[74.42396313364056, 73.963133640553] 24\n"
     ]
    },
    {
     "name": "stderr",
     "output_type": "stream",
     "text": [
      "  0%|          | 0/41 [00:00<?, ?it/s]"
     ]
    },
    {
     "name": "stdout",
     "output_type": "stream",
     "text": [
      "38.42165898617512\n"
     ]
    },
    {
     "name": "stderr",
     "output_type": "stream",
     "text": [
      "                                               "
     ]
    },
    {
     "name": "stdout",
     "output_type": "stream",
     "text": [
      "[74.42396313364056, 73.963133640553] 25\n"
     ]
    },
    {
     "name": "stderr",
     "output_type": "stream",
     "text": [
      "  0%|          | 0/41 [00:00<?, ?it/s]"
     ]
    },
    {
     "name": "stdout",
     "output_type": "stream",
     "text": [
      "38.133640552995395\n"
     ]
    },
    {
     "name": "stderr",
     "output_type": "stream",
     "text": [
      "                                               "
     ]
    },
    {
     "name": "stdout",
     "output_type": "stream",
     "text": [
      "[74.42396313364056, 73.963133640553] 26\n"
     ]
    },
    {
     "name": "stderr",
     "output_type": "stream",
     "text": [
      "  0%|          | 0/41 [00:00<?, ?it/s]"
     ]
    },
    {
     "name": "stdout",
     "output_type": "stream",
     "text": [
      "45.39170506912443\n"
     ]
    },
    {
     "name": "stderr",
     "output_type": "stream",
     "text": [
      "                                               "
     ]
    },
    {
     "name": "stdout",
     "output_type": "stream",
     "text": [
      "[74.42396313364056, 73.963133640553] 27\n"
     ]
    },
    {
     "name": "stderr",
     "output_type": "stream",
     "text": [
      "  0%|          | 0/41 [00:00<?, ?it/s]"
     ]
    },
    {
     "name": "stdout",
     "output_type": "stream",
     "text": [
      "46.71658986175115\n"
     ]
    },
    {
     "name": "stderr",
     "output_type": "stream",
     "text": [
      "                                               "
     ]
    },
    {
     "name": "stdout",
     "output_type": "stream",
     "text": [
      "[74.42396313364056, 73.963133640553] 28\n"
     ]
    },
    {
     "name": "stderr",
     "output_type": "stream",
     "text": [
      "  0%|          | 0/41 [00:00<?, ?it/s]"
     ]
    },
    {
     "name": "stdout",
     "output_type": "stream",
     "text": [
      "49.30875576036866\n"
     ]
    },
    {
     "name": "stderr",
     "output_type": "stream",
     "text": [
      "                                               \r"
     ]
    },
    {
     "name": "stdout",
     "output_type": "stream",
     "text": [
      "[74.42396313364056, 73.963133640553] 29\n"
     ]
    },
    {
     "name": "stderr",
     "output_type": "stream",
     "text": [
      "\r",
      "  0%|          | 0/41 [00:00<?, ?it/s]"
     ]
    },
    {
     "name": "stdout",
     "output_type": "stream",
     "text": [
      "48.04147465437788\n"
     ]
    },
    {
     "name": "stderr",
     "output_type": "stream",
     "text": [
      "                                               "
     ]
    },
    {
     "name": "stdout",
     "output_type": "stream",
     "text": [
      "[74.42396313364056, 73.963133640553] 30\n"
     ]
    },
    {
     "name": "stderr",
     "output_type": "stream",
     "text": [
      "  0%|          | 0/41 [00:00<?, ?it/s]"
     ]
    },
    {
     "name": "stdout",
     "output_type": "stream",
     "text": [
      "48.214285714285715\n"
     ]
    },
    {
     "name": "stderr",
     "output_type": "stream",
     "text": [
      "                                               "
     ]
    },
    {
     "name": "stdout",
     "output_type": "stream",
     "text": [
      "[74.42396313364056, 73.963133640553] 31\n"
     ]
    },
    {
     "name": "stderr",
     "output_type": "stream",
     "text": [
      "  0%|          | 0/41 [00:00<?, ?it/s]"
     ]
    },
    {
     "name": "stdout",
     "output_type": "stream",
     "text": [
      "52.07373271889401\n"
     ]
    },
    {
     "name": "stderr",
     "output_type": "stream",
     "text": [
      "                                               "
     ]
    },
    {
     "name": "stdout",
     "output_type": "stream",
     "text": [
      "[74.42396313364056, 73.963133640553] 32\n"
     ]
    },
    {
     "name": "stderr",
     "output_type": "stream",
     "text": [
      "  0%|          | 0/41 [00:00<?, ?it/s]"
     ]
    },
    {
     "name": "stdout",
     "output_type": "stream",
     "text": [
      "47.86866359447004\n"
     ]
    },
    {
     "name": "stderr",
     "output_type": "stream",
     "text": [
      "                                               "
     ]
    },
    {
     "name": "stdout",
     "output_type": "stream",
     "text": [
      "[74.42396313364056, 73.963133640553] 33\n"
     ]
    },
    {
     "name": "stderr",
     "output_type": "stream",
     "text": [
      "  0%|          | 0/41 [00:00<?, ?it/s]"
     ]
    },
    {
     "name": "stdout",
     "output_type": "stream",
     "text": [
      "47.17741935483871\n"
     ]
    },
    {
     "name": "stderr",
     "output_type": "stream",
     "text": [
      "                                               "
     ]
    },
    {
     "name": "stdout",
     "output_type": "stream",
     "text": [
      "[74.42396313364056, 73.963133640553] 34\n"
     ]
    },
    {
     "name": "stderr",
     "output_type": "stream",
     "text": [
      "  0%|          | 0/41 [00:00<?, ?it/s]"
     ]
    },
    {
     "name": "stdout",
     "output_type": "stream",
     "text": [
      "53.05299539170507\n"
     ]
    },
    {
     "name": "stderr",
     "output_type": "stream",
     "text": [
      "                                               "
     ]
    },
    {
     "name": "stdout",
     "output_type": "stream",
     "text": [
      "[74.42396313364056, 73.963133640553] 35\n"
     ]
    },
    {
     "name": "stderr",
     "output_type": "stream",
     "text": [
      "  0%|          | 0/41 [00:00<?, ?it/s]"
     ]
    },
    {
     "name": "stdout",
     "output_type": "stream",
     "text": [
      "49.02073732718894\n"
     ]
    },
    {
     "name": "stderr",
     "output_type": "stream",
     "text": [
      "                                               "
     ]
    },
    {
     "name": "stdout",
     "output_type": "stream",
     "text": [
      "[74.42396313364056, 73.963133640553] 36\n"
     ]
    },
    {
     "name": "stderr",
     "output_type": "stream",
     "text": [
      "  0%|          | 0/41 [00:00<?, ?it/s]"
     ]
    },
    {
     "name": "stdout",
     "output_type": "stream",
     "text": [
      "55.414746543778804\n"
     ]
    },
    {
     "name": "stderr",
     "output_type": "stream",
     "text": [
      "                                               "
     ]
    },
    {
     "name": "stdout",
     "output_type": "stream",
     "text": [
      "[74.42396313364056, 73.963133640553] 37\n"
     ]
    },
    {
     "name": "stderr",
     "output_type": "stream",
     "text": [
      "  0%|          | 0/41 [00:00<?, ?it/s]"
     ]
    },
    {
     "name": "stdout",
     "output_type": "stream",
     "text": [
      "56.163594470046085\n"
     ]
    },
    {
     "name": "stderr",
     "output_type": "stream",
     "text": [
      "                                               \r"
     ]
    },
    {
     "name": "stdout",
     "output_type": "stream",
     "text": [
      "[74.42396313364056, 73.963133640553] 38\n"
     ]
    },
    {
     "name": "stderr",
     "output_type": "stream",
     "text": [
      "\r",
      "  0%|          | 0/41 [00:00<?, ?it/s]"
     ]
    },
    {
     "name": "stdout",
     "output_type": "stream",
     "text": [
      "50.28801843317972\n"
     ]
    },
    {
     "name": "stderr",
     "output_type": "stream",
     "text": [
      "                                               "
     ]
    },
    {
     "name": "stdout",
     "output_type": "stream",
     "text": [
      "[74.42396313364056, 73.963133640553] 39\n"
     ]
    },
    {
     "name": "stderr",
     "output_type": "stream",
     "text": [
      "  0%|          | 0/41 [00:00<?, ?it/s]"
     ]
    },
    {
     "name": "stdout",
     "output_type": "stream",
     "text": [
      "54.55069124423963\n"
     ]
    },
    {
     "name": "stderr",
     "output_type": "stream",
     "text": [
      "                                               "
     ]
    },
    {
     "name": "stdout",
     "output_type": "stream",
     "text": [
      "[74.42396313364056, 73.963133640553] 40\n"
     ]
    },
    {
     "name": "stderr",
     "output_type": "stream",
     "text": [
      "  0%|          | 0/41 [00:00<?, ?it/s]"
     ]
    },
    {
     "name": "stdout",
     "output_type": "stream",
     "text": [
      "54.78110599078341\n"
     ]
    },
    {
     "name": "stderr",
     "output_type": "stream",
     "text": [
      "                                               "
     ]
    },
    {
     "name": "stdout",
     "output_type": "stream",
     "text": [
      "[74.42396313364056, 73.963133640553] 41\n"
     ]
    },
    {
     "name": "stderr",
     "output_type": "stream",
     "text": [
      "  0%|          | 0/41 [00:00<?, ?it/s]"
     ]
    },
    {
     "name": "stdout",
     "output_type": "stream",
     "text": [
      "52.41935483870968\n"
     ]
    },
    {
     "name": "stderr",
     "output_type": "stream",
     "text": [
      "                                               "
     ]
    },
    {
     "name": "stdout",
     "output_type": "stream",
     "text": [
      "[74.42396313364056, 73.963133640553] 42\n"
     ]
    },
    {
     "name": "stderr",
     "output_type": "stream",
     "text": [
      "  0%|          | 0/41 [00:00<?, ?it/s]"
     ]
    },
    {
     "name": "stdout",
     "output_type": "stream",
     "text": [
      "50.69124423963134\n"
     ]
    },
    {
     "name": "stderr",
     "output_type": "stream",
     "text": [
      "                                               "
     ]
    },
    {
     "name": "stdout",
     "output_type": "stream",
     "text": [
      "[74.42396313364056, 73.963133640553] 43\n"
     ]
    },
    {
     "name": "stderr",
     "output_type": "stream",
     "text": [
      "  0%|          | 0/41 [00:00<?, ?it/s]"
     ]
    },
    {
     "name": "stdout",
     "output_type": "stream",
     "text": [
      "58.986175115207374\n"
     ]
    },
    {
     "name": "stderr",
     "output_type": "stream",
     "text": [
      "                                               \r"
     ]
    },
    {
     "name": "stdout",
     "output_type": "stream",
     "text": [
      "[74.42396313364056, 73.963133640553] 44\n"
     ]
    },
    {
     "name": "stderr",
     "output_type": "stream",
     "text": [
      "\r",
      "  0%|          | 0/41 [00:00<?, ?it/s]"
     ]
    },
    {
     "name": "stdout",
     "output_type": "stream",
     "text": [
      "53.45622119815668\n"
     ]
    },
    {
     "name": "stderr",
     "output_type": "stream",
     "text": [
      "                                               "
     ]
    },
    {
     "name": "stdout",
     "output_type": "stream",
     "text": [
      "[74.42396313364056, 73.963133640553] 45\n"
     ]
    },
    {
     "name": "stderr",
     "output_type": "stream",
     "text": [
      "  0%|          | 0/41 [00:00<?, ?it/s]"
     ]
    },
    {
     "name": "stdout",
     "output_type": "stream",
     "text": [
      "56.91244239631337\n"
     ]
    },
    {
     "name": "stderr",
     "output_type": "stream",
     "text": [
      "                                               "
     ]
    },
    {
     "name": "stdout",
     "output_type": "stream",
     "text": [
      "[74.42396313364056, 73.963133640553] 46\n"
     ]
    },
    {
     "name": "stderr",
     "output_type": "stream",
     "text": [
      "  0%|          | 0/41 [00:00<?, ?it/s]"
     ]
    },
    {
     "name": "stdout",
     "output_type": "stream",
     "text": [
      "51.555299539170505\n"
     ]
    },
    {
     "name": "stderr",
     "output_type": "stream",
     "text": [
      "                                               "
     ]
    },
    {
     "name": "stdout",
     "output_type": "stream",
     "text": [
      "[74.42396313364056, 73.963133640553] 47\n"
     ]
    },
    {
     "name": "stderr",
     "output_type": "stream",
     "text": [
      "  0%|          | 0/41 [00:00<?, ?it/s]"
     ]
    },
    {
     "name": "stdout",
     "output_type": "stream",
     "text": [
      "55.933179723502306\n"
     ]
    },
    {
     "name": "stderr",
     "output_type": "stream",
     "text": [
      "                                               "
     ]
    },
    {
     "name": "stdout",
     "output_type": "stream",
     "text": [
      "[74.42396313364056, 73.963133640553] 48\n"
     ]
    },
    {
     "name": "stderr",
     "output_type": "stream",
     "text": [
      "  0%|          | 0/41 [00:00<?, ?it/s]"
     ]
    },
    {
     "name": "stdout",
     "output_type": "stream",
     "text": [
      "56.04838709677419\n"
     ]
    },
    {
     "name": "stderr",
     "output_type": "stream",
     "text": [
      "                                               "
     ]
    },
    {
     "name": "stdout",
     "output_type": "stream",
     "text": [
      "[74.42396313364056, 73.963133640553] 49\n"
     ]
    },
    {
     "name": "stderr",
     "output_type": "stream",
     "text": [
      "  0%|          | 0/41 [00:00<?, ?it/s]"
     ]
    },
    {
     "name": "stdout",
     "output_type": "stream",
     "text": [
      "55.357142857142854\n"
     ]
    },
    {
     "name": "stderr",
     "output_type": "stream",
     "text": [
      "                                               "
     ]
    },
    {
     "name": "stdout",
     "output_type": "stream",
     "text": [
      "[74.42396313364056, 73.963133640553] 50\n"
     ]
    },
    {
     "name": "stderr",
     "output_type": "stream",
     "text": [
      "  0%|          | 0/41 [00:00<?, ?it/s]"
     ]
    },
    {
     "name": "stdout",
     "output_type": "stream",
     "text": [
      "57.71889400921659\n"
     ]
    },
    {
     "name": "stderr",
     "output_type": "stream",
     "text": [
      "                                               "
     ]
    },
    {
     "name": "stdout",
     "output_type": "stream",
     "text": [
      "[74.42396313364056, 73.963133640553] 51\n"
     ]
    },
    {
     "name": "stderr",
     "output_type": "stream",
     "text": [
      "  0%|          | 0/41 [00:00<?, ?it/s]"
     ]
    },
    {
     "name": "stdout",
     "output_type": "stream",
     "text": [
      "58.294930875576036\n"
     ]
    },
    {
     "name": "stderr",
     "output_type": "stream",
     "text": [
      "                                               "
     ]
    },
    {
     "name": "stdout",
     "output_type": "stream",
     "text": [
      "[74.42396313364056, 73.963133640553] 52\n"
     ]
    },
    {
     "name": "stderr",
     "output_type": "stream",
     "text": [
      "  0%|          | 0/41 [00:00<?, ?it/s]"
     ]
    },
    {
     "name": "stdout",
     "output_type": "stream",
     "text": [
      "56.163594470046085\n"
     ]
    },
    {
     "name": "stderr",
     "output_type": "stream",
     "text": [
      "                                               \r"
     ]
    },
    {
     "name": "stdout",
     "output_type": "stream",
     "text": [
      "[74.42396313364056, 73.963133640553] 53\n"
     ]
    },
    {
     "name": "stderr",
     "output_type": "stream",
     "text": [
      "\r",
      "  0%|          | 0/41 [00:00<?, ?it/s]"
     ]
    },
    {
     "name": "stdout",
     "output_type": "stream",
     "text": [
      "60.59907834101382\n"
     ]
    },
    {
     "name": "stderr",
     "output_type": "stream",
     "text": [
      "                                               \r"
     ]
    },
    {
     "name": "stdout",
     "output_type": "stream",
     "text": [
      "[74.42396313364056, 73.963133640553] 54\n"
     ]
    },
    {
     "name": "stderr",
     "output_type": "stream",
     "text": [
      "\r",
      "  0%|          | 0/41 [00:00<?, ?it/s]"
     ]
    },
    {
     "name": "stdout",
     "output_type": "stream",
     "text": [
      "60.77188940092166\n"
     ]
    },
    {
     "name": "stderr",
     "output_type": "stream",
     "text": [
      "                                               "
     ]
    },
    {
     "name": "stdout",
     "output_type": "stream",
     "text": [
      "[74.42396313364056, 73.963133640553] 55\n"
     ]
    },
    {
     "name": "stderr",
     "output_type": "stream",
     "text": [
      "  0%|          | 0/41 [00:00<?, ?it/s]"
     ]
    },
    {
     "name": "stdout",
     "output_type": "stream",
     "text": [
      "57.20046082949309\n"
     ]
    },
    {
     "name": "stderr",
     "output_type": "stream",
     "text": [
      "                                               "
     ]
    },
    {
     "name": "stdout",
     "output_type": "stream",
     "text": [
      "[74.42396313364056, 73.963133640553] 56\n"
     ]
    },
    {
     "name": "stderr",
     "output_type": "stream",
     "text": [
      "  0%|          | 0/41 [00:00<?, ?it/s]"
     ]
    },
    {
     "name": "stdout",
     "output_type": "stream",
     "text": [
      "60.77188940092166\n"
     ]
    },
    {
     "name": "stderr",
     "output_type": "stream",
     "text": [
      "                                               "
     ]
    },
    {
     "name": "stdout",
     "output_type": "stream",
     "text": [
      "[74.42396313364056, 73.963133640553] 57\n"
     ]
    },
    {
     "name": "stderr",
     "output_type": "stream",
     "text": [
      "  0%|          | 0/41 [00:00<?, ?it/s]"
     ]
    },
    {
     "name": "stdout",
     "output_type": "stream",
     "text": [
      "62.327188940092164\n"
     ]
    },
    {
     "name": "stderr",
     "output_type": "stream",
     "text": [
      "                                               "
     ]
    },
    {
     "name": "stdout",
     "output_type": "stream",
     "text": [
      "[74.42396313364056, 73.963133640553] 58\n"
     ]
    },
    {
     "name": "stderr",
     "output_type": "stream",
     "text": [
      "  0%|          | 0/41 [00:00<?, ?it/s]"
     ]
    },
    {
     "name": "stdout",
     "output_type": "stream",
     "text": [
      "56.04838709677419\n"
     ]
    },
    {
     "name": "stderr",
     "output_type": "stream",
     "text": [
      "                                               "
     ]
    },
    {
     "name": "stdout",
     "output_type": "stream",
     "text": [
      "[74.42396313364056, 73.963133640553] 59\n"
     ]
    },
    {
     "name": "stderr",
     "output_type": "stream",
     "text": [
      "  0%|          | 0/41 [00:00<?, ?it/s]"
     ]
    },
    {
     "name": "stdout",
     "output_type": "stream",
     "text": [
      "61.52073732718894\n"
     ]
    },
    {
     "name": "stderr",
     "output_type": "stream",
     "text": [
      "                                               "
     ]
    },
    {
     "name": "stdout",
     "output_type": "stream",
     "text": [
      "[74.42396313364056, 73.963133640553] 60\n"
     ]
    },
    {
     "name": "stderr",
     "output_type": "stream",
     "text": [
      "  0%|          | 0/41 [00:00<?, ?it/s]"
     ]
    },
    {
     "name": "stdout",
     "output_type": "stream",
     "text": [
      "58.69815668202765\n"
     ]
    },
    {
     "name": "stderr",
     "output_type": "stream",
     "text": [
      "                                               "
     ]
    },
    {
     "name": "stdout",
     "output_type": "stream",
     "text": [
      "[74.42396313364056, 73.963133640553] 61\n"
     ]
    },
    {
     "name": "stderr",
     "output_type": "stream",
     "text": [
      "  0%|          | 0/41 [00:00<?, ?it/s]"
     ]
    },
    {
     "name": "stdout",
     "output_type": "stream",
     "text": [
      "59.38940092165899\n"
     ]
    },
    {
     "name": "stderr",
     "output_type": "stream",
     "text": [
      "                                               "
     ]
    },
    {
     "name": "stdout",
     "output_type": "stream",
     "text": [
      "[74.42396313364056, 73.963133640553] 62\n"
     ]
    },
    {
     "name": "stderr",
     "output_type": "stream",
     "text": [
      "  0%|          | 0/41 [00:00<?, ?it/s]"
     ]
    },
    {
     "name": "stdout",
     "output_type": "stream",
     "text": [
      "62.845622119815665\n"
     ]
    },
    {
     "name": "stderr",
     "output_type": "stream",
     "text": [
      "                                               "
     ]
    },
    {
     "name": "stdout",
     "output_type": "stream",
     "text": [
      "[74.42396313364056, 73.963133640553] 63\n"
     ]
    },
    {
     "name": "stderr",
     "output_type": "stream",
     "text": [
      "  0%|          | 0/41 [00:00<?, ?it/s]"
     ]
    },
    {
     "name": "stdout",
     "output_type": "stream",
     "text": [
      "63.42165898617512\n"
     ]
    },
    {
     "name": "stderr",
     "output_type": "stream",
     "text": [
      "                                               "
     ]
    },
    {
     "name": "stdout",
     "output_type": "stream",
     "text": [
      "[74.42396313364056, 73.963133640553] 64\n"
     ]
    },
    {
     "name": "stderr",
     "output_type": "stream",
     "text": [
      "  0%|          | 0/41 [00:00<?, ?it/s]"
     ]
    },
    {
     "name": "stdout",
     "output_type": "stream",
     "text": [
      "61.57834101382488\n"
     ]
    },
    {
     "name": "stderr",
     "output_type": "stream",
     "text": [
      "                                               "
     ]
    },
    {
     "name": "stdout",
     "output_type": "stream",
     "text": [
      "[74.42396313364056, 73.963133640553] 65\n"
     ]
    },
    {
     "name": "stderr",
     "output_type": "stream",
     "text": [
      "  0%|          | 0/41 [00:00<?, ?it/s]"
     ]
    },
    {
     "name": "stdout",
     "output_type": "stream",
     "text": [
      "59.85023041474654\n"
     ]
    },
    {
     "name": "stderr",
     "output_type": "stream",
     "text": [
      "                                               \r"
     ]
    },
    {
     "name": "stdout",
     "output_type": "stream",
     "text": [
      "[74.42396313364056, 73.963133640553] 66\n"
     ]
    },
    {
     "name": "stderr",
     "output_type": "stream",
     "text": [
      "\r",
      "  0%|          | 0/41 [00:00<?, ?it/s]"
     ]
    },
    {
     "name": "stdout",
     "output_type": "stream",
     "text": [
      "63.076036866359445\n"
     ]
    },
    {
     "name": "stderr",
     "output_type": "stream",
     "text": [
      "                                               "
     ]
    },
    {
     "name": "stdout",
     "output_type": "stream",
     "text": [
      "[74.42396313364056, 73.963133640553] 67\n"
     ]
    },
    {
     "name": "stderr",
     "output_type": "stream",
     "text": [
      "  0%|          | 0/41 [00:00<?, ?it/s]"
     ]
    },
    {
     "name": "stdout",
     "output_type": "stream",
     "text": [
      "60.08064516129032\n"
     ]
    },
    {
     "name": "stderr",
     "output_type": "stream",
     "text": [
      "                                               "
     ]
    },
    {
     "name": "stdout",
     "output_type": "stream",
     "text": [
      "[74.42396313364056, 73.963133640553] 68\n"
     ]
    },
    {
     "name": "stderr",
     "output_type": "stream",
     "text": [
      "  0%|          | 0/41 [00:00<?, ?it/s]"
     ]
    },
    {
     "name": "stdout",
     "output_type": "stream",
     "text": [
      "56.105990783410135\n"
     ]
    },
    {
     "name": "stderr",
     "output_type": "stream",
     "text": [
      "                                               "
     ]
    },
    {
     "name": "stdout",
     "output_type": "stream",
     "text": [
      "[74.42396313364056, 73.963133640553] 69\n"
     ]
    },
    {
     "name": "stderr",
     "output_type": "stream",
     "text": [
      "  0%|          | 0/41 [00:00<?, ?it/s]"
     ]
    },
    {
     "name": "stdout",
     "output_type": "stream",
     "text": [
      "52.016129032258064\n"
     ]
    },
    {
     "name": "stderr",
     "output_type": "stream",
     "text": [
      "                                               "
     ]
    },
    {
     "name": "stdout",
     "output_type": "stream",
     "text": [
      "[74.42396313364056, 73.963133640553] 70\n"
     ]
    },
    {
     "name": "stderr",
     "output_type": "stream",
     "text": [
      "  0%|          | 0/41 [00:00<?, ?it/s]"
     ]
    },
    {
     "name": "stdout",
     "output_type": "stream",
     "text": [
      "46.774193548387096\n"
     ]
    },
    {
     "name": "stderr",
     "output_type": "stream",
     "text": [
      "                                               "
     ]
    },
    {
     "name": "stdout",
     "output_type": "stream",
     "text": [
      "[74.42396313364056, 73.963133640553] 71\n"
     ]
    },
    {
     "name": "stderr",
     "output_type": "stream",
     "text": [
      "  0%|          | 0/41 [00:00<?, ?it/s]"
     ]
    },
    {
     "name": "stdout",
     "output_type": "stream",
     "text": [
      "57.66129032258065\n"
     ]
    },
    {
     "name": "stderr",
     "output_type": "stream",
     "text": [
      "                                               "
     ]
    },
    {
     "name": "stdout",
     "output_type": "stream",
     "text": [
      "[74.42396313364056, 73.963133640553] 72\n"
     ]
    },
    {
     "name": "stderr",
     "output_type": "stream",
     "text": [
      "  0%|          | 0/41 [00:00<?, ?it/s]"
     ]
    },
    {
     "name": "stdout",
     "output_type": "stream",
     "text": [
      "52.764976958525345\n"
     ]
    },
    {
     "name": "stderr",
     "output_type": "stream",
     "text": [
      "                                               "
     ]
    },
    {
     "name": "stdout",
     "output_type": "stream",
     "text": [
      "[74.42396313364056, 73.963133640553] 73\n"
     ]
    },
    {
     "name": "stderr",
     "output_type": "stream",
     "text": [
      "  0%|          | 0/41 [00:00<?, ?it/s]"
     ]
    },
    {
     "name": "stdout",
     "output_type": "stream",
     "text": [
      "60.19585253456221\n"
     ]
    },
    {
     "name": "stderr",
     "output_type": "stream",
     "text": [
      "                                               "
     ]
    },
    {
     "name": "stdout",
     "output_type": "stream",
     "text": [
      "[74.42396313364056, 73.963133640553] 74\n"
     ]
    },
    {
     "name": "stderr",
     "output_type": "stream",
     "text": [
      "  0%|          | 0/41 [00:00<?, ?it/s]"
     ]
    },
    {
     "name": "stdout",
     "output_type": "stream",
     "text": [
      "59.56221198156682\n"
     ]
    },
    {
     "name": "stderr",
     "output_type": "stream",
     "text": [
      "                                               "
     ]
    },
    {
     "name": "stdout",
     "output_type": "stream",
     "text": [
      "[74.42396313364056, 73.963133640553] 75\n"
     ]
    },
    {
     "name": "stderr",
     "output_type": "stream",
     "text": [
      "  0%|          | 0/41 [00:00<?, ?it/s]"
     ]
    },
    {
     "name": "stdout",
     "output_type": "stream",
     "text": [
      "62.384792626728114\n"
     ]
    },
    {
     "name": "stderr",
     "output_type": "stream",
     "text": [
      "                                               \r"
     ]
    },
    {
     "name": "stdout",
     "output_type": "stream",
     "text": [
      "[74.42396313364056, 73.963133640553] 76\n"
     ]
    },
    {
     "name": "stderr",
     "output_type": "stream",
     "text": [
      "\r",
      "  0%|          | 0/41 [00:00<?, ?it/s]"
     ]
    },
    {
     "name": "stdout",
     "output_type": "stream",
     "text": [
      "64.57373271889401\n"
     ]
    },
    {
     "name": "stderr",
     "output_type": "stream",
     "text": [
      "                                               "
     ]
    },
    {
     "name": "stdout",
     "output_type": "stream",
     "text": [
      "[74.42396313364056, 73.963133640553] 77\n"
     ]
    },
    {
     "name": "stderr",
     "output_type": "stream",
     "text": [
      "  0%|          | 0/41 [00:00<?, ?it/s]"
     ]
    },
    {
     "name": "stdout",
     "output_type": "stream",
     "text": [
      "65.3225806451613\n"
     ]
    },
    {
     "name": "stderr",
     "output_type": "stream",
     "text": [
      "                                               "
     ]
    },
    {
     "name": "stdout",
     "output_type": "stream",
     "text": [
      "[74.42396313364056, 73.963133640553] 78\n"
     ]
    },
    {
     "name": "stderr",
     "output_type": "stream",
     "text": [
      "  0%|          | 0/41 [00:00<?, ?it/s]"
     ]
    },
    {
     "name": "stdout",
     "output_type": "stream",
     "text": [
      "67.51152073732719\n"
     ]
    },
    {
     "name": "stderr",
     "output_type": "stream",
     "text": [
      "                                               "
     ]
    },
    {
     "name": "stdout",
     "output_type": "stream",
     "text": [
      "[74.42396313364056, 73.963133640553] 79\n"
     ]
    },
    {
     "name": "stderr",
     "output_type": "stream",
     "text": [
      "  0%|          | 0/41 [00:00<?, ?it/s]"
     ]
    },
    {
     "name": "stdout",
     "output_type": "stream",
     "text": [
      "67.62672811059907\n"
     ]
    },
    {
     "name": "stderr",
     "output_type": "stream",
     "text": [
      "                                               "
     ]
    },
    {
     "name": "stdout",
     "output_type": "stream",
     "text": [
      "[74.42396313364056, 73.963133640553] 80\n"
     ]
    },
    {
     "name": "stderr",
     "output_type": "stream",
     "text": [
      "  0%|          | 0/41 [00:00<?, ?it/s]"
     ]
    },
    {
     "name": "stdout",
     "output_type": "stream",
     "text": [
      "68.26036866359448\n"
     ]
    },
    {
     "name": "stderr",
     "output_type": "stream",
     "text": [
      "                                               "
     ]
    },
    {
     "name": "stdout",
     "output_type": "stream",
     "text": [
      "[74.42396313364056, 73.963133640553] 81\n"
     ]
    },
    {
     "name": "stderr",
     "output_type": "stream",
     "text": [
      "  0%|          | 0/41 [00:00<?, ?it/s]"
     ]
    },
    {
     "name": "stdout",
     "output_type": "stream",
     "text": [
      "69.0668202764977\n"
     ]
    },
    {
     "name": "stderr",
     "output_type": "stream",
     "text": [
      "                                               "
     ]
    },
    {
     "name": "stdout",
     "output_type": "stream",
     "text": [
      "[74.42396313364056, 73.963133640553] 82\n"
     ]
    },
    {
     "name": "stderr",
     "output_type": "stream",
     "text": [
      "  0%|          | 0/41 [00:00<?, ?it/s]"
     ]
    },
    {
     "name": "stdout",
     "output_type": "stream",
     "text": [
      "69.70046082949308\n"
     ]
    },
    {
     "name": "stderr",
     "output_type": "stream",
     "text": [
      "                                               "
     ]
    },
    {
     "name": "stdout",
     "output_type": "stream",
     "text": [
      "[74.42396313364056, 73.963133640553] 83\n"
     ]
    },
    {
     "name": "stderr",
     "output_type": "stream",
     "text": [
      "  0%|          | 0/41 [00:00<?, ?it/s]"
     ]
    },
    {
     "name": "stdout",
     "output_type": "stream",
     "text": [
      "69.98847926267281\n"
     ]
    },
    {
     "name": "stderr",
     "output_type": "stream",
     "text": [
      "                                               \r"
     ]
    },
    {
     "name": "stdout",
     "output_type": "stream",
     "text": [
      "[74.42396313364056, 73.963133640553] 84\n"
     ]
    },
    {
     "name": "stderr",
     "output_type": "stream",
     "text": [
      "\r",
      "  0%|          | 0/41 [00:00<?, ?it/s]"
     ]
    },
    {
     "name": "stdout",
     "output_type": "stream",
     "text": [
      "70.21889400921658\n"
     ]
    },
    {
     "name": "stderr",
     "output_type": "stream",
     "text": [
      "                                               "
     ]
    },
    {
     "name": "stdout",
     "output_type": "stream",
     "text": [
      "[74.42396313364056, 73.963133640553] 85\n"
     ]
    },
    {
     "name": "stderr",
     "output_type": "stream",
     "text": [
      "  0%|          | 0/41 [00:00<?, ?it/s]"
     ]
    },
    {
     "name": "stdout",
     "output_type": "stream",
     "text": [
      "69.5852534562212\n"
     ]
    },
    {
     "name": "stderr",
     "output_type": "stream",
     "text": [
      "                                               "
     ]
    },
    {
     "name": "stdout",
     "output_type": "stream",
     "text": [
      "[74.42396313364056, 73.963133640553] 86\n"
     ]
    },
    {
     "name": "stderr",
     "output_type": "stream",
     "text": [
      "  0%|          | 0/41 [00:00<?, ?it/s]"
     ]
    },
    {
     "name": "stdout",
     "output_type": "stream",
     "text": [
      "70.04608294930875\n"
     ]
    },
    {
     "name": "stderr",
     "output_type": "stream",
     "text": [
      "                                               "
     ]
    },
    {
     "name": "stdout",
     "output_type": "stream",
     "text": [
      "[74.42396313364056, 73.963133640553] 87\n"
     ]
    },
    {
     "name": "stderr",
     "output_type": "stream",
     "text": [
      "  0%|          | 0/41 [00:00<?, ?it/s]"
     ]
    },
    {
     "name": "stdout",
     "output_type": "stream",
     "text": [
      "69.35483870967742\n"
     ]
    },
    {
     "name": "stderr",
     "output_type": "stream",
     "text": [
      "                                               "
     ]
    },
    {
     "name": "stdout",
     "output_type": "stream",
     "text": [
      "[74.42396313364056, 73.963133640553] 88\n"
     ]
    },
    {
     "name": "stderr",
     "output_type": "stream",
     "text": [
      "  0%|          | 0/41 [00:00<?, ?it/s]"
     ]
    },
    {
     "name": "stdout",
     "output_type": "stream",
     "text": [
      "68.89400921658986\n"
     ]
    },
    {
     "name": "stderr",
     "output_type": "stream",
     "text": [
      "                                               "
     ]
    },
    {
     "name": "stdout",
     "output_type": "stream",
     "text": [
      "[74.42396313364056, 73.963133640553] 89\n"
     ]
    },
    {
     "name": "stderr",
     "output_type": "stream",
     "text": [
      "  0%|          | 0/41 [00:00<?, ?it/s]"
     ]
    },
    {
     "name": "stdout",
     "output_type": "stream",
     "text": [
      "67.3963133640553\n"
     ]
    },
    {
     "name": "stderr",
     "output_type": "stream",
     "text": [
      "                                               "
     ]
    },
    {
     "name": "stdout",
     "output_type": "stream",
     "text": [
      "[74.42396313364056, 73.963133640553] 90\n"
     ]
    },
    {
     "name": "stderr",
     "output_type": "stream",
     "text": [
      "  0%|          | 0/41 [00:00<?, ?it/s]"
     ]
    },
    {
     "name": "stdout",
     "output_type": "stream",
     "text": [
      "67.51152073732719\n"
     ]
    },
    {
     "name": "stderr",
     "output_type": "stream",
     "text": [
      "                                               \r"
     ]
    },
    {
     "name": "stdout",
     "output_type": "stream",
     "text": [
      "[74.42396313364056, 73.963133640553] 91\n"
     ]
    },
    {
     "name": "stderr",
     "output_type": "stream",
     "text": [
      "\r",
      "  0%|          | 0/41 [00:00<?, ?it/s]"
     ]
    },
    {
     "name": "stdout",
     "output_type": "stream",
     "text": [
      "68.14516129032258\n"
     ]
    },
    {
     "name": "stderr",
     "output_type": "stream",
     "text": [
      "                                               "
     ]
    },
    {
     "name": "stdout",
     "output_type": "stream",
     "text": [
      "[74.42396313364056, 73.963133640553] 92\n"
     ]
    },
    {
     "name": "stderr",
     "output_type": "stream",
     "text": [
      "  0%|          | 0/41 [00:00<?, ?it/s]"
     ]
    },
    {
     "name": "stdout",
     "output_type": "stream",
     "text": [
      "67.3963133640553\n"
     ]
    },
    {
     "name": "stderr",
     "output_type": "stream",
     "text": [
      "                                               "
     ]
    },
    {
     "name": "stdout",
     "output_type": "stream",
     "text": [
      "[74.42396313364056, 73.963133640553] 93\n"
     ]
    },
    {
     "name": "stderr",
     "output_type": "stream",
     "text": [
      "  0%|          | 0/41 [00:00<?, ?it/s]"
     ]
    },
    {
     "name": "stdout",
     "output_type": "stream",
     "text": [
      "67.68433179723502\n"
     ]
    },
    {
     "name": "stderr",
     "output_type": "stream",
     "text": [
      "                                               "
     ]
    },
    {
     "name": "stdout",
     "output_type": "stream",
     "text": [
      "[74.42396313364056, 73.963133640553] 94\n"
     ]
    },
    {
     "name": "stderr",
     "output_type": "stream",
     "text": [
      "  0%|          | 0/41 [00:00<?, ?it/s]"
     ]
    },
    {
     "name": "stdout",
     "output_type": "stream",
     "text": [
      "68.66359447004608\n"
     ]
    },
    {
     "name": "stderr",
     "output_type": "stream",
     "text": [
      "                                               "
     ]
    },
    {
     "name": "stdout",
     "output_type": "stream",
     "text": [
      "[74.42396313364056, 73.963133640553] 95\n"
     ]
    },
    {
     "name": "stderr",
     "output_type": "stream",
     "text": [
      "  0%|          | 0/41 [00:00<?, ?it/s]"
     ]
    },
    {
     "name": "stdout",
     "output_type": "stream",
     "text": [
      "67.51152073732719\n"
     ]
    }
   ],
   "source": [
    "for trial in range(1):\n",
    "    # Initialize a labeled dataset by randomly sampling K=ADDENDUM=1,000 data points from the entire dataset.\n",
    "\n",
    "#     all_indices = set(np.arange(NUM_TRAIN))\n",
    "#     val_indices = random.sample(all_indices, 0)\n",
    "#     all_indices = np.setdiff1d(list(all_indices), val_indices)\n",
    "\n",
    "#     initial_indices = random.sample(list(all_indices), ADDENDUM)\n",
    "#     f = open(\"./init_indice.pkl\", 'wb')\n",
    "#     pickle.dump(initial_indices, f)\n",
    "    # indices = all_indices\n",
    "    # random.shuffle(indices)\n",
    "    # labeled_set = indices[:ADDENDUM]\n",
    "\n",
    "    # unlabeled_set = indices[ADDENDUM:]\n",
    "\n",
    "#     current_indices = list(initial_indices)\n",
    "\n",
    "    train_loader = trainloader\n",
    "    test_loader  = testloader\n",
    "    val_loader = valloader\n",
    "    dataloaders  = {'train': train_loader, 'test': test_loader, 'val': val_loader}\n",
    "\n",
    "    # Model\n",
    "    # resnet18    = resnet.ResNet18(num_classes=10).cuda()\n",
    "    # # loss_module = lossnet.LossNet().cuda()\n",
    "    # models      = {'backbone': resnet18}\n",
    "    # torch.backends.cudnn.benchmark = False\n",
    "\n",
    "    # Active learning cycles\n",
    "\n",
    "    for cycle in range(1):\n",
    "        # Loss, criterion and scheduler (re)initialization\n",
    "\n",
    "        # Randomly sample 10000 unlabeled data points\n",
    "        # random.shuffle(unlabeled_set)\n",
    "#         unlabeled_indices = np.setdiff1d(list(all_indices), current_indices)\n",
    "#         # Create unlabeled dataloader for the unlabeled subset\n",
    "#         unlabeled_loader = DataLoader(train_data, batch_size=BATCH, \n",
    "#                                       sampler=SubsetSequentialSampler(unlabeled_indices), # more convenient if we maintain the order of subset\n",
    "#                                       pin_memory=True)\n",
    "\n",
    "        resnet18    = ResNet18(pretrained=True).cuda()\n",
    "#         resnet18 = nn.DataParallel(resnet18)\n",
    "#         resnet18.cuda()\n",
    "        # loss_module = lossnet.LossNet().cuda()\n",
    "        models      = {'backbone': resnet18}\n",
    "        criterion      = nn.CrossEntropyLoss()\n",
    "        optim_backbone = optim.SGD(models['backbone'].parameters(), lr=LR, \n",
    "                                momentum=MOMENTUM, weight_decay=WDECAY)\n",
    "        # optim_module   = optim.SGD(models['module'].parameters(), lr=LR, \n",
    "        #                         momentum=MOMENTUM, weight_decay=WDECAY)\n",
    "        sched_backbone = lr_scheduler.MultiStepLR(optim_backbone, milestones=MILESTONES)\n",
    "        # sched_module   = lr_scheduler.MultiStepLR(optim_module, milestones=MILESTONES)\n",
    "\n",
    "        optimizers = {'backbone': optim_backbone}\n",
    "        schedulers = {'backbone': sched_backbone}\n",
    "\n",
    "        # Training and test\n",
    "        train(models, criterion, optimizers, schedulers, dataloaders, EPOCH, EPOCHL, vis, plot_data, 1, accuracies)\n",
    "        acc = test(models, dataloaders, mode='test')\n",
    "        accuracies.append(acc)\n",
    "        print(acc)"
   ]
  },
  {
   "cell_type": "code",
   "execution_count": null,
   "metadata": {},
   "outputs": [],
   "source": [
    "print(MILESTONES,LR,BATCH)"
   ]
  },
  {
   "cell_type": "code",
   "execution_count": null,
   "metadata": {},
   "outputs": [],
   "source": []
  },
  {
   "cell_type": "code",
   "execution_count": 2,
   "metadata": {},
   "outputs": [
    {
     "name": "stderr",
     "output_type": "stream",
     "text": [
      "Downloading: \"https://download.pytorch.org/models/resnet34-333f7ec4.pth\" to /home/admin/.cache/torch/checkpoints/resnet34-333f7ec4.pth\n"
     ]
    },
    {
     "ename": "URLError",
     "evalue": "<urlopen error [SSL: CERTIFICATE_VERIFY_FAILED] certificate verify failed (_ssl.c:852)>",
     "output_type": "error",
     "traceback": [
      "\u001b[0;31m---------------------------------------------------------------------------\u001b[0m",
      "\u001b[0;31mSSLError\u001b[0m                                  Traceback (most recent call last)",
      "\u001b[0;32m/usr/lib/python3.6/urllib/request.py\u001b[0m in \u001b[0;36mdo_open\u001b[0;34m(self, http_class, req, **http_conn_args)\u001b[0m\n\u001b[1;32m   1317\u001b[0m                 h.request(req.get_method(), req.selector, req.data, headers,\n\u001b[0;32m-> 1318\u001b[0;31m                           encode_chunked=req.has_header('Transfer-encoding'))\n\u001b[0m\u001b[1;32m   1319\u001b[0m             \u001b[0;32mexcept\u001b[0m \u001b[0mOSError\u001b[0m \u001b[0;32mas\u001b[0m \u001b[0merr\u001b[0m\u001b[0;34m:\u001b[0m \u001b[0;31m# timeout error\u001b[0m\u001b[0;34m\u001b[0m\u001b[0;34m\u001b[0m\u001b[0m\n",
      "\u001b[0;32m/usr/lib/python3.6/http/client.py\u001b[0m in \u001b[0;36mrequest\u001b[0;34m(self, method, url, body, headers, encode_chunked)\u001b[0m\n\u001b[1;32m   1253\u001b[0m         \u001b[0;34m\"\"\"Send a complete request to the server.\"\"\"\u001b[0m\u001b[0;34m\u001b[0m\u001b[0;34m\u001b[0m\u001b[0m\n\u001b[0;32m-> 1254\u001b[0;31m         \u001b[0mself\u001b[0m\u001b[0;34m.\u001b[0m\u001b[0m_send_request\u001b[0m\u001b[0;34m(\u001b[0m\u001b[0mmethod\u001b[0m\u001b[0;34m,\u001b[0m \u001b[0murl\u001b[0m\u001b[0;34m,\u001b[0m \u001b[0mbody\u001b[0m\u001b[0;34m,\u001b[0m \u001b[0mheaders\u001b[0m\u001b[0;34m,\u001b[0m \u001b[0mencode_chunked\u001b[0m\u001b[0;34m)\u001b[0m\u001b[0;34m\u001b[0m\u001b[0;34m\u001b[0m\u001b[0m\n\u001b[0m\u001b[1;32m   1255\u001b[0m \u001b[0;34m\u001b[0m\u001b[0m\n",
      "\u001b[0;32m/usr/lib/python3.6/http/client.py\u001b[0m in \u001b[0;36m_send_request\u001b[0;34m(self, method, url, body, headers, encode_chunked)\u001b[0m\n\u001b[1;32m   1299\u001b[0m             \u001b[0mbody\u001b[0m \u001b[0;34m=\u001b[0m \u001b[0m_encode\u001b[0m\u001b[0;34m(\u001b[0m\u001b[0mbody\u001b[0m\u001b[0;34m,\u001b[0m \u001b[0;34m'body'\u001b[0m\u001b[0;34m)\u001b[0m\u001b[0;34m\u001b[0m\u001b[0;34m\u001b[0m\u001b[0m\n\u001b[0;32m-> 1300\u001b[0;31m         \u001b[0mself\u001b[0m\u001b[0;34m.\u001b[0m\u001b[0mendheaders\u001b[0m\u001b[0;34m(\u001b[0m\u001b[0mbody\u001b[0m\u001b[0;34m,\u001b[0m \u001b[0mencode_chunked\u001b[0m\u001b[0;34m=\u001b[0m\u001b[0mencode_chunked\u001b[0m\u001b[0;34m)\u001b[0m\u001b[0;34m\u001b[0m\u001b[0;34m\u001b[0m\u001b[0m\n\u001b[0m\u001b[1;32m   1301\u001b[0m \u001b[0;34m\u001b[0m\u001b[0m\n",
      "\u001b[0;32m/usr/lib/python3.6/http/client.py\u001b[0m in \u001b[0;36mendheaders\u001b[0;34m(self, message_body, encode_chunked)\u001b[0m\n\u001b[1;32m   1248\u001b[0m             \u001b[0;32mraise\u001b[0m \u001b[0mCannotSendHeader\u001b[0m\u001b[0;34m(\u001b[0m\u001b[0;34m)\u001b[0m\u001b[0;34m\u001b[0m\u001b[0;34m\u001b[0m\u001b[0m\n\u001b[0;32m-> 1249\u001b[0;31m         \u001b[0mself\u001b[0m\u001b[0;34m.\u001b[0m\u001b[0m_send_output\u001b[0m\u001b[0;34m(\u001b[0m\u001b[0mmessage_body\u001b[0m\u001b[0;34m,\u001b[0m \u001b[0mencode_chunked\u001b[0m\u001b[0;34m=\u001b[0m\u001b[0mencode_chunked\u001b[0m\u001b[0;34m)\u001b[0m\u001b[0;34m\u001b[0m\u001b[0;34m\u001b[0m\u001b[0m\n\u001b[0m\u001b[1;32m   1250\u001b[0m \u001b[0;34m\u001b[0m\u001b[0m\n",
      "\u001b[0;32m/usr/lib/python3.6/http/client.py\u001b[0m in \u001b[0;36m_send_output\u001b[0;34m(self, message_body, encode_chunked)\u001b[0m\n\u001b[1;32m   1035\u001b[0m         \u001b[0;32mdel\u001b[0m \u001b[0mself\u001b[0m\u001b[0;34m.\u001b[0m\u001b[0m_buffer\u001b[0m\u001b[0;34m[\u001b[0m\u001b[0;34m:\u001b[0m\u001b[0;34m]\u001b[0m\u001b[0;34m\u001b[0m\u001b[0;34m\u001b[0m\u001b[0m\n\u001b[0;32m-> 1036\u001b[0;31m         \u001b[0mself\u001b[0m\u001b[0;34m.\u001b[0m\u001b[0msend\u001b[0m\u001b[0;34m(\u001b[0m\u001b[0mmsg\u001b[0m\u001b[0;34m)\u001b[0m\u001b[0;34m\u001b[0m\u001b[0;34m\u001b[0m\u001b[0m\n\u001b[0m\u001b[1;32m   1037\u001b[0m \u001b[0;34m\u001b[0m\u001b[0m\n",
      "\u001b[0;32m/usr/lib/python3.6/http/client.py\u001b[0m in \u001b[0;36msend\u001b[0;34m(self, data)\u001b[0m\n\u001b[1;32m    973\u001b[0m             \u001b[0;32mif\u001b[0m \u001b[0mself\u001b[0m\u001b[0;34m.\u001b[0m\u001b[0mauto_open\u001b[0m\u001b[0;34m:\u001b[0m\u001b[0;34m\u001b[0m\u001b[0;34m\u001b[0m\u001b[0m\n\u001b[0;32m--> 974\u001b[0;31m                 \u001b[0mself\u001b[0m\u001b[0;34m.\u001b[0m\u001b[0mconnect\u001b[0m\u001b[0;34m(\u001b[0m\u001b[0;34m)\u001b[0m\u001b[0;34m\u001b[0m\u001b[0;34m\u001b[0m\u001b[0m\n\u001b[0m\u001b[1;32m    975\u001b[0m             \u001b[0;32melse\u001b[0m\u001b[0;34m:\u001b[0m\u001b[0;34m\u001b[0m\u001b[0;34m\u001b[0m\u001b[0m\n",
      "\u001b[0;32m/usr/lib/python3.6/http/client.py\u001b[0m in \u001b[0;36mconnect\u001b[0;34m(self)\u001b[0m\n\u001b[1;32m   1414\u001b[0m             self.sock = self._context.wrap_socket(self.sock,\n\u001b[0;32m-> 1415\u001b[0;31m                                                   server_hostname=server_hostname)\n\u001b[0m\u001b[1;32m   1416\u001b[0m             \u001b[0;32mif\u001b[0m \u001b[0;32mnot\u001b[0m \u001b[0mself\u001b[0m\u001b[0;34m.\u001b[0m\u001b[0m_context\u001b[0m\u001b[0;34m.\u001b[0m\u001b[0mcheck_hostname\u001b[0m \u001b[0;32mand\u001b[0m \u001b[0mself\u001b[0m\u001b[0;34m.\u001b[0m\u001b[0m_check_hostname\u001b[0m\u001b[0;34m:\u001b[0m\u001b[0;34m\u001b[0m\u001b[0;34m\u001b[0m\u001b[0m\n",
      "\u001b[0;32m/usr/lib/python3.6/ssl.py\u001b[0m in \u001b[0;36mwrap_socket\u001b[0;34m(self, sock, server_side, do_handshake_on_connect, suppress_ragged_eofs, server_hostname, session)\u001b[0m\n\u001b[1;32m    406\u001b[0m                          \u001b[0mserver_hostname\u001b[0m\u001b[0;34m=\u001b[0m\u001b[0mserver_hostname\u001b[0m\u001b[0;34m,\u001b[0m\u001b[0;34m\u001b[0m\u001b[0;34m\u001b[0m\u001b[0m\n\u001b[0;32m--> 407\u001b[0;31m                          _context=self, _session=session)\n\u001b[0m\u001b[1;32m    408\u001b[0m \u001b[0;34m\u001b[0m\u001b[0m\n",
      "\u001b[0;32m/usr/lib/python3.6/ssl.py\u001b[0m in \u001b[0;36m__init__\u001b[0;34m(self, sock, keyfile, certfile, server_side, cert_reqs, ssl_version, ca_certs, do_handshake_on_connect, family, type, proto, fileno, suppress_ragged_eofs, npn_protocols, ciphers, server_hostname, _context, _session)\u001b[0m\n\u001b[1;32m    816\u001b[0m                         \u001b[0;32mraise\u001b[0m \u001b[0mValueError\u001b[0m\u001b[0;34m(\u001b[0m\u001b[0;34m\"do_handshake_on_connect should not be specified for non-blocking sockets\"\u001b[0m\u001b[0;34m)\u001b[0m\u001b[0;34m\u001b[0m\u001b[0;34m\u001b[0m\u001b[0m\n\u001b[0;32m--> 817\u001b[0;31m                     \u001b[0mself\u001b[0m\u001b[0;34m.\u001b[0m\u001b[0mdo_handshake\u001b[0m\u001b[0;34m(\u001b[0m\u001b[0;34m)\u001b[0m\u001b[0;34m\u001b[0m\u001b[0;34m\u001b[0m\u001b[0m\n\u001b[0m\u001b[1;32m    818\u001b[0m \u001b[0;34m\u001b[0m\u001b[0m\n",
      "\u001b[0;32m/usr/lib/python3.6/ssl.py\u001b[0m in \u001b[0;36mdo_handshake\u001b[0;34m(self, block)\u001b[0m\n\u001b[1;32m   1076\u001b[0m                 \u001b[0mself\u001b[0m\u001b[0;34m.\u001b[0m\u001b[0msettimeout\u001b[0m\u001b[0;34m(\u001b[0m\u001b[0;32mNone\u001b[0m\u001b[0;34m)\u001b[0m\u001b[0;34m\u001b[0m\u001b[0;34m\u001b[0m\u001b[0m\n\u001b[0;32m-> 1077\u001b[0;31m             \u001b[0mself\u001b[0m\u001b[0;34m.\u001b[0m\u001b[0m_sslobj\u001b[0m\u001b[0;34m.\u001b[0m\u001b[0mdo_handshake\u001b[0m\u001b[0;34m(\u001b[0m\u001b[0;34m)\u001b[0m\u001b[0;34m\u001b[0m\u001b[0;34m\u001b[0m\u001b[0m\n\u001b[0m\u001b[1;32m   1078\u001b[0m         \u001b[0;32mfinally\u001b[0m\u001b[0;34m:\u001b[0m\u001b[0;34m\u001b[0m\u001b[0;34m\u001b[0m\u001b[0m\n",
      "\u001b[0;32m/usr/lib/python3.6/ssl.py\u001b[0m in \u001b[0;36mdo_handshake\u001b[0;34m(self)\u001b[0m\n\u001b[1;32m    688\u001b[0m         \u001b[0;34m\"\"\"Start the SSL/TLS handshake.\"\"\"\u001b[0m\u001b[0;34m\u001b[0m\u001b[0;34m\u001b[0m\u001b[0m\n\u001b[0;32m--> 689\u001b[0;31m         \u001b[0mself\u001b[0m\u001b[0;34m.\u001b[0m\u001b[0m_sslobj\u001b[0m\u001b[0;34m.\u001b[0m\u001b[0mdo_handshake\u001b[0m\u001b[0;34m(\u001b[0m\u001b[0;34m)\u001b[0m\u001b[0;34m\u001b[0m\u001b[0;34m\u001b[0m\u001b[0m\n\u001b[0m\u001b[1;32m    690\u001b[0m         \u001b[0;32mif\u001b[0m \u001b[0mself\u001b[0m\u001b[0;34m.\u001b[0m\u001b[0mcontext\u001b[0m\u001b[0;34m.\u001b[0m\u001b[0mcheck_hostname\u001b[0m\u001b[0;34m:\u001b[0m\u001b[0;34m\u001b[0m\u001b[0;34m\u001b[0m\u001b[0m\n",
      "\u001b[0;31mSSLError\u001b[0m: [SSL: CERTIFICATE_VERIFY_FAILED] certificate verify failed (_ssl.c:852)",
      "\nDuring handling of the above exception, another exception occurred:\n",
      "\u001b[0;31mURLError\u001b[0m                                  Traceback (most recent call last)",
      "\u001b[0;32m<ipython-input-2-76741a33ca00>\u001b[0m in \u001b[0;36m<module>\u001b[0;34m\u001b[0m\n\u001b[1;32m     19\u001b[0m         \u001b[0;32mreturn\u001b[0m \u001b[0ml0\u001b[0m\u001b[0;34m\u001b[0m\u001b[0;34m\u001b[0m\u001b[0m\n\u001b[1;32m     20\u001b[0m \u001b[0;34m\u001b[0m\u001b[0m\n\u001b[0;32m---> 21\u001b[0;31m \u001b[0mmodel\u001b[0m \u001b[0;34m=\u001b[0m \u001b[0mResNet34\u001b[0m\u001b[0;34m(\u001b[0m\u001b[0mpretrained\u001b[0m\u001b[0;34m=\u001b[0m\u001b[0;32mTrue\u001b[0m\u001b[0;34m)\u001b[0m\u001b[0;34m.\u001b[0m\u001b[0mto\u001b[0m\u001b[0;34m(\u001b[0m\u001b[0mdevice\u001b[0m\u001b[0;34m)\u001b[0m\u001b[0;34m\u001b[0m\u001b[0;34m\u001b[0m\u001b[0m\n\u001b[0m\u001b[1;32m     22\u001b[0m \u001b[0mprint\u001b[0m\u001b[0;34m(\u001b[0m\u001b[0mmodel\u001b[0m\u001b[0;34m)\u001b[0m\u001b[0;34m\u001b[0m\u001b[0;34m\u001b[0m\u001b[0m\n\u001b[1;32m     23\u001b[0m \u001b[0;34m\u001b[0m\u001b[0m\n",
      "\u001b[0;32m<ipython-input-2-76741a33ca00>\u001b[0m in \u001b[0;36m__init__\u001b[0;34m(self, pretrained)\u001b[0m\n\u001b[1;32m      3\u001b[0m         \u001b[0msuper\u001b[0m\u001b[0;34m(\u001b[0m\u001b[0mResNet34\u001b[0m\u001b[0;34m,\u001b[0m \u001b[0mself\u001b[0m\u001b[0;34m)\u001b[0m\u001b[0;34m.\u001b[0m\u001b[0m__init__\u001b[0m\u001b[0;34m(\u001b[0m\u001b[0;34m)\u001b[0m\u001b[0;34m\u001b[0m\u001b[0;34m\u001b[0m\u001b[0m\n\u001b[1;32m      4\u001b[0m         \u001b[0;32mif\u001b[0m \u001b[0mpretrained\u001b[0m \u001b[0;32mis\u001b[0m \u001b[0;32mTrue\u001b[0m\u001b[0;34m:\u001b[0m\u001b[0;34m\u001b[0m\u001b[0;34m\u001b[0m\u001b[0m\n\u001b[0;32m----> 5\u001b[0;31m             \u001b[0mself\u001b[0m\u001b[0;34m.\u001b[0m\u001b[0mmodel\u001b[0m \u001b[0;34m=\u001b[0m \u001b[0mpretrainedmodels\u001b[0m\u001b[0;34m.\u001b[0m\u001b[0m__dict__\u001b[0m\u001b[0;34m[\u001b[0m\u001b[0;34m'resnet34'\u001b[0m\u001b[0;34m]\u001b[0m\u001b[0;34m(\u001b[0m\u001b[0mpretrained\u001b[0m\u001b[0;34m=\u001b[0m\u001b[0;34m'imagenet'\u001b[0m\u001b[0;34m)\u001b[0m\u001b[0;34m\u001b[0m\u001b[0;34m\u001b[0m\u001b[0m\n\u001b[0m\u001b[1;32m      6\u001b[0m         \u001b[0;32melse\u001b[0m\u001b[0;34m:\u001b[0m\u001b[0;34m\u001b[0m\u001b[0;34m\u001b[0m\u001b[0m\n\u001b[1;32m      7\u001b[0m             \u001b[0mself\u001b[0m\u001b[0;34m.\u001b[0m\u001b[0mmodel\u001b[0m \u001b[0;34m=\u001b[0m \u001b[0mpretrainedmodels\u001b[0m\u001b[0;34m.\u001b[0m\u001b[0m__dict__\u001b[0m\u001b[0;34m[\u001b[0m\u001b[0;34m'resnet34'\u001b[0m\u001b[0;34m]\u001b[0m\u001b[0;34m(\u001b[0m\u001b[0mpretrained\u001b[0m\u001b[0;34m=\u001b[0m\u001b[0;32mNone\u001b[0m\u001b[0;34m)\u001b[0m\u001b[0;34m\u001b[0m\u001b[0;34m\u001b[0m\u001b[0m\n",
      "\u001b[0;32m/usr/local/lib/python3.6/dist-packages/pretrainedmodels/models/torchvision_models.py\u001b[0m in \u001b[0;36mresnet34\u001b[0;34m(num_classes, pretrained)\u001b[0m\n\u001b[1;32m    364\u001b[0m     \u001b[0;32mif\u001b[0m \u001b[0mpretrained\u001b[0m \u001b[0;32mis\u001b[0m \u001b[0;32mnot\u001b[0m \u001b[0;32mNone\u001b[0m\u001b[0;34m:\u001b[0m\u001b[0;34m\u001b[0m\u001b[0;34m\u001b[0m\u001b[0m\n\u001b[1;32m    365\u001b[0m         \u001b[0msettings\u001b[0m \u001b[0;34m=\u001b[0m \u001b[0mpretrained_settings\u001b[0m\u001b[0;34m[\u001b[0m\u001b[0;34m'resnet34'\u001b[0m\u001b[0;34m]\u001b[0m\u001b[0;34m[\u001b[0m\u001b[0mpretrained\u001b[0m\u001b[0;34m]\u001b[0m\u001b[0;34m\u001b[0m\u001b[0;34m\u001b[0m\u001b[0m\n\u001b[0;32m--> 366\u001b[0;31m         \u001b[0mmodel\u001b[0m \u001b[0;34m=\u001b[0m \u001b[0mload_pretrained\u001b[0m\u001b[0;34m(\u001b[0m\u001b[0mmodel\u001b[0m\u001b[0;34m,\u001b[0m \u001b[0mnum_classes\u001b[0m\u001b[0;34m,\u001b[0m \u001b[0msettings\u001b[0m\u001b[0;34m)\u001b[0m\u001b[0;34m\u001b[0m\u001b[0;34m\u001b[0m\u001b[0m\n\u001b[0m\u001b[1;32m    367\u001b[0m     \u001b[0mmodel\u001b[0m \u001b[0;34m=\u001b[0m \u001b[0mmodify_resnets\u001b[0m\u001b[0;34m(\u001b[0m\u001b[0mmodel\u001b[0m\u001b[0;34m)\u001b[0m\u001b[0;34m\u001b[0m\u001b[0;34m\u001b[0m\u001b[0m\n\u001b[1;32m    368\u001b[0m     \u001b[0;32mreturn\u001b[0m \u001b[0mmodel\u001b[0m\u001b[0;34m\u001b[0m\u001b[0;34m\u001b[0m\u001b[0m\n",
      "\u001b[0;32m/usr/local/lib/python3.6/dist-packages/pretrainedmodels/models/torchvision_models.py\u001b[0m in \u001b[0;36mload_pretrained\u001b[0;34m(model, num_classes, settings)\u001b[0m\n\u001b[1;32m    116\u001b[0m         \u001b[0;34m\"num_classes should be {}, but is {}\"\u001b[0m\u001b[0;34m.\u001b[0m\u001b[0mformat\u001b[0m\u001b[0;34m(\u001b[0m\u001b[0msettings\u001b[0m\u001b[0;34m[\u001b[0m\u001b[0;34m'num_classes'\u001b[0m\u001b[0;34m]\u001b[0m\u001b[0;34m,\u001b[0m \u001b[0mnum_classes\u001b[0m\u001b[0;34m)\u001b[0m\u001b[0;34m\u001b[0m\u001b[0;34m\u001b[0m\u001b[0m\n\u001b[1;32m    117\u001b[0m \u001b[0;34m\u001b[0m\u001b[0m\n\u001b[0;32m--> 118\u001b[0;31m     \u001b[0mstate_dict\u001b[0m \u001b[0;34m=\u001b[0m \u001b[0mmodel_zoo\u001b[0m\u001b[0;34m.\u001b[0m\u001b[0mload_url\u001b[0m\u001b[0;34m(\u001b[0m\u001b[0msettings\u001b[0m\u001b[0;34m[\u001b[0m\u001b[0;34m'url'\u001b[0m\u001b[0;34m]\u001b[0m\u001b[0;34m)\u001b[0m\u001b[0;34m\u001b[0m\u001b[0;34m\u001b[0m\u001b[0m\n\u001b[0m\u001b[1;32m    119\u001b[0m     \u001b[0mstate_dict\u001b[0m \u001b[0;34m=\u001b[0m \u001b[0mupdate_state_dict\u001b[0m\u001b[0;34m(\u001b[0m\u001b[0mstate_dict\u001b[0m\u001b[0;34m)\u001b[0m\u001b[0;34m\u001b[0m\u001b[0;34m\u001b[0m\u001b[0m\n\u001b[1;32m    120\u001b[0m     \u001b[0mmodel\u001b[0m\u001b[0;34m.\u001b[0m\u001b[0mload_state_dict\u001b[0m\u001b[0;34m(\u001b[0m\u001b[0mstate_dict\u001b[0m\u001b[0;34m)\u001b[0m\u001b[0;34m\u001b[0m\u001b[0;34m\u001b[0m\u001b[0m\n",
      "\u001b[0;32m/usr/local/lib/python3.6/dist-packages/torch/hub.py\u001b[0m in \u001b[0;36mload_state_dict_from_url\u001b[0;34m(url, model_dir, map_location, progress)\u001b[0m\n\u001b[1;32m    431\u001b[0m         \u001b[0msys\u001b[0m\u001b[0;34m.\u001b[0m\u001b[0mstderr\u001b[0m\u001b[0;34m.\u001b[0m\u001b[0mwrite\u001b[0m\u001b[0;34m(\u001b[0m\u001b[0;34m'Downloading: \"{}\" to {}\\n'\u001b[0m\u001b[0;34m.\u001b[0m\u001b[0mformat\u001b[0m\u001b[0;34m(\u001b[0m\u001b[0murl\u001b[0m\u001b[0;34m,\u001b[0m \u001b[0mcached_file\u001b[0m\u001b[0;34m)\u001b[0m\u001b[0;34m)\u001b[0m\u001b[0;34m\u001b[0m\u001b[0;34m\u001b[0m\u001b[0m\n\u001b[1;32m    432\u001b[0m         \u001b[0mhash_prefix\u001b[0m \u001b[0;34m=\u001b[0m \u001b[0mHASH_REGEX\u001b[0m\u001b[0;34m.\u001b[0m\u001b[0msearch\u001b[0m\u001b[0;34m(\u001b[0m\u001b[0mfilename\u001b[0m\u001b[0;34m)\u001b[0m\u001b[0;34m.\u001b[0m\u001b[0mgroup\u001b[0m\u001b[0;34m(\u001b[0m\u001b[0;36m1\u001b[0m\u001b[0;34m)\u001b[0m\u001b[0;34m\u001b[0m\u001b[0;34m\u001b[0m\u001b[0m\n\u001b[0;32m--> 433\u001b[0;31m         \u001b[0m_download_url_to_file\u001b[0m\u001b[0;34m(\u001b[0m\u001b[0murl\u001b[0m\u001b[0;34m,\u001b[0m \u001b[0mcached_file\u001b[0m\u001b[0;34m,\u001b[0m \u001b[0mhash_prefix\u001b[0m\u001b[0;34m,\u001b[0m \u001b[0mprogress\u001b[0m\u001b[0;34m=\u001b[0m\u001b[0mprogress\u001b[0m\u001b[0;34m)\u001b[0m\u001b[0;34m\u001b[0m\u001b[0;34m\u001b[0m\u001b[0m\n\u001b[0m\u001b[1;32m    434\u001b[0m     \u001b[0;32mreturn\u001b[0m \u001b[0mtorch\u001b[0m\u001b[0;34m.\u001b[0m\u001b[0mload\u001b[0m\u001b[0;34m(\u001b[0m\u001b[0mcached_file\u001b[0m\u001b[0;34m,\u001b[0m \u001b[0mmap_location\u001b[0m\u001b[0;34m=\u001b[0m\u001b[0mmap_location\u001b[0m\u001b[0;34m)\u001b[0m\u001b[0;34m\u001b[0m\u001b[0;34m\u001b[0m\u001b[0m\n",
      "\u001b[0;32m/usr/local/lib/python3.6/dist-packages/torch/hub.py\u001b[0m in \u001b[0;36m_download_url_to_file\u001b[0;34m(url, dst, hash_prefix, progress)\u001b[0m\n\u001b[1;32m    347\u001b[0m \u001b[0;32mdef\u001b[0m \u001b[0m_download_url_to_file\u001b[0m\u001b[0;34m(\u001b[0m\u001b[0murl\u001b[0m\u001b[0;34m,\u001b[0m \u001b[0mdst\u001b[0m\u001b[0;34m,\u001b[0m \u001b[0mhash_prefix\u001b[0m\u001b[0;34m,\u001b[0m \u001b[0mprogress\u001b[0m\u001b[0;34m)\u001b[0m\u001b[0;34m:\u001b[0m\u001b[0;34m\u001b[0m\u001b[0;34m\u001b[0m\u001b[0m\n\u001b[1;32m    348\u001b[0m     \u001b[0mfile_size\u001b[0m \u001b[0;34m=\u001b[0m \u001b[0;32mNone\u001b[0m\u001b[0;34m\u001b[0m\u001b[0;34m\u001b[0m\u001b[0m\n\u001b[0;32m--> 349\u001b[0;31m     \u001b[0mu\u001b[0m \u001b[0;34m=\u001b[0m \u001b[0murlopen\u001b[0m\u001b[0;34m(\u001b[0m\u001b[0murl\u001b[0m\u001b[0;34m)\u001b[0m\u001b[0;34m\u001b[0m\u001b[0;34m\u001b[0m\u001b[0m\n\u001b[0m\u001b[1;32m    350\u001b[0m     \u001b[0mmeta\u001b[0m \u001b[0;34m=\u001b[0m \u001b[0mu\u001b[0m\u001b[0;34m.\u001b[0m\u001b[0minfo\u001b[0m\u001b[0;34m(\u001b[0m\u001b[0;34m)\u001b[0m\u001b[0;34m\u001b[0m\u001b[0;34m\u001b[0m\u001b[0m\n\u001b[1;32m    351\u001b[0m     \u001b[0;32mif\u001b[0m \u001b[0mhasattr\u001b[0m\u001b[0;34m(\u001b[0m\u001b[0mmeta\u001b[0m\u001b[0;34m,\u001b[0m \u001b[0;34m'getheaders'\u001b[0m\u001b[0;34m)\u001b[0m\u001b[0;34m:\u001b[0m\u001b[0;34m\u001b[0m\u001b[0;34m\u001b[0m\u001b[0m\n",
      "\u001b[0;32m/usr/lib/python3.6/urllib/request.py\u001b[0m in \u001b[0;36murlopen\u001b[0;34m(url, data, timeout, cafile, capath, cadefault, context)\u001b[0m\n\u001b[1;32m    221\u001b[0m     \u001b[0;32melse\u001b[0m\u001b[0;34m:\u001b[0m\u001b[0;34m\u001b[0m\u001b[0;34m\u001b[0m\u001b[0m\n\u001b[1;32m    222\u001b[0m         \u001b[0mopener\u001b[0m \u001b[0;34m=\u001b[0m \u001b[0m_opener\u001b[0m\u001b[0;34m\u001b[0m\u001b[0;34m\u001b[0m\u001b[0m\n\u001b[0;32m--> 223\u001b[0;31m     \u001b[0;32mreturn\u001b[0m \u001b[0mopener\u001b[0m\u001b[0;34m.\u001b[0m\u001b[0mopen\u001b[0m\u001b[0;34m(\u001b[0m\u001b[0murl\u001b[0m\u001b[0;34m,\u001b[0m \u001b[0mdata\u001b[0m\u001b[0;34m,\u001b[0m \u001b[0mtimeout\u001b[0m\u001b[0;34m)\u001b[0m\u001b[0;34m\u001b[0m\u001b[0;34m\u001b[0m\u001b[0m\n\u001b[0m\u001b[1;32m    224\u001b[0m \u001b[0;34m\u001b[0m\u001b[0m\n\u001b[1;32m    225\u001b[0m \u001b[0;32mdef\u001b[0m \u001b[0minstall_opener\u001b[0m\u001b[0;34m(\u001b[0m\u001b[0mopener\u001b[0m\u001b[0;34m)\u001b[0m\u001b[0;34m:\u001b[0m\u001b[0;34m\u001b[0m\u001b[0;34m\u001b[0m\u001b[0m\n",
      "\u001b[0;32m/usr/lib/python3.6/urllib/request.py\u001b[0m in \u001b[0;36mopen\u001b[0;34m(self, fullurl, data, timeout)\u001b[0m\n\u001b[1;32m    524\u001b[0m             \u001b[0mreq\u001b[0m \u001b[0;34m=\u001b[0m \u001b[0mmeth\u001b[0m\u001b[0;34m(\u001b[0m\u001b[0mreq\u001b[0m\u001b[0;34m)\u001b[0m\u001b[0;34m\u001b[0m\u001b[0;34m\u001b[0m\u001b[0m\n\u001b[1;32m    525\u001b[0m \u001b[0;34m\u001b[0m\u001b[0m\n\u001b[0;32m--> 526\u001b[0;31m         \u001b[0mresponse\u001b[0m \u001b[0;34m=\u001b[0m \u001b[0mself\u001b[0m\u001b[0;34m.\u001b[0m\u001b[0m_open\u001b[0m\u001b[0;34m(\u001b[0m\u001b[0mreq\u001b[0m\u001b[0;34m,\u001b[0m \u001b[0mdata\u001b[0m\u001b[0;34m)\u001b[0m\u001b[0;34m\u001b[0m\u001b[0;34m\u001b[0m\u001b[0m\n\u001b[0m\u001b[1;32m    527\u001b[0m \u001b[0;34m\u001b[0m\u001b[0m\n\u001b[1;32m    528\u001b[0m         \u001b[0;31m# post-process response\u001b[0m\u001b[0;34m\u001b[0m\u001b[0;34m\u001b[0m\u001b[0;34m\u001b[0m\u001b[0m\n",
      "\u001b[0;32m/usr/lib/python3.6/urllib/request.py\u001b[0m in \u001b[0;36m_open\u001b[0;34m(self, req, data)\u001b[0m\n\u001b[1;32m    542\u001b[0m         \u001b[0mprotocol\u001b[0m \u001b[0;34m=\u001b[0m \u001b[0mreq\u001b[0m\u001b[0;34m.\u001b[0m\u001b[0mtype\u001b[0m\u001b[0;34m\u001b[0m\u001b[0;34m\u001b[0m\u001b[0m\n\u001b[1;32m    543\u001b[0m         result = self._call_chain(self.handle_open, protocol, protocol +\n\u001b[0;32m--> 544\u001b[0;31m                                   '_open', req)\n\u001b[0m\u001b[1;32m    545\u001b[0m         \u001b[0;32mif\u001b[0m \u001b[0mresult\u001b[0m\u001b[0;34m:\u001b[0m\u001b[0;34m\u001b[0m\u001b[0;34m\u001b[0m\u001b[0m\n\u001b[1;32m    546\u001b[0m             \u001b[0;32mreturn\u001b[0m \u001b[0mresult\u001b[0m\u001b[0;34m\u001b[0m\u001b[0;34m\u001b[0m\u001b[0m\n",
      "\u001b[0;32m/usr/lib/python3.6/urllib/request.py\u001b[0m in \u001b[0;36m_call_chain\u001b[0;34m(self, chain, kind, meth_name, *args)\u001b[0m\n\u001b[1;32m    502\u001b[0m         \u001b[0;32mfor\u001b[0m \u001b[0mhandler\u001b[0m \u001b[0;32min\u001b[0m \u001b[0mhandlers\u001b[0m\u001b[0;34m:\u001b[0m\u001b[0;34m\u001b[0m\u001b[0;34m\u001b[0m\u001b[0m\n\u001b[1;32m    503\u001b[0m             \u001b[0mfunc\u001b[0m \u001b[0;34m=\u001b[0m \u001b[0mgetattr\u001b[0m\u001b[0;34m(\u001b[0m\u001b[0mhandler\u001b[0m\u001b[0;34m,\u001b[0m \u001b[0mmeth_name\u001b[0m\u001b[0;34m)\u001b[0m\u001b[0;34m\u001b[0m\u001b[0;34m\u001b[0m\u001b[0m\n\u001b[0;32m--> 504\u001b[0;31m             \u001b[0mresult\u001b[0m \u001b[0;34m=\u001b[0m \u001b[0mfunc\u001b[0m\u001b[0;34m(\u001b[0m\u001b[0;34m*\u001b[0m\u001b[0margs\u001b[0m\u001b[0;34m)\u001b[0m\u001b[0;34m\u001b[0m\u001b[0;34m\u001b[0m\u001b[0m\n\u001b[0m\u001b[1;32m    505\u001b[0m             \u001b[0;32mif\u001b[0m \u001b[0mresult\u001b[0m \u001b[0;32mis\u001b[0m \u001b[0;32mnot\u001b[0m \u001b[0;32mNone\u001b[0m\u001b[0;34m:\u001b[0m\u001b[0;34m\u001b[0m\u001b[0;34m\u001b[0m\u001b[0m\n\u001b[1;32m    506\u001b[0m                 \u001b[0;32mreturn\u001b[0m \u001b[0mresult\u001b[0m\u001b[0;34m\u001b[0m\u001b[0;34m\u001b[0m\u001b[0m\n",
      "\u001b[0;32m/usr/lib/python3.6/urllib/request.py\u001b[0m in \u001b[0;36mhttps_open\u001b[0;34m(self, req)\u001b[0m\n\u001b[1;32m   1359\u001b[0m         \u001b[0;32mdef\u001b[0m \u001b[0mhttps_open\u001b[0m\u001b[0;34m(\u001b[0m\u001b[0mself\u001b[0m\u001b[0;34m,\u001b[0m \u001b[0mreq\u001b[0m\u001b[0;34m)\u001b[0m\u001b[0;34m:\u001b[0m\u001b[0;34m\u001b[0m\u001b[0;34m\u001b[0m\u001b[0m\n\u001b[1;32m   1360\u001b[0m             return self.do_open(http.client.HTTPSConnection, req,\n\u001b[0;32m-> 1361\u001b[0;31m                 context=self._context, check_hostname=self._check_hostname)\n\u001b[0m\u001b[1;32m   1362\u001b[0m \u001b[0;34m\u001b[0m\u001b[0m\n\u001b[1;32m   1363\u001b[0m         \u001b[0mhttps_request\u001b[0m \u001b[0;34m=\u001b[0m \u001b[0mAbstractHTTPHandler\u001b[0m\u001b[0;34m.\u001b[0m\u001b[0mdo_request_\u001b[0m\u001b[0;34m\u001b[0m\u001b[0;34m\u001b[0m\u001b[0m\n",
      "\u001b[0;32m/usr/lib/python3.6/urllib/request.py\u001b[0m in \u001b[0;36mdo_open\u001b[0;34m(self, http_class, req, **http_conn_args)\u001b[0m\n\u001b[1;32m   1318\u001b[0m                           encode_chunked=req.has_header('Transfer-encoding'))\n\u001b[1;32m   1319\u001b[0m             \u001b[0;32mexcept\u001b[0m \u001b[0mOSError\u001b[0m \u001b[0;32mas\u001b[0m \u001b[0merr\u001b[0m\u001b[0;34m:\u001b[0m \u001b[0;31m# timeout error\u001b[0m\u001b[0;34m\u001b[0m\u001b[0;34m\u001b[0m\u001b[0m\n\u001b[0;32m-> 1320\u001b[0;31m                 \u001b[0;32mraise\u001b[0m \u001b[0mURLError\u001b[0m\u001b[0;34m(\u001b[0m\u001b[0merr\u001b[0m\u001b[0;34m)\u001b[0m\u001b[0;34m\u001b[0m\u001b[0;34m\u001b[0m\u001b[0m\n\u001b[0m\u001b[1;32m   1321\u001b[0m             \u001b[0mr\u001b[0m \u001b[0;34m=\u001b[0m \u001b[0mh\u001b[0m\u001b[0;34m.\u001b[0m\u001b[0mgetresponse\u001b[0m\u001b[0;34m(\u001b[0m\u001b[0;34m)\u001b[0m\u001b[0;34m\u001b[0m\u001b[0;34m\u001b[0m\u001b[0m\n\u001b[1;32m   1322\u001b[0m         \u001b[0;32mexcept\u001b[0m\u001b[0;34m:\u001b[0m\u001b[0;34m\u001b[0m\u001b[0;34m\u001b[0m\u001b[0m\n",
      "\u001b[0;31mURLError\u001b[0m: <urlopen error [SSL: CERTIFICATE_VERIFY_FAILED] certificate verify failed (_ssl.c:852)>"
     ]
    }
   ],
   "source": [
    "class ResNet34(nn.Module):\n",
    "    def __init__(self, pretrained):\n",
    "        super(ResNet34, self).__init__()\n",
    "        if pretrained is True:\n",
    "            self.model = pretrainedmodels.__dict__['resnet34'](pretrained='imagenet')\n",
    "        else:\n",
    "            self.model = pretrainedmodels.__dict__['resnet34'](pretrained=None)\n",
    "        \n",
    "        self.l0 = nn.Linear(512, len(lb.classes_))\n",
    "        self.dropout = nn.Dropout2d(0.4)\n",
    "\n",
    "    def forward(self, x):\n",
    "        # get the batch size only, ignore (c, h, w)\n",
    "        batch, _, _, _ = x.shape\n",
    "        x = self.model.features(x)\n",
    "        x = F.adaptive_avg_pool2d(x, 1).reshape(batch, -1)\n",
    "        x = self.dropout(x)\n",
    "        l0 = self.l0(x)\n",
    "        return l0\n",
    "\n",
    "model = ResNet34(pretrained=True).to(device)\n",
    "print(model)\n",
    "\n",
    "# optimizer\n",
    "optimizer = optim.Adam(model.parameters(), lr=1e-2)\n",
    "# loss function\n",
    "criterion = nn.CrossEntropyLoss()"
   ]
  },
  {
   "cell_type": "code",
   "execution_count": 30,
   "metadata": {},
   "outputs": [
    {
     "name": "stdout",
     "output_type": "stream",
     "text": [
      "Training on 5205 examples, validating on 1736 examples\n",
      "Epoch 1 of 100\n",
      "Training\n"
     ]
    },
    {
     "name": "stderr",
     "output_type": "stream",
     "text": [
      "\n",
      "  0%|          | 0/325 [00:00<?, ?it/s]\u001b[A\n",
      "  0%|          | 1/325 [00:00<00:39,  8.11it/s]\u001b[A\n",
      "  1%|          | 4/325 [00:00<00:31, 10.05it/s]\u001b[A\n",
      "  2%|▏         | 7/325 [00:00<00:25, 12.29it/s]\u001b[A\n",
      "  3%|▎         | 10/325 [00:00<00:21, 14.64it/s]\u001b[A\n",
      "  4%|▍         | 13/325 [00:00<00:18, 16.95it/s]\u001b[A\n",
      "  5%|▍         | 16/325 [00:00<00:16, 19.04it/s]\u001b[A\n",
      "  6%|▌         | 19/325 [00:00<00:14, 20.70it/s]\u001b[A\n",
      "  7%|▋         | 22/325 [00:00<00:13, 22.16it/s]\u001b[A\n",
      "  8%|▊         | 25/325 [00:01<00:12, 23.36it/s]\u001b[A\n",
      "  9%|▊         | 28/325 [00:01<00:12, 24.23it/s]\u001b[A\n",
      " 10%|▉         | 31/325 [00:01<00:11, 24.93it/s]\u001b[A\n",
      " 10%|█         | 34/325 [00:01<00:11, 25.43it/s]\u001b[A\n",
      " 11%|█▏        | 37/325 [00:01<00:11, 25.68it/s]\u001b[A\n",
      " 12%|█▏        | 40/325 [00:01<00:11, 25.78it/s]\u001b[A\n",
      " 13%|█▎        | 43/325 [00:01<00:10, 25.73it/s]\u001b[A\n",
      " 14%|█▍        | 46/325 [00:01<00:10, 25.88it/s]\u001b[A\n",
      " 15%|█▌        | 49/325 [00:01<00:10, 25.85it/s]\u001b[A\n",
      " 16%|█▌        | 52/325 [00:02<00:10, 25.96it/s]\u001b[A\n",
      " 17%|█▋        | 55/325 [00:02<00:10, 25.95it/s]\u001b[A\n",
      " 18%|█▊        | 58/325 [00:02<00:10, 26.05it/s]\u001b[A\n",
      " 19%|█▉        | 61/325 [00:02<00:10, 26.02it/s]\u001b[A\n",
      " 20%|█▉        | 64/325 [00:02<00:09, 26.11it/s]\u001b[A\n",
      " 21%|██        | 67/325 [00:02<00:09, 25.80it/s]\u001b[A\n",
      " 22%|██▏       | 70/325 [00:02<00:09, 25.98it/s]\u001b[A\n",
      " 22%|██▏       | 73/325 [00:02<00:09, 25.97it/s]\u001b[A\n",
      " 23%|██▎       | 76/325 [00:03<00:09, 26.03it/s]\u001b[A\n",
      " 24%|██▍       | 79/325 [00:03<00:09, 25.97it/s]\u001b[A\n",
      " 25%|██▌       | 82/325 [00:03<00:09, 26.07it/s]\u001b[A\n",
      " 26%|██▌       | 85/325 [00:03<00:09, 26.06it/s]\u001b[A\n",
      " 27%|██▋       | 88/325 [00:03<00:09, 26.19it/s]\u001b[A\n",
      " 28%|██▊       | 91/325 [00:03<00:08, 26.21it/s]\u001b[A\n",
      " 29%|██▉       | 94/325 [00:03<00:08, 26.32it/s]\u001b[A\n",
      " 30%|██▉       | 97/325 [00:03<00:08, 26.27it/s]\u001b[A\n",
      " 31%|███       | 100/325 [00:03<00:08, 26.31it/s]\u001b[A\n",
      " 32%|███▏      | 103/325 [00:04<00:08, 26.26it/s]\u001b[A\n",
      " 33%|███▎      | 106/325 [00:04<00:08, 26.35it/s]\u001b[A\n",
      " 34%|███▎      | 109/325 [00:04<00:08, 26.28it/s]\u001b[A\n",
      " 34%|███▍      | 112/325 [00:04<00:08, 26.28it/s]\u001b[A\n",
      " 35%|███▌      | 115/325 [00:04<00:08, 26.21it/s]\u001b[A\n",
      " 36%|███▋      | 118/325 [00:04<00:07, 26.25it/s]\u001b[A\n",
      " 37%|███▋      | 121/325 [00:04<00:07, 26.24it/s]\u001b[A\n",
      " 38%|███▊      | 124/325 [00:04<00:07, 26.36it/s]\u001b[A\n",
      " 39%|███▉      | 127/325 [00:04<00:07, 26.33it/s]\u001b[A\n",
      " 40%|████      | 130/325 [00:05<00:07, 26.33it/s]\u001b[A\n",
      " 41%|████      | 133/325 [00:05<00:07, 26.27it/s]\u001b[A\n",
      " 42%|████▏     | 136/325 [00:05<00:07, 26.36it/s]\u001b[A\n",
      " 43%|████▎     | 139/325 [00:05<00:07, 26.30it/s]\u001b[A\n",
      " 44%|████▎     | 142/325 [00:05<00:06, 26.39it/s]\u001b[A\n",
      " 45%|████▍     | 145/325 [00:05<00:06, 26.19it/s]\u001b[A\n",
      " 46%|████▌     | 148/325 [00:05<00:06, 26.27it/s]\u001b[A\n",
      " 46%|████▋     | 151/325 [00:05<00:06, 26.07it/s]\u001b[A\n",
      " 47%|████▋     | 154/325 [00:05<00:06, 26.26it/s]\u001b[A\n",
      " 48%|████▊     | 157/325 [00:06<00:06, 26.24it/s]\u001b[A\n",
      " 49%|████▉     | 160/325 [00:06<00:06, 26.37it/s]\u001b[A\n",
      " 50%|█████     | 163/325 [00:06<00:06, 26.25it/s]\u001b[A\n",
      " 51%|█████     | 166/325 [00:06<00:06, 26.36it/s]\u001b[A\n",
      " 52%|█████▏    | 169/325 [00:06<00:05, 26.31it/s]\u001b[A\n",
      " 53%|█████▎    | 172/325 [00:06<00:05, 26.33it/s]\u001b[A\n",
      " 54%|█████▍    | 175/325 [00:06<00:05, 26.23it/s]\u001b[A\n",
      " 55%|█████▍    | 178/325 [00:06<00:05, 26.24it/s]\u001b[A\n",
      " 56%|█████▌    | 181/325 [00:07<00:05, 26.17it/s]\u001b[A\n",
      " 57%|█████▋    | 184/325 [00:07<00:05, 26.24it/s]\u001b[A\n",
      " 58%|█████▊    | 187/325 [00:07<00:05, 26.25it/s]\u001b[A\n",
      " 58%|█████▊    | 190/325 [00:07<00:05, 26.35it/s]\u001b[A\n",
      " 59%|█████▉    | 193/325 [00:07<00:05, 26.09it/s]\u001b[A\n",
      " 60%|██████    | 196/325 [00:07<00:04, 26.32it/s]\u001b[A\n",
      " 61%|██████    | 199/325 [00:07<00:04, 26.29it/s]\u001b[A\n",
      " 62%|██████▏   | 202/325 [00:07<00:04, 26.34it/s]\u001b[A\n",
      " 63%|██████▎   | 205/325 [00:07<00:04, 26.28it/s]\u001b[A\n",
      " 64%|██████▍   | 208/325 [00:08<00:04, 26.33it/s]\u001b[A\n",
      " 65%|██████▍   | 211/325 [00:08<00:04, 26.31it/s]\u001b[A\n",
      " 66%|██████▌   | 214/325 [00:08<00:04, 26.34it/s]\u001b[A\n",
      " 67%|██████▋   | 217/325 [00:08<00:04, 26.33it/s]\u001b[A\n",
      " 68%|██████▊   | 220/325 [00:08<00:03, 26.39it/s]\u001b[A\n",
      " 69%|██████▊   | 223/325 [00:08<00:03, 26.37it/s]\u001b[A\n",
      " 70%|██████▉   | 226/325 [00:08<00:03, 26.40it/s]\u001b[A\n",
      " 70%|███████   | 229/325 [00:08<00:03, 26.37it/s]\u001b[A\n",
      " 71%|███████▏  | 232/325 [00:08<00:03, 26.34it/s]\u001b[A\n",
      " 72%|███████▏  | 235/325 [00:09<00:03, 25.99it/s]\u001b[A\n",
      " 73%|███████▎  | 238/325 [00:09<00:03, 26.14it/s]\u001b[A\n",
      " 74%|███████▍  | 241/325 [00:09<00:03, 26.17it/s]\u001b[A\n",
      " 75%|███████▌  | 244/325 [00:09<00:03, 26.23it/s]\u001b[A\n",
      " 76%|███████▌  | 247/325 [00:09<00:02, 26.25it/s]\u001b[A\n",
      " 77%|███████▋  | 250/325 [00:09<00:02, 26.32it/s]\u001b[A\n",
      " 78%|███████▊  | 253/325 [00:09<00:02, 26.31it/s]\u001b[A\n",
      " 79%|███████▉  | 256/325 [00:09<00:02, 26.32it/s]\u001b[A\n",
      " 80%|███████▉  | 259/325 [00:09<00:02, 26.21it/s]\u001b[A\n",
      " 81%|████████  | 262/325 [00:10<00:02, 26.30it/s]\u001b[A\n",
      " 82%|████████▏ | 265/325 [00:10<00:02, 26.31it/s]\u001b[A\n",
      " 82%|████████▏ | 268/325 [00:10<00:02, 26.28it/s]\u001b[A\n",
      " 83%|████████▎ | 271/325 [00:10<00:02, 26.28it/s]\u001b[A\n",
      " 84%|████████▍ | 274/325 [00:10<00:01, 26.32it/s]\u001b[A\n",
      " 85%|████████▌ | 277/325 [00:10<00:01, 26.24it/s]\u001b[A\n",
      " 86%|████████▌ | 280/325 [00:10<00:01, 26.34it/s]\u001b[A\n",
      " 87%|████████▋ | 283/325 [00:10<00:01, 26.28it/s]\u001b[A\n",
      " 88%|████████▊ | 286/325 [00:10<00:01, 26.33it/s]\u001b[A\n",
      " 89%|████████▉ | 289/325 [00:11<00:01, 26.30it/s]\u001b[A\n",
      " 90%|████████▉ | 292/325 [00:11<00:01, 26.36it/s]\u001b[A\n",
      " 91%|█████████ | 295/325 [00:11<00:01, 26.39it/s]\u001b[A\n",
      " 92%|█████████▏| 298/325 [00:11<00:01, 26.47it/s]\u001b[A\n",
      " 93%|█████████▎| 301/325 [00:11<00:00, 26.49it/s]\u001b[A\n",
      " 94%|█████████▎| 304/325 [00:11<00:00, 26.47it/s]\u001b[A\n",
      " 94%|█████████▍| 307/325 [00:11<00:00, 26.44it/s]\u001b[A\n",
      " 95%|█████████▌| 310/325 [00:11<00:00, 26.51it/s]\u001b[A\n",
      " 96%|█████████▋| 313/325 [00:12<00:00, 26.52it/s]\u001b[A\n",
      " 97%|█████████▋| 316/325 [00:12<00:00, 26.57it/s]\u001b[A\n",
      " 98%|█████████▊| 319/325 [00:12<00:00, 26.56it/s]\u001b[A\n",
      " 99%|█████████▉| 322/325 [00:12<00:00, 26.53it/s]\u001b[A\n",
      "326it [00:12, 25.61it/s]                         \u001b[A"
     ]
    },
    {
     "name": "stdout",
     "output_type": "stream",
     "text": [
      "Train Loss: 0.2782, Train Acc: 13.10\n",
      "Validating\n"
     ]
    },
    {
     "name": "stderr",
     "output_type": "stream",
     "text": [
      "\n",
      "\n",
      "  0%|          | 0/108 [00:00<?, ?it/s]\u001b[A\n",
      "  2%|▏         | 2/108 [00:00<00:05, 19.86it/s]\u001b[A\n",
      "  7%|▋         | 8/108 [00:00<00:04, 24.69it/s]\u001b[A\n",
      " 14%|█▍        | 15/108 [00:00<00:03, 30.55it/s]\u001b[A\n",
      " 20%|██        | 22/108 [00:00<00:02, 36.47it/s]\u001b[A\n",
      " 28%|██▊       | 30/108 [00:00<00:01, 42.86it/s]\u001b[A\n",
      " 34%|███▍      | 37/108 [00:00<00:01, 47.56it/s]\u001b[A\n",
      " 41%|████      | 44/108 [00:00<00:01, 52.46it/s]\u001b[A\n",
      " 47%|████▋     | 51/108 [00:00<00:01, 55.47it/s]\u001b[A\n",
      " 55%|█████▍    | 59/108 [00:00<00:00, 58.98it/s]\u001b[A\n",
      " 61%|██████    | 66/108 [00:01<00:00, 61.27it/s]\u001b[A\n",
      " 68%|██████▊   | 73/108 [00:01<00:00, 62.93it/s]\u001b[A\n",
      " 75%|███████▌  | 81/108 [00:01<00:00, 64.86it/s]\u001b[A\n",
      " 82%|████████▏ | 89/108 [00:01<00:00, 66.73it/s]\u001b[A\n",
      " 90%|████████▉ | 97/108 [00:01<00:00, 68.04it/s]\u001b[A\n",
      "109it [00:01, 56.82it/s]                         "
     ]
    },
    {
     "name": "stdout",
     "output_type": "stream",
     "text": [
      "Val Loss: 0.2687, Val Acc: 16.94\n",
      "Epoch 2 of 100\n",
      "Training\n"
     ]
    },
    {
     "name": "stderr",
     "output_type": "stream",
     "text": [
      "\n",
      "\n",
      "  0%|          | 0/325 [00:00<?, ?it/s]\u001b[A\n",
      "  0%|          | 1/325 [00:00<00:41,  7.73it/s]\u001b[A\n",
      "  1%|          | 4/325 [00:00<00:32,  9.81it/s]\u001b[A\n",
      "  2%|▏         | 7/325 [00:00<00:26, 12.06it/s]\u001b[A\n",
      "  3%|▎         | 10/325 [00:00<00:21, 14.40it/s]\u001b[A\n",
      "  4%|▍         | 13/325 [00:00<00:18, 16.68it/s]\u001b[A\n",
      "  5%|▍         | 16/325 [00:00<00:16, 18.55it/s]\u001b[A\n",
      "  6%|▌         | 19/325 [00:00<00:15, 19.41it/s]\u001b[A\n",
      "  7%|▋         | 22/325 [00:00<00:14, 20.79it/s]\u001b[A\n",
      "  8%|▊         | 25/325 [00:01<00:13, 21.70it/s]\u001b[A\n",
      "  9%|▊         | 28/325 [00:01<00:13, 22.59it/s]\u001b[A\n",
      " 10%|▉         | 31/325 [00:01<00:13, 22.17it/s]\u001b[A\n",
      " 10%|█         | 34/325 [00:01<00:12, 22.67it/s]\u001b[A\n",
      " 11%|█▏        | 37/325 [00:01<00:12, 23.05it/s]\u001b[A\n",
      " 12%|█▏        | 40/325 [00:01<00:12, 23.33it/s]\u001b[A\n",
      " 13%|█▎        | 43/325 [00:01<00:12, 23.45it/s]\u001b[A\n",
      " 14%|█▍        | 46/325 [00:01<00:12, 22.82it/s]\u001b[A\n",
      " 15%|█▌        | 49/325 [00:02<00:11, 23.13it/s]\u001b[A\n",
      " 16%|█▌        | 52/325 [00:02<00:11, 23.50it/s]\u001b[A\n",
      " 17%|█▋        | 55/325 [00:02<00:11, 23.64it/s]\u001b[A\n",
      " 18%|█▊        | 58/325 [00:02<00:11, 23.94it/s]\u001b[A\n",
      " 19%|█▉        | 61/325 [00:02<00:11, 23.04it/s]\u001b[A\n",
      " 20%|█▉        | 64/325 [00:02<00:11, 23.30it/s]\u001b[A\n",
      " 21%|██        | 67/325 [00:02<00:11, 23.43it/s]\u001b[A\n",
      " 22%|██▏       | 70/325 [00:03<00:10, 23.70it/s]\u001b[A\n",
      " 22%|██▏       | 73/325 [00:03<00:10, 23.69it/s]\u001b[A\n",
      " 23%|██▎       | 76/325 [00:03<00:10, 23.96it/s]\u001b[A\n",
      " 24%|██▍       | 79/325 [00:03<00:10, 23.05it/s]\u001b[A\n",
      " 25%|██▌       | 82/325 [00:03<00:10, 23.40it/s]\u001b[A\n",
      " 26%|██▌       | 85/325 [00:03<00:10, 23.54it/s]\u001b[A\n",
      " 27%|██▋       | 88/325 [00:03<00:09, 23.98it/s]\u001b[A\n",
      " 28%|██▊       | 91/325 [00:03<00:09, 23.98it/s]\u001b[A\n",
      " 29%|██▉       | 94/325 [00:04<00:09, 23.28it/s]\u001b[A\n",
      " 30%|██▉       | 97/325 [00:04<00:09, 23.43it/s]\u001b[A\n",
      " 31%|███       | 100/325 [00:04<00:09, 24.38it/s]\u001b[A\n",
      " 32%|███▏      | 103/325 [00:04<00:08, 24.93it/s]\u001b[A\n",
      " 33%|███▎      | 106/325 [00:04<00:08, 25.36it/s]\u001b[A\n",
      " 34%|███▎      | 109/325 [00:04<00:08, 25.61it/s]\u001b[A\n",
      " 34%|███▍      | 112/325 [00:04<00:08, 25.86it/s]\u001b[A\n",
      " 35%|███▌      | 115/325 [00:04<00:08, 26.00it/s]\u001b[A\n",
      " 36%|███▋      | 118/325 [00:04<00:07, 26.11it/s]\u001b[A\n",
      " 37%|███▋      | 121/325 [00:05<00:07, 26.10it/s]\u001b[A\n",
      " 38%|███▊      | 124/325 [00:05<00:07, 26.18it/s]\u001b[A\n",
      " 39%|███▉      | 127/325 [00:05<00:07, 26.19it/s]\u001b[A\n",
      " 40%|████      | 130/325 [00:05<00:07, 26.06it/s]\u001b[A\n",
      " 41%|████      | 133/325 [00:05<00:07, 26.01it/s]\u001b[A\n",
      " 42%|████▏     | 136/325 [00:05<00:07, 26.16it/s]\u001b[A\n",
      " 43%|████▎     | 139/325 [00:05<00:07, 26.15it/s]\u001b[A\n",
      " 44%|████▎     | 142/325 [00:05<00:06, 26.23it/s]\u001b[A\n",
      " 45%|████▍     | 145/325 [00:05<00:06, 26.23it/s]\u001b[A\n",
      " 46%|████▌     | 148/325 [00:06<00:06, 26.33it/s]\u001b[A\n",
      " 46%|████▋     | 151/325 [00:06<00:06, 26.34it/s]\u001b[A\n",
      " 47%|████▋     | 154/325 [00:06<00:06, 26.35it/s]\u001b[A\n",
      " 48%|████▊     | 157/325 [00:06<00:06, 26.35it/s]\u001b[A\n",
      " 49%|████▉     | 160/325 [00:06<00:06, 26.40it/s]\u001b[A\n",
      " 50%|█████     | 163/325 [00:06<00:06, 26.37it/s]\u001b[A\n",
      " 51%|█████     | 166/325 [00:06<00:06, 26.42it/s]\u001b[A\n",
      " 52%|█████▏    | 169/325 [00:06<00:05, 26.37it/s]\u001b[A\n",
      " 53%|█████▎    | 172/325 [00:06<00:05, 26.38it/s]\u001b[A\n",
      " 54%|█████▍    | 175/325 [00:07<00:05, 26.36it/s]\u001b[A\n",
      " 55%|█████▍    | 178/325 [00:07<00:05, 26.38it/s]\u001b[A\n",
      " 56%|█████▌    | 181/325 [00:07<00:05, 26.34it/s]\u001b[A\n",
      " 57%|█████▋    | 184/325 [00:07<00:05, 26.38it/s]\u001b[A\n",
      " 58%|█████▊    | 187/325 [00:07<00:05, 26.37it/s]\u001b[A\n",
      " 58%|█████▊    | 190/325 [00:07<00:05, 26.40it/s]\u001b[A\n",
      " 59%|█████▉    | 193/325 [00:07<00:05, 26.35it/s]\u001b[A\n",
      " 60%|██████    | 196/325 [00:07<00:04, 26.46it/s]\u001b[A\n",
      " 61%|██████    | 199/325 [00:08<00:04, 26.19it/s]\u001b[A\n",
      " 62%|██████▏   | 202/325 [00:08<00:04, 26.26it/s]\u001b[A\n",
      " 63%|██████▎   | 205/325 [00:08<00:04, 26.27it/s]\u001b[A\n",
      " 64%|██████▍   | 208/325 [00:08<00:04, 26.32it/s]\u001b[A\n",
      " 65%|██████▍   | 211/325 [00:08<00:04, 26.35it/s]\u001b[A\n",
      " 66%|██████▌   | 214/325 [00:08<00:04, 26.38it/s]\u001b[A\n",
      " 67%|██████▋   | 217/325 [00:08<00:04, 26.35it/s]\u001b[A\n",
      " 68%|██████▊   | 220/325 [00:08<00:03, 26.37it/s]\u001b[A\n",
      " 69%|██████▊   | 223/325 [00:08<00:03, 26.35it/s]\u001b[A\n",
      " 70%|██████▉   | 226/325 [00:09<00:03, 26.39it/s]\u001b[A\n",
      " 70%|███████   | 229/325 [00:09<00:03, 26.45it/s]\u001b[A\n",
      " 71%|███████▏  | 232/325 [00:09<00:03, 26.45it/s]\u001b[A\n",
      " 72%|███████▏  | 235/325 [00:09<00:03, 26.39it/s]\u001b[A\n",
      " 73%|███████▎  | 238/325 [00:09<00:03, 26.42it/s]\u001b[A\n",
      " 74%|███████▍  | 241/325 [00:09<00:03, 26.40it/s]\u001b[A\n",
      " 75%|███████▌  | 244/325 [00:09<00:03, 26.43it/s]\u001b[A\n",
      " 76%|███████▌  | 247/325 [00:09<00:02, 26.38it/s]\u001b[A\n",
      " 77%|███████▋  | 250/325 [00:09<00:02, 26.36it/s]\u001b[A\n",
      " 78%|███████▊  | 253/325 [00:10<00:02, 26.27it/s]\u001b[A\n",
      " 79%|███████▉  | 256/325 [00:10<00:02, 26.28it/s]\u001b[A\n",
      " 80%|███████▉  | 259/325 [00:10<00:02, 26.12it/s]\u001b[A\n",
      " 81%|████████  | 262/325 [00:10<00:02, 26.26it/s]\u001b[A\n",
      " 82%|████████▏ | 265/325 [00:10<00:02, 26.26it/s]\u001b[A\n",
      " 82%|████████▏ | 268/325 [00:10<00:02, 26.32it/s]\u001b[A\n",
      " 83%|████████▎ | 271/325 [00:10<00:02, 26.33it/s]\u001b[A\n",
      " 84%|████████▍ | 274/325 [00:10<00:01, 26.36it/s]\u001b[A\n",
      " 85%|████████▌ | 277/325 [00:10<00:01, 26.34it/s]\u001b[A\n",
      " 86%|████████▌ | 280/325 [00:11<00:01, 26.28it/s]\u001b[A\n",
      " 87%|████████▋ | 283/325 [00:11<00:01, 26.18it/s]\u001b[A\n",
      " 88%|████████▊ | 286/325 [00:11<00:01, 26.28it/s]\u001b[A\n",
      " 89%|████████▉ | 289/325 [00:11<00:01, 26.22it/s]\u001b[A\n",
      " 90%|████████▉ | 292/325 [00:11<00:01, 26.26it/s]\u001b[A\n",
      " 91%|█████████ | 295/325 [00:11<00:01, 26.22it/s]\u001b[A\n",
      " 92%|█████████▏| 298/325 [00:11<00:01, 26.34it/s]\u001b[A\n",
      " 93%|█████████▎| 301/325 [00:11<00:00, 26.40it/s]\u001b[A\n",
      " 94%|█████████▎| 304/325 [00:12<00:00, 26.49it/s]\u001b[A\n",
      " 94%|█████████▍| 307/325 [00:12<00:00, 26.52it/s]\u001b[A\n",
      " 95%|█████████▌| 310/325 [00:12<00:00, 26.48it/s]\u001b[A\n",
      " 96%|█████████▋| 313/325 [00:12<00:00, 26.46it/s]\u001b[A\n",
      " 97%|█████████▋| 316/325 [00:12<00:00, 26.51it/s]\u001b[A\n",
      " 98%|█████████▊| 319/325 [00:12<00:00, 26.53it/s]\u001b[A\n",
      " 99%|█████████▉| 322/325 [00:12<00:00, 26.52it/s]\u001b[A\n",
      "326it [00:13, 24.90it/s]                         \u001b[A"
     ]
    },
    {
     "name": "stdout",
     "output_type": "stream",
     "text": [
      "Train Loss: 0.2461, Train Acc: 17.71\n",
      "Validating\n"
     ]
    },
    {
     "name": "stderr",
     "output_type": "stream",
     "text": [
      "\n",
      "\n",
      "  0%|          | 0/108 [00:00<?, ?it/s]\u001b[A\n",
      "  4%|▎         | 4/108 [00:00<00:03, 33.06it/s]\u001b[A\n",
      " 11%|█         | 12/108 [00:00<00:02, 39.42it/s]\u001b[A\n",
      " 18%|█▊        | 19/108 [00:00<00:01, 45.25it/s]\u001b[A\n",
      " 24%|██▍       | 26/108 [00:00<00:01, 50.52it/s]\u001b[A\n",
      " 31%|███▏      | 34/108 [00:00<00:01, 55.61it/s]\u001b[A\n",
      " 38%|███▊      | 41/108 [00:00<00:01, 58.96it/s]\u001b[A\n",
      " 44%|████▍     | 48/108 [00:00<00:00, 61.88it/s]\u001b[A\n",
      " 51%|█████     | 55/108 [00:00<00:00, 63.40it/s]\u001b[A\n",
      " 58%|█████▊    | 63/108 [00:00<00:00, 65.05it/s]\u001b[A\n",
      " 66%|██████▌   | 71/108 [00:01<00:00, 66.22it/s]\u001b[A\n",
      " 72%|███████▏  | 78/108 [00:01<00:00, 67.24it/s]\u001b[A\n",
      " 79%|███████▊  | 85/108 [00:01<00:00, 67.67it/s]\u001b[A\n",
      " 86%|████████▌ | 93/108 [00:01<00:00, 68.61it/s]\u001b[A\n",
      " 94%|█████████▎| 101/108 [00:01<00:00, 69.29it/s]\u001b[A\n",
      "109it [00:01, 58.63it/s]                         \u001b[A"
     ]
    },
    {
     "name": "stdout",
     "output_type": "stream",
     "text": [
      "Val Loss: 0.2370, Val Acc: 18.84\n",
      "Epoch 3 of 100\n",
      "Training\n"
     ]
    },
    {
     "name": "stderr",
     "output_type": "stream",
     "text": [
      "\n",
      "\n",
      "  0%|          | 0/325 [00:00<?, ?it/s]\u001b[A\n",
      "  0%|          | 1/325 [00:00<00:36,  8.92it/s]\u001b[A\n",
      "  1%|          | 4/325 [00:00<00:29, 10.97it/s]\u001b[A\n",
      "  2%|▏         | 7/325 [00:00<00:23, 13.30it/s]\u001b[A\n",
      "  3%|▎         | 10/325 [00:00<00:20, 15.59it/s]\u001b[A\n",
      "  4%|▍         | 13/325 [00:00<00:17, 17.77it/s]\u001b[A\n",
      "  5%|▍         | 16/325 [00:00<00:15, 19.76it/s]\u001b[A\n",
      "  6%|▌         | 19/325 [00:00<00:14, 20.47it/s]\u001b[A\n",
      "  7%|▋         | 22/325 [00:00<00:13, 21.83it/s]\u001b[A\n",
      "  8%|▊         | 25/325 [00:01<00:13, 23.04it/s]\u001b[A\n",
      "  9%|▊         | 28/325 [00:01<00:12, 23.92it/s]\u001b[A\n",
      " 10%|▉         | 31/325 [00:01<00:11, 24.60it/s]\u001b[A\n",
      " 10%|█         | 34/325 [00:01<00:11, 24.53it/s]\u001b[A\n",
      " 11%|█▏        | 37/325 [00:01<00:11, 24.94it/s]\u001b[A\n",
      " 12%|█▏        | 40/325 [00:01<00:11, 25.34it/s]\u001b[A\n",
      " 13%|█▎        | 43/325 [00:01<00:11, 25.55it/s]\u001b[A\n",
      " 14%|█▍        | 46/325 [00:01<00:10, 25.86it/s]\u001b[A\n",
      " 15%|█▌        | 49/325 [00:01<00:10, 25.98it/s]\u001b[A\n",
      " 16%|█▌        | 52/325 [00:02<00:10, 25.29it/s]\u001b[A\n",
      " 17%|█▋        | 55/325 [00:02<00:10, 25.56it/s]\u001b[A\n",
      " 18%|█▊        | 58/325 [00:02<00:10, 25.81it/s]\u001b[A\n",
      " 19%|█▉        | 61/325 [00:02<00:10, 25.96it/s]\u001b[A\n",
      " 20%|█▉        | 64/325 [00:02<00:09, 26.16it/s]\u001b[A\n",
      " 21%|██        | 67/325 [00:02<00:10, 25.54it/s]\u001b[A\n",
      " 22%|██▏       | 70/325 [00:02<00:09, 25.69it/s]\u001b[A\n",
      " 22%|██▏       | 73/325 [00:02<00:09, 25.66it/s]\u001b[A\n",
      " 23%|██▎       | 76/325 [00:03<00:09, 25.83it/s]\u001b[A\n",
      " 24%|██▍       | 79/325 [00:03<00:09, 25.93it/s]\u001b[A\n",
      " 25%|██▌       | 82/325 [00:03<00:09, 25.30it/s]\u001b[A\n",
      " 26%|██▌       | 85/325 [00:03<00:09, 25.39it/s]\u001b[A\n",
      " 27%|██▋       | 88/325 [00:03<00:09, 25.70it/s]\u001b[A\n",
      " 28%|██▊       | 91/325 [00:03<00:09, 25.86it/s]\u001b[A\n",
      " 29%|██▉       | 94/325 [00:03<00:08, 26.06it/s]\u001b[A\n",
      " 30%|██▉       | 97/325 [00:03<00:08, 26.09it/s]\u001b[A\n",
      " 31%|███       | 100/325 [00:03<00:08, 26.23it/s]\u001b[A\n",
      " 32%|███▏      | 103/325 [00:04<00:08, 26.31it/s]\u001b[A\n",
      " 33%|███▎      | 106/325 [00:04<00:08, 26.41it/s]\u001b[A\n",
      " 34%|███▎      | 109/325 [00:04<00:08, 26.44it/s]\u001b[A\n",
      " 34%|███▍      | 112/325 [00:04<00:08, 26.46it/s]\u001b[A\n",
      " 35%|███▌      | 115/325 [00:04<00:07, 26.45it/s]\u001b[A\n",
      " 36%|███▋      | 118/325 [00:04<00:07, 26.50it/s]\u001b[A\n",
      " 37%|███▋      | 121/325 [00:04<00:07, 26.47it/s]\u001b[A\n",
      " 38%|███▊      | 124/325 [00:04<00:07, 26.51it/s]\u001b[A\n",
      " 39%|███▉      | 127/325 [00:04<00:07, 26.47it/s]\u001b[A\n",
      " 40%|████      | 130/325 [00:05<00:07, 26.51it/s]\u001b[A\n",
      " 41%|████      | 133/325 [00:05<00:07, 26.50it/s]\u001b[A\n",
      " 42%|████▏     | 136/325 [00:05<00:07, 26.49it/s]\u001b[A\n",
      " 43%|████▎     | 139/325 [00:05<00:07, 26.45it/s]\u001b[A\n",
      " 44%|████▎     | 142/325 [00:05<00:06, 26.50it/s]\u001b[A\n",
      " 45%|████▍     | 145/325 [00:05<00:06, 26.47it/s]\u001b[A\n",
      " 46%|████▌     | 148/325 [00:05<00:06, 26.52it/s]\u001b[A\n",
      " 46%|████▋     | 151/325 [00:05<00:06, 26.51it/s]\u001b[A\n",
      " 47%|████▋     | 154/325 [00:05<00:06, 26.54it/s]\u001b[A\n",
      " 48%|████▊     | 157/325 [00:06<00:06, 26.52it/s]\u001b[A\n",
      " 49%|████▉     | 160/325 [00:06<00:06, 26.51it/s]\u001b[A\n",
      " 50%|█████     | 163/325 [00:06<00:06, 26.44it/s]\u001b[A\n",
      " 51%|█████     | 166/325 [00:06<00:05, 26.50it/s]\u001b[A\n",
      " 52%|█████▏    | 169/325 [00:06<00:05, 26.49it/s]\u001b[A\n",
      " 53%|█████▎    | 172/325 [00:06<00:05, 26.51it/s]\u001b[A\n",
      " 54%|█████▍    | 175/325 [00:06<00:05, 26.54it/s]\u001b[A\n",
      " 55%|█████▍    | 178/325 [00:06<00:05, 26.52it/s]\u001b[A\n",
      " 56%|█████▌    | 181/325 [00:07<00:05, 26.52it/s]\u001b[A\n",
      " 57%|█████▋    | 184/325 [00:07<00:05, 26.59it/s]\u001b[A\n",
      " 58%|█████▊    | 187/325 [00:07<00:05, 26.49it/s]\u001b[A\n",
      " 58%|█████▊    | 190/325 [00:07<00:05, 26.47it/s]\u001b[A\n",
      " 59%|█████▉    | 193/325 [00:07<00:04, 26.45it/s]\u001b[A\n",
      " 60%|██████    | 196/325 [00:07<00:04, 26.42it/s]\u001b[A\n",
      " 61%|██████    | 199/325 [00:07<00:04, 26.37it/s]\u001b[A\n",
      " 62%|██████▏   | 202/325 [00:07<00:04, 26.37it/s]\u001b[A\n",
      " 63%|██████▎   | 205/325 [00:07<00:04, 26.34it/s]\u001b[A\n",
      " 64%|██████▍   | 208/325 [00:08<00:04, 26.33it/s]\u001b[A\n",
      " 65%|██████▍   | 211/325 [00:08<00:04, 26.36it/s]\u001b[A\n",
      " 66%|██████▌   | 214/325 [00:08<00:04, 26.31it/s]\u001b[A\n",
      " 67%|██████▋   | 217/325 [00:08<00:04, 26.28it/s]\u001b[A\n",
      " 68%|██████▊   | 220/325 [00:08<00:03, 26.34it/s]\u001b[A\n",
      " 69%|██████▊   | 223/325 [00:08<00:03, 26.32it/s]\u001b[A\n",
      " 70%|██████▉   | 226/325 [00:08<00:03, 26.35it/s]\u001b[A\n",
      " 70%|███████   | 229/325 [00:08<00:03, 26.33it/s]\u001b[A\n",
      " 71%|███████▏  | 232/325 [00:08<00:03, 26.33it/s]\u001b[A\n",
      " 72%|███████▏  | 235/325 [00:09<00:03, 26.27it/s]\u001b[A\n",
      " 73%|███████▎  | 238/325 [00:09<00:03, 26.30it/s]\u001b[A\n",
      " 74%|███████▍  | 241/325 [00:09<00:03, 26.27it/s]\u001b[A\n",
      " 75%|███████▌  | 244/325 [00:09<00:03, 26.32it/s]\u001b[A\n",
      " 76%|███████▌  | 247/325 [00:09<00:02, 26.30it/s]\u001b[A\n",
      " 77%|███████▋  | 250/325 [00:09<00:02, 26.34it/s]\u001b[A\n",
      " 78%|███████▊  | 253/325 [00:09<00:02, 26.28it/s]\u001b[A\n",
      " 79%|███████▉  | 256/325 [00:09<00:02, 26.35it/s]\u001b[A\n",
      " 80%|███████▉  | 259/325 [00:09<00:02, 26.29it/s]\u001b[A\n",
      " 81%|████████  | 262/325 [00:10<00:02, 26.32it/s]\u001b[A\n",
      " 82%|████████▏ | 265/325 [00:10<00:02, 26.28it/s]\u001b[A\n",
      " 82%|████████▏ | 268/325 [00:10<00:02, 26.24it/s]\u001b[A\n",
      " 83%|████████▎ | 271/325 [00:10<00:02, 26.04it/s]\u001b[A\n",
      " 84%|████████▍ | 274/325 [00:10<00:01, 26.18it/s]\u001b[A\n",
      " 85%|████████▌ | 277/325 [00:10<00:01, 26.22it/s]\u001b[A\n",
      " 86%|████████▌ | 280/325 [00:10<00:01, 26.28it/s]\u001b[A\n",
      " 87%|████████▋ | 283/325 [00:10<00:01, 26.30it/s]\u001b[A\n",
      " 88%|████████▊ | 286/325 [00:11<00:01, 26.32it/s]\u001b[A\n",
      " 89%|████████▉ | 289/325 [00:11<00:01, 26.29it/s]\u001b[A\n",
      " 90%|████████▉ | 292/325 [00:11<00:01, 26.32it/s]\u001b[A\n",
      " 91%|█████████ | 295/325 [00:11<00:01, 26.29it/s]\u001b[A\n",
      " 92%|█████████▏| 298/325 [00:11<00:01, 26.32it/s]\u001b[A\n",
      " 93%|█████████▎| 301/325 [00:11<00:00, 26.37it/s]\u001b[A\n",
      " 94%|█████████▎| 304/325 [00:11<00:00, 26.41it/s]\u001b[A\n",
      " 94%|█████████▍| 307/325 [00:11<00:00, 26.45it/s]\u001b[A\n",
      " 95%|█████████▌| 310/325 [00:11<00:00, 26.50it/s]\n",
      " 33%|███▎      | 106/325 [00:04<00:08, 26.37it/s]\u001b[A\n",
      " 34%|███▎      | 109/325 [00:04<00:08, 26.31it/s]\u001b[A\n",
      " 34%|███▍      | 112/325 [00:04<00:08, 26.32it/s]\u001b[A\n",
      " 35%|███▌      | 115/325 [00:04<00:07, 26.34it/s]\u001b[A\n",
      " 36%|███▋      | 118/325 [00:04<00:07, 26.35it/s]\u001b[A\n",
      " 37%|███▋      | 121/325 [00:04<00:07, 26.20it/s]\u001b[A\n",
      " 38%|███▊      | 124/325 [00:04<00:07, 26.31it/s]\u001b[A\n",
      " 39%|███▉      | 127/325 [00:04<00:07, 26.29it/s]\u001b[A\n",
      " 40%|████      | 130/325 [00:05<00:07, 26.14it/s]\u001b[A\n",
      " 41%|████      | 133/325 [00:05<00:07, 26.16it/s]\u001b[A\n",
      " 42%|████▏     | 136/325 [00:05<00:07, 26.13it/s]\u001b[A\n",
      " 43%|████▎     | 139/325 [00:05<00:07, 26.18it/s]\u001b[A\n",
      " 44%|████▎     | 142/325 [00:05<00:06, 26.22it/s]\u001b[A\n",
      " 45%|████▍     | 145/325 [00:05<00:06, 26.23it/s]\u001b[A\n",
      " 46%|████▌     | 148/325 [00:05<00:06, 26.35it/s]\u001b[A\n",
      " 46%|████▋     | 151/325 [00:05<00:06, 26.38it/s]\u001b[A\n",
      " 47%|████▋     | 154/325 [00:05<00:06, 26.40it/s]\u001b[A\n",
      " 48%|████▊     | 157/325 [00:06<00:06, 26.37it/s]\u001b[A\n",
      " 49%|████▉     | 160/325 [00:06<00:06, 26.37it/s]\u001b[A\n",
      " 50%|█████     | 163/325 [00:06<00:06, 26.37it/s]\u001b[A\n",
      " 51%|█████     | 166/325 [00:06<00:06, 26.37it/s]\u001b[A\n",
      " 52%|█████▏    | 169/325 [00:06<00:05, 26.36it/s]\u001b[A\n",
      " 53%|█████▎    | 172/325 [00:06<00:05, 26.32it/s]\u001b[A\n",
      " 54%|█████▍    | 175/325 [00:06<00:05, 26.20it/s]\u001b[A\n",
      " 55%|█████▍    | 178/325 [00:06<00:05, 26.27it/s]\u001b[A\n",
      " 56%|█████▌    | 181/325 [00:06<00:05, 26.27it/s]\u001b[A\n",
      " 57%|█████▋    | 184/325 [00:07<00:05, 26.32it/s]\u001b[A\n",
      " 58%|█████▊    | 187/325 [00:07<00:05, 26.33it/s]\u001b[A\n",
      " 58%|█████▊    | 190/325 [00:07<00:05, 26.35it/s]\u001b[A\n",
      " 59%|█████▉    | 193/325 [00:07<00:05, 26.28it/s]\u001b[A\n",
      " 60%|██████    | 196/325 [00:07<00:04, 26.34it/s]\u001b[A\n",
      " 61%|██████    | 199/325 [00:07<00:04, 26.27it/s]\u001b[A\n",
      " 62%|██████▏   | 202/325 [00:07<00:04, 26.29it/s]\u001b[A\n",
      " 63%|██████▎   | 205/325 [00:07<00:04, 26.27it/s]\u001b[A\n",
      " 64%|██████▍   | 208/325 [00:08<00:04, 26.25it/s]\u001b[A\n",
      " 65%|██████▍   | 211/325 [00:08<00:04, 26.26it/s]\u001b[A\n",
      " 66%|██████▌   | 214/325 [00:08<00:04, 26.34it/s]\u001b[A\n",
      " 67%|██████▋   | 217/325 [00:08<00:04, 26.40it/s]\u001b[A\n",
      " 68%|██████▊   | 220/325 [00:08<00:03, 26.43it/s]\u001b[A\n",
      " 69%|██████▊   | 223/325 [00:08<00:03, 26.42it/s]\u001b[A\n",
      " 70%|██████▉   | 226/325 [00:08<00:03, 26.44it/s]\u001b[A\n",
      " 70%|███████   | 229/325 [00:08<00:03, 26.45it/s]\u001b[A\n",
      " 71%|███████▏  | 232/325 [00:08<00:03, 26.48it/s]\u001b[A\n",
      " 72%|███████▏  | 235/325 [00:09<00:03, 26.50it/s]\u001b[A\n",
      " 73%|███████▎  | 238/325 [00:09<00:03, 26.48it/s]\u001b[A\n",
      " 74%|███████▍  | 241/325 [00:09<00:03, 26.43it/s]\u001b[A\n",
      " 75%|███████▌  | 244/325 [00:09<00:03, 26.47it/s]\u001b[A\n",
      " 76%|███████▌  | 247/325 [00:09<00:02, 26.51it/s]\u001b[A\n",
      " 77%|███████▋  | 250/325 [00:09<00:02, 26.52it/s]\u001b[A\n",
      " 78%|███████▊  | 253/325 [00:09<00:02, 26.51it/s]\u001b[A\n",
      " 79%|███████▉  | 256/325 [00:09<00:02, 26.49it/s]\u001b[A\n",
      " 80%|███████▉  | 259/325 [00:09<00:02, 26.48it/s]\u001b[A\n",
      " 81%|████████  | 262/325 [00:10<00:02, 26.47it/s]\u001b[A\n",
      " 82%|████████▏ | 265/325 [00:10<00:02, 26.46it/s]\u001b[A\n",
      " 82%|████████▏ | 268/325 [00:10<00:02, 26.48it/s]\u001b[A\n",
      " 83%|████████▎ | 271/325 [00:10<00:02, 26.45it/s]\u001b[A\n",
      " 84%|████████▍ | 274/325 [00:10<00:01, 26.48it/s]\u001b[A\n",
      " 85%|████████▌ | 277/325 [00:10<00:01, 26.44it/s]\u001b[A\n",
      " 86%|████████▌ | 280/325 [00:10<00:01, 26.37it/s]\u001b[A\n",
      " 87%|████████▋ | 283/325 [00:10<00:01, 26.40it/s]\u001b[A\n",
      " 88%|████████▊ | 286/325 [00:10<00:01, 26.42it/s]\u001b[A\n",
      " 89%|████████▉ | 289/325 [00:11<00:01, 26.41it/s]\u001b[A\n",
      " 90%|████████▉ | 292/325 [00:11<00:01, 26.47it/s]\u001b[A\n",
      " 91%|█████████ | 295/325 [00:11<00:01, 26.46it/s]\u001b[A\n",
      " 92%|█████████▏| 298/325 [00:11<00:01, 26.41it/s]\u001b[A\n",
      " 93%|█████████▎| 301/325 [00:11<00:00, 26.43it/s]\u001b[A\n",
      " 94%|█████████▎| 304/325 [00:11<00:00, 26.46it/s]\u001b[A\n",
      " 94%|█████████▍| 307/325 [00:11<00:00, 26.49it/s]\u001b[A\n",
      " 95%|█████████▌| 310/325 [00:11<00:00, 26.43it/s]\u001b[A\n",
      " 96%|█████████▋| 313/325 [00:11<00:00, 26.34it/s]\u001b[A\n",
      " 97%|█████████▋| 316/325 [00:12<00:00, 26.42it/s]\u001b[A\n",
      " 98%|█████████▊| 319/325 [00:12<00:00, 26.49it/s]\u001b[A\n",
      " 99%|█████████▉| 322/325 [00:12<00:00, 26.54it/s]\u001b[A\n",
      "326it [00:12, 25.63it/s]                         \u001b[A"
     ]
    },
    {
     "name": "stdout",
     "output_type": "stream",
     "text": [
      "Train Loss: 0.1846, Train Acc: 35.73\n",
      "Validating\n"
     ]
    },
    {
     "name": "stderr",
     "output_type": "stream",
     "text": [
      "\n",
      "\n",
      "  0%|          | 0/108 [00:00<?, ?it/s]\u001b[A\n",
      "  2%|▏         | 2/108 [00:00<00:05, 17.97it/s]\u001b[A\n",
      "  8%|▊         | 9/108 [00:00<00:04, 23.09it/s]\u001b[A\n",
      " 16%|█▌        | 17/108 [00:00<00:03, 28.64it/s]\u001b[A\n",
      " 23%|██▎       | 25/108 [00:00<00:02, 35.03it/s]\u001b[A\n",
      " 31%|███       | 33/108 [00:00<00:01, 41.35it/s]\u001b[A\n",
      " 38%|███▊      | 41/108 [00:00<00:01, 47.35it/s]\u001b[A\n",
      " 45%|████▌     | 49/108 [00:00<00:01, 52.30it/s]\u001b[A\n",
      " 52%|█████▏    | 56/108 [00:00<00:00, 56.53it/s]\u001b[A\n",
      " 58%|█████▊    | 63/108 [00:00<00:00, 59.53it/s]\u001b[A\n",
      " 66%|██████▌   | 71/108 [00:01<00:00, 62.19it/s]\u001b[A\n",
      " 72%|███████▏  | 78/108 [00:01<00:00, 64.30it/s]\u001b[A\n",
      " 80%|███████▉  | 86/108 [00:01<00:00, 66.26it/s]\u001b[A\n",
      " 87%|████████▋ | 94/108 [00:01<00:00, 67.67it/s]\u001b[A\n",
      " 94%|█████████▎| 101/108 [00:01<00:00, 68.24it/s]\u001b[A\n",
      "109it [00:01, 58.43it/s]                         \u001b[A"
     ]
    },
    {
     "name": "stdout",
     "output_type": "stream",
     "text": [
      "Val Loss: 0.1788, Val Acc: 37.21\n",
      "Epoch 9 of 100\n",
      "Training\n"
     ]
    },
    {
     "name": "stderr",
     "output_type": "stream",
     "text": [
      "\n",
      "\n",
      "  0%|          | 0/325 [00:00<?, ?it/s]\u001b[A\n",
      "  0%|          | 1/325 [00:00<00:35,  9.23it/s]\u001b[A\n",
      "  1%|          | 4/325 [00:00<00:27, 11.49it/s]\u001b[A\n",
      "  2%|▏         | 7/325 [00:00<00:23, 13.65it/s]\u001b[A\n",
      "  3%|▎         | 10/325 [00:00<00:19, 15.94it/s]\u001b[A\n",
      "  4%|▍         | 13/325 [00:00<00:17, 18.07it/s]\u001b[A\n",
      "  5%|▍         | 16/325 [00:00<00:15, 20.01it/s]\u001b[A\n",
      "  6%|▌         | 19/325 [00:00<00:14, 21.16it/s]\u001b[A\n",
      "  7%|▋         | 22/325 [00:00<00:13, 22.55it/s]\u001b[A\n",
      "  8%|▊         | 25/325 [00:01<00:12, 23.46it/s]\u001b[A\n",
      "  9%|▊         | 28/325 [00:01<00:12, 24.26it/s]\u001b[A\n",
      " 10%|▉         | 31/325 [00:01<00:11, 24.66it/s]\u001b[A\n",
      " 10%|█         | 34/325 [00:01<00:11, 25.28it/s]\u001b[A\n",
      " 11%|█▏        | 37/325 [00:01<00:11, 25.36it/s]\u001b[A\n",
      " 12%|█▏        | 40/325 [00:01<00:11, 25.78it/s]\u001b[A\n",
      " 13%|█▎        | 43/325 [00:01<00:10, 25.87it/s]\u001b[A\n",
      " 14%|█▍        | 46/325 [00:01<00:10, 26.06it/s]\u001b[A\n",
      " 15%|█▌        | 49/325 [00:01<00:10, 26.06it/s]\u001b[A\n",
      " 16%|█▌        | 52/325 [00:02<00:10, 26.27it/s]\u001b[A\n",
      " 17%|█▋        | 55/325 [00:02<00:10, 26.34it/s]\u001b[A\n",
      " 18%|█▊        | 58/325 [00:02<00:10, 26.32it/s]\u001b[A\n",
      " 19%|█▉        | 61/325 [00:02<00:10, 26.22it/s]\u001b[A\n",
      " 20%|█▉        | 64/325 [00:02<00:09, 26.30it/s]\u001b[A\n",
      " 21%|██        | 67/325 [00:02<00:09, 26.25it/s]\u001b[A\n",
      " 22%|██▏       | 70/325 [00:02<00:09, 26.36it/s]\u001b[A\n",
      " 22%|██▏       | 73/325 [00:02<00:09, 26.33it/s]\u001b[A\n",
      " 23%|██▎       | 76/325 [00:02<00:09, 26.34it/s]\u001b[A\n",
      " 24%|██▍       | 79/325 [00:03<00:09, 26.29it/s]\u001b[A\n",
      " 25%|██▌       | 82/325 [00:03<00:09, 26.35it/s]\u001b[A\n",
      " 26%|██▌       | 85/325 [00:03<00:09, 26.39it/s]\u001b[A\n",
      " 27%|██▋       | 88/325 [00:03<00:09, 26.07it/s]\u001b[A\n",
      " 28%|██▊       | 91/325 [00:03<00:09, 25.51it/s]\u001b[A\n",
      " 29%|██▉       | 94/325 [00:03<00:09, 25.27it/s]\u001b[A\n",
      " 30%|██▉       | 97/325 [00:03<00:09, 25.21it/s]\u001b[A\n",
      " 31%|███       | 100/325 [00:03<00:08, 25.59it/s]\u001b[A\n",
      " 32%|███▏      | 103/325 [00:04<00:08, 25.80it/s]\u001b[A\n",
      " 33%|███▎      | 106/325 [00:04<00:08, 25.99it/s]\u001b[A\n",
      " 34%|███▎      | 109/325 [00:04<00:08, 26.11it/s]\u001b[A\n",
      " 34%|███▍      | 112/325 [00:04<00:08, 26.20it/s]\u001b[A\n",
      " 35%|███▌      | 115/325 [00:04<00:08, 26.17it/s]\u001b[A\n",
      " 36%|███▋      | 118/325 [00:04<00:07, 26.33it/s]\u001b[A\n",
      " 37%|███▋      | 121/325 [00:04<00:07, 26.34it/s]\u001b[A\n",
      " 38%|███▊      | 124/325 [00:04<00:07, 26.41it/s]\u001b[A\n",
      " 39%|███▉      | 127/325 [00:04<00:07, 26.20it/s]\u001b[A\n",
      " 40%|████      | 130/325 [00:05<00:07, 26.22it/s]\u001b[A\n",
      " 41%|████      | 133/325 [00:05<00:07, 26.28it/s]\u001b[A\n",
      " 42%|████▏     | 136/325 [00:05<00:07, 26.35it/s]\u001b[A\n",
      " 43%|████▎     | 139/325 [00:05<00:07, 26.38it/s]\u001b[A\n",
      " 44%|████▎     | 142/325 [00:05<00:06, 26.41it/s]\u001b[A\n",
      " 45%|████▍     | 145/325 [00:05<00:06, 26.18it/s]\u001b[A\n",
      " 46%|████▌     | 148/325 [00:05<00:06, 26.09it/s]\u001b[A\n",
      " 46%|████▋     | 151/325 [00:05<00:06, 26.04it/s]\u001b[A\n",
      " 47%|████▋     | 154/325 [00:05<00:06, 25.76it/s]\u001b[A\n",
      " 48%|████▊     | 157/325 [00:06<00:06, 25.75it/s]\u001b[A\n",
      " 49%|████▉     | 160/325 [00:06<00:06, 25.95it/s]\u001b[A\n",
      " 50%|█████     | 163/325 [00:06<00:06, 26.02it/s]\u001b[A\n",
      " 51%|█████     | 166/325 [00:06<00:06, 26.08it/s]\u001b[A\n",
      " 52%|█████▏    | 169/325 [00:06<00:05, 26.06it/s]\u001b[A\n",
      " 53%|█████▎    | 172/325 [00:06<00:05, 26.16it/s]\u001b[A\n",
      " 54%|█████▍    | 175/325 [00:06<00:05, 26.12it/s]\u001b[A\n",
      " 55%|█████▍    | 178/325 [00:06<00:05, 26.21it/s]\u001b[A\n",
      " 56%|█████▌    | 181/325 [00:07<00:05, 26.19it/s]\u001b[A\n",
      " 57%|█████▋    | 184/325 [00:07<00:05, 26.22it/s]\u001b[A\n",
      " 58%|█████▊    | 187/325 [00:07<00:05, 25.82it/s]\u001b[A\n",
      " 58%|█████▊    | 190/325 [00:07<00:05, 25.75it/s]\u001b[A\n",
      " 59%|█████▉    | 193/325 [00:07<00:05, 25.62it/s]\u001b[A\n",
      " 60%|██████    | 196/325 [00:07<00:04, 25.81it/s]\u001b[A\n",
      " 61%|██████    | 199/325 [00:07<00:04, 25.80it/s]\u001b[A\n",
      " 62%|██████▏   | 202/325 [00:07<00:04, 25.87it/s]\u001b[A\n",
      " 63%|██████▎   | 205/325 [00:07<00:04, 25.71it/s]\u001b[A\n",
      " 64%|██████▍   | 208/325 [00:08<00:04, 25.86it/s]\u001b[A\n",
      " 65%|██████▍   | 211/325 [00:08<00:04, 25.71it/s]\u001b[A\n",
      " 66%|██████▌   | 214/325 [00:08<00:04, 25.85it/s]\u001b[A\n",
      " 67%|██████▋   | 217/325 [00:08<00:04, 25.67it/s]\u001b[A\n",
      " 68%|██████▊   | 220/325 [00:08<00:04, 25.79it/s]\u001b[A\n",
      " 69%|██████▊   | 223/325 [00:08<00:03, 25.67it/s]\u001b[A\n",
      " 70%|██████▉   | 226/325 [00:08<00:03, 25.82it/s]\u001b[A\n",
      " 70%|███████   | 229/325 [00:08<00:03, 25.81it/s]\u001b[A\n",
      " 71%|███████▏  | 232/325 [00:08<00:03, 25.79it/s]\u001b[A\n",
      " 72%|███████▏  | 235/325 [00:09<00:03, 25.78it/s]\u001b[A\n",
      " 73%|███████▎  | 238/325 [00:09<00:03, 25.96it/s]\u001b[A\n",
      " 74%|███████▍  | 241/325 [00:09<00:03, 25.96it/s]\u001b[A\n",
      " 75%|███████▌  | 244/325 [00:09<00:03, 26.10it/s]\u001b[A\n",
      " 76%|███████▌  | 247/325 [00:09<00:02, 26.01it/s]\u001b[A\n",
      " 77%|███████▋  | 250/325 [00:09<00:02, 26.12it/s]\u001b[A\n",
      " 78%|███████▊  | 253/325 [00:09<00:02, 26.07it/s]\u001b[A\n",
      " 79%|███████▉  | 256/325 [00:09<00:02, 26.37it/s]\u001b[A\n",
      " 80%|███████▉  | 259/325 [00:10<00:02, 26.43it/s]\u001b[A\n",
      " 81%|████████  | 262/325 [00:10<00:02, 26.50it/s]\u001b[A\n",
      " 82%|████████▏ | 265/325 [00:10<00:02, 26.59it/s]\u001b[A\n",
      " 82%|████████▏ | 268/325 [00:10<00:02, 26.61it/s]\u001b[A\n",
      " 83%|████████▎ | 271/325 [00:10<00:02, 26.64it/s]\u001b[A\n",
      " 84%|████████▍ | 274/325 [00:10<00:01, 26.61it/s]\u001b[A\n",
      " 85%|████████▌ | 277/325 [00:10<00:01, 26.59it/s]\u001b[A\n",
      " 86%|████████▌ | 280/325 [00:10<00:01, 26.61it/s]\u001b[A\n",
      " 87%|████████▋ | 283/325 [00:10<00:01, 26.64it/s]\u001b[A\n",
      " 88%|████████▊ | 286/325 [00:11<00:01, 26.63it/s]\u001b[A\n",
      " 89%|████████▉ | 289/325 [00:11<00:01, 26.66it/s]\u001b[A\n",
      " 90%|████████▉ | 292/325 [00:11<00:01, 26.64it/s]\u001b[A\n",
      " 91%|█████████ | 295/325 [00:11<00:01, 26.62it/s]\u001b[A\n",
      " 92%|█████████▏| 298/325 [00:11<00:01, 26.65it/s]\u001b[A\n",
      " 93%|█████████▎| 301/325 [00:11<00:00, 26.64it/s]\u001b[A\n",
      " 94%|█████████▎| 304/325 [00:11<00:00, 26.66it/s]\u001b[A\n",
      " 94%|█████████▍| 307/325 [00:11<00:00, 26.67it/s]\u001b[A\n",
      " 95%|█████████▌| 310/325 [00:11<00:00, 26.66it/s]\u001b[A\n",
      " 96%|█████████▋| 313/325 [00:12<00:00, 26.69it/s]\u001b[A\n",
      " 97%|█████████▋| 316/325 [00:12<00:00, 26.66it/s]\u001b[A\n",
      " 98%|█████████▊| 319/325 [00:12<00:00, 26.65it/s]\u001b[A\n",
      " 99%|█████████▉| 322/325 [00:12<00:00, 26.44it/s]\u001b[A\n",
      "326it [00:12, 25.50it/s]                         \u001b[A"
     ]
    },
    {
     "name": "stdout",
     "output_type": "stream",
     "text": [
      "Train Loss: 0.1721, Train Acc: 38.52\n",
      "Validating\n"
     ]
    },
    {
     "name": "stderr",
     "output_type": "stream",
     "text": [
      "\n",
      "\n",
      "  0%|          | 0/108 [00:00<?, ?it/s]\u001b[A\n",
      "  1%|          | 1/108 [00:00<00:11,  9.65it/s]\u001b[A\n",
      "  8%|▊         | 9/108 [00:00<00:07, 13.01it/s]\u001b[A\n",
      " 16%|█▌        | 17/108 [00:00<00:05, 17.17it/s]\u001b[A\n",
      " 23%|██▎       | 25/108 [00:00<00:03, 22.26it/s]\u001b[A\n",
      " 31%|███       | 33/108 [00:00<00:02, 28.06it/s]\u001b[A\n",
      " 38%|███▊      | 41/108 [00:00<00:01, 34.22it/s]\u001b[A\n",
      " 44%|████▍     | 48/108 [00:00<00:01, 40.37it/s]\u001b[A\n",
      " 51%|█████     | 55/108 [00:00<00:01, 45.90it/s]\u001b[A\n",
      " 57%|█████▋    | 62/108 [00:00<00:00, 51.12it/s]\u001b[A\n",
      " 64%|██████▍   | 69/108 [00:01<00:00, 55.12it/s]\u001b[A\n",
      " 71%|███████▏  | 77/108 [00:01<00:00, 58.72it/s]\u001b[A\n",
      " 79%|███████▊  | 85/108 [00:01<00:00, 61.94it/s]\u001b[A\n",
      " 86%|████████▌ | 93/108 [00:01<00:00, 64.57it/s]\u001b[A\n",
      " 94%|█████████▎| 101/108 [00:01<00:00, 66.50it/s]\u001b[A\n",
      "109it [00:01, 58.04it/s]                         \u001b[A"
     ]
    },
    {
     "name": "stdout",
     "output_type": "stream",
     "text": [
      "Val Loss: 0.1630, Val Acc: 42.51\n",
      "Epoch 10 of 100\n",
      "Training\n"
     ]
    },
    {
     "name": "stderr",
     "output_type": "stream",
     "text": [
      "\n",
      "\n",
      "  0%|          | 0/325 [00:00<?, ?it/s]\u001b[A\n",
      "  0%|          | 1/325 [00:00<00:38,  8.31it/s]\u001b[A\n",
      "  1%|          | 4/325 [00:00<00:31, 10.21it/s]\u001b[A\n",
      "  2%|▏         | 7/325 [00:00<00:26, 12.23it/s]\u001b[A\n",
      "  3%|▎         | 10/325 [00:00<00:21, 14.39it/s]\u001b[A\n",
      "  4%|▍         | 13/325 [00:00<00:19, 16.33it/s]\u001b[A\n",
      "  5%|▍         | 16/325 [00:00<00:16, 18.29it/s]\u001b[A\n",
      "  6%|▌         | 19/325 [00:00<00:15, 19.44it/s]\u001b[A\n",
      "  7%|▋         | 22/325 [00:01<00:14, 20.58it/s]\u001b[A\n",
      "  8%|▊         | 25/325 [00:01<00:13, 21.59it/s]\u001b[A\n",
      "  9%|▊         | 28/325 [00:01<00:13, 22.40it/s]\u001b[A\n",
      " 10%|▉         | 31/325 [00:01<00:12, 23.03it/s]\u001b[A\n",
      " 10%|█         | 34/325 [00:01<00:12, 23.62it/s]\u001b[A\n",
      " 11%|█▏        | 37/325 [00:01<00:12, 23.57it/s]\u001b[A\n",
      " 12%|█▏        | 40/325 [00:01<00:11, 23.80it/s]\u001b[A\n",
      " 13%|█▎        | 43/325 [00:01<00:12, 23.41it/s]\u001b[A\n",
      " 14%|█▍        | 46/325 [00:02<00:11, 23.77it/s]\u001b[A\n",
      " 15%|█▌        | 49/325 [00:02<00:11, 24.48it/s]\u001b[A\n",
      " 16%|█▌        | 52/325 [00:02<00:10, 25.04it/s]\u001b[A\n",
      " 17%|█▋        | 55/325 [00:02<00:10, 25.40it/s]\u001b[A\n",
      " 18%|█▊        | 58/325 [00:02<00:10, 25.46it/s]\u001b[A\n",
      " 19%|█▉        | 61/325 [00:02<00:10, 25.52it/s]\u001b[A\n",
      " 20%|█▉        | 64/325 [00:02<00:10, 25.74it/s]\u001b[A\n",
      " 21%|██        | 67/325 [00:02<00:09, 25.89it/s]\u001b[A\n",
      " 22%|██▏       | 70/325 [00:02<00:09, 26.04it/s]\u001b[A\n",
      " 22%|██▏       | 73/325 [00:03<00:09, 26.13it/s]\u001b[A\n",
      " 23%|██▎       | 76/325 [00:03<00:09, 26.21it/s]\u001b[A\n",
      " 24%|██▍       | 79/325 [00:03<00:09, 26.25it/s]\u001b[A\n",
      " 25%|██▌       | 82/325 [00:03<00:09, 26.18it/s]\u001b[A\n",
      " 26%|██▌       | 85/325 [00:03<00:09, 26.25it/s]\u001b[A\n",
      " 27%|██▋       | 88/325 [00:03<00:09, 26.28it/s]\u001b[A\n",
      " 28%|██▊       | 91/325 [00:03<00:08, 26.27it/s]\u001b[A\n",
      " 29%|██▉       | 94/325 [00:03<00:08, 26.35it/s]\u001b[A\n",
      " 30%|██▉       | 97/325 [00:03<00:08, 26.29it/s]\u001b[A\n",
      " 31%|███       | 100/325 [00:04<00:08, 26.36it/s]\u001b[A\n",
      " 32%|███▏      | 103/325 [00:04<00:08, 26.18it/s]\u001b[A\n",
      " 33%|███▎      | 106/325 [00:04<00:08, 26.23it/s]\u001b[A\n",
      " 34%|███▎      | 109/325 [00:04<00:08, 26.18it/s]\u001b[A\n",
      " 34%|███▍      | 112/325 [00:04<00:08, 26.24it/s]\u001b[A\n",
      " 35%|███▌      | 115/325 [00:04<00:08, 26.24it/s]\u001b[A\n",
      " 36%|███▋      | 118/325 [00:04<00:07, 26.28it/s]\u001b[A\n",
      " 37%|███▋      | 121/325 [00:04<00:07, 26.25it/s]\u001b[A\n",
      " 38%|███▊      | 124/325 [00:04<00:07, 26.31it/s]\u001b[A\n",
      " 39%|███▉      | 127/325 [00:05<00:07, 26.30it/s]\u001b[A\n",
      " 40%|████      | 130/325 [00:05<00:07, 26.33it/s]\u001b[A\n",
      " 41%|████      | 133/325 [00:05<00:07, 26.24it/s]\u001b[A\n",
      " 42%|████▏     | 136/325 [00:05<00:07, 26.34it/s]\u001b[A\n",
      " 43%|████▎     | 139/325 [00:05<00:07, 26.35it/s]\u001b[A\n",
      " 44%|████▎     | 142/325 [00:05<00:06, 26.39it/s]\u001b[A\n",
      " 45%|████▍     | 145/325 [00:05<00:06, 26.38it/s]\u001b[A\n",
      " 46%|████▌     | 148/325 [00:05<00:06, 26.41it/s]\u001b[A\n",
      " 46%|████▋     | 151/325 [00:06<00:06, 26.37it/s]\u001b[A\n",
      " 47%|████▋     | 154/325 [00:06<00:06, 26.37it/s]\u001b[A\n",
      " 48%|████▊     | 157/325 [00:06<00:06, 26.31it/s]\u001b[A\n",
      " 49%|████▉     | 160/325 [00:06<00:06, 26.34it/s]\u001b[A\n",
      " 50%|█████     | 163/325 [00:06<00:06, 26.28it/s]\u001b[A\n",
      " 51%|█████     | 166/325 [00:06<00:06, 26.27it/s]\u001b[A\n",
      " 52%|█████▏    | 169/325 [00:06<00:05, 26.20it/s]\u001b[A\n",
      " 53%|█████▎    | 172/325 [00:06<00:05, 26.28it/s]\u001b[A\n",
      " 54%|█████▍    | 175/325 [00:06<00:05, 26.27it/s]\u001b[A\n",
      " 55%|█████▍    | 178/325 [00:07<00:05, 26.30it/s]\u001b[A\n",
      " 56%|█████▌    | 181/325 [00:07<00:05, 26.27it/s]\u001b[A\n",
      " 57%|█████▋    | 184/325 [00:07<00:05, 26.30it/s]\u001b[A\n",
      " 58%|█████▊    | 187/325 [00:07<00:05, 26.27it/s]\u001b[A\n",
      " 58%|█████▊    | 190/325 [00:07<00:05, 26.33it/s]\u001b[A\n",
      " 59%|█████▉    | 193/325 [00:07<00:05, 26.29it/s]\u001b[A\n",
      " 60%|██████    | 196/325 [00:07<00:04, 26.27it/s]\u001b[A\n",
      " 61%|██████    | 199/325 [00:07<00:04, 26.26it/s]\u001b[A\n",
      " 62%|██████▏   | 202/325 [00:07<00:04, 26.28it/s]\u001b[A\n",
      " 63%|██████▎   | 205/325 [00:08<00:04, 26.30it/s]\u001b[A\n",
      " 64%|██████▍   | 208/325 [00:08<00:04, 26.33it/s]\u001b[A\n",
      " 65%|██████▍   | 211/325 [00:08<00:04, 26.28it/s]\u001b[A\n",
      " 66%|██████▌   | 214/325 [00:08<00:04, 26.28it/s]\u001b[A\n",
      " 67%|██████▋   | 217/325 [00:08<00:04, 26.21it/s]\u001b[A\n",
      " 68%|██████▊   | 220/325 [00:08<00:03, 26.27it/s]\u001b[A\n",
      " 69%|██████▊   | 223/325 [00:08<00:03, 26.22it/s]\u001b[A\n",
      " 70%|██████▉   | 226/325 [00:08<00:03, 26.27it/s]\u001b[A\n",
      " 70%|███████   | 229/325 [00:08<00:03, 26.24it/s]\u001b[A\n",
      " 71%|███████▏  | 232/325 [00:09<00:03, 26.31it/s]\u001b[A\n",
      " 72%|███████▏  | 235/325 [00:09<00:03, 26.31it/s]\u001b[A\n",
      " 73%|███████▎  | 238/325 [00:09<00:03, 26.37it/s]\u001b[A\n",
      " 74%|███████▍  | 241/325 [00:09<00:03, 26.34it/s]\u001b[A\n",
      " 75%|███████▌  | 244/325 [00:09<00:03, 26.36it/s]\u001b[A\n",
      " 76%|███████▌  | 247/325 [00:09<00:02, 26.30it/s]\u001b[A\n",
      " 77%|███████▋  | 250/325 [00:09<00:02, 26.28it/s]\u001b[A\n",
      " 78%|███████▊  | 253/325 [00:09<00:02, 26.23it/s]\u001b[A\n",
      " 79%|███████▉  | 256/325 [00:09<00:02, 26.27it/s]\u001b[A\n",
      " 80%|███████▉  | 259/325 [00:10<00:02, 26.24it/s]\u001b[A\n",
      " 81%|████████  | 262/325 [00:10<00:02, 26.23it/s]\u001b[A\n",
      " 82%|████████▏ | 265/325 [00:10<00:02, 26.21it/s]\u001b[A\n",
      " 82%|████████▏ | 268/325 [00:10<00:02, 26.25it/s]\u001b[A\n",
      " 83%|████████▎ | 271/325 [00:10<00:02, 26.23it/s]\u001b[A\n",
      " 84%|████████▍ | 274/325 [00:10<00:01, 26.27it/s]\u001b[A\n",
      " 85%|████████▌ | 277/325 [00:10<00:01, 26.22it/s]\u001b[A\n",
      " 86%|████████▌ | 280/325 [00:10<00:01, 26.24it/s]\u001b[A\n",
      " 87%|████████▋ | 283/325 [00:11<00:01, 26.19it/s]\u001b[A\n",
      " 88%|████████▊ | 286/325 [00:11<00:01, 26.22it/s]\u001b[A\n",
      " 89%|████████▉ | 289/325 [00:11<00:01, 26.20it/s]\u001b[A\n",
      " 90%|████████▉ | 292/325 [00:11<00:01, 26.16it/s]\u001b[A\n",
      " 91%|█████████ | 295/325 [00:11<00:01, 26.22it/s]\u001b[A\n",
      " 92%|█████████▏| 298/325 [00:11<00:01, 26.33it/s]\u001b[A\n",
      " 93%|█████████▎| 301/325 [00:11<00:00, 26.46it/s]\u001b[A\n",
      " 94%|█████████▎| 304/325 [00:11<00:00, 26.51it/s]\u001b[A\n",
      " 94%|█████████▍| 307/325 [00:11<00:00, 26.50it/s]\u001b[A\n",
      " 95%|█████████▌| 310/325 [00:12<00:00, 26.53it/s]\u001b[A\n",
      " 96%|█████████▋| 313/325 [00:12<00:00, 26.57it/s]\u001b[A\n",
      " 97%|█████████▋| 316/325 [00:12<00:00, 26.56it/s]\u001b[A\n",
      " 98%|█████████▊| 319/325 [00:12<00:00, 26.58it/s]\u001b[A\n",
      " 99%|█████████▉| 322/325 [00:12<00:00, 26.56it/s]\u001b[A\n",
      "326it [00:12, 25.34it/s]                         \u001b[A"
     ]
    },
    {
     "name": "stdout",
     "output_type": "stream",
     "text": [
      "Train Loss: 0.1597, Train Acc: 42.31\n",
      "Validating\n"
     ]
    },
    {
     "name": "stderr",
     "output_type": "stream",
     "text": [
      "\n",
      "\n",
      "  0%|          | 0/108 [00:00<?, ?it/s]\u001b[A\n",
      "  3%|▎         | 3/108 [00:00<00:04, 26.00it/s]\u001b[A\n",
      "  8%|▊         | 9/108 [00:00<00:03, 31.23it/s]\u001b[A\n",
      " 15%|█▍        | 16/108 [00:00<00:02, 37.39it/s]\u001b[A\n",
      " 20%|██        | 22/108 [00:00<00:02, 41.97it/s]\u001b[A\n",
      " 27%|██▋       | 29/108 [00:00<00:01, 47.19it/s]\u001b[A\n",
      " 34%|███▍      | 37/108 [00:00<00:01, 52.65it/s]\u001b[A\n",
      " 41%|████      | 44/108 [00:00<00:01, 56.82it/s]\u001b[A\n",
      " 47%|████▋     | 51/108 [00:00<00:00, 59.78it/s]\u001b[A\n",
      " 54%|█████▎    | 58/108 [00:00<00:00, 62.08it/s]\u001b[A\n",
      " 60%|██████    | 65/108 [00:01<00:00, 63.58it/s]\u001b[A\n",
      " 68%|██████▊   | 73/108 [00:01<00:00, 65.20it/s]\u001b[A\n",
      " 74%|███████▍  | 80/108 [00:01<00:00, 66.50it/s]\u001b[A\n",
      " 81%|████████  | 87/108 [00:01<00:00, 66.82it/s]\u001b[A\n",
      " 88%|████████▊ | 95/108 [00:01<00:00, 67.68it/s]\u001b[A\n",
      "109it [00:01, 56.98it/s]                         \u001b[A"
     ]
    },
    {
     "name": "stdout",
     "output_type": "stream",
     "text": [
      "Val Loss: 0.1564, Val Acc: 45.28\n",
      "Epoch 11 of 100\n",
      "Training\n"
     ]
    },
    {
     "name": "stderr",
     "output_type": "stream",
     "text": [
      "\n",
      "\n",
      "  0%|          | 0/325 [00:00<?, ?it/s]\u001b[A\n",
      "  0%|          | 1/325 [00:00<00:39,  8.30it/s]\u001b[A\n",
      "  1%|          | 4/325 [00:00<00:30, 10.46it/s]\u001b[A\n",
      "  2%|▏         | 7/325 [00:00<00:25, 12.61it/s]\u001b[A\n",
      "  3%|▎         | 10/325 [00:00<00:21, 14.94it/s]\u001b[A\n",
      "  4%|▍         | 13/325 [00:00<00:18, 17.16it/s]\u001b[A\n",
      "  5%|▍         | 16/325 [00:00<00:16, 19.19it/s]\u001b[A\n",
      "  6%|▌         | 19/325 [00:00<00:14, 20.43it/s]\u001b[A\n",
      "  7%|▋         | 22/325 [00:00<00:13, 21.91it/s]\u001b[A\n",
      "  8%|▊         | 25/325 [00:01<00:13, 23.01it/s]\u001b[A\n",
      "  9%|▊         | 28/325 [00:01<00:12, 23.99it/s]\u001b[A\n",
      " 10%|▉         | 31/325 [00:01<00:11, 24.66it/s]\u001b[A\n",
      " 10%|█         | 34/325 [00:01<00:11, 25.13it/s]\u001b[A\n",
      " 11%|█▏        | 37/325 [00:01<00:11, 25.40it/s]\u001b[A\n",
      " 12%|█▏        | 40/325 [00:01<00:11, 25.72it/s]\u001b[A\n",
      " 13%|█▎        | 43/325 [00:01<00:10, 25.90it/s]\u001b[A\n",
      " 14%|█▍        | 46/325 [00:01<00:10, 26.00it/s]\u001b[A\n",
      " 15%|█▌        | 49/325 [00:01<00:10, 26.05it/s]\u001b[A\n",
      " 16%|█▌        | 52/325 [00:02<00:10, 26.18it/s]\u001b[A\n",
      " 17%|█▋        | 55/325 [00:02<00:10, 26.11it/s]\u001b[A\n",
      " 18%|█▊        | 58/325 [00:02<00:10, 26.26it/s]\u001b[A\n",
      " 19%|█▉        | 61/325 [00:02<00:10, 26.22it/s]\u001b[A\n",
      " 20%|█▉        | 64/325 [00:02<00:09, 26.31it/s]\u001b[A\n",
      " 21%|██        | 67/325 [00:02<00:09, 26.32it/s]\u001b[A\n",
      " 22%|██▏       | 70/325 [00:02<00:09, 26.26it/s]\u001b[A\n",
      " 22%|██▏       | 73/325 [00:02<00:09, 26.06it/s]\u001b[A\n",
      " 23%|██▎       | 76/325 [00:02<00:09, 26.14it/s]\u001b[A\n",
      " 24%|██▍       | 79/325 [00:03<00:09, 26.15it/s]\u001b[A\n",
      " 25%|██▌       | 82/325 [00:03<00:09, 26.20it/s]\u001b[A\n",
      " 26%|██▌       | 85/325 [00:03<00:09, 26.16it/s]\u001b[A\n",
      " 27%|██▋       | 88/325 [00:03<00:09, 26.25it/s]\u001b[A\n",
      " 28%|██▊       | 91/325 [00:03<00:08, 26.21it/s]\u001b[A\n",
      " 29%|██▉       | 94/325 [00:03<00:08, 26.27it/s]\u001b[A\n",
      " 30%|██▉       | 97/325 [00:03<00:08, 26.28it/s]\u001b[A\n",
      " 31%|███       | 100/325 [00:03<00:08, 26.32it/s]\u001b[A\n",
      " 32%|███▏      | 103/325 [00:04<00:08, 26.27it/s]\u001b[A\n",
      " 33%|███▎      | 106/325 [00:04<00:08, 26.26it/s]\u001b[A\n",
      " 34%|███▎      | 109/325 [00:04<00:08, 26.27it/s]\u001b[A\n",
      " 34%|███▍      | 112/325 [00:04<00:08, 26.33it/s]\u001b[A\n",
      " 35%|███▌      | 115/325 [00:04<00:07, 26.42it/s]\u001b[A\n",
      " 36%|███▋      | 118/325 [00:04<00:07, 26.47it/s]\u001b[A\n",
      " 37%|███▋      | 121/325 [00:04<00:07, 26.54it/s]\u001b[A\n",
      " 38%|███▊      | 124/325 [00:04<00:07, 26.53it/s]\u001b[A\n",
      " 39%|███▉      | 127/325 [00:04<00:07, 26.59it/s]\u001b[A\n",
      " 40%|████      | 130/325 [00:05<00:07, 26.61it/s]\u001b[A\n",
      " 41%|████      | 133/325 [00:05<00:07, 26.61it/s]\u001b[A\n",
      " 42%|████▏     | 136/325 [00:05<00:07, 26.62it/s]\u001b[A\n",
      " 43%|████▎     | 139/325 [00:05<00:06, 26.62it/s]\u001b[A\n",
      " 44%|████▎     | 142/325 [00:05<00:06, 26.62it/s]\u001b[A\n",
      " 45%|████▍     | 145/325 [00:05<00:06, 26.65it/s]\u001b[A\n",
      " 46%|████▌     | 148/325 [00:05<00:06, 26.65it/s]\u001b[A\n",
      " 46%|████▋     | 151/325 [00:05<00:06, 26.65it/s]\u001b[A\n",
      " 47%|████▋     | 154/325 [00:05<00:06, 26.65it/s]\u001b[A\n",
      " 48%|████▊     | 157/325 [00:06<00:06, 26.65it/s]\u001b[A\n",
      " 49%|████▉     | 160/325 [00:06<00:06, 26.65it/s]\u001b[A\n",
      " 50%|█████     | 163/325 [00:06<00:06, 26.68it/s]\u001b[A\n",
      " 51%|█████     | 166/325 [00:06<00:05, 26.64it/s]\u001b[A\n",
      " 52%|█████▏    | 169/325 [00:06<00:05, 26.60it/s]\u001b[A\n",
      " 53%|█████▎    | 172/325 [00:06<00:05, 26.62it/s]\u001b[A\n",
      " 54%|█████▍    | 175/325 [00:06<00:05, 26.64it/s]\u001b[A\n",
      " 55%|█████▍    | 178/325 [00:06<00:05, 26.66it/s]\u001b[A\n",
      " 56%|█████▌    | 181/325 [00:06<00:05, 26.67it/s]\u001b[A\n",
      " 57%|█████▋    | 184/325 [00:07<00:05, 26.64it/s]\u001b[A\n",
      " 58%|█████▊    | 187/325 [00:07<00:05, 26.64it/s]\u001b[A\n",
      " 58%|█████▊    | 190/325 [00:07<00:05, 26.67it/s]\u001b[A\n",
      " 59%|█████▉    | 193/325 [00:07<00:04, 26.68it/s]\u001b[A\n",
      " 60%|██████    | 196/325 [00:07<00:04, 26.67it/s]\u001b[A\n",
      " 61%|██████    | 199/325 [00:07<00:04, 26.66it/s]\u001b[A\n",
      " 62%|██████▏   | 202/325 [00:07<00:04, 26.64it/s]\u001b[A\n",
      " 63%|██████▎   | 205/325 [00:07<00:04, 26.62it/s]\u001b[A\n",
      " 64%|██████▍   | 208/325 [00:07<00:04, 26.65it/s]\u001b[A\n",
      " 65%|██████▍   | 211/325 [00:08<00:04, 26.67it/s]\u001b[A\n",
      " 66%|██████▌   | 214/325 [00:08<00:04, 26.65it/s]\u001b[A\n",
      " 67%|██████▋   | 217/325 [00:08<00:04, 26.62it/s]\u001b[A\n",
      " 68%|██████▊   | 220/325 [00:08<00:03, 26.64it/s]\u001b[A\n",
      " 69%|██████▊   | 223/325 [00:08<00:03, 26.66it/s]\u001b[A\n",
      " 70%|██████▉   | 226/325 [00:08<00:03, 26.67it/s]\u001b[A\n",
      " 70%|███████   | 229/325 [00:08<00:03, 26.66it/s]\u001b[A\n",
      " 71%|███████▏  | 232/325 [00:08<00:03, 26.63it/s]\u001b[A\n",
      " 72%|███████▏  | 235/325 [00:08<00:03, 26.63it/s]\u001b[A\n",
      " 73%|███████▎  | 238/325 [00:09<00:03, 26.64it/s]\u001b[A\n",
      " 74%|███████▍  | 241/325 [00:09<00:03, 26.64it/s]\u001b[A\n",
      " 75%|███████▌  | 244/325 [00:09<00:03, 26.62it/s]\u001b[A\n",
      " 76%|███████▌  | 247/325 [00:09<00:02, 26.62it/s]\u001b[A\n",
      " 77%|███████▋  | 250/325 [00:09<00:02, 26.63it/s]\u001b[A\n",
      " 78%|███████▊  | 253/325 [00:09<00:02, 26.66it/s]\u001b[A\n",
      " 79%|███████▉  | 256/325 [00:09<00:02, 26.50it/s]\u001b[A\n",
      " 80%|███████▉  | 259/325 [00:09<00:02, 26.45it/s]\u001b[A\n",
      " 81%|████████  | 262/325 [00:09<00:02, 26.44it/s]\u001b[A\n",
      " 82%|████████▏ | 265/325 [00:10<00:02, 26.39it/s]\u001b[A\n",
      " 82%|████████▏ | 268/325 [00:10<00:02, 26.41it/s]\u001b[A\n",
      " 83%|████████▎ | 271/325 [00:10<00:02, 26.38it/s]\u001b[A\n",
      " 84%|████████▍ | 274/325 [00:10<00:01, 26.39it/s]\u001b[A\n",
      " 85%|████████▌ | 277/325 [00:10<00:01, 26.39it/s]\u001b[A\n",
      " 86%|████████▌ | 280/325 [00:10<00:01, 26.38it/s]\u001b[A\n",
      " 87%|████████▋ | 283/325 [00:10<00:01, 26.35it/s]\u001b[A\n",
      " 88%|████████▊ | 286/325 [00:10<00:01, 26.38it/s]\u001b[A\n",
      " 89%|████████▉ | 289/325 [00:11<00:01, 26.39it/s]\u001b[A\n",
      " 90%|████████▉ | 292/325 [00:11<00:01, 26.39it/s]\u001b[A\n",
      " 91%|█████████ | 295/325 [00:11<00:01, 26.34it/s]\u001b[A\n",
      " 92%|█████████▏| 298/325 [00:11<00:01, 26.43it/s]\u001b[A\n",
      " 93%|█████████▎| 301/325 [00:11<00:00, 26.43it/s]\u001b[A\n",
      " 94%|█████████▎| 304/325 [00:11<00:00, 26.46it/s]\u001b[A\n",
      " 94%|█████████▍| 307/325 [00:11<00:00, 26.46it/s]\u001b[A\n",
      " 95%|█████████▌| 310/325 [00:11<00:00, 26.49it/s]\u001b[A\n",
      " 96%|█████████▋| 313/325 [00:11<00:00, 26.49it/s]\u001b[A\n",
      " 97%|█████████▋| 316/325 [00:12<00:00, 26.49it/s]\u001b[A\n",
      " 98%|█████████▊| 319/325 [00:12<00:00, 26.50it/s]\u001b[A\n",
      " 99%|█████████▉| 322/325 [00:12<00:00, 26.46it/s]\u001b[A\n",
      "326it [00:12, 25.71it/s]                         \u001b[A"
     ]
    },
    {
     "name": "stdout",
     "output_type": "stream",
     "text": [
      "Train Loss: 0.1478, Train Acc: 45.17\n",
      "Validating\n"
     ]
    },
    {
     "name": "stderr",
     "output_type": "stream",
     "text": [
      "\n",
      "\n",
      "  0%|          | 0/108 [00:00<?, ?it/s]\u001b[A\n",
      "  4%|▎         | 4/108 [00:00<00:02, 35.62it/s]\u001b[A\n",
      " 10%|█         | 11/108 [00:00<00:02, 41.69it/s]\u001b[A\n",
      " 17%|█▋        | 18/108 [00:00<00:01, 46.80it/s]\u001b[A\n",
      " 23%|██▎       | 25/108 [00:00<00:01, 51.15it/s]\u001b[A\n",
      " 31%|███       | 33/108 [00:00<00:01, 56.02it/s]\u001b[A\n",
      " 37%|███▋      | 40/108 [00:00<00:01, 58.97it/s]\u001b[A\n",
      " 44%|████▎     | 47/108 [00:00<00:00, 61.20it/s]\u001b[A\n",
      " 50%|█████     | 54/108 [00:00<00:00, 62.29it/s]\u001b[A\n",
      " 56%|█████▋    | 61/108 [00:00<00:00, 63.35it/s]\u001b[A\n",
      " 63%|██████▎   | 68/108 [00:01<00:00, 64.80it/s]\u001b[A\n",
      " 69%|██████▉   | 75/108 [00:01<00:00, 64.70it/s]\u001b[A\n",
      " 77%|███████▋  | 83/108 [00:01<00:00, 66.18it/s]\u001b[A\n",
      " 84%|████████▍ | 91/108 [00:01<00:00, 67.08it/s]\u001b[A\n",
      " 92%|█████████▏| 99/108 [00:01<00:00, 68.27it/s]\u001b[A\n",
      "109it [00:01, 57.12it/s]                         \u001b[A"
     ]
    },
    {
     "name": "stdout",
     "output_type": "stream",
     "text": [
      "Val Loss: 0.1412, Val Acc: 47.70\n",
      "Epoch 12 of 100\n",
      "Training\n"
     ]
    },
    {
     "name": "stderr",
     "output_type": "stream",
     "text": [
      "\n",
      "\n",
      "  0%|          | 0/325 [00:00<?, ?it/s]\u001b[A\n",
      "  0%|          | 1/325 [00:00<00:40,  7.96it/s]\u001b[A\n",
      "  1%|          | 4/325 [00:00<00:32,  9.94it/s]\u001b[A\n",
      "  2%|▏         | 7/325 [00:00<00:26, 12.19it/s]\u001b[A\n",
      "  3%|▎         | 10/325 [00:00<00:21, 14.55it/s]\u001b[A\n",
      "  4%|▍         | 13/325 [00:00<00:18, 16.76it/s]\u001b[A\n",
      "  5%|▍         | 16/325 [00:00<00:16, 18.80it/s]\u001b[A\n",
      "  6%|▌         | 19/325 [00:00<00:15, 20.17it/s]\u001b[A\n",
      "  7%|▋         | 22/325 [00:00<00:14, 21.51it/s]\u001b[A\n",
      "  8%|▊         | 25/325 [00:01<00:13, 22.66it/s]\u001b[A\n",
      "  9%|▊         | 28/325 [00:01<00:12, 23.60it/s]\u001b[A\n",
      " 10%|▉         | 31/325 [00:01<00:12, 24.23it/s]\u001b[A\n",
      " 10%|█         | 34/325 [00:01<00:11, 24.78it/s]\u001b[A\n",
      " 11%|█▏        | 37/325 [00:01<00:11, 24.90it/s]\u001b[A\n",
      " 12%|█▏        | 40/325 [00:01<00:11, 25.16it/s]\u001b[A\n",
      " 13%|█▎        | 43/325 [00:01<00:11, 25.28it/s]\u001b[A\n",
      " 14%|█▍        | 46/325 [00:01<00:10, 25.51it/s]\u001b[A\n",
      " 15%|█▌        | 49/325 [00:01<00:10, 25.53it/s]\u001b[A\n",
      " 16%|█▌        | 52/325 [00:02<00:10, 25.67it/s]\u001b[A\n",
      " 17%|█▋        | 55/325 [00:02<00:10, 25.72it/s]\u001b[A\n",
      " 18%|█▊        | 58/325 [00:02<00:10, 25.87it/s]\u001b[A\n",
      " 19%|█▉        | 61/325 [00:02<00:10, 25.87it/s]\u001b[A\n",
      " 20%|█▉        | 64/325 [00:02<00:10, 25.94it/s]\u001b[A\n",
      " 21%|██        | 67/325 [00:02<00:10, 25.13it/s]\u001b[A\n",
      " 22%|██▏       | 70/325 [00:02<00:10, 25.50it/s]\u001b[A\n",
      " 22%|██▏       | 73/325 [00:02<00:09, 25.70it/s]\u001b[A\n",
      " 23%|██▎       | 76/325 [00:03<00:09, 25.94it/s]\u001b[A\n",
      " 24%|██▍       | 79/325 [00:03<00:09, 26.12it/s]\u001b[A\n",
      " 25%|██▌       | 82/325 [00:03<00:09, 26.28it/s]\u001b[A\n",
      " 26%|██▌       | 85/325 [00:03<00:09, 26.35it/s]\u001b[A\n",
      " 27%|██▋       | 88/325 [00:03<00:08, 26.44it/s]\u001b[A\n",
      " 28%|██▊       | 91/325 [00:03<00:08, 26.50it/s]\u001b[A\n",
      " 29%|██▉       | 94/325 [00:03<00:08, 26.58it/s]\u001b[A\n",
      " 30%|██▉       | 97/325 [00:03<00:08, 26.58it/s]\u001b[A\n",
      " 31%|███       | 100/325 [00:03<00:08, 26.64it/s]\u001b[A\n",
      " 32%|███▏      | 103/325 [00:04<00:08, 26.67it/s]\u001b[A\n",
      " 33%|███▎      | 106/325 [00:04<00:08, 26.66it/s]\u001b[A\n",
      " 34%|███▎      | 109/325 [00:04<00:08, 26.64it/s]\u001b[A\n",
      " 34%|███▍      | 112/325 [00:04<00:07, 26.65it/s]\u001b[A\n",
      " 35%|███▌      | 115/325 [00:04<00:07, 26.63it/s]\u001b[A\n",
      " 36%|███▋      | 118/325 [00:04<00:07, 26.63it/s]\u001b[A\n",
      " 37%|███▋      | 121/325 [00:04<00:07, 26.63it/s]\u001b[A\n",
      " 38%|███▊      | 124/325 [00:04<00:07, 26.64it/s]\u001b[A\n",
      " 39%|███▉      | 127/325 [00:04<00:07, 26.62it/s]\u001b[A\n",
      " 40%|████      | 130/325 [00:05<00:07, 26.68it/s]\u001b[A\n",
      " 41%|████      | 133/325 [00:05<00:07, 26.67it/s]\u001b[A\n",
      " 42%|████▏     | 136/325 [00:05<00:07, 26.71it/s]\u001b[A\n",
      " 43%|████▎     | 139/325 [00:05<00:06, 26.59it/s]\u001b[A\n",
      " 44%|████▎     | 142/325 [00:05<00:06, 26.68it/s]\u001b[A\n",
      " 45%|████▍     | 145/325 [00:05<00:06, 26.64it/s]\u001b[A\n",
      " 46%|████▌     | 148/325 [00:05<00:06, 26.51it/s]\u001b[A\n",
      " 46%|████▋     | 151/325 [00:05<00:06, 26.47it/s]\u001b[A\n",
      " 47%|████▋     | 154/325 [00:05<00:06, 26.38it/s]\u001b[A\n",
      " 48%|████▊     | 157/325 [00:06<00:06, 26.39it/s]\u001b[A\n",
      " 49%|████▉     | 160/325 [00:06<00:06, 26.43it/s]\u001b[A\n",
      " 50%|█████     | 163/325 [00:06<00:06, 26.40it/s]\u001b[A\n",
      " 51%|█████     | 166/325 [00:06<00:06, 26.04it/s]\u001b[A\n",
      " 52%|█████▏    | 169/325 [00:06<00:06, 25.89it/s]\u001b[A\n",
      " 53%|█████▎    | 172/325 [00:06<00:05, 25.83it/s]\u001b[A\n",
      " 54%|█████▍    | 175/325 [00:06<00:05, 25.58it/s]\u001b[A\n",
      " 55%|█████▍    | 178/325 [00:06<00:05, 25.61it/s]\u001b[A\n",
      " 56%|█████▌    | 181/325 [00:07<00:05, 25.82it/s]\u001b[A\n",
      " 57%|█████▋    | 184/325 [00:07<00:05, 26.02it/s]\u001b[A\n",
      " 58%|█████▊    | 187/325 [00:07<00:05, 26.10it/s]\u001b[A\n",
      " 58%|█████▊    | 190/325 [00:07<00:05, 26.22it/s]\u001b[A\n",
      " 59%|█████▉    | 193/325 [00:07<00:05, 26.27it/s]\u001b[A\n",
      " 60%|██████    | 196/325 [00:07<00:04, 26.31it/s]\u001b[A\n",
      " 61%|██████    | 199/325 [00:07<00:04, 26.35it/s]\u001b[A\n",
      " 62%|██████▏   | 202/325 [00:07<00:04, 26.42it/s]\u001b[A\n",
      " 63%|██████▎   | 205/325 [00:07<00:04, 26.39it/s]\u001b[A\n",
      " 64%|██████▍   | 208/325 [00:08<00:04, 26.34it/s]\u001b[A\n",
      " 65%|██████▍   | 211/325 [00:08<00:04, 26.38it/s]\u001b[A\n",
      " 66%|██████▌   | 214/325 [00:08<00:04, 26.42it/s]\u001b[A\n",
      " 67%|██████▋   | 217/325 [00:08<00:04, 26.39it/s]\u001b[A\n",
      " 68%|██████▊   | 220/325 [00:08<00:03, 26.42it/s]\u001b[A\n",
      " 69%|██████▊   | 223/325 [00:08<00:03, 26.45it/s]\u001b[A\n",
      " 70%|██████▉   | 226/325 [00:08<00:03, 26.49it/s]\u001b[A\n",
      " 70%|███████   | 229/325 [00:08<00:03, 26.51it/s]\u001b[A\n",
      " 71%|███████▏  | 232/325 [00:08<00:03, 26.50it/s]\u001b[A\n",
      " 72%|███████▏  | 235/325 [00:09<00:03, 26.47it/s]\u001b[A\n",
      " 73%|███████▎  | 238/325 [00:09<00:03, 26.52it/s]\u001b[A\n",
      " 74%|███████▍  | 241/325 [00:09<00:03, 26.49it/s]\u001b[A\n",
      " 75%|███████▌  | 244/325 [00:09<00:03, 26.55it/s]\u001b[A\n",
      " 76%|███████▌  | 247/325 [00:09<00:02, 26.50it/s]\u001b[A\n",
      " 77%|███████▋  | 250/325 [00:09<00:02, 26.53it/s]\u001b[A\n",
      " 78%|███████▊  | 253/325 [00:09<00:02, 26.48it/s]\u001b[A\n",
      " 79%|███████▉  | 256/325 [00:09<00:02, 26.51it/s]\u001b[A\n",
      " 80%|███████▉  | 259/325 [00:09<00:02, 26.55it/s]\u001b[A\n",
      " 81%|████████  | 262/325 [00:10<00:02, 26.53it/s]\u001b[A\n",
      " 82%|████████▏ | 265/325 [00:10<00:02, 26.52it/s]\u001b[A\n",
      " 82%|████████▏ | 268/325 [00:10<00:02, 26.47it/s]\u001b[A\n",
      " 83%|████████▎ | 271/325 [00:10<00:02, 26.47it/s]\u001b[A\n",
      " 84%|████████▍ | 274/325 [00:10<00:01, 26.46it/s]\u001b[A\n",
      " 85%|████████▌ | 277/325 [00:10<00:01, 26.46it/s]\u001b[A\n",
      " 86%|████████▌ | 280/325 [00:10<00:01, 26.50it/s]\u001b[A\n",
      " 87%|████████▋ | 283/325 [00:10<00:01, 26.46it/s]\u001b[A\n",
      " 88%|████████▊ | 286/325 [00:10<00:01, 26.47it/s]\u001b[A\n",
      " 89%|████████▉ | 289/325 [00:11<00:01, 26.46it/s]\u001b[A\n",
      " 90%|████████▉ | 292/325 [00:11<00:01, 26.50it/s]\u001b[A\n",
      " 91%|█████████ | 295/325 [00:11<00:01, 26.51it/s]\u001b[A\n",
      " 92%|█████████▏| 298/325 [00:11<00:01, 26.54it/s]\u001b[A\n",
      " 93%|█████████▎| 301/325 [00:11<00:00, 26.61it/s]\u001b[A\n",
      " 94%|█████████▎| 304/325 [00:11<00:00, 26.58it/s]\u001b[A\n",
      " 94%|█████████▍| 307/325 [00:11<00:00, 26.61it/s]\u001b[A\n",
      " 95%|█████████▌| 310/325 [00:11<00:00, 26.63it/s]\u001b[A\n",
      " 96%|█████████▋| 313/325 [00:12<00:00, 26.65it/s]\u001b[A\n",
      " 97%|█████████▋| 316/325 [00:12<00:00, 26.62it/s]\u001b[A\n",
      " 98%|█████████▊| 319/325 [00:12<00:00, 26.56it/s]\u001b[A\n",
      " 99%|█████████▉| 322/325 [00:12<00:00, 26.57it/s]\u001b[A\n",
      "326it [00:12, 25.58it/s]                         \u001b[A"
     ]
    },
    {
     "name": "stdout",
     "output_type": "stream",
     "text": [
      "Train Loss: 0.1360, Train Acc: 48.41\n",
      "Validating\n"
     ]
    },
    {
     "name": "stderr",
     "output_type": "stream",
     "text": [
      "\n",
      "\n",
      "  0%|          | 0/108 [00:00<?, ?it/s]\u001b[A\n",
      "  3%|▎         | 3/108 [00:00<00:04, 23.85it/s]\u001b[A\n",
      " 10%|█         | 11/108 [00:00<00:03, 29.81it/s]\u001b[A\n",
      " 18%|█▊        | 19/108 [00:00<00:02, 35.65it/s]\u001b[A\n",
      " 25%|██▌       | 27/108 [00:00<00:01, 42.17it/s]\u001b[A\n",
      " 32%|███▏      | 35/108 [00:00<00:01, 47.96it/s]\u001b[A\n",
      " 40%|███▉      | 43/108 [00:00<00:01, 52.92it/s]\u001b[A\n",
      " 47%|████▋     | 51/108 [00:00<00:00, 57.07it/s]\u001b[A\n",
      " 55%|█████▍    | 59/108 [00:00<00:00, 60.29it/s]\u001b[A\n",
      " 62%|██████▏   | 67/108 [00:01<00:00, 62.90it/s]\u001b[A\n",
      " 69%|██████▉   | 75/108 [00:01<00:00, 64.70it/s]\u001b[A\n",
      " 77%|███████▋  | 83/108 [00:01<00:00, 66.37it/s]\u001b[A\n",
      " 84%|████████▍ | 91/108 [00:01<00:00, 67.95it/s]\u001b[A\n",
      " 92%|█████████▏| 99/108 [00:01<00:00, 68.90it/s]\u001b[A\n",
      "109it [00:01, 57.90it/s]                         \u001b[A"
     ]
    },
    {
     "name": "stdout",
     "output_type": "stream",
     "text": [
      "Val Loss: 0.1394, Val Acc: 48.44\n",
      "Epoch 13 of 100\n",
      "Training\n"
     ]
    },
    {
     "name": "stderr",
     "output_type": "stream",
     "text": [
      "\n",
      "\n",
      "  0%|          | 0/325 [00:00<?, ?it/s]\u001b[A\n",
      "  0%|          | 1/325 [00:00<00:35,  9.16it/s]\u001b[A\n",
      "  1%|          | 4/325 [00:00<00:28, 11.18it/s]\u001b[A\n",
      "  2%|▏         | 7/325 [00:00<00:23, 13.53it/s]\u001b[A\n",
      "  3%|▎         | 10/325 [00:00<00:19, 15.85it/s]\u001b[A\n",
      "  4%|▍         | 13/325 [00:00<00:17, 18.01it/s]\u001b[A\n",
      "  5%|▍         | 16/325 [00:00<00:15, 19.83it/s]\u001b[A\n",
      "  6%|▌         | 19/325 [00:00<00:14, 20.98it/s]\u001b[A\n",
      "  7%|▋         | 22/325 [00:00<00:13, 22.28it/s]\u001b[A\n",
      "  8%|▊         | 25/325 [00:01<00:12, 23.27it/s]\u001b[A\n",
      "  9%|▊         | 28/325 [00:01<00:12, 24.05it/s]\u001b[A\n",
      " 10%|▉         | 31/325 [00:01<00:11, 24.69it/s]\u001b[A\n",
      " 10%|█         | 34/325 [00:01<00:11, 25.31it/s]\u001b[A\n",
      " 11%|█▏        | 37/325 [00:01<00:11, 25.51it/s]\u001b[A\n",
      " 12%|█▏        | 40/325 [00:01<00:11, 25.84it/s]\u001b[A\n",
      " 13%|█▎        | 43/325 [00:01<00:10, 25.99it/s]\u001b[A\n",
      " 14%|█▍        | 46/325 [00:01<00:10, 26.16it/s]\u001b[A\n",
      " 15%|█▌        | 49/325 [00:01<00:10, 26.16it/s]\u001b[A\n",
      " 16%|█▌        | 52/325 [00:02<00:10, 26.17it/s]\u001b[A\n",
      " 17%|█▋        | 55/325 [00:02<00:10, 26.18it/s]\u001b[A\n",
      " 18%|█▊        | 58/325 [00:02<00:10, 26.32it/s]\u001b[A\n",
      " 19%|█▉        | 61/325 [00:02<00:09, 26.46it/s]\u001b[A\n",
      " 20%|█▉        | 64/325 [00:02<00:09, 26.47it/s]\u001b[A\n",
      " 21%|██        | 67/325 [00:02<00:09, 26.48it/s]\u001b[A\n",
      " 22%|██▏       | 70/325 [00:02<00:09, 26.49it/s]\u001b[A\n",
      " 22%|██▏       | 73/325 [00:02<00:09, 26.56it/s]\u001b[A\n",
      " 23%|██▎       | 76/325 [00:02<00:09, 26.59it/s]\u001b[A\n",
      " 24%|██▍       | 79/325 [00:03<00:09, 26.61it/s]\u001b[A\n",
      " 25%|██▌       | 82/325 [00:03<00:09, 26.36it/s]\u001b[A\n",
      " 26%|██▌       | 85/325 [00:03<00:09, 26.11it/s]\u001b[A\n",
      " 27%|██▋       | 88/325 [00:03<00:09, 26.17it/s]\u001b[A\n",
      " 28%|██▊       | 91/325 [00:03<00:08, 26.17it/s]\u001b[A\n",
      " 29%|██▉       | 94/325 [00:03<00:08, 26.30it/s]\u001b[A\n",
      " 30%|██▉       | 97/325 [00:03<00:08, 25.58it/s]\u001b[A\n",
      " 31%|███       | 100/325 [00:03<00:08, 26.00it/s]\u001b[A\n",
      " 32%|███▏      | 103/325 [00:04<00:08, 26.20it/s]\u001b[A\n",
      " 33%|███▎      | 106/325 [00:04<00:08, 26.34it/s]\u001b[A\n",
      " 34%|███▎      | 109/325 [00:04<00:08, 26.45it/s]\u001b[A\n",
      " 34%|███▍      | 112/325 [00:04<00:08, 26.45it/s]\u001b[A\n",
      " 35%|███▌      | 115/325 [00:04<00:08, 26.00it/s]\u001b[A\n",
      " 36%|███▋      | 118/325 [00:04<00:07, 26.15it/s]\u001b[A\n",
      " 37%|███▋      | 121/325 [00:04<00:07, 26.27it/s]\u001b[A\n",
      " 38%|███▊      | 124/325 [00:04<00:07, 26.38it/s]\u001b[A\n",
      " 39%|███▉      | 127/325 [00:04<00:07, 26.41it/s]\u001b[A\n",
      " 40%|████      | 130/325 [00:05<00:07, 25.71it/s]\u001b[A\n",
      " 41%|████      | 133/325 [00:05<00:07, 25.91it/s]\u001b[A\n",
      " 42%|████▏     | 136/325 [00:05<00:07, 26.07it/s]\u001b[A\n",
      " 43%|████▎     | 139/325 [00:05<00:07, 26.14it/s]\u001b[A\n",
      " 44%|████▎     | 142/325 [00:05<00:06, 26.28it/s]\u001b[A\n",
      " 45%|████▍     | 145/325 [00:05<00:07, 25.50it/s]\u001b[A\n",
      " 46%|████▌     | 148/325 [00:05<00:06, 25.80it/s]\u001b[A\n",
      " 46%|████▋     | 151/325 [00:05<00:06, 25.94it/s]\u001b[A\n",
      " 47%|████▋     | 154/325 [00:05<00:06, 26.08it/s]\u001b[A\n",
      " 48%|████▊     | 157/325 [00:06<00:06, 26.08it/s]\u001b[A\n",
      " 49%|████▉     | 160/325 [00:06<00:06, 26.18it/s]\u001b[A\n",
      " 50%|█████     | 163/325 [00:06<00:06, 25.56it/s]\u001b[A\n",
      " 51%|█████     | 166/325 [00:06<00:06, 25.88it/s]\u001b[A\n",
      " 52%|█████▏    | 169/325 [00:06<00:05, 26.05it/s]\u001b[A\n",
      " 53%|█████▎    | 172/325 [00:06<00:05, 26.13it/s]\u001b[A\n",
      " 54%|█████▍    | 175/325 [00:06<00:05, 26.15it/s]\u001b[A\n",
      " 55%|█████▍    | 178/325 [00:06<00:05, 25.55it/s]\u001b[A\n",
      " 56%|█████▌    | 181/325 [00:07<00:05, 25.74it/s]\u001b[A\n",
      " 57%|█████▋    | 184/325 [00:07<00:05, 25.97it/s]\u001b[A\n",
      " 58%|█████▊    | 187/325 [00:07<00:05, 26.09it/s]\u001b[A\n",
      " 58%|█████▊    | 190/325 [00:07<00:05, 26.22it/s]\u001b[A\n",
      " 59%|█████▉    | 193/325 [00:07<00:05, 25.60it/s]\u001b[A\n",
      " 60%|██████    | 196/325 [00:07<00:04, 25.84it/s]\u001b[A\n",
      " 61%|██████    | 199/325 [00:07<00:04, 25.93it/s]\u001b[A\n",
      " 62%|██████▏   | 202/325 [00:07<00:04, 26.14it/s]\u001b[A\n",
      " 63%|██████▎   | 205/325 [00:07<00:04, 26.21it/s]\u001b[A\n",
      " 64%|██████▍   | 208/325 [00:08<00:04, 26.29it/s]\u001b[A\n",
      " 65%|██████▍   | 211/325 [00:08<00:04, 25.74it/s]\u001b[A\n",
      " 66%|██████▌   | 214/325 [00:08<00:04, 25.98it/s]\u001b[A\n",
      " 67%|██████▋   | 217/325 [00:08<00:04, 26.11it/s]\u001b[A\n",
      " 68%|██████▊   | 220/325 [00:08<00:03, 26.25it/s]\u001b[A\n",
      " 69%|██████▊   | 223/325 [00:08<00:03, 26.25it/s]\u001b[A\n",
      " 70%|██████▉   | 226/325 [00:08<00:03, 25.75it/s]\u001b[A\n",
      " 70%|███████   | 229/325 [00:08<00:03, 25.90it/s]\u001b[A\n",
      " 71%|███████▏  | 232/325 [00:08<00:03, 26.09it/s]\u001b[A\n",
      " 72%|███████▏  | 235/325 [00:09<00:03, 26.21it/s]\u001b[A\n",
      " 73%|███████▎  | 238/325 [00:09<00:03, 26.30it/s]\u001b[A\n",
      " 74%|███████▍  | 241/325 [00:09<00:03, 25.46it/s]\u001b[A\n",
      " 75%|███████▌  | 244/325 [00:09<00:03, 25.80it/s]\u001b[A\n",
      " 76%|███████▌  | 247/325 [00:09<00:02, 26.01it/s]\u001b[A\n",
      " 77%|███████▋  | 250/325 [00:09<00:02, 26.14it/s]\u001b[A\n",
      " 78%|███████▊  | 253/325 [00:09<00:02, 26.22it/s]\u001b[A\n",
      " 79%|███████▉  | 256/325 [00:09<00:02, 26.29it/s]\u001b[A\n",
      " 80%|███████▉  | 259/325 [00:10<00:02, 25.77it/s]\u001b[A\n",
      " 81%|████████  | 262/325 [00:10<00:02, 25.97it/s]\u001b[A\n",
      " 82%|████████▏ | 265/325 [00:10<00:02, 26.12it/s]\u001b[A\n",
      " 82%|████████▏ | 268/325 [00:10<00:02, 25.25it/s]\u001b[A\n",
      " 83%|████████▎ | 271/325 [00:10<00:02, 25.20it/s]\u001b[A\n",
      " 84%|████████▍ | 274/325 [00:10<00:02, 25.06it/s]\u001b[A\n",
      " 85%|████████▌ | 277/325 [00:10<00:01, 25.41it/s]\u001b[A\n",
      " 86%|████████▌ | 280/325 [00:10<00:01, 25.75it/s]\u001b[A\n",
      " 87%|████████▋ | 283/325 [00:10<00:01, 25.97it/s]\u001b[A\n",
      " 88%|████████▊ | 286/325 [00:11<00:01, 26.13it/s]\u001b[A\n",
      " 89%|████████▉ | 289/325 [00:11<00:01, 25.46it/s]\u001b[A\n",
      " 90%|████████▉ | 292/325 [00:11<00:01, 25.85it/s]\u001b[A\n",
      " 91%|█████████ | 295/325 [00:11<00:01, 26.04it/s]\u001b[A\n",
      " 92%|█████████▏| 298/325 [00:11<00:01, 26.19it/s]\u001b[A\n",
      " 93%|█████████▎| 301/325 [00:11<00:00, 26.29it/s]\u001b[A\n",
      " 94%|█████████▎| 304/325 [00:11<00:00, 26.37it/s]\u001b[A\n",
      " 94%|█████████▍| 307/325 [00:11<00:00, 26.48it/s]\u001b[A\n",
      " 95%|█████████▌| 310/325 [00:11<00:00, 26.52it/s]\u001b[A\n",
      " 96%|█████████▋| 313/325 [00:12<00:00, 26.57it/s]\u001b[A\n",
      " 97%|█████████▋| 316/325 [00:12<00:00, 26.56it/s]\u001b[A\n",
      " 98%|█████████▊| 319/325 [00:12<00:00, 26.60it/s]\u001b[A\n",
      " 99%|█████████▉| 322/325 [00:12<00:00, 26.60it/s]\u001b[A\n",
      "326it [00:12, 25.44it/s]                         \u001b[A"
     ]
    },
    {
     "name": "stdout",
     "output_type": "stream",
     "text": [
      "Train Loss: 0.1264, Train Acc: 50.97\n",
      "Validating\n"
     ]
    },
    {
     "name": "stderr",
     "output_type": "stream",
     "text": [
      "\n",
      "\n",
      "  0%|          | 0/108 [00:00<?, ?it/s]\u001b[A\n",
      "  3%|▎         | 3/108 [00:00<00:03, 28.41it/s]\u001b[A\n",
      "  9%|▉         | 10/108 [00:00<00:02, 34.32it/s]\u001b[A\n",
      " 16%|█▌        | 17/108 [00:00<00:02, 39.31it/s]\u001b[A\n",
      " 23%|██▎       | 25/108 [00:00<00:01, 45.35it/s]\u001b[A\n",
      " 31%|███       | 33/108 [00:00<00:01, 50.88it/s]\u001b[A\n",
      " 37%|███▋      | 40/108 [00:00<00:01, 55.42it/s]\u001b[A\n",
      " 44%|████▎     | 47/108 [00:00<00:01, 58.54it/s]\u001b[A\n",
      " 50%|█████     | 54/108 [00:00<00:00, 61.38it/s]\u001b[A\n",
      " 56%|█████▋    | 61/108 [00:00<00:00, 63.28it/s]\u001b[A\n",
      " 63%|██████▎   | 68/108 [00:01<00:00, 65.08it/s]\u001b[A\n",
      " 69%|██████▉   | 75/108 [00:01<00:00, 65.79it/s]\u001b[A\n",
      " 77%|███████▋  | 83/108 [00:01<00:00, 66.68it/s]\u001b[A\n",
      " 83%|████████▎ | 90/108 [00:01<00:00, 67.28it/s]\u001b[A\n",
      " 90%|████████▉ | 97/108 [00:01<00:00, 67.73it/s]\u001b[A\n",
      "109it [00:01, 57.18it/s]                         \u001b[A"
     ]
    },
    {
     "name": "stdout",
     "output_type": "stream",
     "text": [
      "Val Loss: 0.1259, Val Acc: 53.28\n",
      "Epoch 14 of 100\n",
      "Training\n"
     ]
    },
    {
     "name": "stderr",
     "output_type": "stream",
     "text": [
      "\n",
      "\n",
      "  0%|          | 0/325 [00:00<?, ?it/s]\u001b[A\n",
      "  0%|          | 1/325 [00:00<00:42,  7.71it/s]\u001b[A\n",
      "  1%|          | 4/325 [00:00<00:32,  9.76it/s]\u001b[A\n",
      "  2%|▏         | 7/325 [00:00<00:26, 12.03it/s]\u001b[A\n",
      "  3%|▎         | 10/325 [00:00<00:21, 14.38it/s]\u001b[A\n",
      "  4%|▍         | 13/325 [00:00<00:18, 16.62it/s]\u001b[A\n",
      "  5%|▍         | 16/325 [00:00<00:16, 18.74it/s]\u001b[A\n",
      "  6%|▌         | 19/325 [00:00<00:15, 20.27it/s]\u001b[A\n",
      "  7%|▋         | 22/325 [00:00<00:13, 21.78it/s]\u001b[A\n",
      "  8%|▊         | 25/325 [00:01<00:13, 23.03it/s]\u001b[A\n",
      "  9%|▊         | 28/325 [00:01<00:12, 24.03it/s]\u001b[A\n",
      " 10%|▉         | 31/325 [00:01<00:11, 24.67it/s]\u001b[A\n",
      " 10%|█         | 34/325 [00:01<00:11, 25.21it/s]\u001b[A\n",
      " 11%|█▏        | 37/325 [00:01<00:11, 25.41it/s]\u001b[A\n",
      " 12%|█▏        | 40/325 [00:01<00:11, 25.54it/s]\u001b[A\n",
      " 13%|█▎        | 43/325 [00:01<00:10, 25.64it/s]\u001b[A\n",
      " 14%|█▍        | 46/325 [00:01<00:10, 25.82it/s]\u001b[A\n",
      " 15%|█▌        | 49/325 [00:01<00:10, 25.85it/s]\u001b[A\n",
      " 16%|█▌        | 52/325 [00:02<00:10, 26.09it/s]\u001b[A\n",
      " 17%|█▋        | 55/325 [00:02<00:10, 26.09it/s]\u001b[A\n",
      " 18%|█▊        | 58/325 [00:02<00:10, 26.18it/s]\u001b[A\n",
      " 19%|█▉        | 61/325 [00:02<00:10, 26.20it/s]\u001b[A\n",
      " 20%|█▉        | 64/325 [00:02<00:09, 26.27it/s]\u001b[A\n",
      " 21%|██        | 67/325 [00:02<00:09, 26.12it/s]\u001b[A\n",
      " 22%|██▏       | 70/325 [00:02<00:09, 26.36it/s]\u001b[A\n",
      " 22%|██▏       | 73/325 [00:02<00:09, 26.22it/s]\u001b[A\n",
      " 23%|██▎       | 76/325 [00:02<00:09, 26.25it/s]\u001b[A\n",
      " 24%|██▍       | 79/325 [00:03<00:09, 26.20it/s]\u001b[A\n",
      " 25%|██▌       | 82/325 [00:03<00:09, 26.18it/s]\u001b[A\n",
      " 26%|██▌       | 85/325 [00:03<00:09, 26.17it/s]\u001b[A\n",
      " 27%|██▋       | 88/325 [00:03<00:09, 26.21it/s]\u001b[A\n",
      " 28%|██▊       | 91/325 [00:03<00:08, 26.13it/s]\u001b[A\n",
      " 29%|██▉       | 94/325 [00:03<00:08, 26.01it/s]\u001b[A\n",
      " 30%|██▉       | 97/325 [00:03<00:08, 25.97it/s]\u001b[A\n",
      " 31%|███       | 100/325 [00:03<00:08, 26.15it/s]\u001b[A\n",
      " 32%|███▏      | 103/325 [00:04<00:08, 26.14it/s]\u001b[A\n",
      " 33%|███▎      | 106/325 [00:04<00:08, 26.18it/s]\u001b[A\n",
      " 34%|███▎      | 109/325 [00:04<00:08, 26.08it/s]\u001b[A\n",
      " 34%|███▍      | 112/325 [00:04<00:08, 26.20it/s]\u001b[A\n",
      " 35%|███▌      | 115/325 [00:04<00:08, 26.09it/s]\u001b[A\n",
      " 36%|███▋      | 118/325 [00:04<00:07, 26.17it/s]\u001b[A\n",
      " 37%|███▋      | 121/325 [00:04<00:07, 26.18it/s]\u001b[A\n",
      " 38%|███▊      | 124/325 [00:04<00:07, 26.25it/s]\u001b[A\n",
      " 39%|███▉      | 127/325 [00:04<00:07, 26.19it/s]\u001b[A\n",
      " 40%|████      | 130/325 [00:05<00:07, 26.25it/s]\u001b[A\n",
      " 41%|████      | 133/325 [00:05<00:07, 26.32it/s]\u001b[A\n",
      " 42%|████▏     | 136/325 [00:05<00:07, 26.37it/s]\u001b[A\n",
      " 43%|████▎     | 139/325 [00:05<00:07, 26.36it/s]\u001b[A\n",
      " 44%|████▎     | 142/325 [00:05<00:06, 26.38it/s]\u001b[A\n",
      " 45%|████▍     | 145/325 [00:05<00:06, 26.37it/s]\u001b[A\n",
      " 46%|████▌     | 148/325 [00:05<00:06, 26.44it/s]\u001b[A\n",
      " 46%|████▋     | 151/325 [00:05<00:06, 26.43it/s]\u001b[A\n",
      " 47%|████▋     | 154/325 [00:05<00:06, 26.39it/s]\u001b[A\n",
      " 48%|████▊     | 157/325 [00:06<00:06, 26.31it/s]\u001b[A\n",
      " 49%|████▉     | 160/325 [00:06<00:06, 26.31it/s]\u001b[A\n",
      " 50%|█████     | 163/325 [00:06<00:06, 26.26it/s]\u001b[A\n",
      " 51%|█████     | 166/325 [00:06<00:06, 26.36it/s]\u001b[A\n",
      " 52%|█████▏    | 169/325 [00:06<00:05, 26.31it/s]\u001b[A\n",
      " 53%|█████▎    | 172/325 [00:06<00:05, 26.36it/s]\u001b[A\n",
      " 54%|█████▍    | 175/325 [00:06<00:05, 26.34it/s]\u001b[A\n",
      " 55%|█████▍    | 178/325 [00:06<00:05, 26.40it/s]\u001b[A\n",
      " 56%|█████▌    | 181/325 [00:06<00:05, 26.43it/s]\u001b[A\n",
      " 57%|█████▋    | 184/325 [00:07<00:05, 26.42it/s]\u001b[A\n",
      " 58%|█████▊    | 187/325 [00:07<00:05, 26.31it/s]\u001b[A\n",
      " 58%|█████▊    | 190/325 [00:07<00:05, 26.37it/s]\u001b[A\n",
      " 59%|█████▉    | 193/325 [00:07<00:05, 26.23it/s]\u001b[A\n",
      " 60%|██████    | 196/325 [00:07<00:04, 26.29it/s]\u001b[A\n",
      " 61%|██████    | 199/325 [00:07<00:04, 26.28it/s]\u001b[A\n",
      " 62%|██████▏   | 202/325 [00:07<00:04, 26.32it/s]\u001b[A\n",
      " 63%|██████▎   | 205/325 [00:07<00:04, 26.29it/s]\u001b[A\n",
      " 64%|██████▍   | 208/325 [00:08<00:04, 26.37it/s]\u001b[A\n",
      " 65%|██████▍   | 211/325 [00:08<00:04, 26.42it/s]\u001b[A\n",
      " 66%|██████▌   | 214/325 [00:08<00:04, 26.35it/s]\u001b[A\n",
      " 67%|██████▋   | 217/325 [00:08<00:04, 26.31it/s]\u001b[A\n",
      " 68%|██████▊   | 220/325 [00:08<00:03, 26.31it/s]\u001b[A\n",
      " 69%|██████▊   | 223/325 [00:08<00:03, 26.24it/s]\u001b[A\n",
      " 70%|██████▉   | 226/325 [00:08<00:03, 26.29it/s]\u001b[A\n",
      " 70%|███████   | 229/325 [00:08<00:03, 26.29it/s]\u001b[A\n",
      " 71%|███████▏  | 232/325 [00:08<00:03, 26.27it/s]\u001b[A\n",
      " 72%|███████▏  | 235/325 [00:09<00:03, 26.22it/s]\u001b[A\n",
      " 73%|███████▎  | 238/325 [00:09<00:03, 26.31it/s]\u001b[A\n",
      " 74%|███████▍  | 241/325 [00:09<00:03, 26.33it/s]\u001b[A\n",
      " 75%|███████▌  | 244/325 [00:09<00:03, 25.99it/s]\u001b[A\n",
      " 76%|███████▌  | 247/325 [00:09<00:02, 26.05it/s]\u001b[A\n",
      " 77%|███████▋  | 250/325 [00:09<00:02, 26.18it/s]\u001b[A\n",
      " 78%|███████▊  | 253/325 [00:09<00:02, 26.18it/s]\u001b[A\n",
      " 79%|███████▉  | 256/325 [00:09<00:02, 26.22it/s]\u001b[A\n",
      " 80%|███████▉  | 259/325 [00:09<00:02, 26.20it/s]\u001b[A\n",
      " 81%|████████  | 262/325 [00:10<00:02, 26.24it/s]\u001b[A\n",
      " 82%|████████▏ | 265/325 [00:10<00:02, 26.15it/s]\u001b[A\n",
      " 82%|████████▏ | 268/325 [00:10<00:02, 26.19it/s]\u001b[A\n",
      " 83%|████████▎ | 271/325 [00:10<00:02, 26.15it/s]\u001b[A\n",
      " 84%|████████▍ | 274/325 [00:10<00:01, 26.27it/s]\u001b[A\n",
      " 85%|████████▌ | 277/325 [00:10<00:01, 26.31it/s]\u001b[A\n",
      " 86%|████████▌ | 280/325 [00:10<00:01, 26.32it/s]\u001b[A\n",
      " 87%|████████▋ | 283/325 [00:10<00:01, 26.30it/s]\u001b[A\n",
      " 88%|████████▊ | 286/325 [00:10<00:01, 26.36it/s]\u001b[A\n",
      " 89%|████████▉ | 289/325 [00:11<00:01, 26.34it/s]\u001b[A\n",
      " 90%|████████▉ | 292/325 [00:11<00:01, 26.41it/s]\u001b[A\n",
      " 91%|█████████ | 295/325 [00:11<00:01, 26.39it/s]\u001b[A\n",
      " 92%|█████████▏| 298/325 [00:11<00:01, 26.51it/s]\u001b[A\n",
      " 93%|█████████▎| 301/325 [00:11<00:00, 26.49it/s]\u001b[A\n",
      " 94%|█████████▎| 304/325 [00:11<00:00, 26.53it/s]\u001b[A\n",
      " 94%|█████████▍| 307/325 [00:11<00:00, 26.53it/s]\u001b[A\n",
      " 95%|█████████▌| 310/325 [00:11<00:00, 26.53it/s]\u001b[A\n",
      " 96%|█████████▋| 313/325 [00:12<00:00, 26.56it/s]\u001b[A\n",
      " 97%|█████████▋| 316/325 [00:12<00:00, 26.59it/s]\u001b[A\n",
      " 98%|█████████▊| 319/325 [00:12<00:00, 26.61it/s]\u001b[A\n",
      " 99%|█████████▉| 322/325 [00:12<00:00, 26.62it/s]\u001b[A\n",
      "326it [00:12, 25.63it/s]                         \u001b[A"
     ]
    },
    {
     "name": "stdout",
     "output_type": "stream",
     "text": [
      "Train Loss: 0.1146, Train Acc: 54.47\n",
      "Validating\n"
     ]
    },
    {
     "name": "stderr",
     "output_type": "stream",
     "text": [
      "\n",
      "\n",
      "  0%|          | 0/108 [00:00<?, ?it/s]\u001b[A\n",
      "  3%|▎         | 3/108 [00:00<00:03, 29.35it/s]\u001b[A\n",
      "  9%|▉         | 10/108 [00:00<00:02, 35.47it/s]\u001b[A\n",
      " 16%|█▌        | 17/108 [00:00<00:02, 40.63it/s]\u001b[A\n",
      " 23%|██▎       | 25/108 [00:00<00:01, 46.89it/s]\u001b[A\n",
      " 31%|███       | 33/108 [00:00<00:01, 52.19it/s]\u001b[A\n",
      " 38%|███▊      | 41/108 [00:00<00:01, 56.61it/s]\u001b[A\n",
      " 44%|████▍     | 48/108 [00:00<00:01, 59.78it/s]\u001b[A\n",
      " 51%|█████     | 55/108 [00:00<00:00, 61.31it/s]\u001b[A\n",
      " 57%|█████▋    | 62/108 [00:00<00:00, 63.27it/s]\u001b[A\n",
      " 64%|██████▍   | 69/108 [00:01<00:00, 64.20it/s]\u001b[A\n",
      " 71%|███████▏  | 77/108 [00:01<00:00, 65.66it/s]\u001b[A\n",
      " 78%|███████▊  | 84/108 [00:01<00:00, 66.87it/s]\u001b[A\n",
      " 84%|████████▍ | 91/108 [00:01<00:00, 67.40it/s]\u001b[A\n",
      " 92%|█████████▏| 99/108 [00:01<00:00, 68.34it/s]\u001b[A\n",
      "109it [00:01, 58.88it/s]                         \u001b[A"
     ]
    },
    {
     "name": "stdout",
     "output_type": "stream",
     "text": [
      "Val Loss: 0.1192, Val Acc: 55.18\n",
      "Epoch 15 of 100\n",
      "Training\n"
     ]
    },
    {
     "name": "stderr",
     "output_type": "stream",
     "text": [
      "\n",
      "\n",
      "  0%|          | 0/325 [00:00<?, ?it/s]\u001b[A\n",
      "  0%|          | 1/325 [00:00<00:33,  9.79it/s]\u001b[A\n",
      "  1%|          | 4/325 [00:00<00:26, 12.11it/s]\u001b[A\n",
      "  2%|▏         | 7/325 [00:00<00:22, 14.43it/s]\u001b[A\n",
      "  3%|▎         | 10/325 [00:00<00:18, 16.73it/s]\u001b[A\n",
      "  4%|▍         | 13/325 [00:00<00:16, 18.68it/s]\u001b[A\n",
      "  5%|▍         | 16/325 [00:00<00:15, 20.17it/s]\u001b[A\n",
      "  6%|▌         | 19/325 [00:00<00:14, 21.40it/s]\u001b[A\n",
      "  7%|▋         | 22/325 [00:00<00:13, 22.73it/s]\u001b[A\n",
      "  8%|▊         | 25/325 [00:01<00:12, 23.53it/s]\u001b[A\n",
      "  9%|▊         | 28/325 [00:01<00:12, 24.30it/s]\u001b[A\n",
      " 10%|▉         | 31/325 [00:01<00:11, 24.84it/s]\u001b[A\n",
      " 10%|█         | 34/325 [00:01<00:11, 25.16it/s]\u001b[A\n",
      " 11%|█▏        | 37/325 [00:01<00:11, 25.41it/s]\u001b[A\n",
      " 12%|█▏        | 40/325 [00:01<00:11, 25.66it/s]\u001b[A\n",
      " 13%|█▎        | 43/325 [00:01<00:10, 25.85it/s]\u001b[A\n",
      " 14%|█▍        | 46/325 [00:01<00:10, 26.02it/s]\u001b[A\n",
      " 15%|█▌        | 49/325 [00:01<00:10, 26.08it/s]\u001b[A\n",
      " 16%|█▌        | 52/325 [00:02<00:10, 26.18it/s]\u001b[A\n",
      " 17%|█▋        | 55/325 [00:02<00:10, 26.20it/s]\u001b[A\n",
      " 18%|█▊        | 58/325 [00:02<00:10, 26.26it/s]\u001b[A\n",
      " 19%|█▉        | 61/325 [00:02<00:10, 26.23it/s]\u001b[A\n",
      " 20%|█▉        | 64/325 [00:02<00:09, 26.25it/s]\u001b[A\n",
      " 21%|██        | 67/325 [00:02<00:09, 26.16it/s]\u001b[A\n",
      " 22%|██▏       | 70/325 [00:02<00:09, 26.09it/s]\u001b[A\n",
      " 22%|██▏       | 73/325 [00:02<00:09, 26.05it/s]\u001b[A\n",
      " 23%|██▎       | 76/325 [00:02<00:09, 26.16it/s]\u001b[A\n",
      " 24%|██▍       | 79/325 [00:03<00:09, 26.16it/s]\u001b[A\n",
      " 25%|██▌       | 82/325 [00:03<00:09, 26.23it/s]\u001b[A\n",
      " 26%|██▌       | 85/325 [00:03<00:09, 26.24it/s]\u001b[A\n",
      " 27%|██▋       | 88/325 [00:03<00:09, 26.32it/s]\u001b[A\n",
      " 28%|██▊       | 91/325 [00:03<00:08, 26.28it/s]\u001b[A\n",
      " 29%|██▉       | 94/325 [00:03<00:08, 26.25it/s]\u001b[A\n",
      " 30%|██▉       | 97/325 [00:03<00:08, 26.19it/s]\u001b[A\n",
      " 31%|███       | 100/325 [00:03<00:08, 26.23it/s]\u001b[A\n",
      " 32%|███▏      | 103/325 [00:04<00:08, 25.61it/s]\u001b[A\n",
      " 33%|███▎      | 106/325 [00:04<00:08, 25.18it/s]\u001b[A\n",
      " 34%|███▎      | 109/325 [00:04<00:08, 24.41it/s]\u001b[A\n",
      " 34%|███▍      | 112/325 [00:04<00:08, 24.45it/s]\u001b[A\n",
      " 35%|███▌      | 115/325 [00:04<00:08, 23.41it/s]\u001b[A\n",
      " 36%|███▋      | 118/325 [00:04<00:08, 23.83it/s]\u001b[A\n",
      " 37%|███▋      | 121/325 [00:04<00:08, 23.83it/s]\u001b[A\n",
      " 38%|███▊      | 124/325 [00:04<00:08, 23.85it/s]\u001b[A\n",
      " 39%|███▉      | 127/325 [00:05<00:08, 24.17it/s]\u001b[A\n",
      " 40%|████      | 130/325 [00:05<00:07, 24.87it/s]\u001b[A\n",
      " 41%|████      | 133/325 [00:05<00:07, 25.38it/s]\u001b[A\n",
      " 42%|████▏     | 136/325 [00:05<00:07, 25.00it/s]\u001b[A\n",
      " 43%|████▎     | 139/325 [00:05<00:07, 25.44it/s]\u001b[A\n",
      " 44%|████▎     | 142/325 [00:05<00:07, 25.80it/s]\u001b[A\n",
      " 45%|████▍     | 145/325 [00:05<00:06, 26.03it/s]\u001b[A\n",
      " 46%|████▌     | 148/325 [00:05<00:06, 26.17it/s]\u001b[A\n",
      " 46%|████▋     | 151/325 [00:05<00:06, 26.31it/s]\u001b[A\n",
      " 47%|████▋     | 154/325 [00:06<00:06, 26.39it/s]\u001b[A\n",
      " 48%|████▊     | 157/325 [00:06<00:06, 26.45it/s]\u001b[A\n",
      " 49%|████▉     | 160/325 [00:06<00:06, 26.47it/s]\u001b[A\n",
      " 50%|█████     | 163/325 [00:06<00:06, 26.53it/s]\u001b[A\n",
      " 51%|█████     | 166/325 [00:06<00:05, 26.56it/s]\u001b[A\n",
      " 52%|█████▏    | 169/325 [00:06<00:05, 26.60it/s]\u001b[A\n",
      " 53%|█████▎    | 172/325 [00:06<00:05, 26.62it/s]\u001b[A\n",
      " 54%|█████▍    | 175/325 [00:06<00:05, 26.63it/s]\u001b[A\n",
      " 55%|█████▍    | 178/325 [00:06<00:05, 26.63it/s]\u001b[A\n",
      " 56%|█████▌    | 181/325 [00:07<00:05, 26.62it/s]\u001b[A\n",
      " 57%|█████▋    | 184/325 [00:07<00:05, 26.63it/s]\u001b[A\n",
      " 58%|█████▊    | 187/325 [00:07<00:05, 26.65it/s]\u001b[A\n",
      " 58%|█████▊    | 190/325 [00:07<00:05, 26.48it/s]\u001b[A\n",
      " 59%|█████▉    | 193/325 [00:07<00:04, 26.46it/s]\u001b[A\n",
      " 60%|██████    | 196/325 [00:07<00:04, 26.48it/s]\u001b[A\n",
      " 61%|██████    | 199/325 [00:07<00:04, 26.44it/s]\u001b[A\n",
      " 62%|██████▏   | 202/325 [00:07<00:04, 26.46it/s]\u001b[A\n",
      " 63%|██████▎   | 205/325 [00:07<00:04, 26.42it/s]\u001b[A\n",
      " 64%|██████▍   | 208/325 [00:08<00:04, 26.47it/s]\u001b[A\n",
      " 65%|██████▍   | 211/325 [00:08<00:04, 26.50it/s]\u001b[A\n",
      " 66%|██████▌   | 214/325 [00:08<00:04, 26.46it/s]\u001b[A\n",
      " 67%|██████▋   | 217/325 [00:08<00:04, 26.40it/s]\u001b[A\n",
      " 68%|██████▊   | 220/325 [00:08<00:03, 26.44it/s]\u001b[A\n",
      " 69%|██████▊   | 223/325 [00:08<00:03, 26.44it/s]\u001b[A\n",
      " 70%|██████▉   | 226/325 [00:08<00:03, 26.46it/s]\u001b[A\n",
      " 70%|███████   | 229/325 [00:08<00:03, 26.32it/s]\u001b[A\n",
      " 71%|███████▏  | 232/325 [00:08<00:03, 26.37it/s]\u001b[A\n",
      " 72%|███████▏  | 235/325 [00:09<00:03, 26.35it/s]\u001b[A\n",
      " 73%|███████▎  | 238/325 [00:09<00:03, 26.40it/s]\u001b[A\n",
      " 74%|███████▍  | 241/325 [00:09<00:03, 26.44it/s]\u001b[A\n",
      " 75%|███████▌  | 244/325 [00:09<00:03, 26.45it/s]\u001b[A\n",
      " 76%|███████▌  | 247/325 [00:09<00:02, 26.42it/s]\u001b[A\n",
      " 77%|███████▋  | 250/325 [00:09<00:02, 26.45it/s]\u001b[A\n",
      " 78%|███████▊  | 253/325 [00:09<00:02, 26.46it/s]\u001b[A\n",
      " 79%|███████▉  | 256/325 [00:09<00:02, 26.49it/s]\u001b[A\n",
      " 80%|███████▉  | 259/325 [00:10<00:02, 26.42it/s]\u001b[A\n",
      " 81%|████████  | 262/325 [00:10<00:02, 26.41it/s]\u001b[A\n",
      " 82%|████████▏ | 265/325 [00:10<00:02, 26.39it/s]\u001b[A\n",
      " 82%|████████▏ | 268/325 [00:10<00:02, 26.38it/s]\u001b[A\n",
      " 83%|████████▎ | 271/325 [00:10<00:02, 26.35it/s]\u001b[A\n",
      " 84%|████████▍ | 274/325 [00:10<00:01, 26.39it/s]\u001b[A\n",
      " 85%|████████▌ | 277/325 [00:10<00:01, 26.37it/s]\u001b[A\n",
      " 86%|████████▌ | 280/325 [00:10<00:01, 26.39it/s]\u001b[A\n",
      " 87%|████████▋ | 283/325 [00:10<00:01, 26.35it/s]\u001b[A\n",
      " 88%|████████▊ | 286/325 [00:11<00:01, 25.82it/s]\u001b[A\n",
      " 89%|████████▉ | 289/325 [00:11<00:01, 24.36it/s]\u001b[A\n",
      " 90%|████████▉ | 292/325 [00:11<00:01, 24.62it/s]\u001b[A\n",
      " 91%|█████████ | 295/325 [00:11<00:01, 24.62it/s]\u001b[A\n",
      " 92%|█████████▏| 298/325 [00:11<00:01, 24.92it/s]\u001b[A\n",
      " 93%|█████████▎| 301/325 [00:11<00:00, 24.99it/s]\u001b[A\n",
      " 94%|█████████▎| 304/325 [00:11<00:00, 25.20it/s]\u001b[A\n",
      " 94%|█████████▍| 307/325 [00:11<00:00, 25.11it/s]\u001b[A\n",
      " 95%|█████████▌| 310/325 [00:12<00:00, 25.21it/s]\u001b[A\n",
      " 96%|█████████▋| 313/325 [00:12<00:00, 25.08it/s]\u001b[A\n",
      " 97%|█████████▋| 316/325 [00:12<00:00, 25.19it/s]\u001b[A\n",
      " 98%|█████████▊| 319/325 [00:12<00:00, 25.12it/s]\u001b[A\n",
      " 99%|█████████▉| 322/325 [00:12<00:00, 25.30it/s]\u001b[A\n",
      "326it [00:12, 25.29it/s]                         \u001b[A"
     ]
    },
    {
     "name": "stdout",
     "output_type": "stream",
     "text": [
      "Train Loss: 0.1034, Train Acc: 58.75\n",
      "Validating\n"
     ]
    },
    {
     "name": "stderr",
     "output_type": "stream",
     "text": [
      "\n",
      "\n",
      "  0%|          | 0/108 [00:00<?, ?it/s]\u001b[A\n",
      "  2%|▏         | 2/108 [00:00<00:05, 18.87it/s]\u001b[A\n",
      "  9%|▉         | 10/108 [00:00<00:04, 24.22it/s]\u001b[A\n",
      " 16%|█▌        | 17/108 [00:00<00:03, 29.62it/s]\u001b[A\n",
      " 23%|██▎       | 25/108 [00:00<00:02, 36.15it/s]\u001b[A\n",
      " 31%|███       | 33/108 [00:00<00:01, 42.54it/s]\u001b[A\n",
      " 38%|███▊      | 41/108 [00:00<00:01, 48.21it/s]\u001b[A\n",
      " 44%|████▍     | 48/108 [00:00<00:01, 52.99it/s]\u001b[A\n",
      " 51%|█████     | 55/108 [00:00<00:00, 56.81it/s]\u001b[A\n",
      " 58%|█████▊    | 63/108 [00:00<00:00, 59.98it/s]\u001b[A\n",
      " 66%|██████▌   | 71/108 [00:01<00:00, 62.74it/s]\u001b[A\n",
      " 72%|███████▏  | 78/108 [00:01<00:00, 64.73it/s]\u001b[A\n",
      " 79%|███████▊  | 85/108 [00:01<00:00, 66.09it/s]\u001b[A\n",
      " 86%|████████▌ | 93/108 [00:01<00:00, 67.46it/s]\u001b[A\n",
      " 94%|█████████▎| 101/108 [00:01<00:00, 68.57it/s]\u001b[A\n",
      "109it [00:01, 57.73it/s]                         \u001b[A"
     ]
    },
    {
     "name": "stdout",
     "output_type": "stream",
     "text": [
      "Val Loss: 0.1205, Val Acc: 55.59\n",
      "Epoch 16 of 100\n",
      "Training\n"
     ]
    },
    {
     "name": "stderr",
     "output_type": "stream",
     "text": [
      "\n",
      "\n",
      "  0%|          | 0/325 [00:00<?, ?it/s]\u001b[A\n",
      "  0%|          | 1/325 [00:00<00:44,  7.36it/s]\u001b[A\n",
      "  1%|          | 4/325 [00:00<00:34,  9.31it/s]\u001b[A\n",
      "  2%|▏         | 7/325 [00:00<00:27, 11.46it/s]\u001b[A\n",
      "  3%|▎         | 10/325 [00:00<00:22, 13.80it/s]\u001b[A\n",
      "  4%|▍         | 13/325 [00:00<00:19, 16.09it/s]\u001b[A\n",
      "  5%|▍         | 16/325 [00:00<00:16, 18.19it/s]\u001b[A\n",
      "  6%|▌         | 19/325 [00:00<00:15, 19.71it/s]\u001b[A\n",
      "  7%|▋         | 22/325 [00:00<00:14, 20.80it/s]\u001b[A\n",
      "  8%|▊         | 25/325 [00:01<00:13, 22.11it/s]\u001b[A\n",
      "  9%|▊         | 28/325 [00:01<00:12, 23.24it/s]\u001b[A\n",
      " 10%|▉         | 31/325 [00:01<00:12, 24.02it/s]\u001b[A\n",
      " 10%|█         | 34/325 [00:01<00:11, 24.59it/s]\u001b[AIOPub message rate exceeded.\n",
      "The notebook server will temporarily stop sending output\n",
      "to the client in order to avoid crashing it.\n",
      "To change this limit, set the config variable\n",
      "`--NotebookApp.iopub_msg_rate_limit`.\n",
      "\n",
      "Current values:\n",
      "NotebookApp.iopub_msg_rate_limit=1000.0 (msgs/sec)\n",
      "NotebookApp.rate_limit_window=3.0 (secs)\n",
      "\n",
      "\u001b[A\n",
      " 56%|█████▌    | 181/325 [00:06<00:05, 26.41it/s]\u001b[A\n",
      " 57%|█████▋    | 184/325 [00:07<00:05, 26.42it/s]\u001b[A\n",
      " 58%|█████▊    | 187/325 [00:07<00:05, 26.34it/s]\u001b[A\n",
      " 58%|█████▊    | 190/325 [00:07<00:05, 26.40it/s]\u001b[A\n",
      " 59%|█████▉    | 193/325 [00:07<00:05, 26.36it/s]\u001b[A\n",
      " 60%|██████    | 196/325 [00:07<00:04, 26.40it/s]\u001b[A\n",
      " 61%|██████    | 199/325 [00:07<00:04, 26.35it/s]\u001b[A\n",
      " 62%|██████▏   | 202/325 [00:07<00:04, 26.36it/s]\u001b[A\n",
      " 63%|██████▎   | 205/325 [00:07<00:04, 26.35it/s]\u001b[A\n",
      " 64%|██████▍   | 208/325 [00:08<00:04, 26.38it/s]\u001b[A\n",
      " 65%|██████▍   | 211/325 [00:08<00:04, 26.28it/s]\u001b[A\n",
      " 66%|██████▌   | 214/325 [00:08<00:04, 26.46it/s]\u001b[A\n",
      " 67%|██████▋   | 217/325 [00:08<00:04, 26.42it/s]\u001b[A\n",
      " 68%|██████▊   | 220/325 [00:08<00:03, 26.46it/s]\u001b[A\n",
      " 69%|██████▊   | 223/325 [00:08<00:03, 26.34it/s]\u001b[A\n",
      " 70%|██████▉   | 226/325 [00:08<00:03, 26.20it/s]\u001b[A\n",
      " 70%|███████   | 229/325 [00:08<00:03, 26.00it/s]\u001b[A\n",
      " 71%|███████▏  | 232/325 [00:08<00:03, 26.11it/s]\u001b[A\n",
      " 72%|███████▏  | 235/325 [00:09<00:03, 26.09it/s]\u001b[A\n",
      " 73%|███████▎  | 238/325 [00:09<00:03, 26.20it/s]\u001b[A\n",
      " 74%|███████▍  | 241/325 [00:09<00:03, 26.18it/s]\u001b[A\n",
      " 75%|███████▌  | 244/325 [00:09<00:03, 26.26it/s]\u001b[A\n",
      " 76%|███████▌  | 247/325 [00:09<00:02, 26.29it/s]\u001b[A\n",
      " 77%|███████▋  | 250/325 [00:09<00:02, 26.35it/s]\u001b[A\n",
      " 78%|███████▊  | 253/325 [00:09<00:02, 26.34it/s]\u001b[A\n",
      " 79%|███████▉  | 256/325 [00:09<00:02, 26.28it/s]\u001b[A\n",
      " 80%|███████▉  | 259/325 [00:09<00:02, 26.20it/s]\u001b[A\n",
      " 81%|████████  | 262/325 [00:10<00:02, 26.00it/s]\u001b[A\n",
      " 82%|████████▏ | 265/325 [00:10<00:02, 25.33it/s]\u001b[A\n",
      " 82%|████████▏ | 268/325 [00:10<00:02, 25.05it/s]\u001b[A\n",
      " 83%|████████▎ | 271/325 [00:10<00:02, 24.69it/s]\u001b[A\n",
      " 84%|████████▍ | 274/325 [00:10<00:02, 24.58it/s]\u001b[A\n",
      " 85%|████████▌ | 277/325 [00:10<00:01, 24.36it/s]\u001b[A\n",
      " 86%|████████▌ | 280/325 [00:10<00:01, 24.39it/s]\u001b[A\n",
      " 87%|████████▋ | 283/325 [00:10<00:01, 24.28it/s]\u001b[A\n",
      " 88%|████████▊ | 286/325 [00:11<00:01, 24.44it/s]\u001b[A\n",
      " 89%|████████▉ | 289/325 [00:11<00:01, 24.36it/s]\u001b[A\n",
      " 90%|████████▉ | 292/325 [00:11<00:01, 24.42it/s]\u001b[A\n",
      " 91%|█████████ | 295/325 [00:11<00:01, 24.32it/s]\u001b[A\n",
      " 92%|█████████▏| 298/325 [00:11<00:01, 25.12it/s]\u001b[A\n",
      " 93%|█████████▎| 301/325 [00:11<00:00, 25.58it/s]\u001b[A\n",
      " 94%|█████████▎| 304/325 [00:11<00:00, 25.91it/s]\u001b[A\n",
      " 94%|█████████▍| 307/325 [00:11<00:00, 26.13it/s]\u001b[A\n",
      " 95%|█████████▌| 310/325 [00:11<00:00, 26.28it/s]\u001b[A\n",
      " 96%|█████████▋| 313/325 [00:12<00:00, 26.44it/s]\u001b[A\n",
      " 97%|█████████▋| 316/325 [00:12<00:00, 26.47it/s]\u001b[A\n",
      " 98%|█████████▊| 319/325 [00:12<00:00, 26.56it/s]\u001b[A\n",
      " 99%|█████████▉| 322/325 [00:12<00:00, 26.60it/s]\u001b[A\n",
      "326it [00:12, 25.41it/s]                         \u001b[A"
     ]
    },
    {
     "name": "stdout",
     "output_type": "stream",
     "text": [
      "Train Loss: 0.0094, Train Acc: 95.79\n",
      "Validating\n"
     ]
    },
    {
     "name": "stderr",
     "output_type": "stream",
     "text": [
      "\n",
      "\n",
      "  0%|          | 0/108 [00:00<?, ?it/s]\u001b[A\n",
      "  2%|▏         | 2/108 [00:00<00:05, 17.82it/s]\u001b[A\n",
      "  8%|▊         | 9/108 [00:00<00:04, 22.81it/s]\u001b[A\n",
      " 16%|█▌        | 17/108 [00:00<00:03, 28.34it/s]\u001b[A\n",
      " 23%|██▎       | 25/108 [00:00<00:02, 34.55it/s]\u001b[A\n",
      " 31%|███       | 33/108 [00:00<00:01, 41.04it/s]\u001b[A\n",
      " 38%|███▊      | 41/108 [00:00<00:01, 46.85it/s]\u001b[A\n",
      " 44%|████▍     | 48/108 [00:00<00:01, 51.88it/s]\u001b[A\n",
      " 51%|█████     | 55/108 [00:00<00:00, 55.84it/s]\u001b[A\n",
      " 58%|█████▊    | 63/108 [00:00<00:00, 59.30it/s]\u001b[A\n",
      " 65%|██████▍   | 70/108 [00:01<00:00, 62.00it/s]\u001b[A\n",
      " 71%|███████▏  | 77/108 [00:01<00:00, 63.53it/s]\u001b[A\n",
      " 79%|███████▊  | 85/108 [00:01<00:00, 65.35it/s]\u001b[A\n",
      " 86%|████████▌ | 93/108 [00:01<00:00, 66.90it/s]\u001b[A\n",
      " 94%|█████████▎| 101/108 [00:01<00:00, 68.03it/s]\u001b[A\n",
      "109it [00:01, 57.08it/s]                         \u001b[A"
     ]
    },
    {
     "name": "stdout",
     "output_type": "stream",
     "text": [
      "Val Loss: 0.1478, Val Acc: 62.62\n",
      "Epoch 35 of 100\n",
      "Training\n"
     ]
    },
    {
     "name": "stderr",
     "output_type": "stream",
     "text": [
      "\n",
      "\n",
      "  0%|          | 0/325 [00:00<?, ?it/s]\u001b[A\n",
      "  0%|          | 1/325 [00:00<00:45,  7.15it/s]\u001b[A\n",
      "  1%|          | 4/325 [00:00<00:34,  9.17it/s]\u001b[A\n",
      "  2%|▏         | 7/325 [00:00<00:27, 11.41it/s]\u001b[A\n",
      "  3%|▎         | 10/325 [00:00<00:22, 13.76it/s]\u001b[A\n",
      "  4%|▍         | 13/325 [00:00<00:19, 16.05it/s]\u001b[A\n",
      "  5%|▍         | 16/325 [00:00<00:16, 18.26it/s]\u001b[A\n",
      "  6%|▌         | 19/325 [00:00<00:15, 19.48it/s]\u001b[A\n",
      "  7%|▋         | 22/325 [00:00<00:14, 21.12it/s]\u001b[A\n",
      "  8%|▊         | 25/325 [00:01<00:13, 22.46it/s]\u001b[A\n",
      "  9%|▊         | 28/325 [00:01<00:12, 23.53it/s]\u001b[A\n",
      " 10%|▉         | 31/325 [00:01<00:12, 24.25it/s]\u001b[A\n",
      " 10%|█         | 34/325 [00:01<00:11, 24.91it/s]\u001b[A\n",
      " 11%|█▏        | 37/325 [00:01<00:11, 25.22it/s]\u001b[A\n",
      " 12%|█▏        | 40/325 [00:01<00:11, 25.52it/s]\u001b[A\n",
      " 13%|█▎        | 43/325 [00:01<00:10, 25.74it/s]\u001b[A\n",
      " 14%|█▍        | 46/325 [00:01<00:10, 25.94it/s]\u001b[A\n",
      " 15%|█▌        | 49/325 [00:01<00:10, 26.01it/s]\u001b[A\n",
      " 16%|█▌        | 52/325 [00:02<00:10, 26.11it/s]\u001b[A\n",
      " 17%|█▋        | 55/325 [00:02<00:10, 26.12it/s]\u001b[A\n",
      " 18%|█▊        | 58/325 [00:02<00:10, 26.20it/s]\u001b[A\n",
      " 19%|█▉        | 61/325 [00:02<00:10, 26.17it/s]\u001b[A\n",
      " 20%|█▉        | 64/325 [00:02<00:09, 26.24it/s]\u001b[A\n",
      " 21%|██        | 67/325 [00:02<00:09, 26.16it/s]\u001b[A\n",
      " 22%|██▏       | 70/325 [00:02<00:09, 26.11it/s]\u001b[A\n",
      " 22%|██▏       | 73/325 [00:02<00:09, 25.83it/s]\u001b[A\n",
      " 23%|██▎       | 76/325 [00:03<00:09, 25.83it/s]\u001b[A\n",
      " 24%|██▍       | 79/325 [00:03<00:09, 25.92it/s]\u001b[A\n",
      " 25%|██▌       | 82/325 [00:03<00:09, 26.06it/s]\u001b[A\n",
      " 26%|██▌       | 85/325 [00:03<00:09, 26.11it/s]\u001b[A\n",
      " 27%|██▋       | 88/325 [00:03<00:09, 26.19it/s]\u001b[A\n",
      " 28%|██▊       | 91/325 [00:03<00:08, 26.22it/s]\u001b[A\n",
      " 29%|██▉       | 94/325 [00:03<00:08, 26.27it/s]\u001b[A\n",
      " 30%|██▉       | 97/325 [00:03<00:08, 26.25it/s]\u001b[A\n",
      " 31%|███       | 100/325 [00:03<00:08, 26.30it/s]\u001b[A\n",
      " 32%|███▏      | 103/325 [00:04<00:08, 26.26it/s]\u001b[A\n",
      " 33%|███▎      | 106/325 [00:04<00:08, 26.25it/s]\u001b[A\n",
      " 34%|███▎      | 109/325 [00:04<00:08, 26.22it/s]\u001b[A\n",
      " 34%|███▍      | 112/325 [00:04<00:08, 26.29it/s]\u001b[A\n",
      " 35%|███▌      | 115/325 [00:04<00:08, 26.22it/s]\u001b[A\n",
      " 36%|███▋      | 118/325 [00:04<00:07, 26.28it/s]\u001b[A\n",
      " 37%|███▋      | 121/325 [00:04<00:07, 26.29it/s]\u001b[A\n",
      " 38%|███▊      | 124/325 [00:04<00:07, 26.33it/s]\u001b[A\n",
      " 39%|███▉      | 127/325 [00:04<00:07, 26.16it/s]\u001b[A\n",
      " 40%|████      | 130/325 [00:05<00:07, 26.28it/s]\u001b[A\n",
      " 41%|████      | 133/325 [00:05<00:07, 26.21it/s]\u001b[A\n",
      " 42%|████▏     | 136/325 [00:05<00:07, 26.33it/s]\u001b[A\n",
      " 43%|████▎     | 139/325 [00:05<00:07, 26.33it/s]\u001b[A\n",
      " 44%|████▎     | 142/325 [00:05<00:08, 20.55it/s]\u001b[A\n",
      " 45%|████▍     | 145/325 [00:05<00:08, 22.01it/s]\u001b[A\n",
      " 46%|████▌     | 148/325 [00:05<00:07, 23.19it/s]\u001b[A\n",
      " 46%|████▋     | 151/325 [00:05<00:07, 24.06it/s]\u001b[A\n",
      " 47%|████▋     | 154/325 [00:06<00:06, 24.75it/s]\u001b[A\n",
      " 48%|████▊     | 157/325 [00:06<00:06, 25.20it/s]\u001b[A\n",
      " 49%|████▉     | 160/325 [00:06<00:06, 25.61it/s]\u001b[A\n",
      " 50%|█████     | 163/325 [00:06<00:06, 25.87it/s]\u001b[A\n",
      " 51%|█████     | 166/325 [00:06<00:06, 26.07it/s]\u001b[A\n",
      " 52%|█████▏    | 169/325 [00:06<00:05, 26.19it/s]\u001b[A\n",
      " 53%|█████▎    | 172/325 [00:06<00:05, 26.20it/s]\u001b[A\n",
      " 54%|█████▍    | 175/325 [00:06<00:05, 26.03it/s]\u001b[A\n",
      " 55%|█████▍    | 178/325 [00:06<00:05, 26.19it/s]\u001b[A\n",
      " 56%|█████▌    | 181/325 [00:07<00:05, 26.28it/s]\u001b[A\n",
      " 57%|█████▋    | 184/325 [00:07<00:05, 26.34it/s]\u001b[A\n",
      " 58%|█████▊    | 187/325 [00:07<00:05, 26.39it/s]\u001b[A\n",
      " 58%|█████▊    | 190/325 [00:07<00:05, 26.43it/s]\u001b[A\n",
      " 59%|█████▉    | 193/325 [00:07<00:04, 26.48it/s]\u001b[A\n",
      " 60%|██████    | 196/325 [00:07<00:04, 26.51it/s]\u001b[A\n",
      " 61%|██████    | 199/325 [00:07<00:04, 26.50it/s]\u001b[A\n",
      " 62%|██████▏   | 202/325 [00:07<00:04, 26.52it/s]\u001b[A\n",
      " 63%|██████▎   | 205/325 [00:08<00:04, 26.50it/s]\u001b[A\n",
      " 64%|██████▍   | 208/325 [00:08<00:04, 26.49it/s]\u001b[A\n",
      " 65%|██████▍   | 211/325 [00:08<00:04, 26.45it/s]\u001b[A\n",
      " 66%|██████▌   | 214/325 [00:08<00:04, 26.52it/s]\u001b[A\n",
      " 67%|██████▋   | 217/325 [00:08<00:04, 26.50it/s]\u001b[A\n",
      " 68%|██████▊   | 220/325 [00:08<00:03, 26.47it/s]\u001b[A\n",
      " 69%|██████▊   | 223/325 [00:08<00:03, 26.43it/s]\u001b[A\n",
      " 70%|██████▉   | 226/325 [00:08<00:03, 26.48it/s]\u001b[A\n",
      " 70%|███████   | 229/325 [00:08<00:03, 26.48it/s]\u001b[A\n",
      " 71%|███████▏  | 232/325 [00:09<00:03, 26.49it/s]\u001b[A\n",
      " 72%|███████▏  | 235/325 [00:09<00:03, 26.39it/s]\u001b[A\n",
      " 73%|███████▎  | 238/325 [00:09<00:03, 26.25it/s]\u001b[A\n",
      " 74%|███████▍  | 241/325 [00:09<00:03, 26.12it/s]\u001b[A\n",
      " 75%|███████▌  | 244/325 [00:09<00:03, 26.20it/s]\u001b[A\n",
      " 76%|███████▌  | 247/325 [00:09<00:02, 26.11it/s]\u001b[A\n",
      " 77%|███████▋  | 250/325 [00:09<00:02, 26.17it/s]\u001b[A\n",
      " 78%|███████▊  | 253/325 [00:09<00:02, 26.25it/s]\u001b[A\n",
      " 79%|███████▉  | 256/325 [00:09<00:02, 26.33it/s]\u001b[A\n",
      " 80%|███████▉  | 259/325 [00:10<00:02, 26.31it/s]\u001b[A\n",
      " 81%|████████  | 262/325 [00:10<00:02, 26.33it/s]\u001b[A\n",
      " 82%|████████▏ | 265/325 [00:10<00:02, 26.38it/s]\u001b[A\n",
      " 82%|████████▏ | 268/325 [00:10<00:02, 26.43it/s]\u001b[A\n",
      " 83%|████████▎ | 271/325 [00:10<00:02, 26.42it/s]\u001b[A\n",
      " 84%|████████▍ | 274/325 [00:10<00:01, 26.39it/s]\u001b[A\n",
      " 85%|████████▌ | 277/325 [00:10<00:01, 26.36it/s]\u001b[A\n",
      " 86%|████████▌ | 280/325 [00:10<00:01, 26.41it/s]\u001b[A\n",
      " 87%|████████▋ | 283/325 [00:10<00:01, 26.40it/s]\u001b[A\n",
      " 88%|████████▊ | 286/325 [00:11<00:01, 26.44it/s]\u001b[A\n",
      " 89%|████████▉ | 289/325 [00:11<00:01, 26.46it/s]\u001b[A\n",
      " 90%|████████▉ | 292/325 [00:11<00:01, 26.54it/s]\u001b[A\n",
      " 91%|█████████ | 295/325 [00:11<00:01, 26.54it/s]\u001b[A\n",
      " 92%|█████████▏| 298/325 [00:11<00:01, 26.58it/s]\u001b[A\n",
      " 93%|█████████▎| 301/325 [00:11<00:00, 26.57it/s]\u001b[A\n",
      " 94%|█████████▎| 304/325 [00:11<00:00, 26.61it/s]\u001b[A\n",
      " 94%|█████████▍| 307/325 [00:11<00:00, 26.63it/s]\u001b[A\n",
      " 95%|█████████▌| 310/325 [00:11<00:00, 26.60it/s]\u001b[A\n",
      " 96%|█████████▋| 313/325 [00:12<00:00, 26.54it/s]\u001b[A\n",
      " 97%|█████████▋| 316/325 [00:12<00:00, 26.57it/s]\u001b[A\n",
      " 98%|█████████▊| 319/325 [00:12<00:00, 26.41it/s]\u001b[A\n",
      " 99%|█████████▉| 322/325 [00:12<00:00, 26.39it/s]\u001b[A\n",
      "326it [00:12, 25.36it/s]                         \u001b[A"
     ]
    },
    {
     "name": "stdout",
     "output_type": "stream",
     "text": [
      "Train Loss: 0.0079, Train Acc: 96.37\n",
      "Validating\n"
     ]
    },
    {
     "name": "stderr",
     "output_type": "stream",
     "text": [
      "\n",
      "\n",
      "  0%|          | 0/108 [00:00<?, ?it/s]\u001b[A\n",
      "  1%|          | 1/108 [00:00<00:11,  9.07it/s]\u001b[A\n",
      "  8%|▊         | 9/108 [00:00<00:08, 12.29it/s]\u001b[A\n",
      " 16%|█▌        | 17/108 [00:00<00:05, 16.21it/s]\u001b[A\n",
      " 23%|██▎       | 25/108 [00:00<00:03, 21.18it/s]\u001b[A\n",
      " 31%|███       | 33/108 [00:00<00:02, 26.83it/s]\u001b[A\n",
      " 38%|███▊      | 41/108 [00:00<00:02, 32.92it/s]\u001b[A\n",
      " 44%|████▍     | 48/108 [00:00<00:01, 38.97it/s]\u001b[A\n",
      " 51%|█████     | 55/108 [00:00<00:01, 44.62it/s]\u001b[A\n",
      " 57%|█████▋    | 62/108 [00:00<00:00, 49.97it/s]\u001b[A\n",
      " 64%|██████▍   | 69/108 [00:01<00:00, 54.18it/s]\u001b[A\n",
      " 71%|███████▏  | 77/108 [00:01<00:00, 58.01it/s]\u001b[A\n",
      " 79%|███████▊  | 85/108 [00:01<00:00, 61.20it/s]\u001b[A\n",
      " 86%|████████▌ | 93/108 [00:01<00:00, 63.76it/s]\u001b[A\n",
      " 94%|█████████▎| 101/108 [00:01<00:00, 65.66it/s]\u001b[A\n",
      "109it [00:01, 56.97it/s]                         \u001b[A"
     ]
    },
    {
     "name": "stdout",
     "output_type": "stream",
     "text": [
      "Val Loss: 0.1315, Val Acc: 66.53\n",
      "Epoch 36 of 100\n",
      "Training\n"
     ]
    },
    {
     "name": "stderr",
     "output_type": "stream",
     "text": [
      "\n",
      "\n",
      "  0%|          | 0/325 [00:00<?, ?it/s]\u001b[A\n",
      "  0%|          | 1/325 [00:00<00:38,  8.37it/s]\u001b[A\n",
      "  1%|          | 4/325 [00:00<00:30, 10.40it/s]\u001b[A\n",
      "  2%|▏         | 7/325 [00:00<00:25, 12.67it/s]\u001b[A\n",
      "  3%|▎         | 10/325 [00:00<00:21, 15.00it/s]\u001b[A\n",
      "  4%|▍         | 13/325 [00:00<00:18, 17.22it/s]\u001b[A\n",
      "  5%|▍         | 16/325 [00:00<00:16, 19.22it/s]\u001b[A\n",
      "  6%|▌         | 19/325 [00:00<00:14, 20.51it/s]\u001b[A\n",
      "  7%|▋         | 22/325 [00:00<00:13, 22.01it/s]\u001b[A\n",
      "  8%|▊         | 25/325 [00:01<00:12, 23.16it/s]\u001b[A\n",
      "  9%|▊         | 28/325 [00:01<00:12, 24.08it/s]\u001b[A\n",
      " 10%|▉         | 31/325 [00:01<00:11, 24.64it/s]\u001b[A\n",
      " 10%|█         | 34/325 [00:01<00:11, 25.21it/s]\u001b[A\n",
      " 11%|█▏        | 37/325 [00:01<00:11, 25.41it/s]\u001b[A\n",
      " 12%|█▏        | 40/325 [00:01<00:11, 25.81it/s]\u001b[A\n",
      " 13%|█▎        | 43/325 [00:01<00:10, 25.90it/s]\u001b[A\n",
      " 14%|█▍        | 46/325 [00:01<00:10, 26.06it/s]\u001b[A\n",
      " 15%|█▌        | 49/325 [00:01<00:10, 26.09it/s]\u001b[A\n",
      " 16%|█▌        | 52/325 [00:02<00:10, 26.18it/s]\u001b[A\n",
      " 17%|█▋        | 55/325 [00:02<00:10, 26.24it/s]\u001b[A\n",
      " 18%|█▊        | 58/325 [00:02<00:10, 26.34it/s]\u001b[A\n",
      " 19%|█▉        | 61/325 [00:02<00:10, 26.33it/s]\u001b[A\n",
      " 20%|█▉        | 64/325 [00:02<00:09, 26.36it/s]\u001b[A\n",
      " 21%|██        | 67/325 [00:02<00:09, 26.31it/s]\u001b[A\n",
      " 22%|██▏       | 70/325 [00:02<00:09, 26.36it/s]\u001b[A\n",
      " 22%|██▏       | 73/325 [00:02<00:09, 26.38it/s]\u001b[A\n",
      " 23%|██▎       | 76/325 [00:02<00:09, 26.39it/s]\u001b[A\n",
      " 24%|██▍       | 79/325 [00:03<00:09, 25.96it/s]\u001b[A\n",
      " 25%|██▌       | 82/325 [00:03<00:09, 25.99it/s]\u001b[A\n",
      " 26%|██▌       | 85/325 [00:03<00:09, 25.94it/s]\u001b[A\n",
      " 27%|██▋       | 88/325 [00:03<00:09, 26.13it/s]\u001b[A\n",
      " 28%|██▊       | 91/325 [00:03<00:08, 26.26it/s]\u001b[A\n",
      " 29%|██▉       | 94/325 [00:03<00:08, 26.35it/s]\u001b[A\n",
      " 30%|██▉       | 97/325 [00:03<00:08, 26.20it/s]\u001b[A\n",
      " 31%|███       | 100/325 [00:03<00:08, 26.23it/s]\u001b[A\n",
      " 32%|███▏      | 103/325 [00:04<00:08, 26.23it/s]\u001b[A\n",
      " 33%|███▎      | 106/325 [00:04<00:08, 26.33it/s]\u001b[A\n",
      " 34%|███▎      | 109/325 [00:04<00:08, 26.31it/s]\u001b[A\n",
      " 34%|███▍      | 112/325 [00:04<00:08, 26.14it/s]\u001b[A\n",
      " 35%|███▌      | 115/325 [00:04<00:08, 25.21it/s]\u001b[A\n",
      " 36%|███▋      | 118/325 [00:04<00:08, 25.57it/s]\u001b[A\n",
      " 37%|███▋      | 121/325 [00:04<00:07, 25.76it/s]\u001b[A\n",
      " 38%|███▊      | 124/325 [00:04<00:07, 26.01it/s]\u001b[A\n",
      " 39%|███▉      | 127/325 [00:04<00:07, 26.12it/s]\u001b[A\n",
      " 40%|████      | 130/325 [00:05<00:07, 25.98it/s]\u001b[A\n",
      " 41%|████      | 133/325 [00:05<00:07, 25.54it/s]\u001b[A\n",
      " 42%|████▏     | 136/325 [00:05<00:07, 25.63it/s]\u001b[A\n",
      " 43%|████▎     | 139/325 [00:05<00:07, 25.83it/s]\u001b[A\n",
      " 44%|████▎     | 142/325 [00:05<00:07, 26.01it/s]\u001b[A\n",
      " 45%|████▍     | 145/325 [00:05<00:06, 26.09it/s]\u001b[A\n",
      " 46%|████▌     | 148/325 [00:05<00:06, 25.34it/s]\u001b[A\n",
      " 46%|████▋     | 151/325 [00:05<00:06, 25.61it/s]\u001b[A\n",
      " 47%|████▋     | 154/325 [00:05<00:06, 25.91it/s]\u001b[A\n",
      " 48%|████▊     | 157/325 [00:06<00:06, 26.08it/s]\u001b[A\n",
      " 49%|████▉     | 160/325 [00:06<00:06, 26.24it/s]\u001b[A\n",
      " 50%|█████     | 163/325 [00:06<00:06, 25.38it/s]\u001b[A\n",
      " 51%|█████     | 166/325 [00:06<00:06, 25.78it/s]\u001b[A\n",
      " 52%|█████▏    | 169/325 [00:06<00:06, 25.96it/s]\u001b[A\n",
      " 53%|█████▎    | 172/325 [00:06<00:05, 26.08it/s]\u001b[A\n",
      " 54%|█████▍    | 175/325 [00:06<00:05, 26.11it/s]\u001b[A\n",
      " 55%|█████▍    | 178/325 [00:06<00:05, 25.95it/s]\u001b[A\n",
      " 56%|█████▌    | 181/325 [00:07<00:05, 25.39it/s]\u001b[A\n",
      " 57%|█████▋    | 184/325 [00:07<00:05, 25.69it/s]\u001b[A\n",
      " 58%|█████▊    | 187/325 [00:07<00:05, 25.77it/s]\u001b[A\n",
      " 58%|█████▊    | 190/325 [00:07<00:05, 26.00it/s]\u001b[A\n",
      " 59%|█████▉    | 193/325 [00:07<00:05, 26.09it/s]\u001b[A\n",
      " 60%|██████    | 196/325 [00:07<00:04, 25.98it/s]\u001b[A\n",
      " 61%|██████    | 199/325 [00:07<00:04, 26.02it/s]\u001b[A\n",
      " 62%|██████▏   | 202/325 [00:07<00:04, 26.23it/s]\u001b[A\n",
      " 63%|██████▎   | 205/325 [00:07<00:04, 26.23it/s]\u001b[A\n",
      " 64%|██████▍   | 208/325 [00:08<00:04, 26.26it/s]\u001b[A\n",
      " 65%|██████▍   | 211/325 [00:08<00:04, 26.04it/s]\u001b[A\n",
      " 66%|██████▌   | 214/325 [00:08<00:04, 26.16it/s]\u001b[A\n",
      " 67%|██████▋   | 217/325 [00:08<00:04, 26.24it/s]\u001b[A\n",
      " 68%|██████▊   | 220/325 [00:08<00:03, 26.32it/s]\u001b[A\n",
      " 69%|██████▊   | 223/325 [00:08<00:03, 26.32it/s]\u001b[A\n",
      " 70%|██████▉   | 226/325 [00:08<00:03, 26.09it/s]\u001b[A\n",
      " 70%|███████   | 229/325 [00:08<00:03, 26.17it/s]\u001b[A\n",
      " 71%|███████▏  | 232/325 [00:08<00:03, 26.28it/s]\u001b[A\n",
      " 72%|███████▏  | 235/325 [00:09<00:03, 26.31it/s]\u001b[A\n",
      " 73%|███████▎  | 238/325 [00:09<00:03, 26.37it/s]\u001b[A\n",
      " 74%|███████▍  | 241/325 [00:09<00:03, 26.26it/s]\u001b[A\n",
      " 75%|███████▌  | 244/325 [00:09<00:03, 26.11it/s]\u001b[A\n",
      " 76%|███████▌  | 247/325 [00:09<00:02, 26.12it/s]\u001b[A\n",
      " 77%|███████▋  | 250/325 [00:09<00:02, 26.26it/s]\u001b[A\n",
      " 78%|███████▊  | 253/325 [00:09<00:02, 26.23it/s]\u001b[A\n",
      " 79%|███████▉  | 256/325 [00:09<00:02, 26.32it/s]\u001b[A\n",
      " 80%|███████▉  | 259/325 [00:10<00:02, 26.10it/s]\u001b[A\n",
      " 81%|████████  | 262/325 [00:10<00:02, 26.26it/s]\u001b[A\n",
      " 82%|████████▏ | 265/325 [00:10<00:02, 26.37it/s]\u001b[A\n",
      " 82%|████████▏ | 268/325 [00:10<00:02, 26.24it/s]\u001b[A\n",
      " 83%|████████▎ | 271/325 [00:10<00:02, 26.20it/s]\u001b[A\n",
      " 84%|████████▍ | 274/325 [00:10<00:01, 26.00it/s]\u001b[A\n",
      " 85%|████████▌ | 277/325 [00:10<00:01, 26.02it/s]\u001b[A\n",
      " 86%|████████▌ | 280/325 [00:10<00:01, 26.22it/s]\u001b[A\n",
      " 87%|████████▋ | 283/325 [00:10<00:01, 26.28it/s]\u001b[A\n",
      " 88%|████████▊ | 286/325 [00:11<00:01, 26.36it/s]\u001b[A\n",
      " 89%|████████▉ | 289/325 [00:11<00:01, 26.34it/s]\u001b[A\n",
      " 90%|████████▉ | 292/325 [00:11<00:01, 26.15it/s]\u001b[A\n",
      " 91%|█████████ | 295/325 [00:11<00:01, 26.19it/s]\u001b[A\n",
      " 92%|█████████▏| 298/325 [00:11<00:01, 26.35it/s]\u001b[A\n",
      " 93%|█████████▎| 301/325 [00:11<00:00, 26.40it/s]\u001b[A\n",
      " 94%|█████████▎| 304/325 [00:11<00:00, 26.37it/s]\u001b[A\n",
      " 94%|█████████▍| 307/325 [00:11<00:00, 26.38it/s]\u001b[A\n",
      " 95%|█████████▌| 310/325 [00:11<00:00, 26.45it/s]\u001b[A\n",
      " 96%|█████████▋| 313/325 [00:12<00:00, 26.48it/s]\u001b[A\n",
      " 97%|█████████▋| 316/325 [00:12<00:00, 26.52it/s]\u001b[A\n",
      " 98%|█████████▊| 319/325 [00:12<00:00, 26.53it/s]\u001b[A\n",
      " 99%|█████████▉| 322/325 [00:12<00:00, 26.54it/s]\u001b[A\n",
      "326it [00:12, 25.50it/s]                         \u001b[A"
     ]
    },
    {
     "name": "stdout",
     "output_type": "stream",
     "text": [
      "Train Loss: 0.0052, Train Acc: 97.56\n",
      "Validating\n"
     ]
    },
    {
     "name": "stderr",
     "output_type": "stream",
     "text": [
      "\n",
      "\n",
      "  0%|          | 0/108 [00:00<?, ?it/s]\u001b[A\n",
      "  2%|▏         | 2/108 [00:00<00:05, 18.13it/s]\u001b[A\n",
      "  8%|▊         | 9/108 [00:00<00:04, 23.25it/s]\u001b[A\n",
      " 16%|█▌        | 17/108 [00:00<00:03, 29.09it/s]\u001b[A\n",
      " 22%|██▏       | 24/108 [00:00<00:02, 35.04it/s]\u001b[A\n",
      " 30%|██▉       | 32/108 [00:00<00:01, 41.54it/s]\u001b[A\n",
      " 36%|███▌      | 39/108 [00:00<00:01, 47.14it/s]\u001b[A\n",
      " 43%|████▎     | 46/108 [00:00<00:01, 52.09it/s]\u001b[A\n",
      " 49%|████▉     | 53/108 [00:00<00:00, 56.02it/s]\u001b[A\n",
      " 56%|█████▋    | 61/108 [00:00<00:00, 59.43it/s]\u001b[A\n",
      " 64%|██████▍   | 69/108 [00:01<00:00, 62.06it/s]\u001b[A\n",
      " 70%|███████   | 76/108 [00:01<00:00, 64.08it/s]\u001b[A\n",
      " 77%|███████▋  | 83/108 [00:01<00:00, 65.48it/s]\u001b[A\n",
      " 84%|████████▍ | 91/108 [00:01<00:00, 66.92it/s]\u001b[A\n",
      " 92%|█████████▏| 99/108 [00:01<00:00, 68.26it/s]\u001b[A\n",
      "109it [00:01, 57.40it/s]                         \u001b[A"
     ]
    },
    {
     "name": "stdout",
     "output_type": "stream",
     "text": [
      "Val Loss: 0.1312, Val Acc: 65.90\n",
      "Epoch 37 of 100\n",
      "Training\n"
     ]
    },
    {
     "name": "stderr",
     "output_type": "stream",
     "text": [
      "\n",
      "\n",
      "  0%|          | 0/325 [00:00<?, ?it/s]\u001b[A\n",
      "  0%|          | 1/325 [00:00<00:47,  6.79it/s]\u001b[A\n",
      "  1%|          | 4/325 [00:00<00:36,  8.75it/s]\u001b[A\n",
      "  2%|▏         | 7/325 [00:00<00:29, 10.93it/s]\u001b[A\n",
      "  3%|▎         | 10/325 [00:00<00:23, 13.25it/s]\u001b[A\n",
      "  4%|▍         | 13/325 [00:00<00:20, 15.55it/s]\u001b[A\n",
      "  5%|▍         | 16/325 [00:00<00:17, 17.64it/s]\u001b[A\n",
      "  6%|▌         | 19/325 [00:00<00:16, 19.02it/s]\u001b[A\n",
      "  7%|▋         | 22/325 [00:00<00:14, 20.84it/s]\u001b[A\n",
      "  8%|▊         | 25/325 [00:01<00:13, 22.28it/s]\u001b[A\n",
      "  9%|▊         | 28/325 [00:01<00:12, 23.37it/s]\u001b[A\n",
      " 10%|▉         | 31/325 [00:01<00:12, 24.29it/s]\u001b[A\n",
      " 10%|█         | 34/325 [00:01<00:11, 24.78it/s]\u001b[A\n",
      " 11%|█▏        | 37/325 [00:01<00:11, 25.14it/s]\u001b[A\n",
      " 12%|█▏        | 40/325 [00:01<00:11, 25.45it/s]\u001b[A\n",
      " 13%|█▎        | 43/325 [00:01<00:11, 25.63it/s]\u001b[A\n",
      " 14%|█▍        | 46/325 [00:01<00:10, 25.90it/s]\u001b[A\n",
      " 15%|█▌        | 49/325 [00:01<00:10, 25.99it/s]\u001b[A\n",
      " 16%|█▌        | 52/325 [00:02<00:10, 26.08it/s]\u001b[A\n",
      " 17%|█▋        | 55/325 [00:02<00:10, 26.09it/s]\u001b[A\n",
      " 18%|█▊        | 58/325 [00:02<00:10, 26.23it/s]\u001b[A\n",
      " 19%|█▉        | 61/325 [00:02<00:10, 26.23it/s]\u001b[A\n",
      " 20%|█▉        | 64/325 [00:02<00:09, 26.33it/s]\u001b[A\n",
      " 21%|██        | 67/325 [00:02<00:09, 26.27it/s]\u001b[A\n",
      " 22%|██▏       | 70/325 [00:02<00:09, 26.30it/s]\u001b[A\n",
      " 22%|██▏       | 73/325 [00:02<00:09, 26.29it/s]\u001b[A\n",
      " 23%|██▎       | 76/325 [00:03<00:09, 26.27it/s]\u001b[A\n",
      " 24%|██▍       | 79/325 [00:03<00:09, 26.24it/s]\u001b[A\n",
      " 25%|██▌       | 82/325 [00:03<00:09, 26.27it/s]\u001b[A\n",
      " 26%|██▌       | 85/325 [00:03<00:09, 26.24it/s]\u001b[A\n",
      " 27%|██▋       | 88/325 [00:03<00:09, 26.30it/s]\u001b[A\n",
      " 28%|██▊       | 91/325 [00:03<00:08, 26.31it/s]\u001b[A\n",
      " 29%|██▉       | 94/325 [00:03<00:08, 26.35it/s]\u001b[A\n",
      " 30%|██▉       | 97/325 [00:03<00:08, 26.33it/s]\u001b[A\n",
      " 31%|███       | 100/325 [00:03<00:08, 26.41it/s]\u001b[A\n",
      " 32%|███▏      | 103/325 [00:04<00:08, 26.38it/s]\u001b[A\n",
      " 33%|███▎      | 106/325 [00:04<00:08, 26.40it/s]\u001b[A\n",
      " 34%|███▎      | 109/325 [00:04<00:08, 26.33it/s]\u001b[A\n",
      " 34%|███▍      | 112/325 [00:04<00:08, 26.38it/s]\u001b[A\n",
      " 35%|███▌      | 115/325 [00:04<00:07, 26.27it/s]\u001b[A\n",
      " 36%|███▋      | 118/325 [00:04<00:07, 26.30it/s]\u001b[A\n",
      " 37%|███▋      | 121/325 [00:04<00:07, 26.28it/s]\u001b[A\n",
      " 38%|███▊      | 124/325 [00:04<00:07, 26.22it/s]\u001b[A\n",
      " 39%|███▉      | 127/325 [00:04<00:07, 26.26it/s]\u001b[A\n",
      " 40%|████      | 130/325 [00:05<00:07, 26.25it/s]\u001b[A\n",
      " 41%|████      | 133/325 [00:05<00:07, 26.16it/s]\u001b[A\n",
      " 42%|████▏     | 136/325 [00:05<00:07, 26.27it/s]\u001b[A\n",
      " 43%|████▎     | 139/325 [00:05<00:07, 26.23it/s]\u001b[A\n",
      " 44%|████▎     | 142/325 [00:05<00:06, 26.31it/s]\u001b[A\n",
      " 45%|████▍     | 145/325 [00:05<00:06, 26.24it/s]\u001b[A\n",
      " 46%|████▌     | 148/325 [00:05<00:06, 26.31it/s]\u001b[A\n",
      " 46%|████▋     | 151/325 [00:05<00:06, 26.32it/s]\u001b[A\n",
      " 47%|████▋     | 154/325 [00:05<00:06, 26.39it/s]\u001b[A\n",
      " 48%|████▊     | 157/325 [00:06<00:06, 26.30it/s]\u001b[A\n",
      " 49%|████▉     | 160/325 [00:06<00:06, 26.20it/s]\u001b[A\n",
      " 50%|█████     | 163/325 [00:06<00:06, 25.49it/s]\u001b[A\n",
      " 51%|█████     | 166/325 [00:06<00:06, 25.80it/s]\u001b[A\n",
      " 52%|█████▏    | 169/325 [00:06<00:06, 26.00it/s]\u001b[A\n",
      " 53%|█████▎    | 172/325 [00:06<00:05, 26.13it/s]\u001b[A\n",
      " 54%|█████▍    | 175/325 [00:06<00:05, 26.16it/s]\u001b[A\n",
      " 55%|█████▍    | 178/325 [00:06<00:05, 25.57it/s]\u001b[A\n",
      " 56%|█████▌    | 181/325 [00:07<00:05, 25.74it/s]\u001b[A\n",
      " 57%|█████▋    | 184/325 [00:07<00:05, 25.97it/s]\u001b[A\n",
      " 58%|█████▊    | 187/325 [00:07<00:05, 26.03it/s]\u001b[A\n",
      " 58%|█████▊    | 190/325 [00:07<00:05, 26.18it/s]\u001b[A\n",
      " 59%|█████▉    | 193/325 [00:07<00:05, 25.39it/s]\u001b[A\n",
      " 60%|██████    | 196/325 [00:07<00:05, 25.74it/s]\u001b[A\n",
      " 61%|██████    | 199/325 [00:07<00:04, 25.96it/s]\u001b[A\n",
      " 62%|██████▏   | 202/325 [00:07<00:04, 26.15it/s]\u001b[A\n",
      " 63%|██████▎   | 205/325 [00:07<00:04, 26.23it/s]\u001b[A\n",
      " 64%|██████▍   | 208/325 [00:08<00:04, 26.30it/s]\u001b[A\n",
      " 65%|██████▍   | 211/325 [00:08<00:04, 25.63it/s]\u001b[A\n",
      " 66%|██████▌   | 214/325 [00:08<00:04, 25.87it/s]\u001b[A\n",
      " 67%|██████▋   | 217/325 [00:08<00:04, 25.98it/s]\u001b[A\n",
      " 68%|██████▊   | 220/325 [00:08<00:04, 26.14it/s]\u001b[A\n",
      " 69%|██████▊   | 223/325 [00:08<00:03, 26.18it/s]\u001b[A\n",
      " 70%|██████▉   | 226/325 [00:08<00:03, 25.55it/s]\u001b[A\n",
      " 70%|███████   | 229/325 [00:08<00:03, 25.75it/s]\u001b[A\n",
      " 71%|███████▏  | 232/325 [00:08<00:03, 25.99it/s]\u001b[A\n",
      " 72%|███████▏  | 235/325 [00:09<00:03, 26.16it/s]\u001b[A\n",
      " 73%|███████▎  | 238/325 [00:09<00:03, 26.29it/s]\u001b[A\n",
      " 74%|███████▍  | 241/325 [00:09<00:03, 26.34it/s]\u001b[A\n",
      " 75%|███████▌  | 244/325 [00:09<00:03, 26.37it/s]\u001b[A\n",
      " 76%|███████▌  | 247/325 [00:09<00:02, 26.37it/s]\u001b[A\n",
      " 77%|███████▋  | 250/325 [00:09<00:02, 26.41it/s]\u001b[A\n",
      " 78%|███████▊  | 253/325 [00:09<00:02, 26.38it/s]\u001b[A\n",
      " 79%|███████▉  | 256/325 [00:09<00:02, 26.41it/s]\u001b[A\n",
      " 80%|███████▉  | 259/325 [00:10<00:02, 26.34it/s]\u001b[A\n",
      " 81%|████████  | 262/325 [00:10<00:02, 26.37it/s]\u001b[A\n",
      " 82%|████████▏ | 265/325 [00:10<00:02, 26.35it/s]\u001b[A\n",
      " 82%|████████▏ | 268/325 [00:10<00:02, 26.40it/s]\u001b[A\n",
      " 83%|████████▎ | 271/325 [00:10<00:02, 26.35it/s]\u001b[A\n",
      " 84%|████████▍ | 274/325 [00:10<00:01, 26.40it/s]\u001b[A\n",
      " 85%|████████▌ | 277/325 [00:10<00:01, 26.37it/s]\u001b[A\n",
      " 86%|████████▌ | 280/325 [00:10<00:01, 26.35it/s]\u001b[A\n",
      " 87%|████████▋ | 283/325 [00:10<00:01, 26.31it/s]\u001b[A\n",
      " 88%|████████▊ | 286/325 [00:11<00:01, 26.34it/s]\u001b[A\n",
      " 89%|████████▉ | 289/325 [00:11<00:01, 26.16it/s]\u001b[A\n",
      " 90%|████████▉ | 292/325 [00:11<00:01, 26.37it/s]\u001b[A\n",
      " 91%|█████████ | 295/325 [00:11<00:01, 26.33it/s]\u001b[A\n",
      " 92%|█████████▏| 298/325 [00:11<00:01, 26.35it/s]\u001b[A\n",
      " 93%|█████████▎| 301/325 [00:11<00:00, 26.34it/s]\u001b[A\n",
      " 94%|█████████▎| 304/325 [00:11<00:00, 26.39it/s]\u001b[A\n",
      " 94%|█████████▍| 307/325 [00:11<00:00, 26.43it/s]\u001b[A\n",
      " 95%|█████████▌| 310/325 [00:11<00:00, 26.46it/s]\u001b[A\n",
      " 96%|█████████▋| 313/325 [00:12<00:00, 26.51it/s]\u001b[A\n",
      " 97%|█████████▋| 316/325 [00:12<00:00, 26.55it/s]\u001b[A\n",
      " 98%|█████████▊| 319/325 [00:12<00:00, 26.56it/s]\u001b[A\n",
      " 99%|█████████▉| 322/325 [00:12<00:00, 26.57it/s]\u001b[A\n",
      "326it [00:12, 25.48it/s]                         \u001b[A"
     ]
    },
    {
     "name": "stdout",
     "output_type": "stream",
     "text": [
      "Train Loss: 0.0052, Train Acc: 97.66\n",
      "Validating\n"
     ]
    },
    {
     "name": "stderr",
     "output_type": "stream",
     "text": [
      "\n",
      "\n",
      "  0%|          | 0/108 [00:00<?, ?it/s]\u001b[A\n",
      "  2%|▏         | 2/108 [00:00<00:05, 17.81it/s]\u001b[A\n",
      "  8%|▊         | 9/108 [00:00<00:04, 22.89it/s]\u001b[A\n",
      " 16%|█▌        | 17/108 [00:00<00:03, 28.35it/s]\u001b[A\n",
      " 23%|██▎       | 25/108 [00:00<00:02, 34.79it/s]\u001b[A\n",
      " 31%|███       | 33/108 [00:00<00:01, 41.25it/s]\u001b[A\n",
      " 38%|███▊      | 41/108 [00:00<00:01, 47.08it/s]\u001b[A\n",
      " 44%|████▍     | 48/108 [00:00<00:01, 52.16it/s]\u001b[A\n",
      " 51%|█████     | 55/108 [00:00<00:00, 56.15it/s]\u001b[A\n",
      " 58%|█████▊    | 63/108 [00:00<00:00, 59.93it/s]\u001b[A\n",
      " 66%|██████▌   | 71/108 [00:01<00:00, 62.59it/s]\u001b[A\n",
      " 73%|███████▎  | 79/108 [00:01<00:00, 64.51it/s]\u001b[A\n",
      " 81%|████████  | 87/108 [00:01<00:00, 65.96it/s]\u001b[A\n",
      " 88%|████████▊ | 95/108 [00:01<00:00, 67.65it/s]\u001b[A\n",
      "109it [00:01, 57.51it/s]                         \u001b[A"
     ]
    },
    {
     "name": "stdout",
     "output_type": "stream",
     "text": [
      "Val Loss: 0.1575, Val Acc: 62.67\n",
      "Epoch 38 of 100\n",
      "Training\n"
     ]
    },
    {
     "name": "stderr",
     "output_type": "stream",
     "text": [
      "\n",
      "\n",
      "  0%|          | 0/325 [00:00<?, ?it/s]\u001b[A\n",
      "  0%|          | 1/325 [00:00<00:41,  7.84it/s]\u001b[A\n",
      "  1%|          | 4/325 [00:00<00:32,  9.86it/s]\u001b[A\n",
      "  2%|▏         | 7/325 [00:00<00:26, 12.13it/s]\u001b[A\n",
      "  3%|▎         | 10/325 [00:00<00:21, 14.48it/s]\u001b[A\n",
      "  4%|▍         | 13/325 [00:00<00:18, 16.70it/s]\u001b[A\n",
      "  5%|▍         | 16/325 [00:00<00:16, 18.77it/s]\u001b[A\n",
      "  6%|▌         | 19/325 [00:00<00:15, 20.02it/s]\u001b[A\n",
      "  7%|▋         | 22/325 [00:00<00:14, 21.58it/s]\u001b[A\n",
      "  8%|▊         | 25/325 [00:01<00:13, 22.68it/s]\u001b[A\n",
      "  9%|▊         | 28/325 [00:01<00:12, 23.69it/s]\u001b[A\n",
      " 10%|▉         | 31/325 [00:01<00:12, 24.24it/s]\u001b[A\n",
      " 10%|█         | 34/325 [00:01<00:11, 24.89it/s]\u001b[A\n",
      " 11%|█▏        | 37/325 [00:01<00:11, 25.25it/s]\u001b[A\n",
      " 12%|█▏        | 40/325 [00:01<00:11, 25.59it/s]\u001b[A\n",
      " 13%|█▎        | 43/325 [00:01<00:10, 25.73it/s]\u001b[A\n",
      " 14%|█▍        | 46/325 [00:01<00:10, 25.88it/s]\u001b[A\n",
      " 15%|█▌        | 49/325 [00:01<00:10, 25.98it/s]\u001b[A\n",
      " 16%|█▌        | 52/325 [00:02<00:10, 26.09it/s]\u001b[A\n",
      " 17%|█▋        | 55/325 [00:02<00:10, 26.11it/s]\u001b[A\n",
      " 18%|█▊        | 58/325 [00:02<00:10, 26.23it/s]\u001b[A\n",
      " 19%|█▉        | 61/325 [00:02<00:10, 26.18it/s]\u001b[A\n",
      " 20%|█▉        | 64/325 [00:02<00:09, 26.32it/s]\u001b[A\n",
      " 21%|██        | 67/325 [00:02<00:09, 26.32it/s]\u001b[A\n",
      " 22%|██▏       | 70/325 [00:02<00:09, 26.35it/s]\u001b[A\n",
      " 22%|██▏       | 73/325 [00:02<00:09, 26.35it/s]\u001b[A\n",
      " 23%|██▎       | 76/325 [00:03<00:09, 26.36it/s]\u001b[A\n",
      " 24%|██▍       | 79/325 [00:03<00:09, 26.31it/s]\u001b[A\n",
      " 25%|██▌       | 82/325 [00:03<00:09, 26.33it/s]\u001b[A\n",
      " 26%|██▌       | 85/325 [00:03<00:09, 26.28it/s]\u001b[A\n",
      " 27%|██▋       | 88/325 [00:03<00:09, 26.29it/s]\u001b[A\n",
      " 28%|██▊       | 91/325 [00:03<00:08, 26.19it/s]\u001b[A\n",
      " 29%|██▉       | 94/325 [00:03<00:08, 26.17it/s]\u001b[A\n",
      " 30%|██▉       | 97/325 [00:03<00:08, 26.11it/s]\u001b[A\n",
      " 31%|███       | 100/325 [00:03<00:08, 26.16it/s]\u001b[A\n",
      " 32%|███▏      | 103/325 [00:04<00:08, 26.15it/s]\u001b[A\n",
      " 33%|███▎      | 106/325 [00:04<00:08, 26.26it/s]\u001b[A\n",
      " 34%|███▎      | 109/325 [00:04<00:08, 26.23it/s]\u001b[A\n",
      " 34%|███▍      | 112/325 [00:04<00:08, 26.33it/s]\u001b[A\n",
      " 35%|███▌      | 115/325 [00:04<00:07, 26.32it/s]\u001b[A\n",
      " 36%|███▋      | 118/325 [00:04<00:07, 26.38it/s]\u001b[A\n",
      " 37%|███▋      | 121/325 [00:04<00:07, 26.34it/s]\u001b[A\n",
      " 38%|███▊      | 124/325 [00:04<00:07, 26.37it/s]\u001b[A\n",
      " 39%|███▉      | 127/325 [00:04<00:07, 26.33it/s]\u001b[A\n",
      " 40%|████      | 130/325 [00:05<00:07, 26.39it/s]\u001b[A\n",
      " 41%|████      | 133/325 [00:05<00:07, 26.35it/s]\u001b[A\n",
      " 42%|████▏     | 136/325 [00:05<00:07, 26.36it/s]\u001b[A\n",
      " 43%|████▎     | 139/325 [00:05<00:07, 26.11it/s]\u001b[A\n",
      " 44%|████▎     | 142/325 [00:05<00:06, 26.16it/s]\u001b[A\n",
      " 45%|████▍     | 145/325 [00:05<00:06, 26.11it/s]\u001b[A\n",
      " 46%|████▌     | 148/325 [00:05<00:06, 25.99it/s]\u001b[A\n",
      " 46%|████▋     | 151/325 [00:05<00:06, 25.95it/s]\u001b[A\n",
      " 47%|████▋     | 154/325 [00:05<00:06, 26.18it/s]\u001b[A\n",
      " 48%|████▊     | 157/325 [00:06<00:06, 26.22it/s]\u001b[A\n",
      " 49%|████▉     | 160/325 [00:06<00:06, 26.35it/s]\u001b[A\n",
      " 50%|█████     | 163/325 [00:06<00:06, 26.35it/s]\u001b[A\n",
      " 51%|█████     | 166/325 [00:06<00:06, 25.68it/s]\u001b[A\n",
      " 52%|█████▏    | 169/325 [00:06<00:06, 25.78it/s]\u001b[A\n",
      " 53%|█████▎    | 172/325 [00:06<00:05, 25.99it/s]\u001b[A\n",
      " 54%|█████▍    | 175/325 [00:06<00:05, 26.08it/s]\u001b[A\n",
      " 55%|█████▍    | 178/325 [00:06<00:05, 26.20it/s]\u001b[A\n",
      " 56%|█████▌    | 181/325 [00:07<00:05, 26.26it/s]\u001b[A\n",
      " 57%|█████▋    | 184/325 [00:07<00:05, 25.62it/s]\u001b[A\n",
      " 58%|█████▊    | 187/325 [00:07<00:05, 25.80it/s]\u001b[A\n",
      " 58%|█████▊    | 190/325 [00:07<00:05, 25.94it/s]\u001b[A\n",
      " 59%|█████▉    | 193/325 [00:07<00:05, 26.01it/s]\u001b[A\n",
      " 60%|██████    | 196/325 [00:07<00:04, 26.13it/s]\u001b[A\n",
      " 61%|██████    | 199/325 [00:07<00:04, 25.39it/s]\u001b[A\n",
      " 62%|██████▏   | 202/325 [00:07<00:04, 25.70it/s]\u001b[A\n",
      " 63%|██████▎   | 205/325 [00:07<00:04, 25.68it/s]\u001b[A\n",
      " 64%|██████▍   | 208/325 [00:08<00:04, 26.07it/s]\u001b[A\n",
      " 65%|██████▍   | 211/325 [00:08<00:04, 26.17it/s]\u001b[A\n",
      " 66%|██████▌   | 214/325 [00:08<00:04, 25.60it/s]\u001b[A\n",
      " 67%|██████▋   | 217/325 [00:08<00:04, 25.57it/s]\u001b[A\n",
      " 68%|██████▊   | 220/325 [00:08<00:04, 25.85it/s]\u001b[A\n",
      " 69%|██████▊   | 223/325 [00:08<00:03, 25.84it/s]\u001b[A\n",
      " 70%|██████▉   | 226/325 [00:08<00:03, 26.04it/s]\u001b[A\n",
      " 70%|███████   | 229/325 [00:08<00:03, 26.02it/s]\u001b[A\n",
      " 71%|███████▏  | 232/325 [00:08<00:03, 25.33it/s]\u001b[A\n",
      " 72%|███████▏  | 235/325 [00:09<00:03, 25.61it/s]\u001b[A\n",
      " 73%|███████▎  | 238/325 [00:09<00:03, 25.84it/s]\u001b[A\n",
      " 74%|███████▍  | 241/325 [00:09<00:03, 25.91it/s]\u001b[A\n",
      " 75%|███████▌  | 244/325 [00:09<00:03, 26.07it/s]\u001b[A\n",
      " 76%|███████▌  | 247/325 [00:09<00:03, 25.35it/s]\u001b[A\n",
      " 77%|███████▋  | 250/325 [00:09<00:02, 25.67it/s]\u001b[A\n",
      " 78%|███████▊  | 253/325 [00:09<00:02, 25.71it/s]\u001b[A\n",
      " 79%|███████▉  | 256/325 [00:09<00:02, 25.98it/s]\u001b[A\n",
      " 80%|███████▉  | 259/325 [00:10<00:02, 26.03it/s]\u001b[A\n",
      " 81%|████████  | 262/325 [00:10<00:02, 25.21it/s]\u001b[A\n",
      " 82%|████████▏ | 265/325 [00:10<00:02, 25.45it/s]\u001b[A\n",
      " 82%|████████▏ | 268/325 [00:10<00:02, 25.82it/s]\u001b[A\n",
      " 83%|████████▎ | 271/325 [00:10<00:02, 26.08it/s]\u001b[A\n",
      " 84%|████████▍ | 274/325 [00:10<00:01, 26.20it/s]\u001b[A\n",
      " 85%|████████▌ | 277/325 [00:10<00:01, 26.18it/s]\u001b[A\n",
      " 86%|████████▌ | 280/325 [00:10<00:01, 26.33it/s]\u001b[A\n",
      " 87%|████████▋ | 283/325 [00:10<00:01, 26.36it/s]\u001b[A\n",
      " 88%|████████▊ | 286/325 [00:11<00:01, 26.24it/s]\u001b[A\n",
      " 89%|████████▉ | 289/325 [00:11<00:01, 26.23it/s]\u001b[A\n",
      " 90%|████████▉ | 292/325 [00:11<00:01, 26.31it/s]\u001b[A\n",
      " 91%|█████████ | 295/325 [00:11<00:01, 26.34it/s]\u001b[A\n",
      " 92%|█████████▏| 298/325 [00:11<00:01, 26.45it/s]\u001b[A\n",
      " 93%|█████████▎| 301/325 [00:11<00:00, 26.51it/s]\u001b[A\n",
      " 94%|█████████▎| 304/325 [00:11<00:00, 26.47it/s]\u001b[A\n",
      " 94%|█████████▍| 307/325 [00:11<00:00, 26.48it/s]\u001b[A\n",
      " 95%|█████████▌| 310/325 [00:11<00:00, 26.52it/s]\u001b[A\n",
      " 96%|█████████▋| 313/325 [00:12<00:00, 26.57it/s]\u001b[A\n",
      " 97%|█████████▋| 316/325 [00:12<00:00, 26.60it/s]\u001b[A\n",
      " 98%|█████████▊| 319/325 [00:12<00:00, 26.64it/s]\u001b[A\n",
      " 99%|█████████▉| 322/325 [00:12<00:00, 26.66it/s]\u001b[A\n",
      "326it [00:12, 25.45it/s]                         \u001b[A"
     ]
    },
    {
     "name": "stdout",
     "output_type": "stream",
     "text": [
      "Train Loss: 0.0090, Train Acc: 96.16\n",
      "Validating\n"
     ]
    },
    {
     "name": "stderr",
     "output_type": "stream",
     "text": [
      "\n",
      "\n",
      "  0%|          | 0/108 [00:00<?, ?it/s]\u001b[A\n",
      "  3%|▎         | 3/108 [00:00<00:03, 28.38it/s]\u001b[A\n",
      " 10%|█         | 11/108 [00:00<00:02, 34.54it/s]\u001b[A\n",
      " 17%|█▋        | 18/108 [00:00<00:02, 39.61it/s]\u001b[A\n",
      " 24%|██▍       | 26/108 [00:00<00:01, 45.97it/s]\u001b[A\n",
      " 31%|███       | 33/108 [00:00<00:01, 51.22it/s]\u001b[A\n",
      " 37%|███▋      | 40/108 [00:00<00:01, 55.46it/s]\u001b[A\n",
      " 44%|████▎     | 47/108 [00:00<00:01, 58.36it/s]\u001b[A\n",
      " 50%|█████     | 54/108 [00:00<00:00, 61.38it/s]\u001b[A\n",
      " 56%|█████▋    | 61/108 [00:00<00:00, 63.03it/s]\u001b[A\n",
      " 63%|██████▎   | 68/108 [00:01<00:00, 64.89it/s]\u001b[A\n",
      " 69%|██████▉   | 75/108 [00:01<00:00, 64.34it/s]\u001b[A\n",
      " 77%|███████▋  | 83/108 [00:01<00:00, 65.84it/s]\u001b[A\n",
      " 84%|████████▍ | 91/108 [00:01<00:00, 67.22it/s]\u001b[A\n",
      " 92%|█████████▏| 99/108 [00:01<00:00, 68.00it/s]\u001b[A\n",
      "109it [00:01, 57.60it/s]                         \u001b[A"
     ]
    },
    {
     "name": "stdout",
     "output_type": "stream",
     "text": [
      "Val Loss: 0.1467, Val Acc: 65.55\n",
      "Epoch 39 of 100\n",
      "Training\n"
     ]
    },
    {
     "name": "stderr",
     "output_type": "stream",
     "text": [
      "\n",
      "\n",
      "  0%|          | 0/325 [00:00<?, ?it/s]\u001b[A\n",
      "  0%|          | 1/325 [00:00<00:35,  9.25it/s]\u001b[A\n",
      "  1%|          | 4/325 [00:00<00:28, 11.46it/s]\u001b[A\n",
      "  2%|▏         | 7/325 [00:00<00:23, 13.58it/s]\u001b[A\n",
      "  3%|▎         | 10/325 [00:00<00:19, 15.91it/s]\u001b[A\n",
      "  4%|▍         | 13/325 [00:00<00:17, 18.10it/s]\u001b[A\n",
      "  5%|▍         | 16/325 [00:00<00:15, 19.95it/s]\u001b[A\n",
      "  6%|▌         | 19/325 [00:00<00:14, 21.54it/s]\u001b[A\n",
      "  7%|▋         | 22/325 [00:00<00:13, 22.52it/s]\u001b[A\n",
      "  8%|▊         | 25/325 [00:01<00:12, 23.60it/s]\u001b[A\n",
      "  9%|▊         | 28/325 [00:01<00:12, 24.29it/s]\u001b[A\n",
      " 10%|▉         | 31/325 [00:01<00:11, 24.95it/s]\u001b[A\n",
      " 10%|█         | 34/325 [00:01<00:11, 25.25it/s]\u001b[A\n",
      " 11%|█▏        | 37/325 [00:01<00:11, 25.45it/s]\u001b[A\n",
      " 12%|█▏        | 40/325 [00:01<00:11, 25.70it/s]\u001b[A\n",
      " 13%|█▎        | 43/325 [00:01<00:10, 25.82it/s]\u001b[A\n",
      " 14%|█▍        | 46/325 [00:01<00:10, 26.02it/s]\u001b[A\n",
      " 15%|█▌        | 49/325 [00:01<00:10, 26.06it/s]\u001b[A\n",
      " 16%|█▌        | 52/325 [00:02<00:10, 26.15it/s]\u001b[A\n",
      " 17%|█▋        | 55/325 [00:02<00:10, 26.13it/s]\u001b[A\n",
      " 18%|█▊        | 58/325 [00:02<00:10, 26.24it/s]\u001b[A\n",
      " 19%|█▉        | 61/325 [00:02<00:10, 26.26it/s]\u001b[A\n",
      " 20%|█▉        | 64/325 [00:02<00:09, 26.34it/s]\u001b[A\n",
      " 21%|██        | 67/325 [00:02<00:09, 26.31it/s]\u001b[A\n",
      " 22%|██▏       | 70/325 [00:02<00:09, 26.34it/s]\u001b[A\n",
      " 22%|██▏       | 73/325 [00:02<00:09, 26.30it/s]\u001b[A\n",
      " 23%|██▎       | 76/325 [00:02<00:09, 26.32it/s]\u001b[A\n",
      " 24%|██▍       | 79/325 [00:03<00:09, 26.32it/s]\u001b[A\n",
      " 25%|██▌       | 82/325 [00:03<00:09, 26.26it/s]\u001b[A\n",
      " 26%|██▌       | 85/325 [00:03<00:09, 26.33it/s]\u001b[A\n",
      " 27%|██▋       | 88/325 [00:03<00:08, 26.40it/s]\u001b[A\n",
      " 28%|██▊       | 91/325 [00:03<00:08, 26.35it/s]\u001b[A\n",
      " 29%|██▉       | 94/325 [00:03<00:08, 26.37it/s]\u001b[A\n",
      " 30%|██▉       | 97/325 [00:03<00:08, 26.27it/s]\u001b[A\n",
      " 31%|███       | 100/325 [00:03<00:08, 26.36it/s]\u001b[A\n",
      " 32%|███▏      | 103/325 [00:04<00:08, 26.33it/s]\u001b[A\n",
      " 33%|███▎      | 106/325 [00:04<00:08, 26.20it/s]\u001b[A\n",
      " 34%|███▎      | 109/325 [00:04<00:08, 26.08it/s]\u001b[A\n",
      " 34%|███▍      | 112/325 [00:04<00:08, 26.16it/s]\u001b[A\n",
      " 35%|███▌      | 115/325 [00:04<00:08, 26.22it/s]\u001b[A\n",
      " 36%|███▋      | 118/325 [00:04<00:07, 26.32it/s]\u001b[A\n",
      " 37%|███▋      | 121/325 [00:04<00:07, 26.32it/s]\u001b[A\n",
      " 38%|███▊      | 124/325 [00:04<00:07, 26.36it/s]\u001b[A\n",
      " 39%|███▉      | 127/325 [00:04<00:07, 26.25it/s]\u001b[A\n",
      " 40%|████      | 130/325 [00:05<00:07, 26.33it/s]\u001b[A\n",
      " 41%|████      | 133/325 [00:05<00:07, 26.33it/s]\u001b[A\n",
      " 42%|████▏     | 136/325 [00:05<00:07, 26.38it/s]\u001b[A\n",
      " 43%|████▎     | 139/325 [00:05<00:07, 26.35it/s]\u001b[A\n",
      " 44%|████▎     | 142/325 [00:05<00:06, 26.33it/s]\u001b[A\n",
      " 45%|████▍     | 145/325 [00:05<00:06, 26.29it/s]\u001b[A\n",
      " 46%|████▌     | 148/325 [00:05<00:06, 26.37it/s]\u001b[A\n",
      " 46%|████▋     | 151/325 [00:05<00:06, 26.39it/s]\u001b[A\n",
      " 47%|████▋     | 154/325 [00:05<00:06, 26.44it/s]\u001b[A\n",
      " 48%|████▊     | 157/325 [00:06<00:06, 26.43it/s]\u001b[A\n",
      " 49%|████▉     | 160/325 [00:06<00:06, 26.45it/s]\u001b[A\n",
      " 50%|█████     | 163/325 [00:06<00:06, 26.40it/s]\u001b[A\n",
      " 51%|█████     | 166/325 [00:06<00:06, 26.42it/s]\u001b[A\n",
      " 52%|█████▏    | 169/325 [00:06<00:05, 26.36it/s]\u001b[A\n",
      " 53%|█████▎    | 172/325 [00:06<00:05, 26.40it/s]\u001b[A\n",
      " 54%|█████▍    | 175/325 [00:06<00:05, 26.33it/s]\u001b[A\n",
      " 55%|█████▍    | 178/325 [00:06<00:05, 26.38it/s]\u001b[A\n",
      " 56%|█████▌    | 181/325 [00:06<00:05, 26.34it/s]\u001b[A\n",
      " 57%|█████▋    | 184/325 [00:07<00:05, 26.38it/s]\u001b[A\n",
      " 58%|█████▊    | 187/325 [00:07<00:05, 26.35it/s]\u001b[A\n",
      " 58%|█████▊    | 190/325 [00:07<00:05, 26.40it/s]\u001b[A\n",
      " 59%|█████▉    | 193/325 [00:07<00:04, 26.41it/s]\u001b[A\n",
      " 60%|██████    | 196/325 [00:07<00:04, 26.46it/s]\u001b[A\n",
      " 61%|██████    | 199/325 [00:07<00:04, 26.43it/s]\u001b[A\n",
      " 62%|██████▏   | 202/325 [00:07<00:04, 26.41it/s]\u001b[A\n",
      " 63%|██████▎   | 205/325 [00:07<00:04, 26.34it/s]\u001b[A\n",
      " 64%|██████▍   | 208/325 [00:07<00:04, 26.34it/s]\u001b[A\n",
      " 65%|██████▍   | 211/325 [00:08<00:04, 26.34it/s]\u001b[A\n",
      " 66%|██████▌   | 214/325 [00:08<00:04, 26.28it/s]\u001b[A\n",
      " 67%|██████▋   | 217/325 [00:08<00:04, 26.16it/s]\u001b[A\n",
      " 68%|██████▊   | 220/325 [00:08<00:04, 26.25it/s]\u001b[A\n",
      " 69%|██████▊   | 223/325 [00:08<00:03, 26.25it/s]\u001b[A\n",
      " 70%|██████▉   | 226/325 [00:08<00:03, 26.33it/s]\u001b[A\n",
      " 70%|███████   | 229/325 [00:08<00:03, 26.40it/s]\u001b[A\n",
      " 71%|███████▏  | 232/325 [00:08<00:03, 26.42it/s]\u001b[A\n",
      " 72%|███████▏  | 235/325 [00:09<00:03, 26.38it/s]\u001b[A\n",
      " 73%|███████▎  | 238/325 [00:09<00:03, 26.32it/s]\u001b[A\n",
      " 74%|███████▍  | 241/325 [00:09<00:03, 26.29it/s]\u001b[A\n",
      " 75%|███████▌  | 244/325 [00:09<00:03, 26.39it/s]\u001b[A\n",
      " 76%|███████▌  | 247/325 [00:09<00:02, 26.41it/s]\u001b[A\n",
      " 77%|███████▋  | 250/325 [00:09<00:02, 26.40it/s]\u001b[A\n",
      " 78%|███████▊  | 253/325 [00:09<00:02, 26.34it/s]\u001b[A\n",
      " 79%|███████▉  | 256/325 [00:09<00:02, 26.35it/s]\u001b[A\n",
      " 80%|███████▉  | 259/325 [00:09<00:02, 26.03it/s]\u001b[A\n",
      " 81%|████████  | 262/325 [00:10<00:02, 26.03it/s]\u001b[A\n",
      " 82%|████████▏ | 265/325 [00:10<00:02, 26.05it/s]\u001b[A\n",
      " 82%|████████▏ | 268/325 [00:10<00:02, 26.16it/s]\u001b[A\n",
      " 83%|████████▎ | 271/325 [00:10<00:02, 26.13it/s]\u001b[A\n",
      " 84%|████████▍ | 274/325 [00:10<00:01, 26.26it/s]\u001b[A\n",
      " 85%|████████▌ | 277/325 [00:10<00:01, 26.28it/s]\u001b[A\n",
      " 86%|████████▌ | 280/325 [00:10<00:01, 26.37it/s]\u001b[A\n",
      " 87%|████████▋ | 283/325 [00:10<00:01, 26.31it/s]\u001b[A\n",
      " 88%|████████▊ | 286/325 [00:10<00:01, 26.33it/s]\u001b[A\n",
      " 89%|████████▉ | 289/325 [00:11<00:01, 26.30it/s]\u001b[A\n",
      " 90%|████████▉ | 292/325 [00:11<00:01, 26.27it/s]\u001b[A\n",
      " 91%|█████████ | 295/325 [00:11<00:01, 26.21it/s]\u001b[A\n",
      " 92%|█████████▏| 298/325 [00:11<00:01, 26.33it/s]\u001b[A\n",
      " 93%|█████████▎| 301/325 [00:11<00:00, 26.38it/s]\u001b[A\n",
      " 94%|█████████▎| 304/325 [00:11<00:00, 26.47it/s]\u001b[A\n",
      " 94%|█████████▍| 307/325 [00:11<00:00, 26.55it/s]\u001b[A\n",
      " 95%|█████████▌| 310/325 [00:11<00:00, 26.56it/s]\u001b[A\n",
      " 96%|█████████▋| 313/325 [00:11<00:00, 26.53it/s]\u001b[A\n",
      " 97%|█████████▋| 316/325 [00:12<00:00, 26.63it/s]\u001b[A\n",
      " 98%|█████████▊| 319/325 [00:12<00:00, 26.63it/s]\u001b[A\n",
      " 99%|█████████▉| 322/325 [00:12<00:00, 26.59it/s]\u001b[A\n",
      "326it [00:12, 25.69it/s]                         \u001b[A"
     ]
    },
    {
     "name": "stdout",
     "output_type": "stream",
     "text": [
      "Train Loss: 0.0083, Train Acc: 95.93\n",
      "Validating\n"
     ]
    },
    {
     "name": "stderr",
     "output_type": "stream",
     "text": [
      "\n",
      "\n",
      "  0%|          | 0/108 [00:00<?, ?it/s]\u001b[A\n",
      "  3%|▎         | 3/108 [00:00<00:04, 21.30it/s]\u001b[A\n",
      " 10%|█         | 11/108 [00:00<00:03, 26.92it/s]\u001b[A\n",
      " 18%|█▊        | 19/108 [00:00<00:02, 32.63it/s]\u001b[A\n",
      " 25%|██▌       | 27/108 [00:00<00:02, 39.05it/s]\u001b[A\n",
      " 32%|███▏      | 35/108 [00:00<00:01, 45.34it/s]\u001b[A\n",
      " 40%|███▉      | 43/108 [00:00<00:01, 50.55it/s]\u001b[A\n",
      " 46%|████▋     | 50/108 [00:00<00:01, 55.06it/s]\u001b[A\n",
      " 53%|█████▎    | 57/108 [00:00<00:00, 58.57it/s]\u001b[A\n",
      " 60%|██████    | 65/108 [00:01<00:00, 61.40it/s]\u001b[A\n",
      " 67%|██████▋   | 72/108 [00:01<00:00, 63.29it/s]\u001b[A\n",
      " 73%|███████▎  | 79/108 [00:01<00:00, 64.35it/s]\u001b[A\n",
      " 81%|████████  | 87/108 [00:01<00:00, 66.13it/s]\u001b[A\n",
      " 88%|████████▊ | 95/108 [00:01<00:00, 67.72it/s]\u001b[A\n",
      "109it [00:01, 56.55it/s]                         \u001b[A"
     ]
    },
    {
     "name": "stdout",
     "output_type": "stream",
     "text": [
      "Val Loss: 0.1662, Val Acc: 62.62\n",
      "Epoch 40 of 100\n",
      "Training\n"
     ]
    },
    {
     "name": "stderr",
     "output_type": "stream",
     "text": [
      "\n",
      "\n",
      "  0%|          | 0/325 [00:00<?, ?it/s]\u001b[A\n",
      "  0%|          | 1/325 [00:00<00:36,  8.89it/s]\u001b[A\n",
      "  1%|          | 4/325 [00:00<00:29, 10.94it/s]\u001b[A\n",
      "  2%|▏         | 7/325 [00:00<00:24, 13.25it/s]\u001b[A\n",
      "  3%|▎         | 10/325 [00:00<00:20, 15.58it/s]\u001b[A\n",
      "  4%|▍         | 13/325 [00:00<00:17, 17.69it/s]\u001b[A\n",
      "  5%|▍         | 16/325 [00:00<00:15, 19.63it/s]\u001b[A\n",
      "  6%|▌         | 19/325 [00:00<00:14, 20.96it/s]\u001b[A\n",
      "  7%|▋         | 22/325 [00:00<00:13, 22.38it/s]\u001b[A\n",
      "  8%|▊         | 25/325 [00:01<00:12, 23.40it/s]\u001b[A\n",
      "  9%|▊         | 28/325 [00:01<00:12, 24.31it/s]\u001b[A\n",
      " 10%|▉         | 31/325 [00:01<00:11, 24.91it/s]\u001b[A\n",
      " 10%|█         | 34/325 [00:01<00:11, 25.36it/s]\u001b[A\n",
      " 11%|█▏        | 37/325 [00:01<00:11, 25.61it/s]\u001b[A\n",
      " 12%|█▏        | 40/325 [00:01<00:11, 25.80it/s]\u001b[A\n",
      " 13%|█▎        | 43/325 [00:01<00:10, 25.70it/s]\u001b[A\n",
      " 14%|█▍        | 46/325 [00:01<00:10, 25.89it/s]\u001b[A\n",
      " 15%|█▌        | 49/325 [00:01<00:10, 25.99it/s]\u001b[A\n",
      " 16%|█▌        | 52/325 [00:02<00:10, 26.14it/s]\u001b[A\n",
      " 17%|█▋        | 55/325 [00:02<00:10, 26.23it/s]\u001b[A\n",
      " 18%|█▊        | 58/325 [00:02<00:10, 26.26it/s]\u001b[A\n",
      " 19%|█▉        | 61/325 [00:02<00:10, 26.11it/s]\u001b[A\n",
      " 20%|█▉        | 64/325 [00:02<00:09, 26.25it/s]\u001b[A\n",
      " 21%|██        | 67/325 [00:02<00:09, 26.28it/s]\u001b[A\n",
      " 22%|██▏       | 70/325 [00:02<00:09, 26.34it/s]\u001b[A\n",
      " 22%|██▏       | 73/325 [00:02<00:09, 26.30it/s]\u001b[A\n",
      " 23%|██▎       | 76/325 [00:02<00:09, 26.36it/s]\u001b[A\n",
      " 24%|██▍       | 79/325 [00:03<00:09, 26.33it/s]\u001b[A\n",
      " 25%|██▌       | 82/325 [00:03<00:09, 26.38it/s]\u001b[A\n",
      " 26%|██▌       | 85/325 [00:03<00:09, 26.40it/s]\u001b[A\n",
      " 27%|██▋       | 88/325 [00:03<00:08, 26.43it/s]\u001b[A\n",
      " 28%|██▊       | 91/325 [00:03<00:08, 26.41it/s]\u001b[A\n",
      " 29%|██▉       | 94/325 [00:03<00:08, 26.41it/s]\u001b[A\n",
      " 30%|██▉       | 97/325 [00:03<00:08, 26.43it/s]\u001b[A\n",
      " 31%|███       | 100/325 [00:03<00:08, 26.46it/s]\u001b[A\n",
      " 32%|███▏      | 103/325 [00:04<00:08, 26.40it/s]\u001b[A\n",
      " 33%|███▎      | 106/325 [00:04<00:08, 26.44it/s]\u001b[A\n",
      " 34%|███▎      | 109/325 [00:04<00:08, 26.35it/s]\u001b[A\n",
      " 34%|███▍      | 112/325 [00:04<00:08, 26.40it/s]\u001b[A\n",
      " 35%|███▌      | 115/325 [00:04<00:07, 26.35it/s]\u001b[A\n",
      " 36%|███▋      | 118/325 [00:04<00:07, 26.37it/s]\u001b[A\n",
      " 37%|███▋      | 121/325 [00:04<00:07, 26.27it/s]\u001b[A\n",
      " 38%|███▊      | 124/325 [00:04<00:07, 26.32it/s]\u001b[A\n",
      " 39%|███▉      | 127/325 [00:04<00:07, 26.27it/s]\u001b[A\n",
      " 40%|████      | 130/325 [00:05<00:07, 26.39it/s]\u001b[A\n",
      " 41%|████      | 133/325 [00:05<00:07, 26.43it/s]\u001b[A\n",
      " 42%|████▏     | 136/325 [00:05<00:07, 26.45it/s]\u001b[A\n",
      " 43%|████▎     | 139/325 [00:05<00:07, 26.36it/s]\u001b[A\n",
      " 44%|████▎     | 142/325 [00:05<00:06, 26.36it/s]\u001b[A\n",
      " 45%|████▍     | 145/325 [00:05<00:06, 26.33it/s]\u001b[A\n",
      " 46%|████▌     | 148/325 [00:05<00:06, 26.35it/s]\u001b[A\n",
      " 46%|████▋     | 151/325 [00:05<00:06, 26.34it/s]\u001b[A\n",
      " 47%|████▋     | 154/325 [00:05<00:06, 26.38it/s]\u001b[A\n",
      " 48%|████▊     | 157/325 [00:06<00:06, 26.33it/s]\u001b[A\n",
      " 49%|████▉     | 160/325 [00:06<00:06, 26.34it/s]\u001b[A\n",
      " 50%|█████     | 163/325 [00:06<00:06, 26.30it/s]\u001b[A\n",
      " 51%|█████     | 166/325 [00:06<00:06, 26.33it/s]\u001b[A\n",
      " 52%|█████▏    | 169/325 [00:06<00:05, 26.31it/s]\u001b[A\n",
      " 53%|█████▎    | 172/325 [00:06<00:05, 26.34it/s]\u001b[A\n",
      " 54%|█████▍    | 175/325 [00:06<00:05, 26.22it/s]\u001b[A\n",
      " 55%|█████▍    | 178/325 [00:06<00:05, 26.28it/s]\u001b[A\n",
      " 56%|█████▌    | 181/325 [00:06<00:05, 26.25it/s]\u001b[A\n",
      " 57%|█████▋    | 184/325 [00:07<00:05, 26.29it/s]\u001b[A\n",
      " 58%|█████▊    | 187/325 [00:07<00:05, 26.26it/s]\u001b[A\n",
      " 58%|█████▊    | 190/325 [00:07<00:05, 26.29it/s]\u001b[A\n",
      " 59%|█████▉    | 193/325 [00:07<00:05, 26.24it/s]\u001b[A\n",
      " 60%|██████    | 196/325 [00:07<00:04, 26.30it/s]\u001b[A\n",
      " 61%|██████    | 199/325 [00:07<00:04, 26.33it/s]\u001b[A\n",
      " 62%|██████▏   | 202/325 [00:07<00:04, 26.39it/s]\u001b[A\n",
      " 63%|██████▎   | 205/325 [00:07<00:04, 26.37it/s]\u001b[A\n",
      " 64%|██████▍   | 208/325 [00:07<00:04, 26.38it/s]\u001b[A\n",
      " 65%|██████▍   | 211/325 [00:08<00:04, 26.33it/s]\u001b[A\n",
      " 66%|██████▌   | 214/325 [00:08<00:04, 26.35it/s]\u001b[A\n",
      " 67%|██████▋   | 217/325 [00:08<00:04, 26.33it/s]\u001b[A\n",
      " 68%|██████▊   | 220/325 [00:08<00:04, 26.25it/s]\u001b[A\n",
      " 69%|██████▊   | 223/325 [00:08<00:03, 26.20it/s]\u001b[A\n",
      " 70%|██████▉   | 226/325 [00:08<00:03, 26.25it/s]\u001b[A\n",
      " 70%|███████   | 229/325 [00:08<00:03, 26.21it/s]\u001b[A\n",
      " 71%|███████▏  | 232/325 [00:08<00:03, 26.27it/s]\u001b[A\n",
      " 72%|███████▏  | 235/325 [00:09<00:03, 26.31it/s]\u001b[A\n",
      " 73%|███████▎  | 238/325 [00:09<00:03, 26.35it/s]\u001b[A\n",
      " 74%|███████▍  | 241/325 [00:09<00:03, 26.31it/s]\u001b[A\n",
      " 75%|███████▌  | 244/325 [00:09<00:03, 26.33it/s]\u001b[A\n",
      " 76%|███████▌  | 247/325 [00:09<00:02, 26.30it/s]\u001b[A\n",
      " 77%|███████▋  | 250/325 [00:09<00:02, 26.31it/s]\u001b[A\n",
      " 78%|███████▊  | 253/325 [00:09<00:02, 26.29it/s]\u001b[A\n",
      " 79%|███████▉  | 256/325 [00:09<00:02, 26.32it/s]\u001b[A\n",
      " 80%|███████▉  | 259/325 [00:09<00:02, 26.29it/s]\u001b[A\n",
      " 81%|████████  | 262/325 [00:10<00:02, 26.35it/s]\u001b[A\n",
      " 82%|████████▏ | 265/325 [00:10<00:02, 26.34it/s]\u001b[A\n",
      " 82%|████████▏ | 268/325 [00:10<00:02, 26.42it/s]\u001b[A\n",
      " 83%|████████▎ | 271/325 [00:10<00:02, 26.43it/s]\u001b[A\n",
      " 84%|████████▍ | 274/325 [00:10<00:01, 26.47it/s]\u001b[A\n",
      " 85%|████████▌ | 277/325 [00:10<00:01, 26.46it/s]\u001b[A\n",
      " 86%|████████▌ | 280/325 [00:10<00:01, 26.48it/s]\u001b[A\n",
      " 87%|████████▋ | 283/325 [00:10<00:01, 26.44it/s]\u001b[A\n",
      " 88%|████████▊ | 286/325 [00:10<00:01, 26.49it/s]\u001b[A\n",
      " 89%|████████▉ | 289/325 [00:11<00:01, 26.42it/s]\u001b[A\n",
      " 90%|████████▉ | 292/325 [00:11<00:01, 26.45it/s]\u001b[A\n",
      " 91%|█████████ | 295/325 [00:11<00:01, 26.43it/s]\u001b[A\n",
      " 92%|█████████▏| 298/325 [00:11<00:01, 26.45it/s]\u001b[A\n",
      " 93%|█████████▎| 301/325 [00:11<00:00, 26.41it/s]\u001b[A\n",
      " 94%|█████████▎| 304/325 [00:11<00:00, 26.51it/s]\u001b[A\n",
      " 94%|█████████▍| 307/325 [00:11<00:00, 26.52it/s]\u001b[A\n",
      " 95%|█████████▌| 310/325 [00:11<00:00, 26.54it/s]\u001b[A\n",
      " 96%|█████████▋| 313/325 [00:11<00:00, 26.55it/s]\u001b[A\n",
      " 97%|█████████▋| 316/325 [00:12<00:00, 26.55it/s]\u001b[A\n",
      " 98%|█████████▊| 319/325 [00:12<00:00, 26.55it/s]\u001b[A\n",
      " 99%|█████████▉| 322/325 [00:12<00:00, 26.54it/s]\u001b[A\n",
      "326it [00:12, 25.63it/s]                         \u001b[A"
     ]
    },
    {
     "name": "stdout",
     "output_type": "stream",
     "text": [
      "Train Loss: 0.0072, Train Acc: 96.39\n",
      "Validating\n"
     ]
    },
    {
     "name": "stderr",
     "output_type": "stream",
     "text": [
      "\n",
      "\n",
      "  0%|          | 0/108 [00:00<?, ?it/s]\u001b[A\n",
      "  6%|▌         | 6/108 [00:00<00:01, 54.00it/s]\u001b[A\n",
      " 11%|█         | 12/108 [00:00<00:01, 55.20it/s]\u001b[A\n",
      " 19%|█▊        | 20/108 [00:00<00:01, 59.42it/s]\u001b[A\n",
      " 26%|██▌       | 28/108 [00:00<00:01, 62.00it/s]\u001b[A\n",
      " 33%|███▎      | 36/108 [00:00<00:01, 64.62it/s]\u001b[A\n",
      " 40%|███▉      | 43/108 [00:00<00:00, 65.72it/s]\u001b[A\n",
      " 46%|████▋     | 50/108 [00:00<00:00, 66.71it/s]\u001b[A\n",
      " 53%|█████▎    | 57/108 [00:00<00:00, 67.11it/s]\u001b[A\n",
      " 59%|█████▉    | 64/108 [00:00<00:00, 67.75it/s]\u001b[A\n",
      " 66%|██████▌   | 71/108 [00:01<00:00, 67.91it/s]\u001b[A\n",
      " 73%|███████▎  | 79/108 [00:01<00:00, 68.59it/s]\u001b[A\n",
      " 81%|████████  | 87/108 [00:01<00:00, 69.42it/s]\u001b[A\n",
      " 88%|████████▊ | 95/108 [00:01<00:00, 70.08it/s]\u001b[A\n",
      "109it [00:01, 58.83it/s]                         \u001b[A"
     ]
    },
    {
     "name": "stdout",
     "output_type": "stream",
     "text": [
      "Val Loss: 0.1357, Val Acc: 65.78\n",
      "Epoch 41 of 100\n",
      "Training\n"
     ]
    },
    {
     "name": "stderr",
     "output_type": "stream",
     "text": [
      "\n",
      "\n",
      "  0%|          | 0/325 [00:00<?, ?it/s]\u001b[A\n",
      "  0%|          | 1/325 [00:00<00:36,  8.86it/s]\u001b[A\n",
      "  1%|          | 4/325 [00:00<00:29, 10.94it/s]\u001b[A\n",
      "  2%|▏         | 7/325 [00:00<00:23, 13.26it/s]\u001b[A\n",
      "  3%|▎         | 10/325 [00:00<00:20, 15.56it/s]\u001b[A\n",
      "  4%|▍         | 13/325 [00:00<00:17, 17.72it/s]\u001b[A\n",
      "  5%|▍         | 16/325 [00:00<00:15, 19.57it/s]\u001b[A\n",
      "  6%|▌         | 19/325 [00:00<00:14, 21.05it/s]\u001b[A\n",
      "  7%|▋         | 22/325 [00:00<00:13, 22.17it/s]\u001b[A\n",
      "  8%|▊         | 25/325 [00:01<00:12, 23.25it/s]\u001b[A\n",
      "  9%|▊         | 28/325 [00:01<00:12, 24.18it/s]\u001b[A\n",
      " 10%|▉         | 31/325 [00:01<00:11, 24.79it/s]\u001b[A\n",
      " 10%|█         | 34/325 [00:01<00:11, 25.33it/s]\u001b[A\n",
      " 11%|█▏        | 37/325 [00:01<00:11, 25.54it/s]\u001b[A\n",
      " 12%|█▏        | 40/325 [00:01<00:11, 25.66it/s]\u001b[A\n",
      " 13%|█▎        | 43/325 [00:01<00:10, 25.75it/s]\u001b[A\n",
      " 14%|█▍        | 46/325 [00:01<00:10, 25.93it/s]\u001b[A\n",
      " 15%|█▌        | 49/325 [00:01<00:10, 25.97it/s]\u001b[A\n",
      " 16%|█▌        | 52/325 [00:02<00:10, 26.13it/s]\u001b[A\n",
      " 17%|█▋        | 55/325 [00:02<00:10, 26.12it/s]\u001b[A\n",
      " 18%|█▊        | 58/325 [00:02<00:10, 26.17it/s]\u001b[A\n",
      " 19%|█▉        | 61/325 [00:02<00:10, 26.20it/s]\u001b[A\n",
      " 20%|█▉        | 64/325 [00:02<00:09, 26.29it/s]\u001b[A\n",
      " 21%|██        | 67/325 [00:02<00:09, 26.32it/s]\u001b[A\n",
      " 22%|██▏       | 70/325 [00:02<00:09, 26.34it/s]\u001b[A\n",
      " 22%|██▏       | 73/325 [00:02<00:09, 26.26it/s]\u001b[A\n",
      " 23%|██▎       | 76/325 [00:02<00:09, 26.34it/s]\u001b[A\n",
      " 24%|██▍       | 79/325 [00:03<00:09, 26.32it/s]\u001b[A\n",
      " 25%|██▌       | 82/325 [00:03<00:09, 26.39it/s]\u001b[A\n",
      " 26%|██▌       | 85/325 [00:03<00:09, 26.36it/s]\u001b[A\n",
      " 27%|██▋       | 88/325 [00:03<00:08, 26.41it/s]\u001b[A\n",
      " 28%|██▊       | 91/325 [00:03<00:08, 26.39it/s]\u001b[A\n",
      " 29%|██▉       | 94/325 [00:03<00:08, 26.44it/s]\u001b[A\n",
      " 30%|██▉       | 97/325 [00:03<00:08, 26.43it/s]\u001b[A\n",
      " 31%|███       | 100/325 [00:03<00:08, 26.44it/s]\u001b[A\n",
      " 32%|███▏      | 103/325 [00:04<00:08, 26.44it/s]\u001b[A\n",
      " 33%|███▎      | 106/325 [00:04<00:08, 26.47it/s]\u001b[A\n",
      " 34%|███▎      | 109/325 [00:04<00:08, 26.47it/s]\u001b[A\n",
      " 34%|███▍      | 112/325 [00:04<00:08, 26.49it/s]\u001b[A\n",
      " 35%|███▌      | 115/325 [00:04<00:07, 26.40it/s]\u001b[A\n",
      " 36%|███▋      | 118/325 [00:04<00:07, 26.45it/s]\u001b[A\n",
      " 37%|███▋      | 121/325 [00:04<00:07, 26.49it/s]\u001b[A\n",
      " 38%|███▊      | 124/325 [00:04<00:07, 26.55it/s]\u001b[A\n",
      " 39%|███▉      | 127/325 [00:04<00:07, 26.55it/s]\u001b[A\n",
      " 40%|████      | 130/325 [00:05<00:07, 26.56it/s]\u001b[A\n",
      " 41%|████      | 133/325 [00:05<00:07, 26.58it/s]\u001b[A\n",
      " 42%|████▏     | 136/325 [00:05<00:07, 26.61it/s]\u001b[A\n",
      " 43%|████▎     | 139/325 [00:05<00:06, 26.62it/s]\u001b[A\n",
      " 44%|████▎     | 142/325 [00:05<00:06, 26.63it/s]\u001b[A\n",
      " 45%|████▍     | 145/325 [00:05<00:06, 26.64it/s]\u001b[A\n",
      " 46%|████▌     | 148/325 [00:05<00:06, 26.64it/s]\u001b[A\n",
      " 46%|████▋     | 151/325 [00:05<00:06, 26.66it/s]\u001b[A\n",
      " 47%|████▋     | 154/325 [00:05<00:06, 26.71it/s]\u001b[A\n",
      " 48%|████▊     | 157/325 [00:06<00:06, 26.69it/s]\u001b[A\n",
      " 49%|████▉     | 160/325 [00:06<00:06, 26.69it/s]\u001b[A\n",
      " 50%|█████     | 163/325 [00:06<00:06, 26.66it/s]\u001b[A\n",
      " 51%|█████     | 166/325 [00:06<00:05, 26.69it/s]\u001b[A\n",
      " 52%|█████▏    | 169/325 [00:06<00:05, 26.70it/s]\u001b[A\n",
      " 53%|█████▎    | 172/325 [00:06<00:05, 26.66it/s]\u001b[A\n",
      " 54%|█████▍    | 175/325 [00:06<00:05, 26.67it/s]\u001b[A\n",
      " 55%|█████▍    | 178/325 [00:06<00:05, 26.56it/s]\u001b[A\n",
      " 56%|█████▌    | 181/325 [00:06<00:05, 26.61it/s]\u001b[A\n",
      " 57%|█████▋    | 184/325 [00:07<00:05, 26.63it/s]\u001b[A\n",
      " 58%|█████▊    | 187/325 [00:07<00:05, 26.64it/s]\u001b[A\n",
      " 58%|█████▊    | 190/325 [00:07<00:05, 26.65it/s]\u001b[A\n",
      " 59%|█████▉    | 193/325 [00:07<00:04, 26.66it/s]\u001b[A\n",
      " 60%|██████    | 196/325 [00:07<00:04, 26.67it/s]\u001b[A\n",
      " 61%|██████    | 199/325 [00:07<00:04, 26.71it/s]\u001b[A\n",
      " 62%|██████▏   | 202/325 [00:07<00:04, 26.70it/s]\u001b[A\n",
      " 63%|██████▎   | 205/325 [00:07<00:04, 26.68it/s]\u001b[A\n",
      " 64%|██████▍   | 208/325 [00:07<00:04, 26.67it/s]\u001b[A\n",
      " 65%|██████▍   | 211/325 [00:08<00:04, 26.70it/s]\u001b[A\n",
      " 66%|██████▌   | 214/325 [00:08<00:04, 26.72it/s]\u001b[A\n",
      " 67%|██████▋   | 217/325 [00:08<00:04, 26.70it/s]\u001b[A\n",
      " 68%|██████▊   | 220/325 [00:08<00:03, 26.71it/s]\u001b[A\n",
      " 69%|██████▊   | 223/325 [00:08<00:03, 26.72it/s]\u001b[A\n",
      " 70%|██████▉   | 226/325 [00:08<00:03, 26.69it/s]\u001b[A\n",
      " 70%|███████   | 229/325 [00:08<00:03, 26.43it/s]\u001b[A\n",
      " 71%|███████▏  | 232/325 [00:08<00:03, 26.45it/s]\u001b[A\n",
      " 72%|███████▏  | 235/325 [00:08<00:03, 26.29it/s]\u001b[A\n",
      " 73%|███████▎  | 238/325 [00:09<00:03, 26.39it/s]\u001b[A\n",
      " 74%|███████▍  | 241/325 [00:09<00:03, 26.36it/s]\u001b[A\n",
      " 75%|███████▌  | 244/325 [00:09<00:03, 26.39it/s]\u001b[A\n",
      " 76%|███████▌  | 247/325 [00:09<00:02, 26.32it/s]\u001b[A\n",
      " 77%|███████▋  | 250/325 [00:09<00:02, 26.38it/s]\u001b[A\n",
      " 78%|███████▊  | 253/325 [00:09<00:02, 26.36it/s]\u001b[A\n",
      " 79%|███████▉  | 256/325 [00:09<00:02, 26.37it/s]\u001b[A\n",
      " 80%|███████▉  | 259/325 [00:09<00:02, 26.30it/s]\u001b[A\n",
      " 81%|████████  | 262/325 [00:09<00:02, 26.35it/s]\u001b[A\n",
      " 82%|████████▏ | 265/325 [00:10<00:02, 26.33it/s]\u001b[A\n",
      " 82%|████████▏ | 268/325 [00:10<00:02, 26.35it/s]\u001b[A\n",
      " 83%|████████▎ | 271/325 [00:10<00:02, 26.30it/s]\u001b[A\n",
      " 84%|████████▍ | 274/325 [00:10<00:01, 26.33it/s]\u001b[A\n",
      " 85%|████████▌ | 277/325 [00:10<00:01, 26.31it/s]\u001b[A\n",
      " 86%|████████▌ | 280/325 [00:10<00:01, 26.34it/s]\u001b[A\n",
      " 87%|████████▋ | 283/325 [00:10<00:01, 26.31it/s]\u001b[A\n",
      " 88%|████████▊ | 286/325 [00:10<00:01, 26.35it/s]\u001b[A\n",
      " 89%|████████▉ | 289/325 [00:11<00:01, 26.29it/s]\u001b[A\n",
      " 90%|████████▉ | 292/325 [00:11<00:01, 26.32it/s]\u001b[A\n",
      " 91%|█████████ | 295/325 [00:11<00:01, 26.28it/s]\u001b[A\n",
      " 92%|█████████▏| 298/325 [00:11<00:01, 26.36it/s]\u001b[A\n",
      " 93%|█████████▎| 301/325 [00:11<00:00, 26.38it/s]\u001b[A\n",
      " 94%|█████████▎| 304/325 [00:11<00:00, 26.43it/s]\u001b[A\n",
      " 94%|█████████▍| 307/325 [00:11<00:00, 26.43it/s]\u001b[A\n",
      " 95%|█████████▌| 310/325 [00:11<00:00, 26.48it/s]\u001b[A\n",
      " 96%|█████████▋| 313/325 [00:11<00:00, 26.49it/s]\u001b[A\n",
      " 97%|█████████▋| 316/325 [00:12<00:00, 26.52it/s]\u001b[A\n",
      " 98%|█████████▊| 319/325 [00:12<00:00, 26.54it/s]\u001b[A\n",
      " 99%|█████████▉| 322/325 [00:12<00:00, 26.37it/s]\u001b[A\n",
      "326it [00:12, 25.72it/s]                         \u001b[A"
     ]
    },
    {
     "name": "stdout",
     "output_type": "stream",
     "text": [
      "Train Loss: 0.0051, Train Acc: 97.29\n",
      "Validating\n"
     ]
    },
    {
     "name": "stderr",
     "output_type": "stream",
     "text": [
      "\n",
      "\n",
      "  0%|          | 0/108 [00:00<?, ?it/s]\u001b[A\n",
      "  5%|▍         | 5/108 [00:00<00:02, 40.26it/s]\u001b[A\n",
      " 11%|█         | 12/108 [00:00<00:02, 45.96it/s]\u001b[A\n",
      " 18%|█▊        | 19/108 [00:00<00:01, 50.83it/s]\u001b[A\n",
      " 24%|██▍       | 26/108 [00:00<00:01, 54.77it/s]\u001b[A\n",
      " 31%|███▏      | 34/108 [00:00<00:01, 59.29it/s]\u001b[A\n",
      " 38%|███▊      | 41/108 [00:00<00:01, 61.72it/s]\u001b[A\n",
      " 45%|████▌     | 49/108 [00:00<00:00, 63.78it/s]\u001b[A\n",
      " 52%|█████▏    | 56/108 [00:00<00:00, 65.39it/s]\u001b[A\n",
      " 58%|█████▊    | 63/108 [00:00<00:00, 66.32it/s]\u001b[A\n",
      " 65%|██████▍   | 70/108 [00:01<00:00, 67.16it/s]\u001b[A\n",
      " 71%|███████▏  | 77/108 [00:01<00:00, 67.11it/s]\u001b[A\n",
      " 79%|███████▊  | 85/108 [00:01<00:00, 67.98it/s]\u001b[A\n",
      " 86%|████████▌ | 93/108 [00:01<00:00, 68.86it/s]\u001b[A\n",
      " 94%|█████████▎| 101/108 [00:01<00:00, 69.35it/s]\u001b[A\n",
      "109it [00:01, 58.58it/s]                         \u001b[A"
     ]
    },
    {
     "name": "stdout",
     "output_type": "stream",
     "text": [
      "Val Loss: 0.1499, Val Acc: 64.52\n",
      "Epoch 42 of 100\n",
      "Training\n"
     ]
    },
    {
     "name": "stderr",
     "output_type": "stream",
     "text": [
      "\n",
      "\n",
      "  0%|          | 0/325 [00:00<?, ?it/s]\u001b[A\n",
      "  0%|          | 1/325 [00:00<00:40,  8.06it/s]\u001b[A\n",
      "  1%|          | 4/325 [00:00<00:31, 10.20it/s]\u001b[A\n",
      "  2%|▏         | 7/325 [00:00<00:25, 12.41it/s]\u001b[A\n",
      "  3%|▎         | 10/325 [00:00<00:21, 14.78it/s]\u001b[A\n",
      "  4%|▍         | 13/325 [00:00<00:18, 17.02it/s]\u001b[A\n",
      "  5%|▍         | 16/325 [00:00<00:16, 19.05it/s]\u001b[A\n",
      "  6%|▌         | 19/325 [00:00<00:14, 20.53it/s]\u001b[A\n",
      "  7%|▋         | 22/325 [00:00<00:13, 21.99it/s]\u001b[A\n",
      "  8%|▊         | 25/325 [00:01<00:13, 22.92it/s]\u001b[A\n",
      "  9%|▊         | 28/325 [00:01<00:12, 23.97it/s]\u001b[A\n",
      " 10%|▉         | 31/325 [00:01<00:11, 24.61it/s]\u001b[A\n",
      " 10%|█         | 34/325 [00:01<00:11, 25.18it/s]\u001b[A\n",
      " 11%|█▏        | 37/325 [00:01<00:11, 25.46it/s]\u001b[A\n",
      " 12%|█▏        | 40/325 [00:01<00:11, 25.72it/s]\u001b[A\n",
      " 13%|█▎        | 43/325 [00:01<00:10, 25.82it/s]\u001b[A\n",
      " 14%|█▍        | 46/325 [00:01<00:10, 25.97it/s]\u001b[A\n",
      " 15%|█▌        | 49/325 [00:01<00:10, 26.01it/s]\u001b[A\n",
      " 16%|█▌        | 52/325 [00:02<00:10, 26.11it/s]\u001b[A\n",
      " 17%|█▋        | 55/325 [00:02<00:10, 26.14it/s]\u001b[A\n",
      " 18%|█▊        | 58/325 [00:02<00:10, 26.24it/s]\u001b[A\n",
      " 19%|█▉        | 61/325 [00:02<00:10, 26.10it/s]\u001b[A\n",
      " 20%|█▉        | 64/325 [00:02<00:09, 26.18it/s]\u001b[A\n",
      " 21%|██        | 67/325 [00:02<00:09, 26.20it/s]\u001b[A\n",
      " 22%|██▏       | 70/325 [00:02<00:09, 26.25it/s]\u001b[A\n",
      " 22%|██▏       | 73/325 [00:02<00:09, 26.21it/s]\u001b[A\n",
      " 23%|██▎       | 76/325 [00:02<00:09, 26.26it/s]\u001b[A\n",
      " 24%|██▍       | 79/325 [00:03<00:09, 26.20it/s]\u001b[A\n",
      " 25%|██▌       | 82/325 [00:03<00:09, 26.20it/s]\u001b[A\n",
      " 26%|██▌       | 85/325 [00:03<00:09, 26.14it/s]\u001b[A\n",
      " 27%|██▋       | 88/325 [00:03<00:09, 26.22it/s]\u001b[A\n",
      " 28%|██▊       | 91/325 [00:03<00:08, 26.22it/s]\u001b[A\n",
      " 29%|██▉       | 94/325 [00:03<00:08, 26.28it/s]\u001b[A\n",
      " 30%|██▉       | 97/325 [00:03<00:08, 26.22it/s]\u001b[A\n",
      " 31%|███       | 100/325 [00:03<00:08, 26.26it/s]\u001b[A\n",
      " 32%|███▏      | 103/325 [00:04<00:08, 26.21it/s]\u001b[A\n",
      " 33%|███▎      | 106/325 [00:04<00:08, 26.27it/s]\u001b[A\n",
      " 34%|███▎      | 109/325 [00:04<00:08, 26.25it/s]\u001b[A\n",
      " 34%|███▍      | 112/325 [00:04<00:08, 26.29it/s]\u001b[A\n",
      " 35%|███▌      | 115/325 [00:04<00:07, 26.27it/s]IOPub message rate exceeded.\n",
      "The notebook server will temporarily stop sending output\n",
      "to the client in order to avoid crashing it.\n",
      "To change this limit, set the config variable\n",
      "`--NotebookApp.iopub_msg_rate_limit`.\n",
      "\n",
      "Current values:\n",
      "NotebookApp.iopub_msg_rate_limit=1000.0 (msgs/sec)\n",
      "NotebookApp.rate_limit_window=3.0 (secs)\n",
      "\n",
      "\n",
      "  5%|▍         | 16/325 [00:00<00:17, 18.01it/s]\u001b[A\n",
      "  6%|▌         | 19/325 [00:00<00:15, 19.37it/s]\u001b[A\n",
      "  7%|▋         | 22/325 [00:00<00:14, 20.99it/s]\u001b[A\n",
      "  8%|▊         | 25/325 [00:01<00:13, 22.10it/s]\u001b[A\n",
      "  9%|▊         | 28/325 [00:01<00:12, 23.22it/s]\u001b[A\n",
      " 10%|▉         | 31/325 [00:01<00:12, 23.97it/s]\u001b[A\n",
      " 10%|█         | 34/325 [00:01<00:11, 24.41it/s]\u001b[A\n",
      " 11%|█▏        | 37/325 [00:01<00:11, 24.67it/s]\u001b[A\n",
      " 12%|█▏        | 40/325 [00:01<00:11, 25.14it/s]\u001b[A\n",
      " 13%|█▎        | 43/325 [00:01<00:11, 25.20it/s]\u001b[A\n",
      " 14%|█▍        | 46/325 [00:01<00:10, 25.50it/s]\u001b[A\n",
      " 15%|█▌        | 49/325 [00:02<00:10, 25.42it/s]\u001b[A\n",
      " 16%|█▌        | 52/325 [00:02<00:10, 25.47it/s]\u001b[A\n",
      " 17%|█▋        | 55/325 [00:02<00:10, 25.54it/s]\u001b[A\n",
      " 18%|█▊        | 58/325 [00:02<00:10, 25.73it/s]\u001b[A\n",
      " 19%|█▉        | 61/325 [00:02<00:10, 25.68it/s]\u001b[A\n",
      " 20%|█▉        | 64/325 [00:02<00:10, 25.82it/s]\u001b[A\n",
      " 21%|██        | 67/325 [00:02<00:10, 25.76it/s]\u001b[A\n",
      " 22%|██▏       | 70/325 [00:02<00:09, 25.87it/s]\u001b[A\n",
      " 22%|██▏       | 73/325 [00:02<00:09, 25.77it/s]\u001b[A\n",
      " 23%|██▎       | 76/325 [00:03<00:09, 25.80it/s]\u001b[A\n",
      " 24%|██▍       | 79/325 [00:03<00:09, 25.68it/s]\u001b[A\n",
      " 25%|██▌       | 82/325 [00:03<00:09, 25.86it/s]\u001b[A\n",
      " 26%|██▌       | 85/325 [00:03<00:09, 25.93it/s]\u001b[A\n",
      " 27%|██▋       | 88/325 [00:03<00:09, 26.08it/s]\u001b[A\n",
      " 28%|██▊       | 91/325 [00:03<00:08, 26.10it/s]\u001b[A\n",
      " 29%|██▉       | 94/325 [00:03<00:08, 26.17it/s]\u001b[A\n",
      " 30%|██▉       | 97/325 [00:03<00:08, 26.19it/s]\u001b[A\n",
      " 31%|███       | 100/325 [00:03<00:08, 26.26it/s]\u001b[A\n",
      " 32%|███▏      | 103/325 [00:04<00:08, 26.24it/s]\u001b[A\n",
      " 33%|███▎      | 106/325 [00:04<00:08, 26.28it/s]\u001b[A\n",
      " 34%|███▎      | 109/325 [00:04<00:08, 26.25it/s]\u001b[A\n",
      " 34%|███▍      | 112/325 [00:04<00:08, 26.28it/s]\u001b[A\n",
      " 35%|███▌      | 115/325 [00:04<00:07, 26.29it/s]\u001b[A\n",
      " 36%|███▋      | 118/325 [00:04<00:07, 26.35it/s]\u001b[A\n",
      " 37%|███▋      | 121/325 [00:04<00:07, 26.34it/s]\u001b[A\n",
      " 38%|███▊      | 124/325 [00:04<00:07, 26.39it/s]\u001b[A\n",
      " 39%|███▉      | 127/325 [00:05<00:07, 26.35it/s]\u001b[A\n",
      " 40%|████      | 130/325 [00:05<00:07, 26.37it/s]\u001b[A\n",
      " 41%|████      | 133/325 [00:05<00:07, 26.33it/s]\u001b[A\n",
      " 42%|████▏     | 136/325 [00:05<00:07, 26.39it/s]\u001b[A\n",
      " 43%|████▎     | 139/325 [00:05<00:07, 26.39it/s]\u001b[A\n",
      " 44%|████▎     | 142/325 [00:05<00:06, 26.40it/s]\u001b[A\n",
      " 45%|████▍     | 145/325 [00:05<00:06, 26.32it/s]\u001b[A\n",
      " 46%|████▌     | 148/325 [00:05<00:06, 26.37it/s]\u001b[A\n",
      " 46%|████▋     | 151/325 [00:05<00:06, 26.36it/s]\u001b[A\n",
      " 47%|████▋     | 154/325 [00:06<00:06, 26.39it/s]\u001b[A\n",
      " 48%|████▊     | 157/325 [00:06<00:06, 26.39it/s]\u001b[A\n",
      " 49%|████▉     | 160/325 [00:06<00:06, 26.33it/s]\u001b[A\n",
      " 50%|█████     | 163/325 [00:06<00:06, 26.31it/s]\u001b[A\n",
      " 51%|█████     | 166/325 [00:06<00:06, 26.32it/s]\u001b[A\n",
      " 52%|█████▏    | 169/325 [00:06<00:05, 26.17it/s]\u001b[A\n",
      " 53%|█████▎    | 172/325 [00:06<00:05, 26.36it/s]\u001b[A\n",
      " 54%|█████▍    | 175/325 [00:06<00:05, 26.37it/s]\u001b[A\n",
      " 55%|█████▍    | 178/325 [00:06<00:05, 26.29it/s]\u001b[A\n",
      " 56%|█████▌    | 181/325 [00:07<00:05, 26.28it/s]\u001b[A\n",
      " 57%|█████▋    | 184/325 [00:07<00:05, 26.36it/s]\u001b[A\n",
      " 58%|█████▊    | 187/325 [00:07<00:05, 26.37it/s]\u001b[A\n",
      " 58%|█████▊    | 190/325 [00:07<00:05, 26.40it/s]\u001b[A\n",
      " 59%|█████▉    | 193/325 [00:07<00:05, 26.23it/s]\u001b[A\n",
      " 60%|██████    | 196/325 [00:07<00:05, 25.53it/s]\u001b[A\n",
      " 61%|██████    | 199/325 [00:07<00:04, 25.72it/s]\u001b[A\n",
      " 62%|██████▏   | 202/325 [00:07<00:04, 26.00it/s]\u001b[A\n",
      " 63%|██████▎   | 205/325 [00:07<00:04, 25.56it/s]\u001b[A\n",
      " 64%|██████▍   | 208/325 [00:08<00:04, 25.86it/s]\u001b[A\n",
      " 65%|██████▍   | 211/325 [00:08<00:04, 25.31it/s]\u001b[A\n",
      " 66%|██████▌   | 214/325 [00:08<00:04, 25.66it/s]\u001b[A\n",
      " 67%|██████▋   | 217/325 [00:08<00:04, 25.86it/s]\u001b[A\n",
      " 68%|██████▊   | 220/325 [00:08<00:04, 25.58it/s]\u001b[A\n",
      " 69%|██████▊   | 223/325 [00:08<00:03, 25.85it/s]\u001b[A\n",
      " 70%|██████▉   | 226/325 [00:08<00:03, 25.35it/s]\u001b[A\n",
      " 70%|███████   | 229/325 [00:08<00:03, 25.66it/s]\u001b[A\n",
      " 71%|███████▏  | 232/325 [00:09<00:03, 25.88it/s]\u001b[A\n",
      " 72%|███████▏  | 235/325 [00:09<00:03, 25.35it/s]\u001b[A\n",
      " 73%|███████▎  | 238/325 [00:09<00:03, 25.68it/s]\u001b[A\n",
      " 74%|███████▍  | 241/325 [00:09<00:03, 25.86it/s]\u001b[A\n",
      " 75%|███████▌  | 244/325 [00:09<00:03, 25.33it/s]\u001b[A\n",
      " 76%|███████▌  | 247/325 [00:09<00:03, 25.53it/s]\u001b[A\n",
      " 77%|███████▋  | 250/325 [00:09<00:02, 25.81it/s]\u001b[A\n",
      " 78%|███████▊  | 253/325 [00:09<00:02, 25.43it/s]\u001b[A\n",
      " 79%|███████▉  | 256/325 [00:09<00:02, 25.77it/s]\u001b[A\n",
      " 80%|███████▉  | 259/325 [00:10<00:02, 25.20it/s]\u001b[A\n",
      " 81%|████████  | 262/325 [00:10<00:02, 25.60it/s]\u001b[A\n",
      " 82%|████████▏ | 265/325 [00:10<00:02, 25.59it/s]\u001b[A\n",
      " 82%|████████▏ | 268/325 [00:10<00:02, 25.48it/s]\u001b[A\n",
      " 83%|████████▎ | 271/325 [00:10<00:02, 25.74it/s]\u001b[A\n",
      " 84%|████████▍ | 274/325 [00:10<00:02, 25.22it/s]\u001b[A\n",
      " 85%|████████▌ | 277/325 [00:10<00:01, 25.32it/s]\u001b[A\n",
      " 86%|████████▌ | 280/325 [00:10<00:01, 25.66it/s]\u001b[A\n",
      " 87%|████████▋ | 283/325 [00:11<00:01, 25.14it/s]\u001b[A\n",
      " 88%|████████▊ | 286/325 [00:11<00:01, 25.66it/s]\u001b[A\n",
      " 89%|████████▉ | 289/325 [00:11<00:01, 25.82it/s]\u001b[A\n",
      " 90%|████████▉ | 292/325 [00:11<00:01, 25.01it/s]\u001b[A\n",
      " 91%|█████████ | 295/325 [00:11<00:01, 25.45it/s]\u001b[A\n",
      " 92%|█████████▏| 298/325 [00:11<00:01, 25.81it/s]\u001b[A\n",
      " 93%|█████████▎| 301/325 [00:11<00:00, 26.08it/s]\u001b[A\n",
      " 94%|█████████▎| 304/325 [00:11<00:00, 26.25it/s]\u001b[A\n",
      " 94%|█████████▍| 307/325 [00:11<00:00, 26.31it/s]\u001b[A\n",
      " 95%|█████████▌| 310/325 [00:12<00:00, 26.39it/s]\u001b[A\n",
      " 96%|█████████▋| 313/325 [00:12<00:00, 26.24it/s]\u001b[A\n",
      " 97%|█████████▋| 316/325 [00:12<00:00, 26.48it/s]\u001b[A\n",
      " 98%|█████████▊| 319/325 [00:12<00:00, 26.55it/s]\u001b[A\n",
      " 99%|█████████▉| 322/325 [00:12<00:00, 26.57it/s]\u001b[A\n",
      "326it [00:12, 25.23it/s]                         \u001b[A"
     ]
    },
    {
     "name": "stdout",
     "output_type": "stream",
     "text": [
      "Train Loss: 0.0035, Train Acc: 98.37\n",
      "Validating\n"
     ]
    },
    {
     "name": "stderr",
     "output_type": "stream",
     "text": [
      "\n",
      "\n",
      "  0%|          | 0/108 [00:00<?, ?it/s]\u001b[A\n",
      "  2%|▏         | 2/108 [00:00<00:05, 17.85it/s]\u001b[A\n",
      "  8%|▊         | 9/108 [00:00<00:04, 22.85it/s]\u001b[A\n",
      " 16%|█▌        | 17/108 [00:00<00:03, 28.67it/s]\u001b[A\n",
      " 22%|██▏       | 24/108 [00:00<00:02, 34.65it/s]\u001b[A\n",
      " 30%|██▉       | 32/108 [00:00<00:01, 41.16it/s]\u001b[A\n",
      " 36%|███▌      | 39/108 [00:00<00:01, 46.76it/s]\u001b[A\n",
      " 43%|████▎     | 46/108 [00:00<00:01, 51.61it/s]\u001b[A\n",
      " 49%|████▉     | 53/108 [00:00<00:00, 55.47it/s]\u001b[A\n",
      " 56%|█████▋    | 61/108 [00:00<00:00, 59.02it/s]\u001b[A\n",
      " 64%|██████▍   | 69/108 [00:01<00:00, 61.97it/s]\u001b[A\n",
      " 71%|███████▏  | 77/108 [00:01<00:00, 63.93it/s]\u001b[A\n",
      " 79%|███████▊  | 85/108 [00:01<00:00, 65.65it/s]\u001b[A\n",
      " 86%|████████▌ | 93/108 [00:01<00:00, 67.25it/s]\u001b[A\n",
      " 94%|█████████▎| 101/108 [00:01<00:00, 68.42it/s]\u001b[A\n",
      "109it [00:01, 58.01it/s]                         \u001b[A"
     ]
    },
    {
     "name": "stdout",
     "output_type": "stream",
     "text": [
      "Val Loss: 0.1821, Val Acc: 63.36\n",
      "Epoch 62 of 100\n",
      "Training\n"
     ]
    },
    {
     "name": "stderr",
     "output_type": "stream",
     "text": [
      "\n",
      "\n",
      "  0%|          | 0/325 [00:00<?, ?it/s]\u001b[A\n",
      "  0%|          | 1/325 [00:00<00:35,  9.16it/s]\u001b[A\n",
      "  1%|          | 4/325 [00:00<00:28, 11.36it/s]\u001b[A\n",
      "  2%|▏         | 7/325 [00:00<00:23, 13.66it/s]\u001b[A\n",
      "  3%|▎         | 10/325 [00:00<00:19, 15.97it/s]\u001b[A\n",
      "  4%|▍         | 13/325 [00:00<00:17, 18.04it/s]\u001b[A\n",
      "  5%|▍         | 16/325 [00:00<00:15, 19.67it/s]\u001b[A\n",
      "  6%|▌         | 19/325 [00:00<00:14, 20.88it/s]\u001b[A\n",
      "  7%|▋         | 22/325 [00:00<00:13, 22.24it/s]\u001b[A\n",
      "  8%|▊         | 25/325 [00:01<00:12, 23.29it/s]\u001b[A\n",
      "  9%|▊         | 28/325 [00:01<00:12, 24.14it/s]\u001b[A\n",
      " 10%|▉         | 31/325 [00:01<00:11, 24.71it/s]\u001b[A\n",
      " 10%|█         | 34/325 [00:01<00:11, 25.10it/s]\u001b[A\n",
      " 11%|█▏        | 37/325 [00:01<00:11, 25.37it/s]\u001b[A\n",
      " 12%|█▏        | 40/325 [00:01<00:11, 24.80it/s]\u001b[A\n",
      " 13%|█▎        | 43/325 [00:01<00:11, 24.37it/s]\u001b[A\n",
      " 14%|█▍        | 46/325 [00:01<00:11, 24.34it/s]\u001b[A\n",
      " 15%|█▌        | 49/325 [00:02<00:11, 24.09it/s]\u001b[A\n",
      " 16%|█▌        | 52/325 [00:02<00:11, 24.21it/s]\u001b[A\n",
      " 17%|█▋        | 55/325 [00:02<00:11, 23.96it/s]\u001b[A\n",
      " 18%|█▊        | 58/325 [00:02<00:11, 24.01it/s]\u001b[A\n",
      " 19%|█▉        | 61/325 [00:02<00:10, 24.09it/s]\u001b[A\n",
      " 20%|█▉        | 64/325 [00:02<00:10, 24.27it/s]\u001b[A\n",
      " 21%|██        | 67/325 [00:02<00:10, 24.28it/s]\u001b[A\n",
      " 22%|██▏       | 70/325 [00:02<00:10, 24.30it/s]\u001b[A\n",
      " 22%|██▏       | 73/325 [00:03<00:10, 24.06it/s]\u001b[A\n",
      " 23%|██▎       | 76/325 [00:03<00:10, 24.21it/s]\u001b[A\n",
      " 24%|██▍       | 79/325 [00:03<00:10, 24.07it/s]\u001b[A\n",
      " 25%|██▌       | 82/325 [00:03<00:10, 24.10it/s]\u001b[A\n",
      " 26%|██▌       | 85/325 [00:03<00:09, 24.17it/s]\u001b[A\n",
      " 27%|██▋       | 88/325 [00:03<00:09, 24.77it/s]\u001b[A\n",
      " 28%|██▊       | 91/325 [00:03<00:09, 25.08it/s]\u001b[A\n",
      " 29%|██▉       | 94/325 [00:03<00:09, 25.37it/s]\u001b[A\n",
      " 30%|██▉       | 97/325 [00:03<00:08, 25.61it/s]\u001b[A\n",
      " 31%|███       | 100/325 [00:04<00:08, 25.88it/s]\u001b[A\n",
      " 32%|███▏      | 103/325 [00:04<00:08, 25.98it/s]\u001b[A\n",
      " 33%|███▎      | 106/325 [00:04<00:08, 26.06it/s]\u001b[A\n",
      " 34%|███▎      | 109/325 [00:04<00:08, 26.00it/s]\u001b[A\n",
      " 34%|███▍      | 112/325 [00:04<00:08, 26.14it/s]\u001b[A\n",
      " 35%|███▌      | 115/325 [00:04<00:08, 26.11it/s]\u001b[A\n",
      " 36%|███▋      | 118/325 [00:04<00:07, 26.24it/s]\u001b[A\n",
      " 37%|███▋      | 121/325 [00:04<00:07, 26.12it/s]\u001b[A\n",
      " 38%|███▊      | 124/325 [00:04<00:07, 26.19it/s]\u001b[A\n",
      " 39%|███▉      | 127/325 [00:05<00:07, 26.15it/s]\u001b[A\n",
      " 40%|████      | 130/325 [00:05<00:07, 26.17it/s]\u001b[A\n",
      " 41%|████      | 133/325 [00:05<00:07, 26.03it/s]\u001b[A\n",
      " 42%|████▏     | 136/325 [00:05<00:07, 26.17it/s]\u001b[A\n",
      " 43%|████▎     | 139/325 [00:05<00:07, 26.08it/s]\u001b[A\n",
      " 44%|████▎     | 142/325 [00:05<00:06, 26.21it/s]\u001b[A\n",
      " 45%|████▍     | 145/325 [00:05<00:06, 26.13it/s]\u001b[A\n",
      " 46%|████▌     | 148/325 [00:05<00:06, 26.21it/s]\u001b[A\n",
      " 46%|████▋     | 151/325 [00:06<00:06, 26.09it/s]\u001b[A\n",
      " 47%|████▋     | 154/325 [00:06<00:06, 26.44it/s]\u001b[A\n",
      " 48%|████▊     | 157/325 [00:06<00:06, 26.47it/s]\u001b[A\n",
      " 49%|████▉     | 160/325 [00:06<00:06, 26.54it/s]\u001b[A\n",
      " 50%|█████     | 163/325 [00:06<00:06, 26.58it/s]\u001b[A\n",
      " 51%|█████     | 166/325 [00:06<00:05, 26.64it/s]\u001b[A\n",
      " 52%|█████▏    | 169/325 [00:06<00:05, 26.64it/s]\u001b[A\n",
      " 53%|█████▎    | 172/325 [00:06<00:05, 26.65it/s]\u001b[A\n",
      " 54%|█████▍    | 175/325 [00:06<00:05, 26.68it/s]\u001b[A\n",
      " 55%|█████▍    | 178/325 [00:07<00:05, 26.65it/s]\u001b[A\n",
      " 56%|█████▌    | 181/325 [00:07<00:05, 26.65it/s]\u001b[A\n",
      " 57%|█████▋    | 184/325 [00:07<00:05, 26.65it/s]\u001b[A\n",
      " 58%|█████▊    | 187/325 [00:07<00:05, 26.66it/s]\u001b[A\n",
      " 58%|█████▊    | 190/325 [00:07<00:05, 26.70it/s]\u001b[A\n",
      " 59%|█████▉    | 193/325 [00:07<00:04, 26.66it/s]\u001b[A\n",
      " 60%|██████    | 196/325 [00:07<00:04, 26.63it/s]\u001b[A\n",
      " 61%|██████    | 199/325 [00:07<00:04, 26.67it/s]\u001b[A\n",
      " 62%|██████▏   | 202/325 [00:07<00:04, 26.68it/s]\u001b[A\n",
      " 63%|██████▎   | 205/325 [00:08<00:04, 26.68it/s]\u001b[A\n",
      " 64%|██████▍   | 208/325 [00:08<00:04, 26.68it/s]\u001b[A\n",
      " 65%|██████▍   | 211/325 [00:08<00:04, 26.66it/s]\u001b[A\n",
      " 66%|██████▌   | 214/325 [00:08<00:04, 26.65it/s]\u001b[A\n",
      " 67%|██████▋   | 217/325 [00:08<00:04, 26.64it/s]\u001b[A\n",
      " 68%|██████▊   | 220/325 [00:08<00:03, 26.62it/s]\u001b[A\n",
      " 69%|██████▊   | 223/325 [00:08<00:03, 26.66it/s]\u001b[A\n",
      " 70%|██████▉   | 226/325 [00:08<00:03, 26.65it/s]\u001b[A\n",
      " 70%|███████   | 229/325 [00:08<00:03, 26.62it/s]\u001b[A\n",
      " 71%|███████▏  | 232/325 [00:09<00:03, 26.69it/s]\u001b[A\n",
      " 72%|███████▏  | 235/325 [00:09<00:03, 26.64it/s]\u001b[A\n",
      " 73%|███████▎  | 238/325 [00:09<00:03, 26.66it/s]\u001b[A\n",
      " 74%|███████▍  | 241/325 [00:09<00:03, 26.66it/s]\u001b[A\n",
      " 75%|███████▌  | 244/325 [00:09<00:03, 26.68it/s]\u001b[A\n",
      " 76%|███████▌  | 247/325 [00:09<00:02, 26.69it/s]\u001b[A\n",
      " 77%|███████▋  | 250/325 [00:09<00:02, 26.69it/s]\u001b[A\n",
      " 78%|███████▊  | 253/325 [00:09<00:02, 26.69it/s]\u001b[A\n",
      " 79%|███████▉  | 256/325 [00:09<00:02, 26.70it/s]\u001b[A\n",
      " 80%|███████▉  | 259/325 [00:10<00:02, 26.68it/s]\u001b[A\n",
      " 81%|████████  | 262/325 [00:10<00:02, 26.68it/s]\u001b[A\n",
      " 82%|████████▏ | 265/325 [00:10<00:02, 26.69it/s]\u001b[A\n",
      " 82%|████████▏ | 268/325 [00:10<00:02, 26.70it/s]\u001b[A\n",
      " 83%|████████▎ | 271/325 [00:10<00:02, 26.69it/s]\u001b[A\n",
      " 84%|████████▍ | 274/325 [00:10<00:01, 26.69it/s]\u001b[A\n",
      " 85%|████████▌ | 277/325 [00:10<00:01, 26.65it/s]\u001b[A\n",
      " 86%|████████▌ | 280/325 [00:10<00:01, 26.74it/s]\u001b[A\n",
      " 87%|████████▋ | 283/325 [00:10<00:01, 26.73it/s]\u001b[A\n",
      " 88%|████████▊ | 286/325 [00:11<00:01, 26.74it/s]\u001b[A\n",
      " 89%|████████▉ | 289/325 [00:11<00:01, 26.75it/s]\u001b[A\n",
      " 90%|████████▉ | 292/325 [00:11<00:01, 26.71it/s]\u001b[A\n",
      " 91%|█████████ | 295/325 [00:11<00:01, 26.73it/s]\u001b[A\n",
      " 92%|█████████▏| 298/325 [00:11<00:01, 26.72it/s]\u001b[A\n",
      " 93%|█████████▎| 301/325 [00:11<00:00, 26.73it/s]\u001b[A\n",
      " 94%|█████████▎| 304/325 [00:11<00:00, 26.72it/s]\u001b[A\n",
      " 94%|█████████▍| 307/325 [00:11<00:00, 26.70it/s]\u001b[A\n",
      " 95%|█████████▌| 310/325 [00:11<00:00, 26.71it/s]\u001b[A\n",
      " 96%|█████████▋| 313/325 [00:12<00:00, 26.73it/s]\u001b[A\n",
      " 97%|█████████▋| 316/325 [00:12<00:00, 26.74it/s]\u001b[A\n",
      " 98%|█████████▊| 319/325 [00:12<00:00, 26.73it/s]\u001b[A\n",
      " 99%|█████████▉| 322/325 [00:12<00:00, 26.73it/s]\u001b[A\n",
      "326it [00:12, 25.43it/s]                         \u001b[A"
     ]
    },
    {
     "name": "stdout",
     "output_type": "stream",
     "text": [
      "Train Loss: 0.0057, Train Acc: 97.68\n",
      "Validating\n"
     ]
    },
    {
     "name": "stderr",
     "output_type": "stream",
     "text": [
      "\n",
      "\n",
      "  0%|          | 0/108 [00:00<?, ?it/s]\u001b[A\n",
      "  2%|▏         | 2/108 [00:00<00:05, 18.83it/s]\u001b[A\n",
      "  8%|▊         | 9/108 [00:00<00:04, 24.09it/s]\u001b[A\n",
      " 16%|█▌        | 17/108 [00:00<00:03, 29.94it/s]\u001b[A\n",
      " 23%|██▎       | 25/108 [00:00<00:02, 36.09it/s]\u001b[A\n",
      " 31%|███       | 33/108 [00:00<00:01, 42.46it/s]\u001b[A\n",
      " 38%|███▊      | 41/108 [00:00<00:01, 48.10it/s]\u001b[A\n",
      " 44%|████▍     | 48/108 [00:00<00:01, 53.07it/s]\u001b[A\n",
      " 51%|█████     | 55/108 [00:00<00:00, 56.81it/s]\u001b[A\n",
      " 57%|█████▋    | 62/108 [00:00<00:00, 59.99it/s]\u001b[A\n",
      " 64%|██████▍   | 69/108 [00:01<00:00, 61.97it/s]\u001b[A\n",
      " 70%|███████   | 76/108 [00:01<00:00, 63.85it/s]\u001b[A\n",
      " 77%|███████▋  | 83/108 [00:01<00:00, 65.23it/s]\u001b[A\n",
      " 84%|████████▍ | 91/108 [00:01<00:00, 66.58it/s]\u001b[A\n",
      " 92%|█████████▏| 99/108 [00:01<00:00, 67.77it/s]\u001b[A\n",
      "109it [00:01, 58.77it/s]                         \u001b[A"
     ]
    },
    {
     "name": "stdout",
     "output_type": "stream",
     "text": [
      "Val Loss: 0.1691, Val Acc: 65.73\n",
      "Epoch 63 of 100\n",
      "Training\n"
     ]
    },
    {
     "name": "stderr",
     "output_type": "stream",
     "text": [
      "\n",
      "\n",
      "  0%|          | 0/325 [00:00<?, ?it/s]\u001b[A\n",
      "  0%|          | 1/325 [00:00<00:36,  8.85it/s]\u001b[A\n",
      "  1%|          | 4/325 [00:00<00:28, 11.11it/s]\u001b[A\n",
      "  2%|▏         | 7/325 [00:00<00:25, 12.64it/s]\u001b[A\n",
      "  3%|▎         | 10/325 [00:00<00:21, 14.80it/s]\u001b[A\n",
      "  4%|▍         | 13/325 [00:00<00:18, 17.04it/s]\u001b[A\n",
      "  5%|▍         | 16/325 [00:00<00:16, 19.11it/s]\u001b[A\n",
      "  6%|▌         | 19/325 [00:00<00:14, 20.86it/s]\u001b[A\n",
      "  7%|▋         | 22/325 [00:00<00:13, 22.31it/s]\u001b[A\n",
      "  8%|▊         | 25/325 [00:01<00:12, 23.39it/s]\u001b[A\n",
      "  9%|▊         | 28/325 [00:01<00:12, 23.76it/s]\u001b[A\n",
      " 10%|▉         | 31/325 [00:01<00:11, 24.65it/s]\u001b[A\n",
      " 10%|█         | 34/325 [00:01<00:11, 25.19it/s]\u001b[A\n",
      " 11%|█▏        | 37/325 [00:01<00:11, 25.50it/s]\u001b[A\n",
      " 12%|█▏        | 40/325 [00:01<00:10, 25.94it/s]\u001b[A\n",
      " 13%|█▎        | 43/325 [00:01<00:11, 25.38it/s]\u001b[A\n",
      " 14%|█▍        | 46/325 [00:01<00:10, 25.73it/s]\u001b[A\n",
      " 15%|█▌        | 49/325 [00:01<00:10, 25.85it/s]\u001b[A\n",
      " 16%|█▌        | 52/325 [00:02<00:10, 26.12it/s]\u001b[A\n",
      " 17%|█▋        | 55/325 [00:02<00:10, 26.21it/s]\u001b[A\n",
      " 18%|█▊        | 58/325 [00:02<00:10, 25.70it/s]\u001b[A\n",
      " 19%|█▉        | 61/325 [00:02<00:10, 25.85it/s]\u001b[A\n",
      " 20%|█▉        | 64/325 [00:02<00:09, 26.11it/s]\u001b[A\n",
      " 21%|██        | 67/325 [00:02<00:09, 26.14it/s]\u001b[A\n",
      " 22%|██▏       | 70/325 [00:02<00:09, 26.27it/s]\u001b[A\n",
      " 22%|██▏       | 73/325 [00:02<00:09, 26.31it/s]\u001b[A\n",
      " 23%|██▎       | 76/325 [00:03<00:09, 25.71it/s]\u001b[A\n",
      " 24%|██▍       | 79/325 [00:03<00:09, 25.93it/s]\u001b[A\n",
      " 25%|██▌       | 82/325 [00:03<00:09, 26.11it/s]\u001b[A\n",
      " 26%|██▌       | 85/325 [00:03<00:09, 26.24it/s]\u001b[A\n",
      " 27%|██▋       | 88/325 [00:03<00:08, 26.37it/s]\u001b[A\n",
      " 28%|██▊       | 91/325 [00:03<00:08, 26.38it/s]\u001b[A\n",
      " 29%|██▉       | 94/325 [00:03<00:08, 26.51it/s]\u001b[A\n",
      " 30%|██▉       | 97/325 [00:03<00:08, 26.55it/s]\u001b[A\n",
      " 31%|███       | 100/325 [00:03<00:08, 26.56it/s]\u001b[A\n",
      " 32%|███▏      | 103/325 [00:04<00:08, 26.56it/s]\u001b[A\n",
      " 33%|███▎      | 106/325 [00:04<00:08, 26.56it/s]\u001b[A\n",
      " 34%|███▎      | 109/325 [00:04<00:08, 26.54it/s]\u001b[A\n",
      " 34%|███▍      | 112/325 [00:04<00:08, 26.57it/s]\u001b[A\n",
      " 35%|███▌      | 115/325 [00:04<00:07, 26.58it/s]\u001b[A\n",
      " 36%|███▋      | 118/325 [00:04<00:07, 26.55it/s]\u001b[A\n",
      " 37%|███▋      | 121/325 [00:04<00:07, 26.60it/s]\u001b[A\n",
      " 38%|███▊      | 124/325 [00:04<00:07, 26.54it/s]\u001b[A\n",
      " 39%|███▉      | 127/325 [00:04<00:07, 26.57it/s]\u001b[A\n",
      " 40%|████      | 130/325 [00:05<00:07, 26.60it/s]\u001b[A\n",
      " 41%|████      | 133/325 [00:05<00:07, 26.22it/s]\u001b[A\n",
      " 42%|████▏     | 136/325 [00:05<00:07, 26.35it/s]\u001b[A\n",
      " 43%|████▎     | 139/325 [00:05<00:07, 26.43it/s]\u001b[A\n",
      " 44%|████▎     | 142/325 [00:05<00:06, 26.46it/s]\u001b[A\n",
      " 45%|████▍     | 145/325 [00:05<00:06, 26.52it/s]\u001b[A\n",
      " 46%|████▌     | 148/325 [00:05<00:06, 26.56it/s]\u001b[A\n",
      " 46%|████▋     | 151/325 [00:05<00:06, 26.59it/s]\u001b[A\n",
      " 47%|████▋     | 154/325 [00:05<00:06, 26.61it/s]\u001b[A\n",
      " 48%|████▊     | 157/325 [00:06<00:06, 26.01it/s]\u001b[A\n",
      " 49%|████▉     | 160/325 [00:06<00:06, 26.34it/s]\u001b[A\n",
      " 50%|█████     | 163/325 [00:06<00:06, 26.03it/s]\u001b[A\n",
      " 51%|█████     | 166/325 [00:06<00:06, 26.28it/s]\u001b[A\n",
      " 52%|█████▏    | 169/325 [00:06<00:05, 26.22it/s]\u001b[A\n",
      " 53%|█████▎    | 172/325 [00:06<00:05, 26.27it/s]\u001b[A\n",
      " 54%|█████▍    | 175/325 [00:06<00:05, 26.19it/s]\u001b[A\n",
      " 55%|█████▍    | 178/325 [00:06<00:05, 26.24it/s]\u001b[A\n",
      " 56%|█████▌    | 181/325 [00:07<00:05, 26.19it/s]\u001b[A\n",
      " 57%|█████▋    | 184/325 [00:07<00:05, 26.31it/s]\u001b[A\n",
      " 58%|█████▊    | 187/325 [00:07<00:05, 26.32it/s]\u001b[A\n",
      " 58%|█████▊    | 190/325 [00:07<00:05, 26.38it/s]\u001b[A\n",
      " 59%|█████▉    | 193/325 [00:07<00:05, 26.34it/s]\u001b[A\n",
      " 60%|██████    | 196/325 [00:07<00:05, 25.76it/s]\u001b[A\n",
      " 61%|██████    | 199/325 [00:07<00:04, 25.42it/s]\u001b[A\n",
      " 62%|██████▏   | 202/325 [00:07<00:04, 25.45it/s]\u001b[A\n",
      " 63%|██████▎   | 205/325 [00:07<00:04, 24.35it/s]\u001b[A\n",
      " 64%|██████▍   | 208/325 [00:08<00:04, 24.90it/s]\u001b[A\n",
      " 65%|██████▍   | 211/325 [00:08<00:04, 25.22it/s]\u001b[A\n",
      " 66%|██████▌   | 214/325 [00:08<00:04, 25.56it/s]\u001b[A\n",
      " 67%|██████▋   | 217/325 [00:08<00:04, 25.68it/s]\u001b[A\n",
      " 68%|██████▊   | 220/325 [00:08<00:04, 25.94it/s]\u001b[A\n",
      " 69%|██████▊   | 223/325 [00:08<00:03, 26.04it/s]\u001b[A\n",
      " 70%|██████▉   | 226/325 [00:08<00:03, 26.19it/s]\u001b[A\n",
      " 70%|███████   | 229/325 [00:08<00:03, 26.13it/s]\u001b[A\n",
      " 71%|███████▏  | 232/325 [00:08<00:03, 26.23it/s]\u001b[A\n",
      " 72%|███████▏  | 235/325 [00:09<00:03, 26.22it/s]\u001b[A\n",
      " 73%|███████▎  | 238/325 [00:09<00:03, 26.31it/s]\u001b[A\n",
      " 74%|███████▍  | 241/325 [00:09<00:03, 26.27it/s]\u001b[A\n",
      " 75%|███████▌  | 244/325 [00:09<00:03, 26.30it/s]\u001b[A\n",
      " 76%|███████▌  | 247/325 [00:09<00:02, 26.16it/s]\u001b[A\n",
      " 77%|███████▋  | 250/325 [00:09<00:02, 26.22it/s]\u001b[A\n",
      " 78%|███████▊  | 253/325 [00:09<00:02, 26.21it/s]\u001b[A\n",
      " 79%|███████▉  | 256/325 [00:09<00:02, 26.30it/s]\u001b[A\n",
      " 80%|███████▉  | 259/325 [00:10<00:02, 26.28it/s]\u001b[A\n",
      " 81%|████████  | 262/325 [00:10<00:02, 26.38it/s]\u001b[A\n",
      " 82%|████████▏ | 265/325 [00:10<00:02, 26.26it/s]\u001b[A\n",
      " 82%|████████▏ | 268/325 [00:10<00:02, 26.30it/s]\u001b[A\n",
      " 83%|████████▎ | 271/325 [00:10<00:02, 26.23it/s]\u001b[A\n",
      " 84%|████████▍ | 274/325 [00:10<00:01, 26.26it/s]\u001b[A\n",
      " 85%|████████▌ | 277/325 [00:10<00:01, 26.19it/s]\u001b[A\n",
      " 86%|████████▌ | 280/325 [00:10<00:01, 26.24it/s]\u001b[A\n",
      " 87%|████████▋ | 283/325 [00:10<00:01, 26.18it/s]\u001b[A\n",
      " 88%|████████▊ | 286/325 [00:11<00:01, 26.23it/s]\u001b[A\n",
      " 89%|████████▉ | 289/325 [00:11<00:01, 26.17it/s]\u001b[A\n",
      " 90%|████████▉ | 292/325 [00:11<00:01, 26.31it/s]\u001b[A\n",
      " 91%|█████████ | 295/325 [00:11<00:01, 26.29it/s]\u001b[A\n",
      " 92%|█████████▏| 298/325 [00:11<00:01, 26.37it/s]\u001b[A\n",
      " 93%|█████████▎| 301/325 [00:11<00:00, 26.35it/s]\u001b[A\n",
      " 94%|█████████▎| 304/325 [00:11<00:00, 26.44it/s]\u001b[A\n",
      " 94%|█████████▍| 307/325 [00:11<00:00, 26.39it/s]\u001b[A\n",
      " 95%|█████████▌| 310/325 [00:11<00:00, 26.42it/s]\u001b[A\n",
      " 96%|█████████▋| 313/325 [00:12<00:00, 26.34it/s]\u001b[A\n",
      " 97%|█████████▋| 316/325 [00:12<00:00, 26.36it/s]\u001b[A\n",
      " 98%|█████████▊| 319/325 [00:12<00:00, 26.29it/s]\u001b[A\n",
      " 99%|█████████▉| 322/325 [00:12<00:00, 26.39it/s]\u001b[A\n",
      "326it [00:12, 25.48it/s]                         \u001b[A"
     ]
    },
    {
     "name": "stdout",
     "output_type": "stream",
     "text": [
      "Train Loss: 0.0046, Train Acc: 97.77\n",
      "Validating\n"
     ]
    },
    {
     "name": "stderr",
     "output_type": "stream",
     "text": [
      "\n",
      "\n",
      "  0%|          | 0/108 [00:00<?, ?it/s]\u001b[A\n",
      "  2%|▏         | 2/108 [00:00<00:05, 18.38it/s]\u001b[A\n",
      "  8%|▊         | 9/108 [00:00<00:04, 23.52it/s]\u001b[A\n",
      " 16%|█▌        | 17/108 [00:00<00:03, 29.12it/s]\u001b[A\n",
      " 23%|██▎       | 25/108 [00:00<00:02, 35.41it/s]\u001b[A\n",
      " 31%|███       | 33/108 [00:00<00:01, 41.78it/s]\u001b[A\n",
      " 37%|███▋      | 40/108 [00:00<00:01, 47.48it/s]\u001b[A\n",
      " 44%|████▎     | 47/108 [00:00<00:01, 51.94it/s]\u001b[A\n",
      " 50%|█████     | 54/108 [00:00<00:00, 56.14it/s]\u001b[A\n",
      " 56%|█████▋    | 61/108 [00:00<00:00, 59.10it/s]\u001b[A\n",
      " 63%|██████▎   | 68/108 [00:01<00:00, 61.90it/s]\u001b[A\n",
      " 69%|██████▉   | 75/108 [00:01<00:00, 63.61it/s]\u001b[A\n",
      " 77%|███████▋  | 83/108 [00:01<00:00, 65.48it/s]\u001b[A\n",
      " 84%|████████▍ | 91/108 [00:01<00:00, 66.63it/s]\u001b[A\n",
      " 92%|█████████▏| 99/108 [00:01<00:00, 67.82it/s]\u001b[A\n",
      "109it [00:01, 56.78it/s]                         \u001b[A"
     ]
    },
    {
     "name": "stdout",
     "output_type": "stream",
     "text": [
      "Val Loss: 0.1614, Val Acc: 65.96\n",
      "Epoch 64 of 100\n",
      "Training\n"
     ]
    },
    {
     "name": "stderr",
     "output_type": "stream",
     "text": [
      "\n",
      "\n",
      "  0%|          | 0/325 [00:00<?, ?it/s]\u001b[A\n",
      "  0%|          | 1/325 [00:00<00:45,  7.09it/s]\u001b[A\n",
      "  1%|          | 4/325 [00:00<00:35,  9.07it/s]\u001b[A\n",
      "  2%|▏         | 7/325 [00:00<00:28, 11.08it/s]\u001b[A\n",
      "  3%|▎         | 10/325 [00:00<00:23, 13.41it/s]\u001b[A\n",
      "  4%|▍         | 13/325 [00:00<00:19, 15.64it/s]\u001b[A\n",
      "  5%|▍         | 16/325 [00:00<00:17, 17.80it/s]\u001b[A\n",
      "  6%|▌         | 19/325 [00:00<00:15, 19.61it/s]\u001b[A\n",
      "  7%|▋         | 22/325 [00:00<00:14, 21.24it/s]\u001b[A\n",
      "  8%|▊         | 25/325 [00:01<00:13, 22.51it/s]\u001b[A\n",
      "  9%|▊         | 28/325 [00:01<00:12, 23.53it/s]\u001b[A\n",
      " 10%|▉         | 31/325 [00:01<00:12, 24.31it/s]\u001b[A\n",
      " 10%|█         | 34/325 [00:01<00:11, 24.81it/s]\u001b[A\n",
      " 11%|█▏        | 37/325 [00:01<00:11, 25.00it/s]\u001b[A\n",
      " 12%|█▏        | 40/325 [00:01<00:11, 25.43it/s]\u001b[A\n",
      " 13%|█▎        | 43/325 [00:01<00:11, 25.59it/s]\u001b[A\n",
      " 14%|█▍        | 46/325 [00:01<00:10, 25.83it/s]\u001b[A\n",
      " 15%|█▌        | 49/325 [00:01<00:10, 25.85it/s]\u001b[A\n",
      " 16%|█▌        | 52/325 [00:02<00:10, 26.01it/s]\u001b[A\n",
      " 17%|█▋        | 55/325 [00:02<00:10, 26.03it/s]\u001b[A\n",
      " 18%|█▊        | 58/325 [00:02<00:10, 26.18it/s]\u001b[A\n",
      " 19%|█▉        | 61/325 [00:02<00:10, 26.17it/s]\u001b[A\n",
      " 20%|█▉        | 64/325 [00:02<00:09, 26.27it/s]\u001b[A\n",
      " 21%|██        | 67/325 [00:02<00:09, 26.18it/s]\u001b[A\n",
      " 22%|██▏       | 70/325 [00:02<00:09, 26.23it/s]\u001b[A\n",
      " 22%|██▏       | 73/325 [00:02<00:09, 26.17it/s]\u001b[A\n",
      " 23%|██▎       | 76/325 [00:03<00:09, 26.24it/s]\u001b[A\n",
      " 24%|██▍       | 79/325 [00:03<00:09, 26.13it/s]\u001b[A\n",
      " 25%|██▌       | 82/325 [00:03<00:09, 26.25it/s]\u001b[A\n",
      " 26%|██▌       | 85/325 [00:03<00:09, 26.17it/s]\u001b[A\n",
      " 27%|██▋       | 88/325 [00:03<00:09, 26.24it/s]\u001b[A\n",
      " 28%|██▊       | 91/325 [00:03<00:08, 26.26it/s]\u001b[A\n",
      " 29%|██▉       | 94/325 [00:03<00:08, 26.34it/s]\u001b[A\n",
      " 30%|██▉       | 97/325 [00:03<00:08, 26.30it/s]\u001b[A\n",
      " 31%|███       | 100/325 [00:03<00:08, 26.29it/s]\u001b[A\n",
      " 32%|███▏      | 103/325 [00:04<00:08, 26.17it/s]\u001b[A\n",
      " 33%|███▎      | 106/325 [00:04<00:08, 26.25it/s]\u001b[A\n",
      " 34%|███▎      | 109/325 [00:04<00:08, 26.21it/s]\u001b[A\n",
      " 34%|███▍      | 112/325 [00:04<00:08, 26.27it/s]\u001b[A\n",
      " 35%|███▌      | 115/325 [00:04<00:08, 26.20it/s]\u001b[A\n",
      " 36%|███▋      | 118/325 [00:04<00:07, 26.25it/s]\u001b[A\n",
      " 37%|███▋      | 121/325 [00:04<00:07, 26.23it/s]\u001b[A\n",
      " 38%|███▊      | 124/325 [00:04<00:07, 26.20it/s]\u001b[A\n",
      " 39%|███▉      | 127/325 [00:04<00:07, 26.23it/s]\u001b[A\n",
      " 40%|████      | 130/325 [00:05<00:07, 26.29it/s]\u001b[A\n",
      " 41%|████      | 133/325 [00:05<00:07, 26.17it/s]\u001b[A\n",
      " 42%|████▏     | 136/325 [00:05<00:07, 26.25it/s]\u001b[A\n",
      " 43%|████▎     | 139/325 [00:05<00:07, 26.25it/s]\u001b[A\n",
      " 44%|████▎     | 142/325 [00:05<00:06, 26.30it/s]\u001b[A\n",
      " 45%|████▍     | 145/325 [00:05<00:06, 26.31it/s]\u001b[A\n",
      " 46%|████▌     | 148/325 [00:05<00:06, 26.31it/s]\u001b[A\n",
      " 46%|████▋     | 151/325 [00:05<00:06, 26.26it/s]\u001b[A\n",
      " 47%|████▋     | 154/325 [00:05<00:06, 26.32it/s]\u001b[A\n",
      " 48%|████▊     | 157/325 [00:06<00:06, 26.30it/s]\u001b[A\n",
      " 49%|████▉     | 160/325 [00:06<00:06, 26.35it/s]\u001b[A\n",
      " 50%|█████     | 163/325 [00:06<00:06, 26.36it/s]\u001b[A\n",
      " 51%|█████     | 166/325 [00:06<00:06, 26.32it/s]\u001b[A\n",
      " 52%|█████▏    | 169/325 [00:06<00:05, 26.30it/s]\u001b[A\n",
      " 53%|█████▎    | 172/325 [00:06<00:05, 26.35it/s]\u001b[A\n",
      " 54%|█████▍    | 175/325 [00:06<00:05, 26.16it/s]\u001b[A\n",
      " 55%|█████▍    | 178/325 [00:06<00:05, 26.35it/s]\u001b[A\n",
      " 56%|█████▌    | 181/325 [00:07<00:05, 26.22it/s]\u001b[A\n",
      " 57%|█████▋    | 184/325 [00:07<00:05, 26.29it/s]\u001b[A\n",
      " 58%|█████▊    | 187/325 [00:07<00:05, 26.20it/s]\u001b[A\n",
      " 58%|█████▊    | 190/325 [00:07<00:05, 26.24it/s]\u001b[A\n",
      " 59%|█████▉    | 193/325 [00:07<00:05, 26.24it/s]\u001b[A\n",
      " 60%|██████    | 196/325 [00:07<00:04, 26.34it/s]\u001b[A\n",
      " 61%|██████    | 199/325 [00:07<00:04, 26.39it/s]\u001b[A\n",
      " 62%|██████▏   | 202/325 [00:07<00:04, 26.44it/s]\u001b[A\n",
      " 63%|██████▎   | 205/325 [00:07<00:04, 26.19it/s]\u001b[A\n",
      " 64%|██████▍   | 208/325 [00:08<00:04, 26.30it/s]\u001b[A\n",
      " 65%|██████▍   | 211/325 [00:08<00:04, 26.22it/s]\u001b[A\n",
      " 66%|██████▌   | 214/325 [00:08<00:04, 26.26it/s]\u001b[A\n",
      " 67%|██████▋   | 217/325 [00:08<00:04, 26.25it/s]\u001b[A\n",
      " 68%|██████▊   | 220/325 [00:08<00:03, 26.33it/s]\u001b[A\n",
      " 69%|██████▊   | 223/325 [00:08<00:03, 26.33it/s]\u001b[A\n",
      " 70%|██████▉   | 226/325 [00:08<00:03, 26.36it/s]\u001b[A\n",
      " 70%|███████   | 229/325 [00:08<00:03, 26.35it/s]\u001b[A\n",
      " 71%|███████▏  | 232/325 [00:08<00:03, 26.39it/s]\u001b[A\n",
      " 72%|███████▏  | 235/325 [00:09<00:03, 26.42it/s]\u001b[A\n",
      " 73%|███████▎  | 238/325 [00:09<00:03, 26.42it/s]\u001b[A\n",
      " 74%|███████▍  | 241/325 [00:09<00:03, 26.38it/s]\u001b[A\n",
      " 75%|███████▌  | 244/325 [00:09<00:03, 26.36it/s]\u001b[A\n",
      " 76%|███████▌  | 247/325 [00:09<00:02, 26.30it/s]\u001b[A\n",
      " 77%|███████▋  | 250/325 [00:09<00:02, 26.36it/s]\u001b[A\n",
      " 78%|███████▊  | 253/325 [00:09<00:02, 26.32it/s]\u001b[A\n",
      " 79%|███████▉  | 256/325 [00:09<00:02, 26.36it/s]\u001b[A\n",
      " 80%|███████▉  | 259/325 [00:09<00:02, 26.31it/s]\u001b[A\n",
      " 81%|████████  | 262/325 [00:10<00:02, 26.38it/s]\u001b[A\n",
      " 82%|████████▏ | 265/325 [00:10<00:02, 26.36it/s]\u001b[A\n",
      " 82%|████████▏ | 268/325 [00:10<00:02, 26.45it/s]\u001b[A\n",
      " 83%|████████▎ | 271/325 [00:10<00:02, 26.45it/s]\u001b[A\n",
      " 84%|████████▍ | 274/325 [00:10<00:01, 26.42it/s]\u001b[A\n",
      " 85%|████████▌ | 277/325 [00:10<00:01, 26.34it/s]\u001b[A\n",
      " 86%|████████▌ | 280/325 [00:10<00:01, 26.36it/s]\u001b[A\n",
      " 87%|████████▋ | 283/325 [00:10<00:01, 26.34it/s]\u001b[A\n",
      " 88%|████████▊ | 286/325 [00:11<00:01, 26.38it/s]\u001b[A\n",
      " 89%|████████▉ | 289/325 [00:11<00:01, 26.35it/s]\u001b[A\n",
      " 90%|████████▉ | 292/325 [00:11<00:01, 26.39it/s]\u001b[A\n",
      " 91%|█████████ | 295/325 [00:11<00:01, 26.33it/s]\u001b[A\n",
      " 92%|█████████▏| 298/325 [00:11<00:01, 26.43it/s]\u001b[A\n",
      " 93%|█████████▎| 301/325 [00:11<00:00, 26.52it/s]\u001b[A\n",
      " 94%|█████████▎| 304/325 [00:11<00:00, 26.57it/s]\u001b[A\n",
      " 94%|█████████▍| 307/325 [00:11<00:00, 26.58it/s]\u001b[A\n",
      " 95%|█████████▌| 310/325 [00:11<00:00, 26.57it/s]\u001b[A\n",
      " 96%|█████████▋| 313/325 [00:12<00:00, 26.55it/s]\u001b[A\n",
      " 97%|█████████▋| 316/325 [00:12<00:00, 26.58it/s]\u001b[A\n",
      " 98%|█████████▊| 319/325 [00:12<00:00, 26.59it/s]\u001b[A\n",
      " 99%|█████████▉| 322/325 [00:12<00:00, 26.59it/s]\u001b[A\n",
      "326it [00:12, 25.59it/s]                         \u001b[A"
     ]
    },
    {
     "name": "stdout",
     "output_type": "stream",
     "text": [
      "Train Loss: 0.0030, Train Acc: 98.56\n",
      "Validating\n"
     ]
    },
    {
     "name": "stderr",
     "output_type": "stream",
     "text": [
      "\n",
      "\n",
      "  0%|          | 0/108 [00:00<?, ?it/s]\u001b[A\n",
      "  1%|          | 1/108 [00:00<00:11,  9.17it/s]\u001b[A\n",
      "  7%|▋         | 8/108 [00:00<00:08, 12.35it/s]\u001b[A\n",
      " 14%|█▍        | 15/108 [00:00<00:05, 16.31it/s]\u001b[A\n",
      " 20%|██        | 22/108 [00:00<00:04, 21.00it/s]\u001b[A\n",
      " 28%|██▊       | 30/108 [00:00<00:02, 26.67it/s]\u001b[A\n",
      " 34%|███▍      | 37/108 [00:00<00:02, 32.65it/s]\u001b[A\n",
      " 41%|████      | 44/108 [00:00<00:01, 38.75it/s]\u001b[A\n",
      " 47%|████▋     | 51/108 [00:00<00:01, 44.35it/s]\u001b[A\n",
      " 54%|█████▎    | 58/108 [00:00<00:01, 49.72it/s]\u001b[A\n",
      " 60%|██████    | 65/108 [00:01<00:00, 54.09it/s]\u001b[A\n",
      " 67%|██████▋   | 72/108 [00:01<00:00, 58.02it/s]\u001b[A\n",
      " 73%|███████▎  | 79/108 [00:01<00:00, 60.33it/s]\u001b[A\n",
      " 81%|████████  | 87/108 [00:01<00:00, 63.06it/s]\u001b[A\n",
      " 88%|████████▊ | 95/108 [00:01<00:00, 65.33it/s]\u001b[A\n",
      "109it [00:01, 56.27it/s]                         \u001b[A"
     ]
    },
    {
     "name": "stdout",
     "output_type": "stream",
     "text": [
      "Val Loss: 0.1746, Val Acc: 65.26\n",
      "Epoch 65 of 100\n",
      "Training\n"
     ]
    },
    {
     "name": "stderr",
     "output_type": "stream",
     "text": [
      "\n",
      "\n",
      "  0%|          | 0/325 [00:00<?, ?it/s]\u001b[A\n",
      "  0%|          | 1/325 [00:00<00:46,  7.02it/s]\u001b[A\n",
      "  1%|          | 4/325 [00:00<00:35,  9.01it/s]\u001b[A\n",
      "  2%|▏         | 7/325 [00:00<00:28, 11.16it/s]\u001b[A\n",
      "  3%|▎         | 10/325 [00:00<00:23, 13.52it/s]\u001b[A\n",
      "  4%|▍         | 13/325 [00:00<00:19, 15.77it/s]\u001b[A\n",
      "  5%|▍         | 16/325 [00:00<00:17, 17.93it/s]\u001b[A\n",
      "  6%|▌         | 19/325 [00:00<00:16, 19.04it/s]\u001b[A\n",
      "  7%|▋         | 22/325 [00:00<00:14, 20.77it/s]\u001b[A\n",
      "  8%|▊         | 25/325 [00:01<00:13, 22.10it/s]\u001b[A\n",
      "  9%|▊         | 28/325 [00:01<00:12, 23.18it/s]\u001b[A\n",
      " 10%|▉         | 31/325 [00:01<00:12, 24.07it/s]\u001b[A\n",
      " 10%|█         | 34/325 [00:01<00:11, 24.31it/s]\u001b[A\n",
      " 11%|█▏        | 37/325 [00:01<00:11, 24.83it/s]\u001b[A\n",
      " 12%|█▏        | 40/325 [00:01<00:11, 25.26it/s]\u001b[A\n",
      " 13%|█▎        | 43/325 [00:01<00:11, 25.53it/s]\u001b[A\n",
      " 14%|█▍        | 46/325 [00:01<00:10, 25.65it/s]\u001b[A\n",
      " 15%|█▌        | 49/325 [00:02<00:10, 25.80it/s]\u001b[A\n",
      " 16%|█▌        | 52/325 [00:02<00:10, 25.85it/s]\u001b[A\n",
      " 17%|█▋        | 55/325 [00:02<00:10, 25.89it/s]\u001b[A\n",
      " 18%|█▊        | 58/325 [00:02<00:10, 26.07it/s]\u001b[A\n",
      " 19%|█▉        | 61/325 [00:02<00:10, 26.04it/s]\u001b[A\n",
      " 20%|█▉        | 64/325 [00:02<00:09, 26.19it/s]\u001b[A\n",
      " 21%|██        | 67/325 [00:02<00:09, 26.08it/s]\u001b[A\n",
      " 22%|██▏       | 70/325 [00:02<00:10, 25.24it/s]\u001b[A\n",
      " 22%|██▏       | 73/325 [00:02<00:09, 25.25it/s]\u001b[A\n",
      " 23%|██▎       | 76/325 [00:03<00:09, 25.49it/s]\u001b[A\n",
      " 24%|██▍       | 79/325 [00:03<00:09, 25.64it/s]\u001b[A\n",
      " 25%|██▌       | 82/325 [00:03<00:09, 25.82it/s]\u001b[A\n",
      " 26%|██▌       | 85/325 [00:03<00:09, 25.89it/s]\u001b[A\n",
      " 27%|██▋       | 88/325 [00:03<00:09, 25.12it/s]\u001b[A\n",
      " 28%|██▊       | 91/325 [00:03<00:09, 25.40it/s]\u001b[A\n",
      " 29%|██▉       | 94/325 [00:03<00:08, 25.71it/s]\u001b[A\n",
      " 30%|██▉       | 97/325 [00:03<00:08, 25.85it/s]\u001b[A\n",
      " 31%|███       | 100/325 [00:03<00:08, 26.01it/s]\u001b[A\n",
      " 32%|███▏      | 103/325 [00:04<00:08, 26.08it/s]\u001b[A\n",
      " 33%|███▎      | 106/325 [00:04<00:08, 26.17it/s]\u001b[A\n",
      " 34%|███▎      | 109/325 [00:04<00:08, 26.16it/s]\u001b[A\n",
      " 34%|███▍      | 112/325 [00:04<00:08, 26.24it/s]\u001b[A\n",
      " 35%|███▌      | 115/325 [00:04<00:08, 26.22it/s]\u001b[A\n",
      " 36%|███▋      | 118/325 [00:04<00:07, 26.27it/s]\u001b[A\n",
      " 37%|███▋      | 121/325 [00:04<00:08, 25.47it/s]\u001b[A\n",
      " 38%|███▊      | 124/325 [00:04<00:07, 25.17it/s]\u001b[A\n",
      " 39%|███▉      | 127/325 [00:05<00:07, 24.77it/s]\u001b[A\n",
      " 40%|████      | 130/325 [00:05<00:07, 24.75it/s]\u001b[A\n",
      " 41%|████      | 133/325 [00:05<00:07, 24.53it/s]\u001b[A\n",
      " 42%|████▏     | 136/325 [00:05<00:07, 24.49it/s]\u001b[A\n",
      " 43%|████▎     | 139/325 [00:05<00:07, 24.32it/s]\u001b[A\n",
      " 44%|████▎     | 142/325 [00:05<00:07, 24.32it/s]\u001b[A\n",
      " 45%|████▍     | 145/325 [00:05<00:07, 24.15it/s]\u001b[A\n",
      " 46%|████▌     | 148/325 [00:05<00:07, 24.22it/s]\u001b[A\n",
      " 46%|████▋     | 151/325 [00:06<00:07, 24.14it/s]\u001b[A\n",
      " 47%|████▋     | 154/325 [00:06<00:07, 24.25it/s]\u001b[A\n",
      " 48%|████▊     | 157/325 [00:06<00:06, 24.22it/s]\u001b[A\n",
      " 49%|████▉     | 160/325 [00:06<00:06, 24.33it/s]\u001b[A\n",
      " 50%|█████     | 163/325 [00:06<00:06, 24.24it/s]\u001b[A\n",
      " 51%|█████     | 166/325 [00:06<00:06, 24.33it/s]\u001b[A\n",
      " 52%|█████▏    | 169/325 [00:06<00:06, 24.72it/s]\u001b[A\n",
      " 53%|█████▎    | 172/325 [00:06<00:06, 25.21it/s]\u001b[A\n",
      " 54%|█████▍    | 175/325 [00:06<00:05, 25.66it/s]\u001b[A\n",
      " 55%|█████▍    | 178/325 [00:07<00:05, 25.97it/s]\u001b[A\n",
      " 56%|█████▌    | 181/325 [00:07<00:05, 26.21it/s]\u001b[A\n",
      " 57%|█████▋    | 184/325 [00:07<00:05, 26.34it/s]\u001b[A\n",
      " 58%|█████▊    | 187/325 [00:07<00:05, 26.44it/s]\u001b[A\n",
      " 58%|█████▊    | 190/325 [00:07<00:05, 26.51it/s]\u001b[A\n",
      " 59%|█████▉    | 193/325 [00:07<00:04, 26.56it/s]\u001b[A\n",
      " 60%|██████    | 196/325 [00:07<00:04, 26.60it/s]\u001b[A\n",
      " 61%|██████    | 199/325 [00:07<00:04, 26.64it/s]\u001b[A\n",
      " 62%|██████▏   | 202/325 [00:08<00:04, 26.66it/s]\u001b[A\n",
      " 63%|██████▎   | 205/325 [00:08<00:04, 26.65it/s]\u001b[A\n",
      " 64%|██████▍   | 208/325 [00:08<00:04, 26.67it/s]\u001b[A\n",
      " 65%|██████▍   | 211/325 [00:08<00:04, 26.66it/s]\u001b[A\n",
      " 66%|██████▌   | 214/325 [00:08<00:04, 26.62it/s]\u001b[A\n",
      " 67%|██████▋   | 217/325 [00:08<00:04, 26.39it/s]\u001b[A\n",
      " 68%|██████▊   | 220/325 [00:08<00:03, 26.39it/s]\u001b[A\n",
      " 69%|██████▊   | 223/325 [00:08<00:03, 26.29it/s]\u001b[A\n",
      " 70%|██████▉   | 226/325 [00:08<00:03, 26.31it/s]\u001b[A\n",
      " 70%|███████   | 229/325 [00:09<00:03, 26.23it/s]\u001b[A\n",
      " 71%|███████▏  | 232/325 [00:09<00:03, 26.29it/s]\u001b[A\n",
      " 72%|███████▏  | 235/325 [00:09<00:03, 26.28it/s]\u001b[A\n",
      " 73%|███████▎  | 238/325 [00:09<00:03, 26.30it/s]\u001b[A\n",
      " 74%|███████▍  | 241/325 [00:09<00:03, 26.31it/s]\u001b[A\n",
      " 75%|███████▌  | 244/325 [00:09<00:03, 26.34it/s]\u001b[A\n",
      " 76%|███████▌  | 247/325 [00:09<00:02, 26.30it/s]\u001b[A\n",
      " 77%|███████▋  | 250/325 [00:09<00:02, 26.35it/s]\u001b[A\n",
      " 78%|███████▊  | 253/325 [00:09<00:02, 26.31it/s]\u001b[A\n",
      " 79%|███████▉  | 256/325 [00:10<00:02, 26.34it/s]\u001b[A\n",
      " 80%|███████▉  | 259/325 [00:10<00:02, 26.29it/s]\u001b[A\n",
      " 81%|████████  | 262/325 [00:10<00:02, 26.38it/s]\u001b[A\n",
      " 82%|████████▏ | 265/325 [00:10<00:02, 26.32it/s]\u001b[A\n",
      " 82%|████████▏ | 268/325 [00:10<00:02, 26.37it/s]\u001b[A\n",
      " 83%|████████▎ | 271/325 [00:10<00:02, 26.30it/s]\u001b[A\n",
      " 84%|████████▍ | 274/325 [00:10<00:01, 26.37it/s]\u001b[A\n",
      " 85%|████████▌ | 277/325 [00:10<00:01, 26.32it/s]\u001b[A\n",
      " 86%|████████▌ | 280/325 [00:10<00:01, 26.28it/s]\u001b[A\n",
      " 87%|████████▋ | 283/325 [00:11<00:01, 26.23it/s]\u001b[A\n",
      " 88%|████████▊ | 286/325 [00:11<00:01, 26.29it/s]\u001b[A\n",
      " 89%|████████▉ | 289/325 [00:11<00:01, 25.55it/s]\u001b[A\n",
      " 90%|████████▉ | 292/325 [00:11<00:01, 25.77it/s]\u001b[A\n",
      " 91%|█████████ | 295/325 [00:11<00:01, 25.93it/s]\u001b[A\n",
      " 92%|█████████▏| 298/325 [00:11<00:01, 26.13it/s]\u001b[A\n",
      " 93%|█████████▎| 301/325 [00:11<00:00, 26.09it/s]\u001b[A\n",
      " 94%|█████████▎| 304/325 [00:11<00:00, 26.26it/s]\u001b[A\n",
      " 94%|█████████▍| 307/325 [00:12<00:00, 26.36it/s]\u001b[A\n",
      " 95%|█████████▌| 310/325 [00:12<00:00, 26.44it/s]\u001b[A\n",
      " 96%|█████████▋| 313/325 [00:12<00:00, 26.49it/s]\u001b[A\n",
      " 97%|█████████▋| 316/325 [00:12<00:00, 26.54it/s]\u001b[A\n",
      " 98%|█████████▊| 319/325 [00:12<00:00, 26.55it/s]\u001b[A\n",
      " 99%|█████████▉| 322/325 [00:12<00:00, 26.58it/s]\u001b[A\n",
      "326it [00:12, 25.20it/s]                         \u001b[A"
     ]
    },
    {
     "name": "stdout",
     "output_type": "stream",
     "text": [
      "Train Loss: 0.0029, Train Acc: 98.52\n",
      "Validating\n"
     ]
    },
    {
     "name": "stderr",
     "output_type": "stream",
     "text": [
      "\n",
      "\n",
      "  0%|          | 0/108 [00:00<?, ?it/s]\u001b[A\n",
      "  2%|▏         | 2/108 [00:00<00:06, 17.56it/s]\u001b[A\n",
      "  9%|▉         | 10/108 [00:00<00:04, 22.73it/s]\u001b[A\n",
      " 16%|█▌        | 17/108 [00:00<00:03, 28.19it/s]\u001b[A\n",
      " 23%|██▎       | 25/108 [00:00<00:02, 34.52it/s]\u001b[A\n",
      " 31%|███       | 33/108 [00:00<00:01, 40.99it/s]\u001b[A\n",
      " 38%|███▊      | 41/108 [00:00<00:01, 46.72it/s]\u001b[A\n",
      " 44%|████▍     | 48/108 [00:00<00:01, 51.71it/s]\u001b[A\n",
      " 51%|█████     | 55/108 [00:00<00:00, 55.13it/s]\u001b[A\n",
      " 58%|█████▊    | 63/108 [00:00<00:00, 58.73it/s]\u001b[A\n",
      " 65%|██████▍   | 70/108 [00:01<00:00, 61.61it/s]\u001b[A\n",
      " 71%|███████▏  | 77/108 [00:01<00:00, 63.13it/s]\u001b[A\n",
      " 78%|███████▊  | 84/108 [00:01<00:00, 64.95it/s]\u001b[A\n",
      " 84%|████████▍ | 91/108 [00:01<00:00, 65.99it/s]\u001b[A\n",
      " 92%|█████████▏| 99/108 [00:01<00:00, 67.59it/s]\u001b[A\n",
      "109it [00:01, 58.38it/s]                         \u001b[A"
     ]
    },
    {
     "name": "stdout",
     "output_type": "stream",
     "text": [
      "Val Loss: 0.1643, Val Acc: 66.30\n",
      "Epoch 66 of 100\n",
      "Training\n"
     ]
    },
    {
     "name": "stderr",
     "output_type": "stream",
     "text": [
      "\n",
      "\n",
      "  0%|          | 0/325 [00:00<?, ?it/s]\u001b[A\n",
      "  0%|          | 1/325 [00:00<00:46,  6.95it/s]\u001b[A\n",
      "  1%|          | 4/325 [00:00<00:35,  8.92it/s]\u001b[A\n",
      "  2%|▏         | 7/325 [00:00<00:28, 11.13it/s]\u001b[A\n",
      "  3%|▎         | 10/325 [00:00<00:23, 13.46it/s]\u001b[A\n",
      "  4%|▍         | 13/325 [00:00<00:19, 15.77it/s]\u001b[A\n",
      "  5%|▍         | 16/325 [00:00<00:17, 17.81it/s]\u001b[A\n",
      "  6%|▌         | 19/325 [00:00<00:15, 19.21it/s]\u001b[A\n",
      "  7%|▋         | 22/325 [00:00<00:14, 20.96it/s]\u001b[A\n",
      "  8%|▊         | 25/325 [00:01<00:13, 22.31it/s]\u001b[A\n",
      "  9%|▊         | 28/325 [00:01<00:12, 23.41it/s]\u001b[A\n",
      " 10%|▉         | 31/325 [00:01<00:12, 24.21it/s]\u001b[A\n",
      " 10%|█         | 34/325 [00:01<00:11, 24.68it/s]\u001b[A\n",
      " 11%|█▏        | 37/325 [00:01<00:11, 25.06it/s]\u001b[A\n",
      " 12%|█▏        | 40/325 [00:01<00:11, 25.38it/s]\u001b[A\n",
      " 13%|█▎        | 43/325 [00:01<00:11, 25.53it/s]\u001b[A\n",
      " 14%|█▍        | 46/325 [00:01<00:10, 25.64it/s]\u001b[A\n",
      " 15%|█▌        | 49/325 [00:01<00:10, 25.77it/s]\u001b[A\n",
      " 16%|█▌        | 52/325 [00:02<00:10, 25.88it/s]\u001b[A\n",
      " 17%|█▋        | 55/325 [00:02<00:10, 25.96it/s]\u001b[A\n",
      " 18%|█▊        | 58/325 [00:02<00:10, 26.11it/s]\u001b[A\n",
      " 19%|█▉        | 61/325 [00:02<00:10, 26.14it/s]\u001b[A\n",
      " 20%|█▉        | 64/325 [00:02<00:09, 26.24it/s]\u001b[A\n",
      " 21%|██        | 67/325 [00:02<00:09, 26.25it/s]\u001b[A\n",
      " 22%|██▏       | 70/325 [00:02<00:09, 26.28it/s]\u001b[A\n",
      " 22%|██▏       | 73/325 [00:02<00:09, 26.23it/s]\u001b[A\n",
      " 23%|██▎       | 76/325 [00:03<00:09, 26.32it/s]\u001b[A\n",
      " 24%|██▍       | 79/325 [00:03<00:09, 26.34it/s]\u001b[A\n",
      " 25%|██▌       | 82/325 [00:03<00:09, 26.36it/s]\u001b[A\n",
      " 26%|██▌       | 85/325 [00:03<00:09, 26.31it/s]\u001b[A\n",
      " 27%|██▋       | 88/325 [00:03<00:08, 26.33it/s]\u001b[A\n",
      " 28%|██▊       | 91/325 [00:03<00:08, 26.30it/s]\u001b[A\n",
      " 29%|██▉       | 94/325 [00:03<00:08, 26.35it/s]\u001b[A\n",
      " 30%|██▉       | 97/325 [00:03<00:08, 26.34it/s]\u001b[A\n",
      " 31%|███       | 100/325 [00:03<00:08, 26.38it/s]\u001b[A\n",
      " 32%|███▏      | 103/325 [00:04<00:08, 26.34it/s]\u001b[A\n",
      " 33%|███▎      | 106/325 [00:04<00:08, 26.35it/s]\u001b[A\n",
      " 34%|███▎      | 109/325 [00:04<00:08, 26.30it/s]\u001b[A\n",
      " 34%|███▍      | 112/325 [00:04<00:08, 26.30it/s]\u001b[A\n",
      " 35%|███▌      | 115/325 [00:04<00:08, 26.24it/s]\u001b[A\n",
      " 36%|███▋      | 118/325 [00:04<00:07, 26.26it/s]\u001b[A\n",
      " 37%|███▋      | 121/325 [00:04<00:07, 26.02it/s]\u001b[A\n",
      " 38%|███▊      | 124/325 [00:04<00:07, 26.15it/s]\u001b[A\n",
      " 39%|███▉      | 127/325 [00:04<00:07, 26.22it/s]\u001b[A\n",
      " 40%|████      | 130/325 [00:05<00:07, 26.27it/s]\u001b[A\n",
      " 41%|████      | 133/325 [00:05<00:07, 26.21it/s]\u001b[A\n",
      " 42%|████▏     | 136/325 [00:05<00:07, 26.27it/s]\u001b[A\n",
      " 43%|████▎     | 139/325 [00:05<00:07, 26.28it/s]\u001b[A\n",
      " 44%|████▎     | 142/325 [00:05<00:06, 26.33it/s]\u001b[A\n",
      " 45%|████▍     | 145/325 [00:05<00:06, 26.31it/s]\u001b[A\n",
      " 46%|████▌     | 148/325 [00:05<00:06, 26.40it/s]\u001b[A\n",
      " 46%|████▋     | 151/325 [00:05<00:06, 26.34it/s]\u001b[A\n",
      " 47%|████▋     | 154/325 [00:05<00:06, 26.34it/s]\u001b[A\n",
      " 48%|████▊     | 157/325 [00:06<00:06, 26.25it/s]\u001b[A\n",
      " 49%|████▉     | 160/325 [00:06<00:06, 26.33it/s]\u001b[A\n",
      " 50%|█████     | 163/325 [00:06<00:06, 26.33it/s]\u001b[A\n",
      " 51%|█████     | 166/325 [00:06<00:06, 26.35it/s]\u001b[A\n",
      " 52%|█████▏    | 169/325 [00:06<00:05, 26.06it/s]\u001b[A\n",
      " 53%|█████▎    | 172/325 [00:06<00:05, 26.17it/s]\u001b[A\n",
      " 54%|█████▍    | 175/325 [00:06<00:05, 25.91it/s]\u001b[A\n",
      " 55%|█████▍    | 178/325 [00:06<00:05, 25.98it/s]\u001b[A\n",
      " 56%|█████▌    | 181/325 [00:07<00:05, 25.82it/s]\u001b[A\n",
      " 57%|█████▋    | 184/325 [00:07<00:05, 25.85it/s]\u001b[A\n",
      " 58%|█████▊    | 187/325 [00:07<00:05, 25.86it/s]\u001b[A\n",
      " 58%|█████▊    | 190/325 [00:07<00:05, 26.01it/s]\u001b[A\n",
      " 59%|█████▉    | 193/325 [00:07<00:05, 25.95it/s]\u001b[A\n",
      " 60%|██████    | 196/325 [00:07<00:04, 26.21it/s]\u001b[A\n",
      " 61%|██████    | 199/325 [00:07<00:04, 26.21it/s]\u001b[A\n",
      " 62%|██████▏   | 202/325 [00:07<00:04, 26.27it/s]\u001b[A\n",
      " 63%|██████▎   | 205/325 [00:07<00:04, 26.24it/s]\u001b[A\n",
      " 64%|██████▍   | 208/325 [00:08<00:04, 26.29it/s]\u001b[A\n",
      " 65%|██████▍   | 211/325 [00:08<00:04, 26.27it/s]\u001b[A\n",
      " 66%|██████▌   | 214/325 [00:08<00:04, 26.33it/s]\u001b[A\n",
      " 67%|██████▋   | 217/325 [00:08<00:04, 26.32it/s]\u001b[A\n",
      " 68%|██████▊   | 220/325 [00:08<00:03, 26.34it/s]\u001b[A\n",
      " 69%|██████▊   | 223/325 [00:08<00:03, 26.23it/s]\u001b[A\n",
      " 70%|██████▉   | 226/325 [00:08<00:03, 26.23it/s]\u001b[A\n",
      " 70%|███████   | 229/325 [00:08<00:03, 25.84it/s]\u001b[A\n",
      " 71%|███████▏  | 232/325 [00:08<00:03, 25.99it/s]\u001b[A\n",
      " 72%|███████▏  | 235/325 [00:09<00:03, 25.99it/s]\u001b[A\n",
      " 73%|███████▎  | 238/325 [00:09<00:03, 26.08it/s]\u001b[A\n",
      " 74%|███████▍  | 241/325 [00:09<00:03, 26.13it/s]\u001b[A\n",
      " 75%|███████▌  | 244/325 [00:09<00:03, 26.24it/s]\u001b[A\n",
      " 76%|███████▌  | 247/325 [00:09<00:02, 26.20it/s]\u001b[A\n",
      " 77%|███████▋  | 250/325 [00:09<00:02, 26.32it/s]\u001b[A\n",
      " 78%|███████▊  | 253/325 [00:09<00:02, 26.34it/s]\u001b[A\n",
      " 79%|███████▉  | 256/325 [00:09<00:02, 26.34it/s]\u001b[A\n",
      " 80%|███████▉  | 259/325 [00:09<00:02, 26.27it/s]\u001b[A\n",
      " 81%|████████  | 262/325 [00:10<00:02, 26.35it/s]\u001b[A\n",
      " 82%|████████▏ | 265/325 [00:10<00:02, 26.27it/s]\u001b[A\n",
      " 82%|████████▏ | 268/325 [00:10<00:02, 25.71it/s]\u001b[A\n",
      " 83%|████████▎ | 271/325 [00:10<00:02, 25.07it/s]\u001b[A\n",
      " 84%|████████▍ | 274/325 [00:10<00:01, 25.53it/s]\u001b[A\n",
      " 85%|████████▌ | 277/325 [00:10<00:01, 25.75it/s]\u001b[A\n",
      " 86%|████████▌ | 280/325 [00:10<00:01, 25.94it/s]\u001b[A\n",
      " 87%|████████▋ | 283/325 [00:10<00:01, 26.05it/s]\u001b[A\n",
      " 88%|████████▊ | 286/325 [00:11<00:01, 26.08it/s]\u001b[A\n",
      " 89%|████████▉ | 289/325 [00:11<00:01, 26.13it/s]\u001b[A\n",
      " 90%|████████▉ | 292/325 [00:11<00:01, 26.23it/s]\u001b[A\n",
      " 91%|█████████ | 295/325 [00:11<00:01, 26.19it/s]\u001b[A\n",
      " 92%|█████████▏| 298/325 [00:11<00:01, 26.26it/s]\u001b[A\n",
      " 93%|█████████▎| 301/325 [00:11<00:00, 26.13it/s]\u001b[A\n",
      " 94%|█████████▎| 304/325 [00:11<00:00, 26.29it/s]\u001b[A\n",
      " 94%|█████████▍| 307/325 [00:11<00:00, 26.29it/s]\u001b[A\n",
      " 95%|█████████▌| 310/325 [00:11<00:00, 26.36it/s]\u001b[A\n",
      " 96%|█████████▋| 313/325 [00:12<00:00, 26.19it/s]\u001b[A\n",
      " 97%|█████████▋| 316/325 [00:12<00:00, 26.41it/s]\u001b[A\n",
      " 98%|█████████▊| 319/325 [00:12<00:00, 26.44it/s]\u001b[A\n",
      " 99%|█████████▉| 322/325 [00:12<00:00, 26.49it/s]\u001b[A\n",
      "326it [00:12, 25.48it/s]                         \u001b[A"
     ]
    },
    {
     "name": "stdout",
     "output_type": "stream",
     "text": [
      "Train Loss: 0.0033, Train Acc: 98.46\n",
      "Validating\n"
     ]
    },
    {
     "name": "stderr",
     "output_type": "stream",
     "text": [
      "\n",
      "\n",
      "  0%|          | 0/108 [00:00<?, ?it/s]\u001b[A\n",
      "  1%|          | 1/108 [00:00<00:11,  9.27it/s]\u001b[A\n",
      "  8%|▊         | 9/108 [00:00<00:07, 12.55it/s]\u001b[A\n",
      " 16%|█▌        | 17/108 [00:00<00:05, 16.52it/s]\u001b[A\n",
      " 23%|██▎       | 25/108 [00:00<00:03, 21.52it/s]\u001b[A\n",
      " 31%|███       | 33/108 [00:00<00:02, 27.25it/s]\u001b[A\n",
      " 37%|███▋      | 40/108 [00:00<00:02, 33.35it/s]\u001b[A\n",
      " 44%|████▎     | 47/108 [00:00<00:01, 39.27it/s]\u001b[A\n",
      " 50%|█████     | 54/108 [00:00<00:01, 45.12it/s]\u001b[A\n",
      " 56%|█████▋    | 61/108 [00:00<00:00, 50.23it/s]\u001b[A\n",
      " 63%|██████▎   | 68/108 [00:01<00:00, 54.61it/s]\u001b[A\n",
      " 69%|██████▉   | 75/108 [00:01<00:00, 57.69it/s]\u001b[A\n",
      " 77%|███████▋  | 83/108 [00:01<00:00, 60.88it/s]\u001b[A\n",
      " 84%|████████▍ | 91/108 [00:01<00:00, 63.50it/s]\u001b[A\n",
      " 92%|█████████▏| 99/108 [00:01<00:00, 65.52it/s]\u001b[A\n",
      "109it [00:01, 56.47it/s]                         \u001b[A"
     ]
    },
    {
     "name": "stdout",
     "output_type": "stream",
     "text": [
      "Val Loss: 0.1630, Val Acc: 64.92\n",
      "Epoch 67 of 100\n",
      "Training\n"
     ]
    },
    {
     "name": "stderr",
     "output_type": "stream",
     "text": [
      "\n",
      "\n",
      "  0%|          | 0/325 [00:00<?, ?it/s]\u001b[A\n",
      "  0%|          | 1/325 [00:00<00:43,  7.41it/s]\u001b[A\n",
      "  1%|          | 4/325 [00:00<00:33,  9.46it/s]\u001b[A\n",
      "  2%|▏         | 7/325 [00:00<00:27, 11.70it/s]\u001b[A\n",
      "  3%|▎         | 10/325 [00:00<00:22, 14.05it/s]\u001b[A\n",
      "  4%|▍         | 13/325 [00:00<00:19, 16.32it/s]\u001b[A\n",
      "  5%|▍         | 16/325 [00:00<00:16, 18.39it/s]\u001b[A\n",
      "  6%|▌         | 19/325 [00:00<00:15, 19.75it/s]\u001b[A\n",
      "  7%|▋         | 22/325 [00:00<00:14, 21.36it/s]\u001b[A\n",
      "  8%|▊         | 25/325 [00:01<00:13, 22.61it/s]\u001b[A\n",
      "  9%|▊         | 28/325 [00:01<00:12, 23.69it/s]\u001b[A\n",
      " 10%|▉         | 31/325 [00:01<00:12, 24.48it/s]\u001b[A\n",
      " 10%|█         | 34/325 [00:01<00:11, 24.85it/s]\u001b[A\n",
      " 11%|█▏        | 37/325 [00:01<00:11, 25.16it/s]\u001b[A\n",
      " 12%|█▏        | 40/325 [00:01<00:11, 25.45it/s]\u001b[A\n",
      " 13%|█▎        | 43/325 [00:01<00:11, 25.62it/s]\u001b[A\n",
      " 14%|█▍        | 46/325 [00:01<00:10, 25.86it/s]\u001b[A\n",
      " 15%|█▌        | 49/325 [00:01<00:10, 25.79it/s]\u001b[A\n",
      " 16%|█▌        | 52/325 [00:02<00:10, 25.96it/s]\u001b[A\n",
      " 17%|█▋        | 55/325 [00:02<00:10, 26.01it/s]\u001b[A\n",
      " 18%|█▊        | 58/325 [00:02<00:10, 26.12it/s]\u001b[A\n",
      " 19%|█▉        | 61/325 [00:02<00:10, 26.11it/s]\u001b[A\n",
      " 20%|█▉        | 64/325 [00:02<00:09, 26.23it/s]\u001b[A\n",
      " 21%|██        | 67/325 [00:02<00:09, 26.19it/s]\u001b[A\n",
      " 22%|██▏       | 70/325 [00:02<00:09, 26.21it/s]\u001b[A\n",
      " 22%|██▏       | 73/325 [00:02<00:09, 26.07it/s]\u001b[A\n",
      " 23%|██▎       | 76/325 [00:03<00:09, 26.10it/s]\u001b[A\n",
      " 24%|██▍       | 79/325 [00:03<00:09, 26.11it/s]\u001b[A\n",
      " 25%|██▌       | 82/325 [00:03<00:09, 26.17it/s]\u001b[A\n",
      " 26%|██▌       | 85/325 [00:03<00:09, 26.16it/s]\u001b[A\n",
      " 27%|██▋       | 88/325 [00:03<00:09, 26.27it/s]\u001b[A\n",
      " 28%|██▊       | 91/325 [00:03<00:08, 26.29it/s]\u001b[A\n",
      " 29%|██▉       | 94/325 [00:03<00:08, 26.36it/s]\u001b[A\n",
      " 30%|██▉       | 97/325 [00:03<00:08, 26.30it/s]\u001b[A\n",
      " 31%|███       | 100/325 [00:03<00:08, 26.32it/s]\u001b[A\n",
      " 32%|███▏      | 103/325 [00:04<00:08, 26.31it/s]\u001b[A\n",
      " 33%|███▎      | 106/325 [00:04<00:08, 26.33it/s]\u001b[A\n",
      " 34%|███▎      | 109/325 [00:04<00:08, 26.26it/s]\u001b[A\n",
      " 34%|███▍      | 112/325 [00:04<00:08, 26.29it/s]\u001b[A\n",
      " 35%|███▌      | 115/325 [00:04<00:08, 26.18it/s]\u001b[A\n",
      " 36%|███▋      | 118/325 [00:04<00:07, 26.26it/s]\u001b[A\n",
      " 37%|███▋      | 121/325 [00:04<00:07, 26.26it/s]\u001b[A\n",
      " 38%|███▊      | 124/325 [00:04<00:07, 26.32it/s]\u001b[A\n",
      " 39%|███▉      | 127/325 [00:04<00:07, 26.33it/s]\u001b[A\n",
      " 40%|████      | 130/325 [00:05<00:07, 26.33it/s]\u001b[A\n",
      " 41%|████      | 133/325 [00:05<00:07, 26.19it/s]\u001b[A\n",
      " 42%|████▏     | 136/325 [00:05<00:07, 26.23it/s]\u001b[A\n",
      " 43%|████▎     | 139/325 [00:05<00:07, 26.17it/s]\u001b[A\n",
      " 44%|████▎     | 142/325 [00:05<00:06, 26.23it/s]\u001b[A\n",
      " 45%|████▍     | 145/325 [00:05<00:06, 26.15it/s]\u001b[A\n",
      " 46%|████▌     | 148/325 [00:05<00:06, 26.17it/s]\u001b[A\n",
      " 46%|████▋     | 151/325 [00:05<00:06, 26.07it/s]\u001b[A\n",
      " 47%|████▋     | 154/325 [00:05<00:06, 26.17it/s]\u001b[A\n",
      " 48%|████▊     | 157/325 [00:06<00:06, 26.18it/s]\u001b[A\n",
      " 49%|████▉     | 160/325 [00:06<00:06, 26.29it/s]\u001b[A\n",
      " 50%|█████     | 163/325 [00:06<00:06, 26.25it/s]\u001b[A\n",
      " 51%|█████     | 166/325 [00:06<00:06, 26.31it/s]\u001b[A\n",
      " 52%|█████▏    | 169/325 [00:06<00:05, 26.31it/s]\u001b[A\n",
      " 53%|█████▎    | 172/325 [00:06<00:05, 26.34it/s]\u001b[A\n",
      " 54%|█████▍    | 175/325 [00:06<00:05, 26.33it/s]\u001b[A\n",
      " 55%|█████▍    | 178/325 [00:06<00:05, 26.35it/s]\u001b[A\n",
      " 56%|█████▌    | 181/325 [00:07<00:05, 26.30it/s]\u001b[A\n",
      " 57%|█████▋    | 184/325 [00:07<00:05, 26.35it/s]\u001b[A\n",
      " 58%|█████▊    | 187/325 [00:07<00:05, 26.30it/s]\u001b[A\n",
      " 58%|█████▊    | 190/325 [00:07<00:05, 26.34it/s]\u001b[A\n",
      " 59%|█████▉    | 193/325 [00:07<00:05, 26.34it/s]\u001b[A\n",
      " 60%|██████    | 196/325 [00:07<00:04, 26.39it/s]\u001b[A\n",
      " 61%|██████    | 199/325 [00:07<00:04, 26.36it/s]\u001b[A\n",
      " 62%|██████▏   | 202/325 [00:07<00:04, 26.37it/s]\u001b[A\n",
      " 63%|██████▎   | 205/325 [00:07<00:04, 26.31it/s]\u001b[A\n",
      " 64%|██████▍   | 208/325 [00:08<00:04, 26.36it/s]\u001b[A\n",
      " 65%|██████▍   | 211/325 [00:08<00:04, 26.30it/s]\u001b[A\n",
      " 66%|██████▌   | 214/325 [00:08<00:04, 26.34it/s]\u001b[A\n",
      " 67%|██████▋   | 217/325 [00:08<00:04, 26.32it/s]\u001b[A\n",
      " 68%|██████▊   | 220/325 [00:08<00:03, 26.35it/s]\u001b[A\n",
      " 69%|██████▊   | 223/325 [00:08<00:03, 26.29it/s]\u001b[A\n",
      " 70%|██████▉   | 226/325 [00:08<00:03, 26.32it/s]\u001b[A\n",
      " 70%|███████   | 229/325 [00:08<00:03, 26.27it/s]\u001b[A\n",
      " 71%|███████▏  | 232/325 [00:08<00:03, 26.13it/s]\u001b[A\n",
      " 72%|███████▏  | 235/325 [00:09<00:03, 26.10it/s]\u001b[A\n",
      " 73%|███████▎  | 238/325 [00:09<00:03, 26.22it/s]\u001b[A\n",
      " 74%|███████▍  | 241/325 [00:09<00:03, 26.04it/s]\u001b[A\n",
      " 75%|███████▌  | 244/325 [00:09<00:03, 26.14it/s]\u001b[A\n",
      " 76%|███████▌  | 247/325 [00:09<00:02, 26.17it/s]\u001b[A\n",
      " 77%|███████▋  | 250/325 [00:09<00:02, 26.23it/s]\u001b[A\n",
      " 78%|███████▊  | 253/325 [00:09<00:02, 26.18it/s]\u001b[A\n",
      " 79%|███████▉  | 256/325 [00:09<00:02, 26.26it/s]\u001b[A\n",
      " 80%|███████▉  | 259/325 [00:09<00:02, 25.78it/s]\u001b[A\n",
      " 81%|████████  | 262/325 [00:10<00:02, 26.16it/s]\u001b[A\n",
      " 82%|████████▏ | 265/325 [00:10<00:02, 26.24it/s]\u001b[A\n",
      " 82%|████████▏ | 268/325 [00:10<00:02, 26.28it/s]\u001b[A\n",
      " 83%|████████▎ | 271/325 [00:10<00:02, 26.07it/s]\u001b[A\n",
      " 84%|████████▍ | 274/325 [00:10<00:01, 26.16it/s]\u001b[A\n",
      " 85%|████████▌ | 277/325 [00:10<00:01, 26.13it/s]\u001b[A\n",
      " 86%|████████▌ | 280/325 [00:10<00:01, 26.23it/s]\u001b[A\n",
      " 87%|████████▋ | 283/325 [00:10<00:01, 26.02it/s]\u001b[A\n",
      " 88%|████████▊ | 286/325 [00:11<00:01, 26.14it/s]\u001b[A\n",
      " 89%|████████▉ | 289/325 [00:11<00:01, 26.06it/s]\u001b[A\n",
      " 90%|████████▉ | 292/325 [00:11<00:01, 26.16it/s]\u001b[A\n",
      " 91%|█████████ | 295/325 [00:11<00:01, 26.14it/s]\u001b[A\n",
      " 92%|█████████▏| 298/325 [00:11<00:01, 26.23it/s]\u001b[A\n",
      " 93%|█████████▎| 301/325 [00:11<00:00, 26.29it/s]\u001b[A\n",
      " 94%|█████████▎| 304/325 [00:11<00:00, 26.35it/s]\u001b[A\n",
      " 94%|█████████▍| 307/325 [00:11<00:00, 26.31it/s]\u001b[A\n",
      " 95%|█████████▌| 310/325 [00:11<00:00, 26.38it/s]\u001b[A\n",
      " 96%|█████████▋| 313/325 [00:12<00:00, 26.38it/s]\u001b[A\n",
      " 97%|█████████▋| 316/325 [00:12<00:00, 26.33it/s]\u001b[A\n",
      " 98%|█████████▊| 319/325 [00:12<00:00, 26.38it/s]\u001b[A\n",
      " 99%|█████████▉| 322/325 [00:12<00:00, 26.44it/s]\u001b[A\n",
      "326it [00:12, 25.52it/s]                         \u001b[A"
     ]
    },
    {
     "name": "stdout",
     "output_type": "stream",
     "text": [
      "Train Loss: 0.0066, Train Acc: 97.29\n",
      "Validating\n"
     ]
    },
    {
     "name": "stderr",
     "output_type": "stream",
     "text": [
      "\n",
      "\n",
      "  0%|          | 0/108 [00:00<?, ?it/s]\u001b[A\n",
      "  3%|▎         | 3/108 [00:00<00:03, 29.71it/s]\u001b[A\n",
      "  9%|▉         | 10/108 [00:00<00:02, 35.37it/s]\u001b[A\n",
      " 16%|█▌        | 17/108 [00:00<00:02, 41.44it/s]\u001b[A\n",
      " 22%|██▏       | 24/108 [00:00<00:01, 46.52it/s]\u001b[A\n",
      " 30%|██▉       | 32/108 [00:00<00:01, 52.37it/s]\u001b[A\n",
      " 36%|███▌      | 39/108 [00:00<00:01, 56.12it/s]\u001b[A\n",
      " 43%|████▎     | 46/108 [00:00<00:01, 59.55it/s]\u001b[A\n",
      " 49%|████▉     | 53/108 [00:00<00:00, 61.68it/s]\u001b[A\n",
      " 56%|█████▋    | 61/108 [00:00<00:00, 63.73it/s]\u001b[A\n",
      " 63%|██████▎   | 68/108 [00:01<00:00, 65.42it/s]\u001b[A\n",
      " 69%|██████▉   | 75/108 [00:01<00:00, 66.19it/s]\u001b[A\n",
      " 77%|███████▋  | 83/108 [00:01<00:00, 67.32it/s]\u001b[A\n",
      " 84%|████████▍ | 91/108 [00:01<00:00, 68.48it/s]\u001b[A\n",
      " 92%|█████████▏| 99/108 [00:01<00:00, 69.15it/s]\u001b[A\n",
      "109it [00:01, 57.87it/s]                         \u001b[A"
     ]
    },
    {
     "name": "stdout",
     "output_type": "stream",
     "text": [
      "Val Loss: 0.1789, Val Acc: 62.85\n",
      "Epoch 68 of 100\n",
      "Training\n"
     ]
    },
    {
     "name": "stderr",
     "output_type": "stream",
     "text": [
      "\n",
      "\n",
      "  0%|          | 0/325 [00:00<?, ?it/s]\u001b[A\n",
      "  0%|          | 1/325 [00:00<00:44,  7.31it/s]\u001b[A\n",
      "  1%|          | 4/325 [00:00<00:34,  9.33it/s]\u001b[A\n",
      "  2%|▏         | 7/325 [00:00<00:27, 11.54it/s]\u001b[A\n",
      "  3%|▎         | 10/325 [00:00<00:22, 13.91it/s]\u001b[A\n",
      "  4%|▍         | 13/325 [00:00<00:19, 16.22it/s]\u001b[A\n",
      "  5%|▍         | 16/325 [00:00<00:16, 18.32it/s]\u001b[A\n",
      "  6%|▌         | 19/325 [00:00<00:15, 19.70it/s]\u001b[A\n",
      "  7%|▋         | 22/325 [00:00<00:14, 21.26it/s]\u001b[A\n",
      "  8%|▊         | 25/325 [00:01<00:13, 22.64it/s]\u001b[A\n",
      "  9%|▊         | 28/325 [00:01<00:12, 23.71it/s]\u001b[A\n",
      " 10%|▉         | 31/325 [00:01<00:12, 24.48it/s]\u001b[A\n",
      " 10%|█         | 34/325 [00:01<00:11, 24.94it/s]\u001b[A\n",
      " 11%|█▏        | 37/325 [00:01<00:11, 25.13it/s]\u001b[A\n",
      " 12%|█▏        | 40/325 [00:01<00:11, 25.52it/s]\u001b[A\n",
      " 13%|█▎        | 43/325 [00:01<00:10, 25.68it/s]\u001b[A\n",
      " 14%|█▍        | 46/325 [00:01<00:10, 25.78it/s]\u001b[A\n",
      " 15%|█▌        | 49/325 [00:01<00:10, 25.85it/s]\u001b[A\n",
      " 16%|█▌        | 52/325 [00:02<00:10, 25.98it/s]\u001b[A\n",
      " 17%|█▋        | 55/325 [00:02<00:10, 25.98it/s]\u001b[A\n",
      " 18%|█▊        | 58/325 [00:02<00:10, 26.18it/s]\u001b[A\n",
      " 19%|█▉        | 61/325 [00:02<00:10, 26.25it/s]\u001b[A\n",
      " 20%|█▉        | 64/325 [00:02<00:09, 26.31it/s]\u001b[A\n",
      " 21%|██        | 67/325 [00:02<00:09, 26.20it/s]\u001b[A\n",
      " 22%|██▏       | 70/325 [00:02<00:09, 26.23it/s]\u001b[A\n",
      " 22%|██▏       | 73/325 [00:02<00:09, 26.21it/s]\u001b[A\n",
      " 23%|██▎       | 76/325 [00:03<00:09, 26.33it/s]\u001b[A\n",
      " 24%|██▍       | 79/325 [00:03<00:09, 26.32it/s]\u001b[A\n",
      " 25%|██▌       | 82/325 [00:03<00:09, 26.31it/s]\u001b[A\n",
      " 26%|██▌       | 85/325 [00:03<00:09, 26.14it/s]\u001b[A\n",
      " 27%|██▋       | 88/325 [00:03<00:09, 26.20it/s]\u001b[A\n",
      " 28%|██▊       | 91/325 [00:03<00:08, 26.14it/s]\u001b[A\n",
      " 29%|██▉       | 94/325 [00:03<00:08, 26.24it/s]\u001b[A\n",
      " 30%|██▉       | 97/325 [00:03<00:08, 26.17it/s]\u001b[A\n",
      " 31%|███       | 100/325 [00:03<00:08, 26.22it/s]\u001b[A\n",
      " 32%|███▏      | 103/325 [00:04<00:08, 26.16it/s]\u001b[A\n",
      " 33%|███▎      | 106/325 [00:04<00:08, 26.26it/s]\u001b[A\n",
      " 34%|███▎      | 109/325 [00:04<00:08, 26.17it/s]\u001b[A\n",
      " 34%|███▍      | 112/325 [00:04<00:08, 26.23it/s]\u001b[A\n",
      " 35%|███▌      | 115/325 [00:04<00:08, 26.16it/s]\u001b[A\n",
      " 36%|███▋      | 118/325 [00:04<00:07, 26.21it/s]\u001b[A\n",
      " 37%|███▋      | 121/325 [00:04<00:07, 26.18it/s]\u001b[A\n",
      " 38%|███▊      | 124/325 [00:04<00:07, 26.27it/s]\u001b[A\n",
      " 39%|███▉      | 127/325 [00:04<00:07, 26.26it/s]\u001b[A\n",
      " 40%|████      | 130/325 [00:05<00:07, 26.33it/s]\u001b[A\n",
      " 41%|████      | 133/325 [00:05<00:07, 26.30it/s]\u001b[A\n",
      " 42%|████▏     | 136/325 [00:05<00:07, 26.38it/s]\u001b[A\n",
      " 43%|████▎     | 139/325 [00:05<00:07, 26.33it/s]\u001b[A\n",
      " 44%|████▎     | 142/325 [00:05<00:06, 26.40it/s]\u001b[A\n",
      " 45%|████▍     | 145/325 [00:05<00:06, 26.32it/s]\u001b[A\n",
      " 46%|████▌     | 148/325 [00:05<00:06, 26.35it/s]\u001b[A\n",
      " 46%|████▋     | 151/325 [00:05<00:06, 26.19it/s]\u001b[A\n",
      " 47%|████▋     | 154/325 [00:05<00:06, 26.27it/s]\u001b[A\n",
      " 48%|████▊     | 157/325 [00:06<00:06, 26.04it/s]\u001b[A\n",
      " 49%|████▉     | 160/325 [00:06<00:06, 26.10it/s]\u001b[A\n",
      " 50%|█████     | 163/325 [00:06<00:06, 26.16it/s]\u001b[A\n",
      " 51%|█████     | 166/325 [00:06<00:06, 26.21it/s]\u001b[A\n",
      " 52%|█████▏    | 169/325 [00:06<00:05, 26.30it/s]\u001b[A\n",
      " 53%|█████▎    | 172/325 [00:06<00:05, 26.35it/s]\u001b[A\n",
      " 54%|█████▍    | 175/325 [00:06<00:05, 26.31it/s]\u001b[A\n",
      " 55%|█████▍    | 178/325 [00:06<00:05, 26.31it/s]\u001b[A\n",
      " 56%|█████▌    | 181/325 [00:07<00:05, 26.27it/s]\u001b[A\n",
      " 57%|█████▋    | 184/325 [00:07<00:05, 26.35it/s]\u001b[A\n",
      " 58%|█████▊    | 187/325 [00:07<00:05, 26.32it/s]\u001b[A\n",
      " 58%|█████▊    | 190/325 [00:07<00:05, 26.34it/s]\u001b[A\n",
      " 59%|█████▉    | 193/325 [00:07<00:05, 26.24it/s]\u001b[A\n",
      " 60%|██████    | 196/325 [00:07<00:04, 26.30it/s]\u001b[A\n",
      " 61%|██████    | 199/325 [00:07<00:04, 26.32it/s]\u001b[A\n",
      " 62%|██████▏   | 202/325 [00:07<00:04, 26.42it/s]\u001b[A\n",
      " 63%|██████▎   | 205/325 [00:07<00:04, 26.44it/s]\u001b[A\n",
      " 64%|██████▍   | 208/325 [00:08<00:04, 26.41it/s]\u001b[A\n",
      " 65%|██████▍   | 211/325 [00:08<00:04, 25.70it/s]\u001b[A\n",
      " 66%|██████▌   | 214/325 [00:08<00:04, 25.92it/s]\u001b[A\n",
      " 67%|██████▋   | 217/325 [00:08<00:04, 26.05it/s]\u001b[A\n",
      " 68%|██████▊   | 220/325 [00:08<00:04, 26.18it/s]\u001b[A\n",
      " 69%|██████▊   | 223/325 [00:08<00:03, 26.18it/s]\u001b[A\n",
      " 70%|██████▉   | 226/325 [00:08<00:03, 25.57it/s]\u001b[A\n",
      " 70%|███████   | 229/325 [00:08<00:03, 25.76it/s]\u001b[A\n",
      " 71%|███████▏  | 232/325 [00:08<00:03, 26.01it/s]\u001b[A\n",
      " 72%|███████▏  | 235/325 [00:09<00:03, 26.14it/s]\u001b[A\n",
      " 73%|███████▎  | 238/325 [00:09<00:03, 26.20it/s]\u001b[A\n",
      " 74%|███████▍  | 241/325 [00:09<00:03, 26.18it/s]\u001b[A\n",
      " 75%|███████▌  | 244/325 [00:09<00:03, 26.26it/s]\u001b[A\n",
      " 76%|███████▌  | 247/325 [00:09<00:02, 26.25it/s]\u001b[A\n",
      " 77%|███████▋  | 250/325 [00:09<00:02, 26.33it/s]\u001b[A\n",
      " 78%|███████▊  | 253/325 [00:09<00:02, 26.24it/s]\u001b[A\n",
      " 79%|███████▉  | 256/325 [00:09<00:02, 26.27it/s]\u001b[A\n",
      " 80%|███████▉  | 259/325 [00:09<00:02, 26.18it/s]\u001b[A\n",
      " 81%|████████  | 262/325 [00:10<00:02, 26.22it/s]\u001b[A\n",
      " 82%|████████▏ | 265/325 [00:10<00:02, 26.26it/s]\u001b[A\n",
      " 82%|████████▏ | 268/325 [00:10<00:02, 26.32it/s]\u001b[A\n",
      " 83%|████████▎ | 271/325 [00:10<00:02, 26.28it/s]\u001b[A\n",
      " 84%|████████▍ | 274/325 [00:10<00:01, 26.33it/s]\u001b[A\n",
      " 85%|████████▌ | 277/325 [00:10<00:01, 26.31it/s]\u001b[A\n",
      " 86%|████████▌ | 280/325 [00:10<00:01, 26.38it/s]\u001b[A\n",
      " 87%|████████▋ | 283/325 [00:10<00:01, 26.37it/s]\u001b[A\n",
      " 88%|████████▊ | 286/325 [00:11<00:01, 26.43it/s]\u001b[A\n",
      " 89%|████████▉ | 289/325 [00:11<00:01, 26.39it/s]\u001b[A\n",
      " 90%|████████▉ | 292/325 [00:11<00:01, 26.40it/s]\u001b[A\n",
      " 91%|█████████ | 295/325 [00:11<00:01, 26.21it/s]\u001b[A\n",
      " 92%|█████████▏| 298/325 [00:11<00:01, 26.33it/s]\u001b[A\n",
      " 93%|█████████▎| 301/325 [00:11<00:00, 26.39it/s]\u001b[A\n",
      " 94%|█████████▎| 304/325 [00:11<00:00, 26.39it/s]\u001b[A\n",
      " 94%|█████████▍| 307/325 [00:11<00:00, 26.43it/s]\u001b[A\n",
      " 95%|█████████▌| 310/325 [00:11<00:00, 26.46it/s]\u001b[A\n",
      " 96%|█████████▋| 313/325 [00:12<00:00, 26.48it/s]\u001b[A\n",
      " 97%|█████████▋| 316/325 [00:12<00:00, 26.52it/s]\u001b[A\n",
      " 98%|█████████▊| 319/325 [00:12<00:00, 26.53it/s]\u001b[A\n",
      " 99%|█████████▉| 322/325 [00:12<00:00, 26.56it/s]\u001b[A\n",
      "100%|██████████| 325/325 [00:12<00:00, 26.53it/s]\u001b[AIOPub message rate exceeded.\n",
      "The notebook server will temporarily stop sending output\n",
      "to the client in order to avoid crashing it.\n",
      "To change this limit, set the config variable\n",
      "`--NotebookApp.iopub_msg_rate_limit`.\n",
      "\n",
      "Current values:\n",
      "NotebookApp.iopub_msg_rate_limit=1000.0 (msgs/sec)\n",
      "NotebookApp.rate_limit_window=3.0 (secs)\n",
      "\n",
      " 20%|█▉        | 64/325 [00:02<00:09, 26.14it/s]\u001b[A\n",
      " 21%|██        | 67/325 [00:02<00:10, 25.71it/s]\u001b[A\n",
      " 22%|██▏       | 70/325 [00:02<00:10, 25.27it/s]\u001b[A\n",
      " 22%|██▏       | 73/325 [00:02<00:09, 25.55it/s]\u001b[A\n",
      " 23%|██▎       | 76/325 [00:03<00:09, 25.31it/s]\u001b[A\n",
      " 24%|██▍       | 79/325 [00:03<00:09, 24.71it/s]\u001b[A\n",
      " 25%|██▌       | 82/325 [00:03<00:09, 25.18it/s]\u001b[A\n",
      " 26%|██▌       | 85/325 [00:03<00:09, 25.55it/s]\u001b[A\n",
      " 27%|██▋       | 88/325 [00:03<00:09, 25.82it/s]\u001b[A\n",
      " 28%|██▊       | 91/325 [00:03<00:08, 26.01it/s]\u001b[A\n",
      " 29%|██▉       | 94/325 [00:03<00:08, 26.17it/s]\u001b[A\n",
      " 30%|██▉       | 97/325 [00:03<00:08, 26.24it/s]\u001b[A\n",
      " 31%|███       | 100/325 [00:03<00:08, 26.35it/s]\u001b[A\n",
      " 32%|███▏      | 103/325 [00:04<00:08, 26.42it/s]\u001b[A\n",
      " 33%|███▎      | 106/325 [00:04<00:08, 26.45it/s]\u001b[A\n",
      " 34%|███▎      | 109/325 [00:04<00:08, 26.56it/s]\u001b[A\n",
      " 34%|███▍      | 112/325 [00:04<00:08, 26.53it/s]\u001b[A\n",
      " 35%|███▌      | 115/325 [00:04<00:07, 26.47it/s]\u001b[A\n",
      " 36%|███▋      | 118/325 [00:04<00:07, 26.53it/s]\u001b[A\n",
      " 37%|███▋      | 121/325 [00:04<00:07, 26.58it/s]\u001b[A\n",
      " 38%|███▊      | 124/325 [00:04<00:07, 26.60it/s]\u001b[A\n",
      " 39%|███▉      | 127/325 [00:04<00:07, 26.58it/s]\u001b[A\n",
      " 40%|████      | 130/325 [00:05<00:07, 26.61it/s]\u001b[A\n",
      " 41%|████      | 133/325 [00:05<00:07, 26.64it/s]\u001b[A\n",
      " 42%|████▏     | 136/325 [00:05<00:07, 26.68it/s]\u001b[A\n",
      " 43%|████▎     | 139/325 [00:05<00:06, 26.69it/s]\u001b[A\n",
      " 44%|████▎     | 142/325 [00:05<00:06, 26.57it/s]\u001b[A\n",
      " 45%|████▍     | 145/325 [00:05<00:06, 26.52it/s]\u001b[A\n",
      " 46%|████▌     | 148/325 [00:05<00:06, 26.57it/s]\u001b[A\n",
      " 46%|████▋     | 151/325 [00:05<00:06, 26.60it/s]\u001b[A\n",
      " 47%|████▋     | 154/325 [00:05<00:06, 26.63it/s]\u001b[A\n",
      " 48%|████▊     | 157/325 [00:06<00:06, 26.63it/s]\u001b[A\n",
      " 49%|████▉     | 160/325 [00:06<00:06, 26.63it/s]\u001b[A\n",
      " 50%|█████     | 163/325 [00:06<00:06, 26.64it/s]\u001b[A\n",
      " 51%|█████     | 166/325 [00:06<00:05, 26.67it/s]\u001b[A\n",
      " 52%|█████▏    | 169/325 [00:06<00:05, 26.69it/s]\u001b[A\n",
      " 53%|█████▎    | 172/325 [00:06<00:05, 26.67it/s]\u001b[A\n",
      " 54%|█████▍    | 175/325 [00:06<00:05, 26.61it/s]\u001b[A\n",
      " 55%|█████▍    | 178/325 [00:06<00:05, 26.62it/s]\u001b[A\n",
      " 56%|█████▌    | 181/325 [00:06<00:05, 26.65it/s]\u001b[A\n",
      " 57%|█████▋    | 184/325 [00:07<00:05, 26.68it/s]\u001b[A\n",
      " 58%|█████▊    | 187/325 [00:07<00:05, 26.67it/s]\u001b[A\n",
      " 58%|█████▊    | 190/325 [00:07<00:05, 26.60it/s]\u001b[A\n",
      " 59%|█████▉    | 193/325 [00:07<00:04, 26.53it/s]\u001b[A\n",
      " 60%|██████    | 196/325 [00:07<00:04, 26.62it/s]\u001b[A\n",
      " 61%|██████    | 199/325 [00:07<00:04, 26.64it/s]\u001b[A\n",
      " 62%|██████▏   | 202/325 [00:07<00:04, 26.66it/s]\u001b[A\n",
      " 63%|██████▎   | 205/325 [00:07<00:04, 26.64it/s]\u001b[A\n",
      " 64%|██████▍   | 208/325 [00:08<00:04, 26.59it/s]\u001b[A\n",
      " 65%|██████▍   | 211/325 [00:08<00:04, 26.60it/s]\u001b[A\n",
      " 66%|██████▌   | 214/325 [00:08<00:04, 26.61it/s]\u001b[A\n",
      " 67%|██████▋   | 217/325 [00:08<00:04, 26.64it/s]\u001b[A\n",
      " 68%|██████▊   | 220/325 [00:08<00:03, 26.65it/s]\u001b[A\n",
      " 69%|██████▊   | 223/325 [00:08<00:03, 26.63it/s]\u001b[A\n",
      " 70%|██████▉   | 226/325 [00:08<00:03, 26.40it/s]\u001b[A\n",
      " 70%|███████   | 229/325 [00:08<00:03, 26.37it/s]\u001b[A\n",
      " 71%|███████▏  | 232/325 [00:08<00:03, 26.44it/s]\u001b[A\n",
      " 72%|███████▏  | 235/325 [00:09<00:03, 26.38it/s]\u001b[A\n",
      " 73%|███████▎  | 238/325 [00:09<00:03, 26.45it/s]\u001b[A\n",
      " 74%|███████▍  | 241/325 [00:09<00:03, 26.41it/s]\u001b[A\n",
      " 75%|███████▌  | 244/325 [00:09<00:03, 26.47it/s]\u001b[A\n",
      " 76%|███████▌  | 247/325 [00:09<00:02, 26.45it/s]\u001b[A\n",
      " 77%|███████▋  | 250/325 [00:09<00:02, 26.45it/s]\u001b[A\n",
      " 78%|███████▊  | 253/325 [00:09<00:02, 26.41it/s]\u001b[A\n",
      " 79%|███████▉  | 256/325 [00:09<00:02, 26.47it/s]\u001b[A\n",
      " 80%|███████▉  | 259/325 [00:09<00:02, 26.48it/s]\u001b[A\n",
      " 81%|████████  | 262/325 [00:10<00:02, 26.53it/s]\u001b[A\n",
      " 82%|████████▏ | 265/325 [00:10<00:02, 26.52it/s]\u001b[A\n",
      " 82%|████████▏ | 268/325 [00:10<00:02, 26.54it/s]\u001b[A\n",
      " 83%|████████▎ | 271/325 [00:10<00:02, 26.50it/s]\u001b[A\n",
      " 84%|████████▍ | 274/325 [00:10<00:01, 26.50it/s]\u001b[A\n",
      " 85%|████████▌ | 277/325 [00:10<00:01, 26.43it/s]\u001b[A\n",
      " 86%|████████▌ | 280/325 [00:10<00:01, 26.54it/s]\u001b[A\n",
      " 87%|████████▋ | 283/325 [00:10<00:01, 26.50it/s]\u001b[A\n",
      " 88%|████████▊ | 286/325 [00:10<00:01, 26.51it/s]\u001b[A\n",
      " 89%|████████▉ | 289/325 [00:11<00:01, 26.44it/s]\u001b[A\n",
      " 90%|████████▉ | 292/325 [00:11<00:01, 26.51it/s]\u001b[A\n",
      " 91%|█████████ | 295/325 [00:11<00:01, 26.54it/s]\u001b[A\n",
      " 92%|█████████▏| 298/325 [00:11<00:01, 26.58it/s]\u001b[A\n",
      " 93%|█████████▎| 301/325 [00:11<00:00, 26.57it/s]\u001b[A\n",
      " 94%|█████████▎| 304/325 [00:11<00:00, 26.61it/s]\u001b[A\n",
      " 94%|█████████▍| 307/325 [00:11<00:00, 26.62it/s]\u001b[A\n",
      " 95%|█████████▌| 310/325 [00:11<00:00, 26.65it/s]\u001b[A\n",
      " 96%|█████████▋| 313/325 [00:11<00:00, 26.66it/s]\u001b[A\n",
      " 97%|█████████▋| 316/325 [00:12<00:00, 26.65it/s]\u001b[A\n",
      " 98%|█████████▊| 319/325 [00:12<00:00, 26.62it/s]\u001b[A\n",
      " 99%|█████████▉| 322/325 [00:12<00:00, 26.61it/s]\u001b[A\n",
      "326it [00:12, 25.68it/s]                         \u001b[A"
     ]
    },
    {
     "name": "stdout",
     "output_type": "stream",
     "text": [
      "Train Loss: 0.0042, Train Acc: 98.21\n",
      "Validating\n"
     ]
    },
    {
     "name": "stderr",
     "output_type": "stream",
     "text": [
      "\n",
      "\n",
      "  0%|          | 0/108 [00:00<?, ?it/s]\u001b[A\n",
      "  3%|▎         | 3/108 [00:00<00:04, 22.71it/s]\u001b[A\n",
      " 10%|█         | 11/108 [00:00<00:03, 28.55it/s]\u001b[A\n",
      " 17%|█▋        | 18/108 [00:00<00:02, 34.70it/s]\u001b[A\n",
      " 23%|██▎       | 25/108 [00:00<00:02, 40.10it/s]\u001b[A\n",
      " 31%|███       | 33/108 [00:00<00:01, 46.35it/s]\u001b[A\n",
      " 37%|███▋      | 40/108 [00:00<00:01, 51.36it/s]\u001b[A\n",
      " 44%|████▎     | 47/108 [00:00<00:01, 55.14it/s]\u001b[A\n",
      " 50%|█████     | 54/108 [00:00<00:00, 58.64it/s]\u001b[A\n",
      " 56%|█████▋    | 61/108 [00:00<00:00, 60.94it/s]\u001b[A\n",
      " 63%|██████▎   | 68/108 [00:01<00:00, 63.20it/s]\u001b[A\n",
      " 69%|██████▉   | 75/108 [00:01<00:00, 64.46it/s]\u001b[A\n",
      " 77%|███████▋  | 83/108 [00:01<00:00, 66.01it/s]\u001b[A\n",
      " 84%|████████▍ | 91/108 [00:01<00:00, 67.33it/s]\u001b[A\n",
      " 92%|█████████▏| 99/108 [00:01<00:00, 68.34it/s]\u001b[A\n",
      "109it [00:01, 57.08it/s]                         \u001b[A"
     ]
    },
    {
     "name": "stdout",
     "output_type": "stream",
     "text": [
      "Val Loss: 0.1704, Val Acc: 66.65\n",
      "Epoch 87 of 100\n",
      "Training\n"
     ]
    },
    {
     "name": "stderr",
     "output_type": "stream",
     "text": [
      "\n",
      "\n",
      "  0%|          | 0/325 [00:00<?, ?it/s]\u001b[A\n",
      "  0%|          | 1/325 [00:00<00:40,  7.99it/s]\u001b[A\n",
      "  1%|          | 4/325 [00:00<00:31, 10.12it/s]\u001b[A\n",
      "  2%|▏         | 7/325 [00:00<00:25, 12.42it/s]\u001b[A\n",
      "  3%|▎         | 10/325 [00:00<00:21, 14.78it/s]\u001b[A\n",
      "  4%|▍         | 13/325 [00:00<00:18, 17.08it/s]\u001b[A\n",
      "  5%|▍         | 16/325 [00:00<00:16, 19.14it/s]\u001b[A\n",
      "  6%|▌         | 19/325 [00:00<00:14, 20.45it/s]\u001b[A\n",
      "  7%|▋         | 22/325 [00:00<00:13, 22.02it/s]\u001b[A\n",
      "  8%|▊         | 25/325 [00:01<00:12, 23.26it/s]\u001b[A\n",
      "  9%|▊         | 28/325 [00:01<00:12, 24.19it/s]\u001b[A\n",
      " 10%|▉         | 31/325 [00:01<00:11, 24.91it/s]\u001b[A\n",
      " 10%|█         | 34/325 [00:01<00:11, 25.28it/s]\u001b[A\n",
      " 11%|█▏        | 37/325 [00:01<00:11, 25.54it/s]\u001b[A\n",
      " 12%|█▏        | 40/325 [00:01<00:10, 25.98it/s]\u001b[A\n",
      " 13%|█▎        | 43/325 [00:01<00:10, 26.18it/s]\u001b[A\n",
      " 14%|█▍        | 46/325 [00:01<00:10, 26.33it/s]\u001b[A\n",
      " 15%|█▌        | 49/325 [00:01<00:10, 26.43it/s]\u001b[A\n",
      " 16%|█▌        | 52/325 [00:02<00:10, 26.47it/s]\u001b[A\n",
      " 17%|█▋        | 55/325 [00:02<00:10, 26.50it/s]\u001b[A\n",
      " 18%|█▊        | 58/325 [00:02<00:10, 26.54it/s]\u001b[A\n",
      " 19%|█▉        | 61/325 [00:02<00:09, 26.59it/s]\u001b[A\n",
      " 20%|█▉        | 64/325 [00:02<00:09, 26.62it/s]\u001b[A\n",
      " 21%|██        | 67/325 [00:02<00:09, 26.64it/s]\u001b[A\n",
      " 22%|██▏       | 70/325 [00:02<00:09, 26.64it/s]\u001b[A\n",
      " 22%|██▏       | 73/325 [00:02<00:09, 26.69it/s]\u001b[A\n",
      " 23%|██▎       | 76/325 [00:02<00:09, 26.66it/s]\u001b[A\n",
      " 24%|██▍       | 79/325 [00:03<00:09, 26.70it/s]\u001b[A\n",
      " 25%|██▌       | 82/325 [00:03<00:09, 26.69it/s]\u001b[A\n",
      " 26%|██▌       | 85/325 [00:03<00:09, 26.52it/s]\u001b[A\n",
      " 27%|██▋       | 88/325 [00:03<00:08, 26.46it/s]\u001b[A\n",
      " 28%|██▊       | 91/325 [00:03<00:08, 26.37it/s]\u001b[A\n",
      " 29%|██▉       | 94/325 [00:03<00:08, 26.37it/s]\u001b[A\n",
      " 30%|██▉       | 97/325 [00:03<00:08, 26.32it/s]\u001b[A\n",
      " 31%|███       | 100/325 [00:03<00:08, 26.35it/s]\u001b[A\n",
      " 32%|███▏      | 103/325 [00:03<00:08, 26.30it/s]\u001b[A\n",
      " 33%|███▎      | 106/325 [00:04<00:08, 26.35it/s]\u001b[A\n",
      " 34%|███▎      | 109/325 [00:04<00:08, 26.20it/s]\u001b[A\n",
      " 34%|███▍      | 112/325 [00:04<00:08, 26.28it/s]\u001b[A\n",
      " 35%|███▌      | 115/325 [00:04<00:08, 26.25it/s]\u001b[A\n",
      " 36%|███▋      | 118/325 [00:04<00:07, 26.31it/s]\u001b[A\n",
      " 37%|███▋      | 121/325 [00:04<00:07, 26.21it/s]\u001b[A\n",
      " 38%|███▊      | 124/325 [00:04<00:07, 26.29it/s]\u001b[A\n",
      " 39%|███▉      | 127/325 [00:04<00:07, 26.17it/s]\u001b[A\n",
      " 40%|████      | 130/325 [00:05<00:07, 26.16it/s]\u001b[A\n",
      " 41%|████      | 133/325 [00:05<00:07, 26.18it/s]\u001b[A\n",
      " 42%|████▏     | 136/325 [00:05<00:07, 26.26it/s]\u001b[A\n",
      " 43%|████▎     | 139/325 [00:05<00:07, 26.25it/s]\u001b[A\n",
      " 44%|████▎     | 142/325 [00:05<00:06, 26.29it/s]\u001b[A\n",
      " 45%|████▍     | 145/325 [00:05<00:06, 26.26it/s]\u001b[A\n",
      " 46%|████▌     | 148/325 [00:05<00:06, 26.29it/s]\u001b[A\n",
      " 46%|████▋     | 151/325 [00:05<00:06, 26.25it/s]\u001b[A\n",
      " 47%|████▋     | 154/325 [00:05<00:06, 26.30it/s]\u001b[A\n",
      " 48%|████▊     | 157/325 [00:06<00:06, 26.16it/s]\u001b[A\n",
      " 49%|████▉     | 160/325 [00:06<00:06, 26.18it/s]\u001b[A\n",
      " 50%|█████     | 163/325 [00:06<00:06, 26.12it/s]\u001b[A\n",
      " 51%|█████     | 166/325 [00:06<00:06, 26.19it/s]\u001b[A\n",
      " 52%|█████▏    | 169/325 [00:06<00:05, 26.17it/s]\u001b[A\n",
      " 53%|█████▎    | 172/325 [00:06<00:05, 26.25it/s]\u001b[A\n",
      " 54%|█████▍    | 175/325 [00:06<00:05, 26.26it/s]\u001b[A\n",
      " 55%|█████▍    | 178/325 [00:06<00:05, 26.32it/s]\u001b[A\n",
      " 56%|█████▌    | 181/325 [00:06<00:05, 26.29it/s]\u001b[A\n",
      " 57%|█████▋    | 184/325 [00:07<00:05, 26.34it/s]\u001b[A\n",
      " 58%|█████▊    | 187/325 [00:07<00:05, 26.31it/s]\u001b[A\n",
      " 58%|█████▊    | 190/325 [00:07<00:05, 26.32it/s]\u001b[A\n",
      " 59%|█████▉    | 193/325 [00:07<00:05, 26.27it/s]\u001b[A\n",
      " 60%|██████    | 196/325 [00:07<00:04, 26.34it/s]\u001b[A\n",
      " 61%|██████    | 199/325 [00:07<00:04, 26.29it/s]\u001b[A\n",
      " 62%|██████▏   | 202/325 [00:07<00:04, 26.34it/s]\u001b[A\n",
      " 63%|██████▎   | 205/325 [00:07<00:04, 26.28it/s]\u001b[A\n",
      " 64%|██████▍   | 208/325 [00:07<00:04, 26.35it/s]\u001b[A\n",
      " 65%|██████▍   | 211/325 [00:08<00:04, 26.30it/s]\u001b[A\n",
      " 66%|██████▌   | 214/325 [00:08<00:04, 26.35it/s]\u001b[A\n",
      " 67%|██████▋   | 217/325 [00:08<00:04, 26.31it/s]\u001b[A\n",
      " 68%|██████▊   | 220/325 [00:08<00:03, 26.35it/s]\u001b[A\n",
      " 69%|██████▊   | 223/325 [00:08<00:03, 26.31it/s]\u001b[A\n",
      " 70%|██████▉   | 226/325 [00:08<00:03, 26.35it/s]\u001b[A\n",
      " 70%|███████   | 229/325 [00:08<00:03, 26.30it/s]\u001b[A\n",
      " 71%|███████▏  | 232/325 [00:08<00:03, 26.35it/s]\u001b[A\n",
      " 72%|███████▏  | 235/325 [00:08<00:03, 26.29it/s]\u001b[A\n",
      " 73%|███████▎  | 238/325 [00:09<00:03, 26.34it/s]\u001b[A\n",
      " 74%|███████▍  | 241/325 [00:09<00:03, 26.23it/s]\u001b[A\n",
      " 75%|███████▌  | 244/325 [00:09<00:03, 26.30it/s]\u001b[A\n",
      " 76%|███████▌  | 247/325 [00:09<00:02, 26.26it/s]\u001b[A\n",
      " 77%|███████▋  | 250/325 [00:09<00:02, 26.33it/s]\u001b[A\n",
      " 78%|███████▊  | 253/325 [00:09<00:02, 26.28it/s]\u001b[A\n",
      " 79%|███████▉  | 256/325 [00:09<00:02, 26.33it/s]\u001b[A\n",
      " 80%|███████▉  | 259/325 [00:09<00:02, 26.30it/s]\u001b[A\n",
      " 81%|████████  | 262/325 [00:10<00:02, 26.23it/s]\u001b[A\n",
      " 82%|████████▏ | 265/325 [00:10<00:02, 26.21it/s]\u001b[A\n",
      " 82%|████████▏ | 268/325 [00:10<00:02, 26.23it/s]\u001b[A\n",
      " 83%|████████▎ | 271/325 [00:10<00:02, 26.22it/s]\u001b[A\n",
      " 84%|████████▍ | 274/325 [00:10<00:01, 26.28it/s]\u001b[A\n",
      " 85%|████████▌ | 277/325 [00:10<00:01, 26.30it/s]\u001b[A\n",
      " 86%|████████▌ | 280/325 [00:10<00:01, 26.36it/s]\u001b[A\n",
      " 87%|████████▋ | 283/325 [00:10<00:01, 26.32it/s]\u001b[A\n",
      " 88%|████████▊ | 286/325 [00:10<00:01, 26.37it/s]\u001b[A\n",
      " 89%|████████▉ | 289/325 [00:11<00:01, 26.36it/s]\u001b[A\n",
      " 90%|████████▉ | 292/325 [00:11<00:01, 26.42it/s]\u001b[A\n",
      " 91%|█████████ | 295/325 [00:11<00:01, 26.40it/s]\u001b[A\n",
      " 92%|█████████▏| 298/325 [00:11<00:01, 26.46it/s]\u001b[A\n",
      " 93%|█████████▎| 301/325 [00:11<00:00, 26.47it/s]\u001b[A\n",
      " 94%|█████████▎| 304/325 [00:11<00:00, 26.52it/s]\u001b[A\n",
      " 94%|█████████▍| 307/325 [00:11<00:00, 26.48it/s]\u001b[A\n",
      " 95%|█████████▌| 310/325 [00:11<00:00, 26.54it/s]\u001b[A\n",
      " 96%|█████████▋| 313/325 [00:11<00:00, 26.55it/s]\u001b[A\n",
      " 97%|█████████▋| 316/325 [00:12<00:00, 26.53it/s]\u001b[A\n",
      " 98%|█████████▊| 319/325 [00:12<00:00, 26.52it/s]\u001b[A\n",
      " 99%|█████████▉| 322/325 [00:12<00:00, 26.57it/s]\u001b[A\n",
      "326it [00:12, 25.71it/s]                         \u001b[A"
     ]
    },
    {
     "name": "stdout",
     "output_type": "stream",
     "text": [
      "Train Loss: 0.0033, Train Acc: 98.52\n",
      "Validating\n"
     ]
    },
    {
     "name": "stderr",
     "output_type": "stream",
     "text": [
      "\n",
      "\n",
      "  0%|          | 0/108 [00:00<?, ?it/s]\u001b[A\n",
      "  2%|▏         | 2/108 [00:00<00:05, 18.23it/s]\u001b[A\n",
      "  8%|▊         | 9/108 [00:00<00:04, 23.37it/s]\u001b[A\n",
      " 16%|█▌        | 17/108 [00:00<00:03, 28.95it/s]\u001b[A\n",
      " 23%|██▎       | 25/108 [00:00<00:02, 35.37it/s]\u001b[A\n",
      " 31%|███       | 33/108 [00:00<00:01, 41.62it/s]\u001b[A\n",
      " 38%|███▊      | 41/108 [00:00<00:01, 47.61it/s]\u001b[A\n",
      " 44%|████▍     | 48/108 [00:00<00:01, 52.40it/s]\u001b[A\n",
      " 51%|█████     | 55/108 [00:00<00:00, 55.99it/s]\u001b[A\n",
      " 57%|█████▋    | 62/108 [00:00<00:00, 59.40it/s]\u001b[A\n",
      " 64%|██████▍   | 69/108 [00:01<00:00, 61.78it/s]\u001b[A\n",
      " 71%|███████▏  | 77/108 [00:01<00:00, 63.73it/s]\u001b[A\n",
      " 79%|███████▊  | 85/108 [00:01<00:00, 65.45it/s]\u001b[A\n",
      " 86%|████████▌ | 93/108 [00:01<00:00, 67.05it/s]\u001b[A\n",
      " 94%|█████████▎| 101/108 [00:01<00:00, 68.48it/s]\u001b[A\n",
      "109it [00:01, 56.86it/s]                         \u001b[A"
     ]
    },
    {
     "name": "stdout",
     "output_type": "stream",
     "text": [
      "Val Loss: 0.1612, Val Acc: 66.94\n",
      "Epoch 88 of 100\n",
      "Training\n"
     ]
    },
    {
     "name": "stderr",
     "output_type": "stream",
     "text": [
      "\n",
      "\n",
      "  0%|          | 0/325 [00:00<?, ?it/s]\u001b[A\n",
      "  0%|          | 1/325 [00:00<00:41,  7.86it/s]\u001b[A\n",
      "  1%|          | 4/325 [00:00<00:32,  9.96it/s]\u001b[A\n",
      "  2%|▏         | 7/325 [00:00<00:25, 12.24it/s]\u001b[A\n",
      "  3%|▎         | 10/325 [00:00<00:21, 14.55it/s]\u001b[A\n",
      "  4%|▍         | 13/325 [00:00<00:18, 16.79it/s]\u001b[A\n",
      "  5%|▍         | 16/325 [00:00<00:16, 18.83it/s]\u001b[A\n",
      "  6%|▌         | 19/325 [00:00<00:15, 20.08it/s]\u001b[A\n",
      "  7%|▋         | 22/325 [00:00<00:13, 21.68it/s]\u001b[A\n",
      "  8%|▊         | 25/325 [00:01<00:13, 22.82it/s]\u001b[A\n",
      "  9%|▊         | 28/325 [00:01<00:12, 23.75it/s]\u001b[A\n",
      " 10%|▉         | 31/325 [00:01<00:12, 24.41it/s]\u001b[A\n",
      " 10%|█         | 34/325 [00:01<00:11, 25.04it/s]\u001b[A\n",
      " 11%|█▏        | 37/325 [00:01<00:11, 24.72it/s]\u001b[A\n",
      " 12%|█▏        | 40/325 [00:01<00:11, 25.22it/s]\u001b[A\n",
      " 13%|█▎        | 43/325 [00:01<00:11, 25.49it/s]\u001b[A\n",
      " 14%|█▍        | 46/325 [00:01<00:10, 25.77it/s]\u001b[A\n",
      " 15%|█▌        | 49/325 [00:01<00:10, 25.88it/s]\u001b[A\n",
      " 16%|█▌        | 52/325 [00:02<00:10, 25.43it/s]\u001b[A\n",
      " 17%|█▋        | 55/325 [00:02<00:10, 25.63it/s]\u001b[A\n",
      " 18%|█▊        | 58/325 [00:02<00:10, 25.80it/s]\u001b[A\n",
      " 19%|█▉        | 61/325 [00:02<00:10, 25.89it/s]\u001b[A\n",
      " 20%|█▉        | 64/325 [00:02<00:10, 26.05it/s]\u001b[A\n",
      " 21%|██        | 67/325 [00:02<00:10, 25.38it/s]\u001b[A\n",
      " 22%|██▏       | 70/325 [00:02<00:09, 25.71it/s]\u001b[A\n",
      " 22%|██▏       | 73/325 [00:02<00:09, 25.86it/s]\u001b[A\n",
      " 23%|██▎       | 76/325 [00:03<00:09, 26.04it/s]\u001b[A\n",
      " 24%|██▍       | 79/325 [00:03<00:09, 26.10it/s]\u001b[A\n",
      " 25%|██▌       | 82/325 [00:03<00:09, 26.20it/s]\u001b[A\n",
      " 26%|██▌       | 85/325 [00:03<00:09, 25.60it/s]\u001b[A\n",
      " 27%|██▋       | 88/325 [00:03<00:09, 25.85it/s]\u001b[A\n",
      " 28%|██▊       | 91/325 [00:03<00:09, 25.97it/s]\u001b[A\n",
      " 29%|██▉       | 94/325 [00:03<00:08, 26.12it/s]\u001b[A\n",
      " 30%|██▉       | 97/325 [00:03<00:08, 26.16it/s]\u001b[A\n",
      " 31%|███       | 100/325 [00:03<00:08, 25.64it/s]\u001b[A\n",
      " 32%|███▏      | 103/325 [00:04<00:08, 25.78it/s]\u001b[A\n",
      " 33%|███▎      | 106/325 [00:04<00:08, 25.98it/s]\u001b[A\n",
      " 34%|███▎      | 109/325 [00:04<00:08, 26.04it/s]\u001b[A\n",
      " 34%|███▍      | 112/325 [00:04<00:08, 26.10it/s]\u001b[A\n",
      " 35%|███▌      | 115/325 [00:04<00:08, 25.35it/s]\u001b[A\n",
      " 36%|███▋      | 118/325 [00:04<00:08, 25.76it/s]\u001b[A\n",
      " 37%|███▋      | 121/325 [00:04<00:07, 25.88it/s]\u001b[A\n",
      " 38%|███▊      | 124/325 [00:04<00:07, 26.04it/s]\u001b[A\n",
      " 39%|███▉      | 127/325 [00:04<00:07, 25.64it/s]\u001b[A\n",
      " 40%|████      | 130/325 [00:05<00:07, 25.61it/s]\u001b[A\n",
      " 41%|████      | 133/325 [00:05<00:07, 24.87it/s]\u001b[A\n",
      " 42%|████▏     | 136/325 [00:05<00:07, 25.17it/s]\u001b[A\n",
      " 43%|████▎     | 139/325 [00:05<00:07, 25.48it/s]\u001b[A\n",
      " 44%|████▎     | 142/325 [00:05<00:07, 25.74it/s]\u001b[A\n",
      " 45%|████▍     | 145/325 [00:05<00:06, 25.87it/s]\u001b[A\n",
      " 46%|████▌     | 148/325 [00:05<00:06, 26.03it/s]\u001b[A\n",
      " 46%|████▋     | 151/325 [00:05<00:06, 26.06it/s]\u001b[A\n",
      " 47%|████▋     | 154/325 [00:06<00:06, 26.19it/s]\u001b[A\n",
      " 48%|████▊     | 157/325 [00:06<00:06, 26.14it/s]\u001b[A\n",
      " 49%|████▉     | 160/325 [00:06<00:06, 26.30it/s]\u001b[A\n",
      " 50%|█████     | 163/325 [00:06<00:06, 26.29it/s]\u001b[A\n",
      " 51%|█████     | 166/325 [00:06<00:06, 26.31it/s]\u001b[A\n",
      " 52%|█████▏    | 169/325 [00:06<00:05, 26.26it/s]\u001b[A\n",
      " 53%|█████▎    | 172/325 [00:06<00:05, 26.31it/s]\u001b[A\n",
      " 54%|█████▍    | 175/325 [00:06<00:05, 26.29it/s]\u001b[A\n",
      " 55%|█████▍    | 178/325 [00:06<00:05, 26.35it/s]\u001b[A\n",
      " 56%|█████▌    | 181/325 [00:07<00:05, 26.34it/s]\u001b[A\n",
      " 57%|█████▋    | 184/325 [00:07<00:05, 26.38it/s]\u001b[A\n",
      " 58%|█████▊    | 187/325 [00:07<00:05, 26.33it/s]\u001b[A\n",
      " 58%|█████▊    | 190/325 [00:07<00:05, 26.31it/s]\u001b[A\n",
      " 59%|█████▉    | 193/325 [00:07<00:05, 26.25it/s]\u001b[A\n",
      " 60%|██████    | 196/325 [00:07<00:04, 26.30it/s]\u001b[A\n",
      " 61%|██████    | 199/325 [00:07<00:04, 26.26it/s]\u001b[A\n",
      " 62%|██████▏   | 202/325 [00:07<00:04, 26.31it/s]\u001b[A\n",
      " 63%|██████▎   | 205/325 [00:07<00:04, 26.24it/s]\u001b[A\n",
      " 64%|██████▍   | 208/325 [00:08<00:04, 26.22it/s]\u001b[A\n",
      " 65%|██████▍   | 211/325 [00:08<00:04, 26.12it/s]\u001b[A\n",
      " 66%|██████▌   | 214/325 [00:08<00:04, 26.31it/s]\u001b[A\n",
      " 67%|██████▋   | 217/325 [00:08<00:04, 26.34it/s]\u001b[A\n",
      " 68%|██████▊   | 220/325 [00:08<00:03, 26.38it/s]\u001b[A\n",
      " 69%|██████▊   | 223/325 [00:08<00:03, 26.33it/s]\u001b[A\n",
      " 70%|██████▉   | 226/325 [00:08<00:03, 26.35it/s]\u001b[A\n",
      " 70%|███████   | 229/325 [00:08<00:03, 26.31it/s]\u001b[A\n",
      " 71%|███████▏  | 232/325 [00:09<00:03, 26.36it/s]\u001b[A\n",
      " 72%|███████▏  | 235/325 [00:09<00:03, 26.33it/s]\u001b[A\n",
      " 73%|███████▎  | 238/325 [00:09<00:03, 26.35it/s]\u001b[A\n",
      " 74%|███████▍  | 241/325 [00:09<00:03, 26.31it/s]\u001b[A\n",
      " 75%|███████▌  | 244/325 [00:09<00:03, 26.35it/s]\u001b[A\n",
      " 76%|███████▌  | 247/325 [00:09<00:02, 26.35it/s]\u001b[A\n",
      " 77%|███████▋  | 250/325 [00:09<00:02, 26.40it/s]\u001b[A\n",
      " 78%|███████▊  | 253/325 [00:09<00:02, 26.14it/s]\u001b[A\n",
      " 79%|███████▉  | 256/325 [00:09<00:02, 26.21it/s]\u001b[A\n",
      " 80%|███████▉  | 259/325 [00:10<00:02, 26.21it/s]\u001b[A\n",
      " 81%|████████  | 262/325 [00:10<00:02, 26.29it/s]\u001b[A\n",
      " 82%|████████▏ | 265/325 [00:10<00:02, 26.26it/s]\u001b[A\n",
      " 82%|████████▏ | 268/325 [00:10<00:02, 26.30it/s]\u001b[A\n",
      " 83%|████████▎ | 271/325 [00:10<00:02, 26.24it/s]\u001b[A\n",
      " 84%|████████▍ | 274/325 [00:10<00:01, 26.30it/s]\u001b[A\n",
      " 85%|████████▌ | 277/325 [00:10<00:01, 26.24it/s]\u001b[A\n",
      " 86%|████████▌ | 280/325 [00:10<00:01, 26.30it/s]\u001b[A\n",
      " 87%|████████▋ | 283/325 [00:10<00:01, 26.27it/s]\u001b[A\n",
      " 88%|████████▊ | 286/325 [00:11<00:01, 26.32it/s]\u001b[A\n",
      " 89%|████████▉ | 289/325 [00:11<00:01, 26.30it/s]\u001b[A\n",
      " 90%|████████▉ | 292/325 [00:11<00:01, 26.36it/s]\u001b[A\n",
      " 91%|█████████ | 295/325 [00:11<00:01, 26.35it/s]\u001b[A\n",
      " 92%|█████████▏| 298/325 [00:11<00:01, 26.43it/s]\u001b[A\n",
      " 93%|█████████▎| 301/325 [00:11<00:00, 26.09it/s]\u001b[A\n",
      " 94%|█████████▎| 304/325 [00:11<00:00, 26.08it/s]\u001b[A\n",
      " 94%|█████████▍| 307/325 [00:11<00:00, 26.27it/s]\u001b[A\n",
      " 95%|█████████▌| 310/325 [00:11<00:00, 26.37it/s]\u001b[A\n",
      " 96%|█████████▋| 313/325 [00:12<00:00, 26.46it/s]\u001b[A\n",
      " 97%|█████████▋| 316/325 [00:12<00:00, 26.52it/s]\u001b[A\n",
      " 98%|█████████▊| 319/325 [00:12<00:00, 26.55it/s]\u001b[A\n",
      " 99%|█████████▉| 322/325 [00:12<00:00, 26.56it/s]\u001b[A\n",
      "326it [00:12, 25.44it/s]                         \u001b[A"
     ]
    },
    {
     "name": "stdout",
     "output_type": "stream",
     "text": [
      "Train Loss: 0.0026, Train Acc: 98.85\n",
      "Validating\n"
     ]
    },
    {
     "name": "stderr",
     "output_type": "stream",
     "text": [
      "\n",
      "\n",
      "  0%|          | 0/108 [00:00<?, ?it/s]\u001b[A\n",
      "  3%|▎         | 3/108 [00:00<00:03, 28.61it/s]\u001b[A\n",
      "  9%|▉         | 10/108 [00:00<00:02, 34.39it/s]\u001b[A\n",
      " 16%|█▌        | 17/108 [00:00<00:02, 39.47it/s]\u001b[A\n",
      " 22%|██▏       | 24/108 [00:00<00:01, 45.11it/s]\u001b[A\n",
      " 29%|██▊       | 31/108 [00:00<00:01, 50.29it/s]\u001b[A\n",
      " 35%|███▌      | 38/108 [00:00<00:01, 54.53it/s]\u001b[A\n",
      " 42%|████▏     | 45/108 [00:00<00:01, 57.48it/s]\u001b[A\n",
      " 48%|████▊     | 52/108 [00:00<00:00, 60.04it/s]\u001b[A\n",
      " 55%|█████▍    | 59/108 [00:00<00:00, 61.54it/s]\u001b[A\n",
      " 61%|██████    | 66/108 [00:01<00:00, 62.43it/s]\u001b[A\n",
      " 68%|██████▊   | 73/108 [00:01<00:00, 62.95it/s]\u001b[A\n",
      " 74%|███████▍  | 80/108 [00:01<00:00, 64.56it/s]\u001b[A\n",
      " 81%|████████  | 87/108 [00:01<00:00, 65.67it/s]\u001b[A\n",
      " 88%|████████▊ | 95/108 [00:01<00:00, 66.82it/s]\u001b[A\n",
      "109it [00:01, 56.26it/s]                         \u001b[A"
     ]
    },
    {
     "name": "stdout",
     "output_type": "stream",
     "text": [
      "Val Loss: 0.1724, Val Acc: 66.88\n",
      "Epoch 89 of 100\n",
      "Training\n"
     ]
    },
    {
     "name": "stderr",
     "output_type": "stream",
     "text": [
      "\n",
      "\n",
      "  0%|          | 0/325 [00:00<?, ?it/s]\u001b[A\n",
      "  0%|          | 1/325 [00:00<00:40,  7.93it/s]\u001b[A\n",
      "  1%|          | 4/325 [00:00<00:32,  9.97it/s]\u001b[A\n",
      "  2%|▏         | 7/325 [00:00<00:25, 12.25it/s]\u001b[A\n",
      "  3%|▎         | 10/325 [00:00<00:21, 14.59it/s]\u001b[A\n",
      "  4%|▍         | 13/325 [00:00<00:18, 16.83it/s]\u001b[A\n",
      "  5%|▍         | 16/325 [00:00<00:16, 18.91it/s]\u001b[A\n",
      "  6%|▌         | 19/325 [00:00<00:15, 20.23it/s]\u001b[A\n",
      "  7%|▋         | 22/325 [00:00<00:13, 21.80it/s]\u001b[A\n",
      "  8%|▊         | 25/325 [00:01<00:13, 22.95it/s]\u001b[A\n",
      "  9%|▊         | 28/325 [00:01<00:12, 23.96it/s]\u001b[A\n",
      " 10%|▉         | 31/325 [00:01<00:11, 24.65it/s]\u001b[A\n",
      " 10%|█         | 34/325 [00:01<00:11, 25.05it/s]\u001b[A\n",
      " 11%|█▏        | 37/325 [00:01<00:11, 25.28it/s]\u001b[A\n",
      " 12%|█▏        | 40/325 [00:01<00:11, 25.50it/s]\u001b[A\n",
      " 13%|█▎        | 43/325 [00:01<00:10, 25.71it/s]\u001b[A\n",
      " 14%|█▍        | 46/325 [00:01<00:10, 25.93it/s]\u001b[A\n",
      " 15%|█▌        | 49/325 [00:01<00:10, 26.03it/s]\u001b[A\n",
      " 16%|█▌        | 52/325 [00:02<00:10, 26.15it/s]\u001b[A\n",
      " 17%|█▋        | 55/325 [00:02<00:10, 26.17it/s]\u001b[A\n",
      " 18%|█▊        | 58/325 [00:02<00:10, 26.23it/s]\u001b[A\n",
      " 19%|█▉        | 61/325 [00:02<00:10, 26.18it/s]\u001b[A\n",
      " 20%|█▉        | 64/325 [00:02<00:09, 26.25it/s]\u001b[A\n",
      " 21%|██        | 67/325 [00:02<00:09, 26.12it/s]\u001b[A\n",
      " 22%|██▏       | 70/325 [00:02<00:09, 26.16it/s]\u001b[A\n",
      " 22%|██▏       | 73/325 [00:02<00:09, 26.08it/s]\u001b[A\n",
      " 23%|██▎       | 76/325 [00:02<00:09, 26.17it/s]\u001b[A\n",
      " 24%|██▍       | 79/325 [00:03<00:09, 26.16it/s]\u001b[A\n",
      " 25%|██▌       | 82/325 [00:03<00:09, 26.22it/s]\u001b[A\n",
      " 26%|██▌       | 85/325 [00:03<00:09, 26.19it/s]\u001b[A\n",
      " 27%|██▋       | 88/325 [00:03<00:09, 26.26it/s]\u001b[A\n",
      " 28%|██▊       | 91/325 [00:03<00:08, 26.21it/s]\u001b[A\n",
      " 29%|██▉       | 94/325 [00:03<00:08, 26.29it/s]\u001b[A\n",
      " 30%|██▉       | 97/325 [00:03<00:08, 26.26it/s]\u001b[A\n",
      " 31%|███       | 100/325 [00:03<00:08, 26.30it/s]\u001b[A\n",
      " 32%|███▏      | 103/325 [00:04<00:08, 26.24it/s]\u001b[A\n",
      " 33%|███▎      | 106/325 [00:04<00:08, 26.32it/s]\u001b[A\n",
      " 34%|███▎      | 109/325 [00:04<00:08, 26.27it/s]\u001b[A\n",
      " 34%|███▍      | 112/325 [00:04<00:08, 26.30it/s]\u001b[A\n",
      " 35%|███▌      | 115/325 [00:04<00:08, 26.24it/s]\u001b[A\n",
      " 36%|███▋      | 118/325 [00:04<00:07, 26.30it/s]\u001b[A\n",
      " 37%|███▋      | 121/325 [00:04<00:07, 26.21it/s]\u001b[A\n",
      " 38%|███▊      | 124/325 [00:04<00:07, 26.25it/s]\u001b[A\n",
      " 39%|███▉      | 127/325 [00:04<00:07, 26.15it/s]\u001b[A\n",
      " 40%|████      | 130/325 [00:05<00:07, 26.27it/s]\u001b[A\n",
      " 41%|████      | 133/325 [00:05<00:07, 26.20it/s]\u001b[A\n",
      " 42%|████▏     | 136/325 [00:05<00:07, 26.27it/s]\u001b[A\n",
      " 43%|████▎     | 139/325 [00:05<00:07, 26.19it/s]\u001b[A\n",
      " 44%|████▎     | 142/325 [00:05<00:06, 26.26it/s]\u001b[A\n",
      " 45%|████▍     | 145/325 [00:05<00:06, 26.22it/s]\u001b[A\n",
      " 46%|████▌     | 148/325 [00:05<00:06, 26.28it/s]\u001b[A\n",
      " 46%|████▋     | 151/325 [00:05<00:06, 26.25it/s]\u001b[A\n",
      " 47%|████▋     | 154/325 [00:05<00:06, 26.34it/s]\u001b[A\n",
      " 48%|████▊     | 157/325 [00:06<00:06, 26.26it/s]\u001b[A\n",
      " 49%|████▉     | 160/325 [00:06<00:06, 26.33it/s]\u001b[A\n",
      " 50%|█████     | 163/325 [00:06<00:06, 25.56it/s]\u001b[A\n",
      " 51%|█████     | 166/325 [00:06<00:06, 25.84it/s]\u001b[A\n",
      " 52%|█████▏    | 169/325 [00:06<00:05, 26.02it/s]\u001b[A\n",
      " 53%|█████▎    | 172/325 [00:06<00:05, 26.16it/s]\u001b[A\n",
      " 54%|█████▍    | 175/325 [00:06<00:05, 26.20it/s]\u001b[A\n",
      " 55%|█████▍    | 178/325 [00:06<00:05, 26.27it/s]\u001b[A\n",
      " 56%|█████▌    | 181/325 [00:07<00:05, 26.25it/s]\u001b[A\n",
      " 57%|█████▋    | 184/325 [00:07<00:05, 26.34it/s]\u001b[A\n",
      " 58%|█████▊    | 187/325 [00:07<00:05, 26.34it/s]\u001b[A\n",
      " 58%|█████▊    | 190/325 [00:07<00:05, 26.37it/s]\u001b[A\n",
      " 59%|█████▉    | 193/325 [00:07<00:05, 26.31it/s]\u001b[A\n",
      " 60%|██████    | 196/325 [00:07<00:04, 26.36it/s]\u001b[A\n",
      " 61%|██████    | 199/325 [00:07<00:04, 26.32it/s]\u001b[A\n",
      " 62%|██████▏   | 202/325 [00:07<00:04, 26.39it/s]\u001b[A\n",
      " 63%|██████▎   | 205/325 [00:07<00:04, 26.18it/s]\u001b[A\n",
      " 64%|██████▍   | 208/325 [00:08<00:04, 26.25it/s]\u001b[A\n",
      " 65%|██████▍   | 211/325 [00:08<00:04, 26.28it/s]\u001b[A\n",
      " 66%|██████▌   | 214/325 [00:08<00:04, 26.30it/s]\u001b[A\n",
      " 67%|██████▋   | 217/325 [00:08<00:04, 26.27it/s]\u001b[A\n",
      " 68%|██████▊   | 220/325 [00:08<00:03, 26.31it/s]\u001b[A\n",
      " 69%|██████▊   | 223/325 [00:08<00:03, 26.30it/s]\u001b[A\n",
      " 70%|██████▉   | 226/325 [00:08<00:03, 26.35it/s]\u001b[A\n",
      " 70%|███████   | 229/325 [00:08<00:03, 26.21it/s]\u001b[A\n",
      " 71%|███████▏  | 232/325 [00:08<00:03, 26.30it/s]\u001b[A\n",
      " 72%|███████▏  | 235/325 [00:09<00:03, 26.28it/s]\u001b[A\n",
      " 73%|███████▎  | 238/325 [00:09<00:03, 26.34it/s]\u001b[A\n",
      " 74%|███████▍  | 241/325 [00:09<00:03, 26.27it/s]\u001b[A\n",
      " 75%|███████▌  | 244/325 [00:09<00:03, 26.34it/s]\u001b[A\n",
      " 76%|███████▌  | 247/325 [00:09<00:02, 26.33it/s]\u001b[A\n",
      " 77%|███████▋  | 250/325 [00:09<00:02, 26.42it/s]\u001b[A\n",
      " 78%|███████▊  | 253/325 [00:09<00:02, 26.43it/s]\u001b[A\n",
      " 79%|███████▉  | 256/325 [00:09<00:02, 26.49it/s]\u001b[A\n",
      " 80%|███████▉  | 259/325 [00:09<00:02, 26.45it/s]\u001b[A\n",
      " 81%|████████  | 262/325 [00:10<00:02, 26.42it/s]\u001b[A\n",
      " 82%|████████▏ | 265/325 [00:10<00:02, 26.38it/s]\u001b[A\n",
      " 82%|████████▏ | 268/325 [00:10<00:02, 26.45it/s]\u001b[A\n",
      " 83%|████████▎ | 271/325 [00:10<00:02, 26.42it/s]\u001b[A\n",
      " 84%|████████▍ | 274/325 [00:10<00:01, 26.44it/s]\u001b[A\n",
      " 85%|████████▌ | 277/325 [00:10<00:01, 26.37it/s]\u001b[A\n",
      " 86%|████████▌ | 280/325 [00:10<00:01, 26.41it/s]\u001b[A\n",
      " 87%|████████▋ | 283/325 [00:10<00:01, 26.40it/s]\u001b[A\n",
      " 88%|████████▊ | 286/325 [00:10<00:01, 26.44it/s]\u001b[A\n",
      " 89%|████████▉ | 289/325 [00:11<00:01, 26.43it/s]\u001b[A\n",
      " 90%|████████▉ | 292/325 [00:11<00:01, 26.45it/s]\u001b[A\n",
      " 91%|█████████ | 295/325 [00:11<00:01, 26.45it/s]\u001b[A\n",
      " 92%|█████████▏| 298/325 [00:11<00:01, 26.52it/s]\u001b[A\n",
      " 93%|█████████▎| 301/325 [00:11<00:00, 26.58it/s]\u001b[A\n",
      " 94%|█████████▎| 304/325 [00:11<00:00, 26.61it/s]\u001b[A\n",
      " 94%|█████████▍| 307/325 [00:11<00:00, 26.52it/s]\u001b[A\n",
      " 95%|█████████▌| 310/325 [00:11<00:00, 26.46it/s]\u001b[A\n",
      " 96%|█████████▋| 313/325 [00:12<00:00, 26.40it/s]\u001b[A\n",
      " 97%|█████████▋| 316/325 [00:12<00:00, 26.51it/s]\u001b[A\n",
      " 98%|█████████▊| 319/325 [00:12<00:00, 26.51it/s]\u001b[A\n",
      " 99%|█████████▉| 322/325 [00:12<00:00, 26.59it/s]\u001b[A\n",
      "326it [00:12, 25.62it/s]                         \u001b[A"
     ]
    },
    {
     "name": "stdout",
     "output_type": "stream",
     "text": [
      "Train Loss: 0.0035, Train Acc: 98.37\n",
      "Validating\n"
     ]
    },
    {
     "name": "stderr",
     "output_type": "stream",
     "text": [
      "\n",
      "\n",
      "  0%|          | 0/108 [00:00<?, ?it/s]\u001b[A\n",
      "  2%|▏         | 2/108 [00:00<00:05, 18.50it/s]\u001b[A\n",
      "  8%|▊         | 9/108 [00:00<00:04, 23.52it/s]\u001b[A\n",
      " 16%|█▌        | 17/108 [00:00<00:03, 29.02it/s]\u001b[A\n",
      " 23%|██▎       | 25/108 [00:00<00:02, 35.40it/s]\u001b[A\n",
      " 31%|███       | 33/108 [00:00<00:01, 41.67it/s]\u001b[A\n",
      " 38%|███▊      | 41/108 [00:00<00:01, 47.37it/s]\u001b[A\n",
      " 44%|████▍     | 48/108 [00:00<00:01, 51.87it/s]\u001b[A\n",
      " 51%|█████     | 55/108 [00:00<00:00, 54.96it/s]\u001b[A\n",
      " 57%|█████▋    | 62/108 [00:00<00:00, 58.31it/s]\u001b[A\n",
      " 64%|██████▍   | 69/108 [00:01<00:00, 60.69it/s]\u001b[A\n",
      " 70%|███████   | 76/108 [00:01<00:00, 63.11it/s]\u001b[A\n",
      " 77%|███████▋  | 83/108 [00:01<00:00, 64.36it/s]\u001b[A\n",
      " 84%|████████▍ | 91/108 [00:01<00:00, 65.95it/s]\u001b[A\n",
      " 92%|█████████▏| 99/108 [00:01<00:00, 67.33it/s]\u001b[A\n",
      "109it [00:01, 57.19it/s]                         \u001b[A"
     ]
    },
    {
     "name": "stdout",
     "output_type": "stream",
     "text": [
      "Val Loss: 0.1827, Val Acc: 64.75\n",
      "Epoch 90 of 100\n",
      "Training\n"
     ]
    },
    {
     "name": "stderr",
     "output_type": "stream",
     "text": [
      "\n",
      "\n",
      "  0%|          | 0/325 [00:00<?, ?it/s]\u001b[A\n",
      "  0%|          | 1/325 [00:00<00:45,  7.09it/s]\u001b[A\n",
      "  1%|          | 4/325 [00:00<00:35,  9.10it/s]\u001b[A\n",
      "  2%|▏         | 7/325 [00:00<00:28, 11.31it/s]\u001b[A\n",
      "  3%|▎         | 10/325 [00:00<00:23, 13.53it/s]\u001b[A\n",
      "  4%|▍         | 13/325 [00:00<00:19, 15.81it/s]\u001b[A\n",
      "  5%|▍         | 16/325 [00:00<00:17, 17.97it/s]\u001b[A\n",
      "  6%|▌         | 19/325 [00:00<00:15, 19.36it/s]\u001b[A\n",
      "  7%|▋         | 22/325 [00:00<00:14, 21.06it/s]\u001b[A\n",
      "  8%|▊         | 25/325 [00:01<00:13, 22.39it/s]\u001b[A\n",
      "  9%|▊         | 28/325 [00:01<00:12, 23.47it/s]\u001b[A\n",
      " 10%|▉         | 31/325 [00:01<00:12, 24.34it/s]\u001b[A\n",
      " 10%|█         | 34/325 [00:01<00:11, 24.93it/s]\u001b[A\n",
      " 11%|█▏        | 37/325 [00:01<00:11, 25.16it/s]\u001b[A\n",
      " 12%|█▏        | 40/325 [00:01<00:11, 25.48it/s]\u001b[A\n",
      " 13%|█▎        | 43/325 [00:01<00:10, 25.64it/s]\u001b[A\n",
      " 14%|█▍        | 46/325 [00:01<00:10, 25.89it/s]\u001b[A\n",
      " 15%|█▌        | 49/325 [00:01<00:10, 25.96it/s]\u001b[A\n",
      " 16%|█▌        | 52/325 [00:02<00:10, 26.08it/s]\u001b[A\n",
      " 17%|█▋        | 55/325 [00:02<00:10, 26.13it/s]\u001b[A\n",
      " 18%|█▊        | 58/325 [00:02<00:10, 26.25it/s]\u001b[A\n",
      " 19%|█▉        | 61/325 [00:02<00:10, 26.27it/s]\u001b[A\n",
      " 20%|█▉        | 64/325 [00:02<00:09, 26.34it/s]\u001b[A\n",
      " 21%|██        | 67/325 [00:02<00:09, 26.33it/s]\u001b[A\n",
      " 22%|██▏       | 70/325 [00:02<00:09, 26.37it/s]\u001b[A\n",
      " 22%|██▏       | 73/325 [00:02<00:09, 26.35it/s]\u001b[A\n",
      " 23%|██▎       | 76/325 [00:03<00:09, 26.26it/s]\u001b[A\n",
      " 24%|██▍       | 79/325 [00:03<00:09, 26.12it/s]\u001b[A\n",
      " 25%|██▌       | 82/325 [00:03<00:09, 26.17it/s]\u001b[A\n",
      " 26%|██▌       | 85/325 [00:03<00:09, 26.13it/s]\u001b[A\n",
      " 27%|██▋       | 88/325 [00:03<00:09, 26.19it/s]\u001b[A\n",
      " 28%|██▊       | 91/325 [00:03<00:08, 26.23it/s]\u001b[A\n",
      " 29%|██▉       | 94/325 [00:03<00:08, 26.28it/s]\u001b[A\n",
      " 30%|██▉       | 97/325 [00:03<00:08, 26.24it/s]\u001b[A\n",
      " 31%|███       | 100/325 [00:03<00:08, 26.29it/s]\u001b[A\n",
      " 32%|███▏      | 103/325 [00:04<00:08, 26.24it/s]\u001b[A\n",
      " 33%|███▎      | 106/325 [00:04<00:08, 26.31it/s]\u001b[A\n",
      " 34%|███▎      | 109/325 [00:04<00:08, 26.24it/s]\u001b[A\n",
      " 34%|███▍      | 112/325 [00:04<00:08, 26.29it/s]\u001b[A\n",
      " 35%|███▌      | 115/325 [00:04<00:08, 26.20it/s]\u001b[A\n",
      " 36%|███▋      | 118/325 [00:04<00:07, 26.28it/s]\u001b[A\n",
      " 37%|███▋      | 121/325 [00:04<00:07, 26.22it/s]\u001b[A\n",
      " 38%|███▊      | 124/325 [00:04<00:07, 26.29it/s]\u001b[A\n",
      " 39%|███▉      | 127/325 [00:04<00:07, 26.25it/s]\u001b[A\n",
      " 40%|████      | 130/325 [00:05<00:07, 26.30it/s]\u001b[A\n",
      " 41%|████      | 133/325 [00:05<00:07, 26.18it/s]\u001b[A\n",
      " 42%|████▏     | 136/325 [00:05<00:07, 26.25it/s]\u001b[A\n",
      " 43%|████▎     | 139/325 [00:05<00:07, 26.21it/s]\u001b[A\n",
      " 44%|████▎     | 142/325 [00:05<00:06, 26.30it/s]\u001b[A\n",
      " 45%|████▍     | 145/325 [00:05<00:06, 26.10it/s]\u001b[A\n",
      " 46%|████▌     | 148/325 [00:05<00:06, 26.16it/s]\u001b[A\n",
      " 46%|████▋     | 151/325 [00:05<00:06, 26.14it/s]\u001b[A\n",
      " 47%|████▋     | 154/325 [00:05<00:06, 26.25it/s]\u001b[A\n",
      " 48%|████▊     | 157/325 [00:06<00:06, 26.26it/s]\u001b[A\n",
      " 49%|████▉     | 160/325 [00:06<00:06, 26.32it/s]\u001b[A\n",
      " 50%|█████     | 163/325 [00:06<00:06, 26.20it/s]\u001b[A\n",
      " 51%|█████     | 166/325 [00:06<00:06, 26.28it/s]\u001b[A\n",
      " 52%|█████▏    | 169/325 [00:06<00:05, 26.18it/s]\u001b[A\n",
      " 53%|█████▎    | 172/325 [00:06<00:05, 26.28it/s]\u001b[A\n",
      " 54%|█████▍    | 175/325 [00:06<00:05, 26.10it/s]\u001b[A\n",
      " 55%|█████▍    | 178/325 [00:06<00:05, 26.11it/s]\u001b[A\n",
      " 56%|█████▌    | 181/325 [00:07<00:05, 25.88it/s]\u001b[A\n",
      " 57%|█████▋    | 184/325 [00:07<00:05, 25.93it/s]\u001b[A\n",
      " 58%|█████▊    | 187/325 [00:07<00:05, 25.99it/s]\u001b[A\n",
      " 58%|█████▊    | 190/325 [00:07<00:05, 26.11it/s]\u001b[A\n",
      " 59%|█████▉    | 193/325 [00:07<00:05, 26.14it/s]\u001b[A\n",
      " 60%|██████    | 196/325 [00:07<00:04, 26.24it/s]\u001b[A\n",
      " 61%|██████    | 199/325 [00:07<00:04, 26.17it/s]\u001b[A\n",
      " 62%|██████▏   | 202/325 [00:07<00:04, 26.26it/s]\u001b[A\n",
      " 63%|██████▎   | 205/325 [00:07<00:04, 26.23it/s]\u001b[A\n",
      " 64%|██████▍   | 208/325 [00:08<00:04, 26.30it/s]\u001b[A\n",
      " 65%|██████▍   | 211/325 [00:08<00:04, 26.27it/s]\u001b[A\n",
      " 66%|██████▌   | 214/325 [00:08<00:04, 26.33it/s]\u001b[A\n",
      " 67%|██████▋   | 217/325 [00:08<00:04, 25.94it/s]\u001b[A\n",
      " 68%|██████▊   | 220/325 [00:08<00:04, 25.51it/s]\u001b[A\n",
      " 69%|██████▊   | 223/325 [00:08<00:04, 25.02it/s]\u001b[A\n",
      " 70%|██████▉   | 226/325 [00:08<00:03, 24.92it/s]\u001b[A\n",
      " 70%|███████   | 229/325 [00:08<00:03, 24.63it/s]\u001b[A\n",
      " 71%|███████▏  | 232/325 [00:09<00:03, 24.53it/s]\u001b[A\n",
      " 72%|███████▏  | 235/325 [00:09<00:03, 24.38it/s]\u001b[A\n",
      " 73%|███████▎  | 238/325 [00:09<00:03, 24.41it/s]\u001b[A\n",
      " 74%|███████▍  | 241/325 [00:09<00:03, 24.26it/s]\u001b[A\n",
      " 75%|███████▌  | 244/325 [00:09<00:03, 24.37it/s]\u001b[A\n",
      " 76%|███████▌  | 247/325 [00:09<00:03, 24.20it/s]\u001b[A\n",
      " 77%|███████▋  | 250/325 [00:09<00:03, 24.36it/s]\u001b[A\n",
      " 78%|███████▊  | 253/325 [00:09<00:02, 24.27it/s]\u001b[A\n",
      " 79%|███████▉  | 256/325 [00:10<00:02, 24.42it/s]\u001b[A\n",
      " 80%|███████▉  | 259/325 [00:10<00:02, 24.23it/s]\u001b[A\n",
      " 81%|████████  | 262/325 [00:10<00:02, 24.27it/s]\u001b[A\n",
      " 82%|████████▏ | 265/325 [00:10<00:02, 24.10it/s]\u001b[A\n",
      " 82%|████████▏ | 268/325 [00:10<00:02, 23.88it/s]\u001b[A\n",
      " 83%|████████▎ | 271/325 [00:10<00:02, 23.13it/s]\u001b[A\n",
      " 84%|████████▍ | 274/325 [00:10<00:02, 23.00it/s]\u001b[A\n",
      " 85%|████████▌ | 277/325 [00:10<00:02, 22.92it/s]\u001b[A\n",
      " 86%|████████▌ | 280/325 [00:11<00:01, 23.32it/s]\u001b[A\n",
      " 87%|████████▋ | 283/325 [00:11<00:01, 23.52it/s]\u001b[A\n",
      " 88%|████████▊ | 286/325 [00:11<00:01, 23.91it/s]\u001b[A\n",
      " 89%|████████▉ | 289/325 [00:11<00:01, 23.97it/s]\u001b[A\n",
      " 90%|████████▉ | 292/325 [00:11<00:01, 24.13it/s]\u001b[A\n",
      " 91%|█████████ | 295/325 [00:11<00:01, 24.75it/s]\u001b[A\n",
      " 92%|█████████▏| 298/325 [00:11<00:01, 25.27it/s]\u001b[A\n",
      " 93%|█████████▎| 301/325 [00:11<00:00, 25.68it/s]\u001b[A\n",
      " 94%|█████████▎| 304/325 [00:11<00:00, 25.96it/s]\u001b[A\n",
      " 94%|█████████▍| 307/325 [00:12<00:00, 26.18it/s]\u001b[A\n",
      " 95%|█████████▌| 310/325 [00:12<00:00, 26.33it/s]\u001b[A\n",
      " 96%|█████████▋| 313/325 [00:12<00:00, 26.45it/s]\u001b[A\n",
      " 97%|█████████▋| 316/325 [00:12<00:00, 26.51it/s]\u001b[A\n",
      " 98%|█████████▊| 319/325 [00:12<00:00, 26.59it/s]\u001b[A\n",
      " 99%|█████████▉| 322/325 [00:12<00:00, 26.63it/s]\u001b[A\n",
      "326it [00:13, 24.99it/s]                         \u001b[A"
     ]
    },
    {
     "name": "stdout",
     "output_type": "stream",
     "text": [
      "Train Loss: 0.0035, Train Acc: 98.33\n",
      "Validating\n"
     ]
    },
    {
     "name": "stderr",
     "output_type": "stream",
     "text": [
      "\n",
      "\n",
      "  0%|          | 0/108 [00:00<?, ?it/s]\u001b[A\n",
      "  1%|          | 1/108 [00:00<00:11,  8.93it/s]\u001b[A\n",
      "  8%|▊         | 9/108 [00:00<00:08, 12.12it/s]\u001b[A\n",
      " 16%|█▌        | 17/108 [00:00<00:05, 16.02it/s]\u001b[A\n",
      " 23%|██▎       | 25/108 [00:00<00:03, 20.92it/s]\u001b[A\n",
      " 31%|███       | 33/108 [00:00<00:02, 26.55it/s]\u001b[A\n",
      " 38%|███▊      | 41/108 [00:00<00:02, 32.65it/s]\u001b[A\n",
      " 44%|████▍     | 48/108 [00:00<00:01, 38.86it/s]\u001b[A\n",
      " 51%|█████     | 55/108 [00:00<00:01, 44.56it/s]\u001b[A\n",
      " 58%|█████▊    | 63/108 [00:01<00:00, 49.94it/s]\u001b[A\n",
      " 66%|██████▌   | 71/108 [00:01<00:00, 54.47it/s]\u001b[A\n",
      " 72%|███████▏  | 78/108 [00:01<00:00, 58.13it/s]\u001b[A\n",
      " 80%|███████▉  | 86/108 [00:01<00:00, 61.54it/s]\u001b[A\n",
      " 86%|████████▌ | 93/108 [00:01<00:00, 63.84it/s]\u001b[A\n",
      " 94%|█████████▎| 101/108 [00:01<00:00, 66.04it/s]\u001b[A\n",
      "109it [00:01, 57.44it/s]                         \u001b[A"
     ]
    },
    {
     "name": "stdout",
     "output_type": "stream",
     "text": [
      "Val Loss: 0.1716, Val Acc: 65.78\n",
      "Epoch 91 of 100\n",
      "Training\n"
     ]
    },
    {
     "name": "stderr",
     "output_type": "stream",
     "text": [
      "\n",
      "\n",
      "  0%|          | 0/325 [00:00<?, ?it/s]\u001b[A\n",
      "  0%|          | 1/325 [00:00<00:44,  7.24it/s]\u001b[A\n",
      "  1%|          | 4/325 [00:00<00:34,  9.27it/s]\u001b[A\n",
      "  2%|▏         | 7/325 [00:00<00:27, 11.51it/s]\u001b[A\n",
      "  3%|▎         | 10/325 [00:00<00:22, 13.84it/s]\u001b[A\n",
      "  4%|▍         | 13/325 [00:00<00:19, 16.14it/s]\u001b[A\n",
      "  5%|▍         | 16/325 [00:00<00:16, 18.19it/s]\u001b[A\n",
      "  6%|▌         | 19/325 [00:00<00:15, 19.36it/s]\u001b[A\n",
      "  7%|▋         | 22/325 [00:00<00:14, 21.10it/s]\u001b[A\n",
      "  8%|▊         | 25/325 [00:01<00:13, 22.50it/s]\u001b[A\n",
      "  9%|▊         | 28/325 [00:01<00:12, 23.58it/s]\u001b[A\n",
      " 10%|▉         | 31/325 [00:01<00:12, 24.40it/s]\u001b[A\n",
      " 10%|█         | 34/325 [00:01<00:11, 24.93it/s]\u001b[A\n",
      " 11%|█▏        | 37/325 [00:01<00:11, 25.25it/s]\u001b[A\n",
      " 12%|█▏        | 40/325 [00:01<00:11, 25.56it/s]\u001b[A\n",
      " 13%|█▎        | 43/325 [00:01<00:10, 25.77it/s]\u001b[A\n",
      " 14%|█▍        | 46/325 [00:01<00:10, 25.95it/s]\u001b[A\n",
      " 15%|█▌        | 49/325 [00:01<00:10, 26.02it/s]\u001b[A\n",
      " 16%|█▌        | 52/325 [00:02<00:10, 26.12it/s]\u001b[A\n",
      " 17%|█▋        | 55/325 [00:02<00:10, 26.15it/s]\u001b[A\n",
      " 18%|█▊        | 58/325 [00:02<00:10, 26.20it/s]\u001b[A\n",
      " 19%|█▉        | 61/325 [00:02<00:10, 26.23it/s]\u001b[A\n",
      " 20%|█▉        | 64/325 [00:02<00:09, 26.32it/s]\u001b[A\n",
      " 21%|██        | 67/325 [00:02<00:09, 26.31it/s]\u001b[A\n",
      " 22%|██▏       | 70/325 [00:02<00:09, 26.39it/s]\u001b[A\n",
      " 22%|██▏       | 73/325 [00:02<00:09, 26.41it/s]\u001b[A\n",
      " 23%|██▎       | 76/325 [00:03<00:09, 26.43it/s]\u001b[A\n",
      " 24%|██▍       | 79/325 [00:03<00:09, 26.40it/s]\u001b[A\n",
      " 25%|██▌       | 82/325 [00:03<00:09, 26.39it/s]\u001b[A\n",
      " 26%|██▌       | 85/325 [00:03<00:09, 26.30it/s]\u001b[A\n",
      " 27%|██▋       | 88/325 [00:03<00:08, 26.33it/s]\u001b[A\n",
      " 28%|██▊       | 91/325 [00:03<00:08, 26.30it/s]\u001b[A\n",
      " 29%|██▉       | 94/325 [00:03<00:08, 26.36it/s]\u001b[A\n",
      " 30%|██▉       | 97/325 [00:03<00:08, 26.39it/s]\u001b[A\n",
      " 31%|███       | 100/325 [00:03<00:08, 26.40it/s]\u001b[A\n",
      " 32%|███▏      | 103/325 [00:04<00:08, 26.42it/s]\u001b[A\n",
      " 33%|███▎      | 106/325 [00:04<00:08, 26.45it/s]\u001b[A\n",
      " 34%|███▎      | 109/325 [00:04<00:08, 26.38it/s]\u001b[A\n",
      " 34%|███▍      | 112/325 [00:04<00:08, 26.43it/s]\u001b[A\n",
      " 35%|███▌      | 115/325 [00:04<00:07, 26.35it/s]\u001b[A\n",
      " 36%|███▋      | 118/325 [00:04<00:07, 26.38it/s]\u001b[A\n",
      " 37%|███▋      | 121/325 [00:04<00:07, 26.35it/s]\u001b[A\n",
      " 38%|███▊      | 124/325 [00:04<00:07, 26.39it/s]\u001b[A\n",
      " 39%|███▉      | 127/325 [00:04<00:07, 26.37it/s]\u001b[A\n",
      " 40%|████      | 130/325 [00:05<00:07, 26.39it/s]\u001b[A\n",
      " 41%|████      | 133/325 [00:05<00:07, 26.36it/s]\u001b[A\n",
      " 42%|████▏     | 136/325 [00:05<00:07, 26.39it/s]\u001b[A\n",
      " 43%|████▎     | 139/325 [00:05<00:07, 26.33it/s]\u001b[A\n",
      " 44%|████▎     | 142/325 [00:05<00:06, 26.44it/s]\u001b[A\n",
      " 45%|████▍     | 145/325 [00:05<00:06, 26.38it/s]\u001b[A\n",
      " 46%|████▌     | 148/325 [00:05<00:06, 26.39it/s]\u001b[A\n",
      " 46%|████▋     | 151/325 [00:05<00:06, 26.20it/s]\u001b[A\n",
      " 47%|████▋     | 154/325 [00:05<00:06, 26.25it/s]\u001b[A\n",
      " 48%|████▊     | 157/325 [00:06<00:06, 26.21it/s]\u001b[A\n",
      " 49%|████▉     | 160/325 [00:06<00:06, 26.29it/s]\u001b[A\n",
      " 50%|█████     | 163/325 [00:06<00:06, 26.28it/s]\u001b[A\n",
      " 51%|█████     | 166/325 [00:06<00:06, 26.34it/s]\u001b[A\n",
      " 52%|█████▏    | 169/325 [00:06<00:05, 26.34it/s]\u001b[A\n",
      " 53%|█████▎    | 172/325 [00:06<00:05, 26.26it/s]\u001b[A\n",
      " 54%|█████▍    | 175/325 [00:06<00:05, 26.25it/s]\u001b[A\n",
      " 55%|█████▍    | 178/325 [00:06<00:05, 26.33it/s]\u001b[A\n",
      " 56%|█████▌    | 181/325 [00:06<00:05, 26.33it/s]\u001b[A\n",
      " 57%|█████▋    | 184/325 [00:07<00:05, 26.36it/s]\u001b[A\n",
      " 58%|█████▊    | 187/325 [00:07<00:05, 26.31it/s]\u001b[A\n",
      " 58%|█████▊    | 190/325 [00:07<00:05, 26.37it/s]\u001b[A\n",
      " 59%|█████▉    | 193/325 [00:07<00:05, 26.36it/s]\u001b[A\n",
      " 60%|██████    | 196/325 [00:07<00:04, 26.37it/s]\u001b[A\n",
      " 61%|██████    | 199/325 [00:07<00:04, 26.37it/s]\u001b[A\n",
      " 62%|██████▏   | 202/325 [00:07<00:04, 26.41it/s]\u001b[A\n",
      " 63%|██████▎   | 205/325 [00:07<00:04, 26.43it/s]\u001b[A\n",
      " 64%|██████▍   | 208/325 [00:08<00:04, 26.21it/s]\u001b[A\n",
      " 65%|██████▍   | 211/325 [00:08<00:04, 26.19it/s]\u001b[A\n",
      " 66%|██████▌   | 214/325 [00:08<00:04, 26.26it/s]\u001b[A\n",
      " 67%|██████▋   | 217/325 [00:08<00:04, 26.24it/s]\u001b[A\n",
      " 68%|██████▊   | 220/325 [00:08<00:03, 26.32it/s]\u001b[A\n",
      " 69%|██████▊   | 223/325 [00:08<00:03, 26.28it/s]\u001b[A\n",
      " 70%|██████▉   | 226/325 [00:08<00:03, 26.40it/s]\u001b[A\n",
      " 70%|███████   | 229/325 [00:08<00:03, 26.36it/s]\u001b[A\n",
      " 71%|███████▏  | 232/325 [00:08<00:03, 26.38it/s]\u001b[A\n",
      " 72%|███████▏  | 235/325 [00:09<00:03, 26.37it/s]\u001b[A\n",
      " 73%|███████▎  | 238/325 [00:09<00:03, 26.39it/s]\u001b[A\n",
      " 74%|███████▍  | 241/325 [00:09<00:03, 26.32it/s]\u001b[A\n",
      " 75%|███████▌  | 244/325 [00:09<00:03, 26.42it/s]\u001b[A\n",
      " 76%|███████▌  | 247/325 [00:09<00:02, 26.37it/s]\u001b[A\n",
      " 77%|███████▋  | 250/325 [00:09<00:02, 26.42it/s]\u001b[A\n",
      " 78%|███████▊  | 253/325 [00:09<00:02, 26.37it/s]\u001b[A\n",
      " 79%|███████▉  | 256/325 [00:09<00:02, 26.42it/s]\u001b[A\n",
      " 80%|███████▉  | 259/325 [00:09<00:02, 26.38it/s]\u001b[A\n",
      " 81%|████████  | 262/325 [00:10<00:02, 26.38it/s]\u001b[A\n",
      " 82%|████████▏ | 265/325 [00:10<00:02, 26.33it/s]\u001b[A\n",
      " 82%|████████▏ | 268/325 [00:10<00:02, 26.41it/s]\u001b[A\n",
      " 83%|████████▎ | 271/325 [00:10<00:02, 26.40it/s]\u001b[A\n",
      " 84%|████████▍ | 274/325 [00:10<00:01, 26.42it/s]\u001b[A\n",
      " 85%|████████▌ | 277/325 [00:10<00:01, 26.38it/s]\u001b[A\n",
      " 86%|████████▌ | 280/325 [00:10<00:01, 26.43it/s]\u001b[A\n",
      " 87%|████████▋ | 283/325 [00:10<00:01, 26.36it/s]\u001b[A\n",
      " 88%|████████▊ | 286/325 [00:10<00:01, 26.41it/s]\u001b[A\n",
      " 89%|████████▉ | 289/325 [00:11<00:01, 26.34it/s]\u001b[A\n",
      " 90%|████████▉ | 292/325 [00:11<00:01, 26.40it/s]\u001b[A\n",
      " 91%|█████████ | 295/325 [00:11<00:01, 26.36it/s]\u001b[A\n",
      " 92%|█████████▏| 298/325 [00:11<00:01, 26.42it/s]\u001b[A\n",
      " 93%|█████████▎| 301/325 [00:11<00:00, 26.51it/s]\u001b[A\n",
      " 94%|█████████▎| 304/325 [00:11<00:00, 26.53it/s]\u001b[A\n",
      " 94%|█████████▍| 307/325 [00:11<00:00, 26.56it/s]\u001b[A\n",
      " 95%|█████████▌| 310/325 [00:11<00:00, 26.56it/s]\u001b[A\n",
      " 96%|█████████▋| 313/325 [00:11<00:00, 26.54it/s]\u001b[A\n",
      " 97%|█████████▋| 316/325 [00:12<00:00, 26.60it/s]\u001b[A\n",
      " 98%|█████████▊| 319/325 [00:12<00:00, 26.55it/s]\u001b[A\n",
      " 99%|█████████▉| 322/325 [00:12<00:00, 26.57it/s]\u001b[A\n",
      "326it [00:12, 25.61it/s]                         \u001b[A"
     ]
    },
    {
     "name": "stdout",
     "output_type": "stream",
     "text": [
      "Train Loss: 0.0033, Train Acc: 98.54\n",
      "Validating\n"
     ]
    },
    {
     "name": "stderr",
     "output_type": "stream",
     "text": [
      "\n",
      "\n",
      "  0%|          | 0/108 [00:00<?, ?it/s]\u001b[A\n",
      "  3%|▎         | 3/108 [00:00<00:04, 24.14it/s]\u001b[A\n",
      "  9%|▉         | 10/108 [00:00<00:03, 29.91it/s]\u001b[A\n",
      " 16%|█▌        | 17/108 [00:00<00:02, 35.99it/s]\u001b[A\n",
      " 22%|██▏       | 24/108 [00:00<00:02, 41.68it/s]\u001b[A\n",
      " 30%|██▉       | 32/108 [00:00<00:01, 47.81it/s]\u001b[A\n",
      " 36%|███▌      | 39/108 [00:00<00:01, 52.23it/s]\u001b[A\n",
      " 43%|████▎     | 46/108 [00:00<00:01, 56.20it/s]\u001b[A\n",
      " 49%|████▉     | 53/108 [00:00<00:00, 58.80it/s]\u001b[A\n",
      " 56%|█████▌    | 60/108 [00:00<00:00, 61.68it/s]\u001b[A\n",
      " 62%|██████▏   | 67/108 [00:01<00:00, 63.40it/s]\u001b[A\n",
      " 69%|██████▊   | 74/108 [00:01<00:00, 65.16it/s]\u001b[A\n",
      " 75%|███████▌  | 81/108 [00:01<00:00, 65.90it/s]\u001b[A\n",
      " 82%|████████▏ | 89/108 [00:01<00:00, 67.17it/s]\u001b[A\n",
      " 90%|████████▉ | 97/108 [00:01<00:00, 68.52it/s]\u001b[A\n",
      "109it [00:01, 57.34it/s]                         \u001b[A"
     ]
    },
    {
     "name": "stdout",
     "output_type": "stream",
     "text": [
      "Val Loss: 0.1655, Val Acc: 67.63\n",
      "Epoch 92 of 100\n",
      "Training\n"
     ]
    },
    {
     "name": "stderr",
     "output_type": "stream",
     "text": [
      "\n",
      "\n",
      "  0%|          | 0/325 [00:00<?, ?it/s]\u001b[A\n",
      "  0%|          | 1/325 [00:00<00:47,  6.76it/s]\u001b[A\n",
      "  1%|          | 4/325 [00:00<00:37,  8.65it/s]\u001b[A\n",
      "  2%|▏         | 7/325 [00:00<00:29, 10.71it/s]\u001b[A\n",
      "  3%|▎         | 10/325 [00:00<00:24, 13.05it/s]\u001b[A\n",
      "  4%|▍         | 13/325 [00:00<00:20, 15.36it/s]\u001b[A\n",
      "  5%|▍         | 16/325 [00:00<00:17, 17.52it/s]\u001b[A\n",
      "  6%|▌         | 19/325 [00:00<00:16, 19.02it/s]\u001b[A\n",
      "  7%|▋         | 22/325 [00:00<00:14, 20.77it/s]\u001b[A\n",
      "  8%|▊         | 25/325 [00:01<00:13, 22.22it/s]\u001b[A\n",
      "  9%|▊         | 28/325 [00:01<00:12, 23.37it/s]\u001b[A\n",
      " 10%|▉         | 31/325 [00:01<00:12, 24.15it/s]\u001b[A\n",
      " 10%|█         | 34/325 [00:01<00:11, 24.79it/s]\u001b[A\n",
      " 11%|█▏        | 37/325 [00:01<00:11, 25.22it/s]\u001b[A\n",
      " 12%|█▏        | 40/325 [00:01<00:11, 25.46it/s]\u001b[A\n",
      " 13%|█▎        | 43/325 [00:01<00:11, 25.56it/s]\u001b[A\n",
      " 14%|█▍        | 46/325 [00:01<00:10, 25.76it/s]\u001b[A\n",
      " 15%|█▌        | 49/325 [00:02<00:10, 25.72it/s]\u001b[A\n",
      " 16%|█▌        | 52/325 [00:02<00:10, 25.89it/s]\u001b[A\n",
      " 17%|█▋        | 55/325 [00:02<00:10, 25.55it/s]\u001b[A\n",
      " 18%|█▊        | 58/325 [00:02<00:10, 25.81it/s]\u001b[A\n",
      " 19%|█▉        | 61/325 [00:02<00:10, 25.76it/s]\u001b[A\n",
      " 20%|█▉        | 64/325 [00:02<00:10, 25.95it/s]\u001b[A\n",
      " 21%|██        | 67/325 [00:02<00:09, 25.93it/s]\u001b[A\n",
      " 22%|██▏       | 70/325 [00:02<00:09, 26.10it/s]\u001b[A\n",
      " 22%|██▏       | 73/325 [00:02<00:09, 26.11it/s]\u001b[A\n",
      " 23%|██▎       | 76/325 [00:03<00:09, 26.25it/s]\u001b[A\n",
      " 24%|██▍       | 79/325 [00:03<00:09, 26.14it/s]\u001b[A\n",
      " 25%|██▌       | 82/325 [00:03<00:09, 26.21it/s]\u001b[A\n",
      " 26%|██▌       | 85/325 [00:03<00:09, 26.06it/s]\u001b[A\n",
      " 27%|██▋       | 88/325 [00:03<00:08, 26.43it/s]\u001b[A\n",
      " 28%|██▊       | 91/325 [00:03<00:08, 26.51it/s]\u001b[A\n",
      " 29%|██▉       | 94/325 [00:03<00:08, 26.54it/s]\u001b[A\n",
      " 30%|██▉       | 97/325 [00:03<00:08, 26.55it/s]\u001b[A\n",
      " 31%|███       | 100/325 [00:03<00:08, 26.57it/s]\u001b[A\n",
      " 32%|███▏      | 103/325 [00:04<00:08, 26.61it/s]\u001b[A\n",
      " 33%|███▎      | 106/325 [00:04<00:08, 26.64it/s]\u001b[A\n",
      " 34%|███▎      | 109/325 [00:04<00:08, 26.68it/s]\u001b[A\n",
      " 34%|███▍      | 112/325 [00:04<00:07, 26.66it/s]\u001b[A\n",
      " 35%|███▌      | 115/325 [00:04<00:07, 26.61it/s]\u001b[A\n",
      " 36%|███▋      | 118/325 [00:04<00:07, 26.62it/s]\u001b[A\n",
      " 37%|███▋      | 121/325 [00:04<00:07, 26.64it/s]\u001b[A\n",
      " 38%|███▊      | 124/325 [00:04<00:07, 26.65it/s]\u001b[A\n",
      " 39%|███▉      | 127/325 [00:04<00:07, 26.65it/s]\u001b[A\n",
      " 40%|████      | 130/325 [00:05<00:07, 26.60it/s]\u001b[A\n",
      " 41%|████      | 133/325 [00:05<00:07, 26.59it/s]\u001b[A\n",
      " 42%|████▏     | 136/325 [00:05<00:07, 26.61it/s]\u001b[A\n",
      " 43%|████▎     | 139/325 [00:05<00:06, 26.63it/s]\u001b[A\n",
      " 44%|████▎     | 142/325 [00:05<00:06, 26.66it/s]\u001b[A\n",
      " 45%|████▍     | 145/325 [00:05<00:06, 26.67it/s]\u001b[A\n",
      " 46%|████▌     | 148/325 [00:05<00:06, 26.38it/s]\u001b[A\n",
      " 46%|████▋     | 151/325 [00:05<00:06, 26.07it/s]\u001b[A\n",
      " 47%|████▋     | 154/325 [00:05<00:06, 26.17it/s]\u001b[A\n",
      " 48%|████▊     | 157/325 [00:06<00:06, 26.04it/s]\u001b[A\n",
      " 49%|████▉     | 160/325 [00:06<00:06, 26.17it/s]\u001b[A\n",
      " 50%|█████     | 163/325 [00:06<00:06, 26.28it/s]\u001b[A\n",
      " 51%|█████     | 166/325 [00:06<00:06, 26.43it/s]\u001b[A\n",
      " 52%|█████▏    | 169/325 [00:06<00:05, 26.53it/s]\u001b[A\n",
      " 53%|█████▎    | 172/325 [00:06<00:05, 26.56it/s]\u001b[A\n",
      " 54%|█████▍    | 175/325 [00:06<00:05, 26.58it/s]\u001b[A\n",
      " 55%|█████▍    | 178/325 [00:06<00:05, 26.60it/s]\u001b[A\n",
      " 56%|█████▌    | 181/325 [00:07<00:05, 26.62it/s]\u001b[A\n",
      " 57%|█████▋    | 184/325 [00:07<00:05, 26.66it/s]\u001b[A\n",
      " 58%|█████▊    | 187/325 [00:07<00:05, 26.68it/s]\u001b[A\n",
      " 58%|█████▊    | 190/325 [00:07<00:05, 26.67it/s]\u001b[A\n",
      " 59%|█████▉    | 193/325 [00:07<00:04, 26.69it/s]\u001b[A\n",
      " 60%|██████    | 196/325 [00:07<00:04, 26.71it/s]\u001b[A\n",
      " 61%|██████    | 199/325 [00:07<00:04, 26.71it/s]\u001b[A\n",
      " 62%|██████▏   | 202/325 [00:07<00:04, 26.70it/s]\u001b[A\n",
      " 63%|██████▎   | 205/325 [00:07<00:04, 26.68it/s]\u001b[A\n",
      " 64%|██████▍   | 208/325 [00:08<00:04, 26.66it/s]\u001b[A\n",
      " 65%|██████▍   | 211/325 [00:08<00:04, 26.67it/s]\u001b[A\n",
      " 66%|██████▌   | 214/325 [00:08<00:04, 26.67it/s]\u001b[A\n",
      " 67%|██████▋   | 217/325 [00:08<00:04, 26.53it/s]\u001b[A\n",
      " 68%|██████▊   | 220/325 [00:08<00:03, 26.60it/s]\u001b[A\n",
      " 69%|██████▊   | 223/325 [00:08<00:03, 26.40it/s]\u001b[A\n",
      " 70%|██████▉   | 226/325 [00:08<00:03, 26.42it/s]\u001b[A\n",
      " 70%|███████   | 229/325 [00:08<00:03, 26.27it/s]\u001b[A\n",
      " 71%|███████▏  | 232/325 [00:08<00:03, 26.33it/s]\u001b[A\n",
      " 72%|███████▏  | 235/325 [00:09<00:03, 26.26it/s]\u001b[A\n",
      " 73%|███████▎  | 238/325 [00:09<00:03, 26.31it/s]\u001b[A\n",
      " 74%|███████▍  | 241/325 [00:09<00:03, 26.22it/s]\u001b[A\n",
      " 75%|███████▌  | 244/325 [00:09<00:03, 26.42it/s]\u001b[A\n",
      " 76%|███████▌  | 247/325 [00:09<00:02, 26.50it/s]\u001b[A\n",
      " 77%|███████▋  | 250/325 [00:09<00:02, 26.59it/s]\u001b[A\n",
      " 78%|███████▊  | 253/325 [00:09<00:02, 26.64it/s]\u001b[A\n",
      " 79%|███████▉  | 256/325 [00:09<00:02, 26.66it/s]\u001b[A\n",
      " 80%|███████▉  | 259/325 [00:09<00:02, 26.66it/s]\u001b[A\n",
      " 81%|████████  | 262/325 [00:10<00:02, 26.66it/s]\u001b[A\n",
      " 82%|████████▏ | 265/325 [00:10<00:02, 26.66it/s]\u001b[A\n",
      " 82%|████████▏ | 268/325 [00:10<00:02, 26.68it/s]\u001b[A\n",
      " 83%|████████▎ | 271/325 [00:10<00:02, 26.71it/s]\u001b[A\n",
      " 84%|████████▍ | 274/325 [00:10<00:01, 26.69it/s]\u001b[A\n",
      " 85%|████████▌ | 277/325 [00:10<00:01, 26.69it/s]\u001b[A\n",
      " 86%|████████▌ | 280/325 [00:10<00:01, 26.68it/s]\u001b[A\n",
      " 87%|████████▋ | 283/325 [00:10<00:01, 26.70it/s]\u001b[A\n",
      " 88%|████████▊ | 286/325 [00:10<00:01, 26.72it/s]\u001b[A\n",
      " 89%|████████▉ | 289/325 [00:11<00:01, 26.70it/s]\u001b[A\n",
      " 90%|████████▉ | 292/325 [00:11<00:01, 26.73it/s]\u001b[A\n",
      " 91%|█████████ | 295/325 [00:11<00:01, 26.76it/s]\u001b[A\n",
      " 92%|█████████▏| 298/325 [00:11<00:01, 26.73it/s]\u001b[A\n",
      " 93%|█████████▎| 301/325 [00:11<00:00, 26.74it/s]\u001b[A\n",
      " 94%|█████████▎| 304/325 [00:11<00:00, 26.73it/s]\u001b[A\n",
      " 94%|█████████▍| 307/325 [00:11<00:00, 26.72it/s]\u001b[A\n",
      " 95%|█████████▌| 310/325 [00:11<00:00, 26.68it/s]\u001b[A\n",
      " 96%|█████████▋| 313/325 [00:11<00:00, 26.72it/s]\u001b[A\n",
      " 97%|█████████▋| 316/325 [00:12<00:00, 26.71it/s]\u001b[A\n",
      " 98%|█████████▊| 319/325 [00:12<00:00, 26.73it/s]\u001b[A\n",
      " 99%|█████████▉| 322/325 [00:12<00:00, 26.74it/s]\u001b[A\n",
      "326it [00:12, 25.67it/s]                         \u001b[A"
     ]
    },
    {
     "name": "stdout",
     "output_type": "stream",
     "text": [
      "Train Loss: 0.0023, Train Acc: 98.96\n",
      "Validating\n"
     ]
    },
    {
     "name": "stderr",
     "output_type": "stream",
     "text": [
      "\n",
      "\n",
      "  0%|          | 0/108 [00:00<?, ?it/s]\u001b[A\n",
      "  2%|▏         | 2/108 [00:00<00:05, 18.70it/s]\u001b[A\n",
      "  8%|▊         | 9/108 [00:00<00:04, 23.95it/s]\u001b[A\n",
      " 16%|█▌        | 17/108 [00:00<00:03, 29.82it/s]\u001b[A\n",
      " 22%|██▏       | 24/108 [00:00<00:02, 35.82it/s]\u001b[A\n",
      " 29%|██▊       | 31/108 [00:00<00:01, 41.94it/s]\u001b[A\n",
      " 36%|███▌      | 39/108 [00:00<00:01, 47.71it/s]\u001b[A\n",
      " 43%|████▎     | 46/108 [00:00<00:01, 52.57it/s]\u001b[A\n",
      " 49%|████▉     | 53/108 [00:00<00:00, 56.36it/s]\u001b[A\n",
      " 56%|█████▌    | 60/108 [00:00<00:00, 59.66it/s]\u001b[A\n",
      " 62%|██████▏   | 67/108 [00:01<00:00, 61.16it/s]\u001b[A\n",
      " 69%|██████▉   | 75/108 [00:01<00:00, 63.59it/s]\u001b[A\n",
      " 76%|███████▌  | 82/108 [00:01<00:00, 64.88it/s]\u001b[A\n",
      " 82%|████████▏ | 89/108 [00:01<00:00, 65.69it/s]\u001b[A\n",
      " 90%|████████▉ | 97/108 [00:01<00:00, 67.15it/s]\u001b[A\n",
      "109it [00:01, 57.45it/s]                         \u001b[A"
     ]
    },
    {
     "name": "stdout",
     "output_type": "stream",
     "text": [
      "Val Loss: 0.1832, Val Acc: 65.26\n",
      "Epoch 93 of 100\n",
      "Training\n"
     ]
    },
    {
     "name": "stderr",
     "output_type": "stream",
     "text": [
      "\n",
      "\n",
      "  0%|          | 0/325 [00:00<?, ?it/s]\u001b[A\n",
      "  0%|          | 1/325 [00:00<00:39,  8.30it/s]\u001b[A\n",
      "  1%|          | 2/325 [00:00<00:43,  7.50it/s]\u001b[A\n",
      "  2%|▏         | 5/325 [00:00<00:33,  9.47it/s]\u001b[A\n",
      "  2%|▏         | 8/325 [00:00<00:27, 11.68it/s]\u001b[A\n",
      "  3%|▎         | 11/325 [00:00<00:22, 13.91it/s]\u001b[A\n",
      "  4%|▍         | 14/325 [00:00<00:19, 16.03it/s]\u001b[A\n",
      "  5%|▌         | 17/325 [00:00<00:17, 18.02it/s]\u001b[A\n",
      "  6%|▌         | 20/325 [00:01<00:15, 19.18it/s]\u001b[A\n",
      "  7%|▋         | 23/325 [00:01<00:14, 20.60it/s]\u001b[A\n",
      "  8%|▊         | 26/325 [00:01<00:13, 22.13it/s]\u001b[A\n",
      "  9%|▉         | 29/325 [00:01<00:12, 23.23it/s]\u001b[A\n",
      " 10%|▉         | 32/325 [00:01<00:12, 24.05it/s]\u001b[A\n",
      " 11%|█         | 35/325 [00:01<00:11, 24.67it/s]\u001b[A\n",
      " 12%|█▏        | 38/325 [00:01<00:11, 24.97it/s]\u001b[A\n",
      " 13%|█▎        | 41/325 [00:01<00:11, 25.31it/s]\u001b[A\n",
      " 14%|█▎        | 44/325 [00:01<00:10, 25.65it/s]\u001b[A\n",
      " 14%|█▍        | 47/325 [00:02<00:10, 25.78it/s]\u001b[A\n",
      " 15%|█▌        | 50/325 [00:02<00:10, 25.94it/s]\u001b[A\n",
      " 16%|█▋        | 53/325 [00:02<00:10, 25.99it/s]\u001b[A\n",
      " 17%|█▋        | 56/325 [00:02<00:10, 26.13it/s]\u001b[A\n",
      " 18%|█▊        | 59/325 [00:02<00:10, 26.14it/s]\u001b[A\n",
      " 19%|█▉        | 62/325 [00:02<00:10, 26.25it/s]\u001b[A\n",
      " 20%|██        | 65/325 [00:02<00:09, 26.22it/s]\u001b[A\n",
      " 21%|██        | 68/325 [00:02<00:09, 26.28it/s]\u001b[A\n",
      " 22%|██▏       | 71/325 [00:02<00:09, 26.22it/s]\u001b[A\n",
      " 23%|██▎       | 74/325 [00:03<00:09, 26.30it/s]\u001b[A\n",
      " 24%|██▎       | 77/325 [00:03<00:09, 25.57it/s]\u001b[A\n",
      " 25%|██▍       | 80/325 [00:03<00:09, 25.80it/s]\u001b[A\n",
      " 26%|██▌       | 83/325 [00:03<00:09, 25.89it/s]\u001b[A\n",
      " 26%|██▋       | 86/325 [00:03<00:09, 26.03it/s]\u001b[A\n",
      " 27%|██▋       | 89/325 [00:03<00:09, 26.08it/s]\u001b[A\n",
      " 28%|██▊       | 92/325 [00:03<00:08, 26.20it/s]\u001b[A\n",
      " 29%|██▉       | 95/325 [00:03<00:08, 25.58it/s]\u001b[A\n",
      " 30%|███       | 98/325 [00:04<00:08, 25.80it/s]\u001b[A\n",
      " 31%|███       | 101/325 [00:04<00:08, 25.90it/s]\u001b[A\n",
      " 32%|███▏      | 104/325 [00:04<00:08, 26.02it/s]\u001b[A\n",
      " 33%|███▎      | 107/325 [00:04<00:08, 26.07it/s]\u001b[A\n",
      " 34%|███▍      | 110/325 [00:04<00:08, 25.57it/s]\u001b[A\n",
      " 35%|███▍      | 113/325 [00:04<00:08, 25.75it/s]\u001b[A\n",
      " 36%|███▌      | 116/325 [00:04<00:08, 25.98it/s]\u001b[A\n",
      " 37%|███▋      | 119/325 [00:04<00:07, 26.11it/s]\u001b[A\n",
      " 38%|███▊      | 122/325 [00:04<00:07, 26.25it/s]\u001b[A\n",
      " 38%|███▊      | 125/325 [00:05<00:07, 25.49it/s]\u001b[A\n",
      " 39%|███▉      | 128/325 [00:05<00:07, 25.68it/s]\u001b[A\n",
      " 40%|████      | 131/325 [00:05<00:07, 25.87it/s]\u001b[A\n",
      " 41%|████      | 134/325 [00:05<00:07, 26.07it/s]\u001b[A\n",
      " 42%|████▏     | 137/325 [00:05<00:07, 26.17it/s]\u001b[A\n",
      " 43%|████▎     | 140/325 [00:05<00:07, 26.24it/s]\u001b[A\n",
      " 44%|████▍     | 143/325 [00:05<00:07, 25.57it/s]\u001b[A\n",
      " 45%|████▍     | 146/325 [00:05<00:06, 25.85it/s]\u001b[A\n",
      " 46%|████▌     | 149/325 [00:05<00:06, 25.82it/s]\u001b[A\n",
      " 47%|████▋     | 152/325 [00:06<00:06, 26.02it/s]\u001b[A\n",
      " 48%|████▊     | 155/325 [00:06<00:06, 26.09it/s]\u001b[A\n",
      " 49%|████▊     | 158/325 [00:06<00:06, 26.24it/s]\u001b[A\n",
      " 50%|████▉     | 161/325 [00:06<00:06, 26.30it/s]\u001b[A\n",
      " 50%|█████     | 164/325 [00:06<00:06, 26.36it/s]\u001b[A\n",
      " 51%|█████▏    | 167/325 [00:06<00:06, 26.33it/s]\u001b[A\n",
      " 52%|█████▏    | 170/325 [00:06<00:05, 26.42it/s]\u001b[A\n",
      " 53%|█████▎    | 173/325 [00:06<00:05, 26.42it/s]\u001b[A\n",
      " 54%|█████▍    | 176/325 [00:06<00:05, 26.45it/s]\u001b[A\n",
      " 55%|█████▌    | 179/325 [00:07<00:05, 26.37it/s]\u001b[A\n",
      " 56%|█████▌    | 182/325 [00:07<00:05, 26.43it/s]\u001b[A\n",
      " 57%|█████▋    | 185/325 [00:07<00:05, 26.41it/s]\u001b[A\n",
      " 58%|█████▊    | 188/325 [00:07<00:05, 26.46it/s]\u001b[A\n",
      " 59%|█████▉    | 191/325 [00:07<00:05, 26.42it/s]\u001b[A\n",
      " 60%|█████▉    | 194/325 [00:07<00:04, 26.50it/s]\u001b[A\n",
      " 61%|██████    | 197/325 [00:07<00:04, 26.45it/s]\u001b[A\n",
      " 62%|██████▏   | 200/325 [00:07<00:04, 26.48it/s]\u001b[A\n",
      " 62%|██████▏   | 203/325 [00:08<00:04, 26.45it/s]\u001b[A\n",
      " 63%|██████▎   | 206/325 [00:08<00:04, 26.48it/s]\u001b[A\n",
      " 64%|██████▍   | 209/325 [00:08<00:04, 26.43it/s]\u001b[A\n",
      " 65%|██████▌   | 212/325 [00:08<00:04, 26.43it/s]\u001b[A\n",
      " 66%|██████▌   | 215/325 [00:08<00:04, 26.33it/s]\u001b[A\n",
      " 67%|██████▋   | 218/325 [00:08<00:04, 26.40it/s]\u001b[A\n",
      " 68%|██████▊   | 221/325 [00:08<00:03, 26.41it/s]\u001b[A\n",
      " 69%|██████▉   | 224/325 [00:08<00:03, 26.54it/s]\u001b[A\n",
      " 70%|██████▉   | 227/325 [00:08<00:03, 26.56it/s]\u001b[A\n",
      " 71%|███████   | 230/325 [00:09<00:03, 26.61it/s]\u001b[A\n",
      " 72%|███████▏  | 233/325 [00:09<00:03, 26.62it/s]\u001b[A\n",
      " 73%|███████▎  | 236/325 [00:09<00:03, 26.65it/s]\u001b[A\n",
      " 74%|███████▎  | 239/325 [00:09<00:03, 26.54it/s]\u001b[A\n",
      " 74%|███████▍  | 242/325 [00:09<00:03, 26.53it/s]\u001b[A\n",
      " 75%|███████▌  | 245/325 [00:09<00:03, 26.41it/s]\u001b[A\n",
      " 76%|███████▋  | 248/325 [00:09<00:02, 26.43it/s]\u001b[A\n",
      " 77%|███████▋  | 251/325 [00:09<00:02, 26.35it/s]\u001b[A\n",
      " 78%|███████▊  | 254/325 [00:09<00:02, 26.41it/s]\u001b[A\n",
      " 79%|███████▉  | 257/325 [00:10<00:02, 26.40it/s]\u001b[A\n",
      " 80%|████████  | 260/325 [00:10<00:02, 26.42it/s]\u001b[A\n",
      " 81%|████████  | 263/325 [00:10<00:02, 26.39it/s]\u001b[A\n",
      " 82%|████████▏ | 266/325 [00:10<00:02, 26.46it/s]\u001b[A\n",
      " 83%|████████▎ | 269/325 [00:10<00:02, 26.43it/s]\u001b[A\n",
      " 84%|████████▎ | 272/325 [00:10<00:02, 26.40it/s]\u001b[A\n",
      " 85%|████████▍ | 275/325 [00:10<00:01, 26.38it/s]\u001b[A\n",
      " 86%|████████▌ | 278/325 [00:10<00:01, 26.44it/s]\u001b[A\n",
      " 86%|████████▋ | 281/325 [00:10<00:01, 26.40it/s]\u001b[A\n",
      " 87%|████████▋ | 284/325 [00:11<00:01, 26.44it/s]\u001b[A\n",
      " 88%|████████▊ | 287/325 [00:11<00:01, 26.38it/s]\u001b[A\n",
      " 89%|████████▉ | 290/325 [00:11<00:01, 26.45it/s]\u001b[A\n",
      " 90%|█████████ | 293/325 [00:11<00:01, 26.42it/s]\u001b[A\n",
      " 91%|█████████ | 296/325 [00:11<00:01, 26.49it/s]\u001b[A\n",
      " 92%|█████████▏| 299/325 [00:11<00:00, 26.56it/s]\u001b[A\n",
      " 93%|█████████▎| 302/325 [00:11<00:00, 26.56it/s]\u001b[A\n",
      " 94%|█████████▍| 305/325 [00:11<00:00, 26.53it/s]\u001b[A\n",
      " 95%|█████████▍| 308/325 [00:11<00:00, 26.58it/s]\u001b[A\n",
      " 96%|█████████▌| 311/325 [00:12<00:00, 26.56it/s]\u001b[A\n",
      " 97%|█████████▋| 314/325 [00:12<00:00, 26.51it/s]\u001b[A\n",
      " 98%|█████████▊| 317/325 [00:12<00:00, 26.50it/s]\u001b[A\n",
      " 98%|█████████▊| 320/325 [00:12<00:00, 26.53it/s]\u001b[A\n",
      " 99%|█████████▉| 323/325 [00:12<00:00, 26.52it/s]\u001b[A\n",
      "326it [00:12, 25.23it/s]                         \u001b[A"
     ]
    },
    {
     "name": "stdout",
     "output_type": "stream",
     "text": [
      "Train Loss: 0.0023, Train Acc: 98.87\n",
      "Validating\n"
     ]
    },
    {
     "name": "stderr",
     "output_type": "stream",
     "text": [
      "\n",
      "\n",
      "  0%|          | 0/108 [00:00<?, ?it/s]\u001b[A\n",
      "  2%|▏         | 2/108 [00:00<00:05, 19.79it/s]\u001b[A\n",
      "  8%|▊         | 9/108 [00:00<00:03, 24.95it/s]\u001b[A\n",
      " 16%|█▌        | 17/108 [00:00<00:02, 30.71it/s]\u001b[A\n",
      " 22%|██▏       | 24/108 [00:00<00:02, 36.90it/s]\u001b[A\n",
      " 30%|██▉       | 32/108 [00:00<00:01, 43.47it/s]\u001b[A\n",
      " 37%|███▋      | 40/108 [00:00<00:01, 49.23it/s]\u001b[A\n",
      " 44%|████▎     | 47/108 [00:00<00:01, 53.67it/s]\u001b[A\n",
      " 51%|█████     | 55/108 [00:00<00:00, 57.57it/s]\u001b[A\n",
      " 58%|█████▊    | 63/108 [00:00<00:00, 60.78it/s]\u001b[A\n",
      " 66%|██████▌   | 71/108 [00:01<00:00, 63.15it/s]\u001b[A\n",
      " 72%|███████▏  | 78/108 [00:01<00:00, 64.29it/s]\u001b[A\n",
      " 79%|███████▊  | 85/108 [00:01<00:00, 65.69it/s]\u001b[A\n",
      " 86%|████████▌ | 93/108 [00:01<00:00, 67.40it/s]\u001b[A\n",
      "IOPub message rate exceeded.\n",
      "The notebook server will temporarily stop sending output\n",
      "to the client in order to avoid crashing it.\n",
      "To change this limit, set the config variable\n",
      "`--NotebookApp.iopub_msg_rate_limit`.\n",
      "\n",
      "Current values:\n",
      "NotebookApp.iopub_msg_rate_limit=1000.0 (msgs/sec)\n",
      "NotebookApp.rate_limit_window=3.0 (secs)\n",
      "\n"
     ]
    }
   ],
   "source": [
    "print(f\"Training on {len(train_data)} examples, validating on {len(val_data)} examples\")\n",
    "\n",
    "#validation function\n",
    "def validate(model, dataloader):\n",
    "    print('Validating')\n",
    "    model.eval()\n",
    "    val_running_loss = 0.0\n",
    "    val_running_correct = 0\n",
    "    with torch.no_grad():\n",
    "        for i, data in tqdm(enumerate(dataloader), total=int(len(val_data)/dataloader.batch_size)):\n",
    "            data, target = data[0].to(device), data[1].to(device)\n",
    "            outputs = model(data)\n",
    "            loss = criterion(outputs, torch.max(target, 1)[1])\n",
    "            \n",
    "            val_running_loss += loss.item()\n",
    "            _, preds = torch.max(outputs.data, 1)\n",
    "            val_running_correct += (preds == torch.max(target, 1)[1]).sum().item()\n",
    "        \n",
    "        val_loss = val_running_loss/len(dataloader.dataset)\n",
    "        val_accuracy = 100. * val_running_correct/len(dataloader.dataset)\n",
    "        print(f'Val Loss: {val_loss:.4f}, Val Acc: {val_accuracy:.2f}')\n",
    "        \n",
    "        return val_loss, val_accuracy\n",
    "\n",
    "# training function\n",
    "def fit(model, dataloader):\n",
    "    print('Training')\n",
    "    model.train()\n",
    "    train_running_loss = 0.0\n",
    "    train_running_correct = 0\n",
    "    for i, data in tqdm(enumerate(dataloader), total=int(len(train_data)/dataloader.batch_size)):\n",
    "        data, target = data[0].to(device), data[1].to(device)\n",
    "        optimizer.zero_grad()\n",
    "        outputs = model(data)\n",
    "        # print(outputs)\n",
    "        # print(torch.max(target, 1)[1])\n",
    "        loss = criterion(outputs, torch.max(target, 1)[1])\n",
    "        train_running_loss += loss.item()\n",
    "        _, preds = torch.max(outputs.data, 1)\n",
    "        train_running_correct += (preds == torch.max(target, 1)[1]).sum().item()\n",
    "        loss.backward()\n",
    "        optimizer.step()\n",
    "        \n",
    "    train_loss = train_running_loss/len(dataloader.dataset)\n",
    "    train_accuracy = 100. * train_running_correct/len(dataloader.dataset)\n",
    "    \n",
    "    print(f\"Train Loss: {train_loss:.4f}, Train Acc: {train_accuracy:.2f}\")\n",
    "    \n",
    "    return train_loss, train_accuracy\n",
    "\n",
    "\n",
    "train_loss , train_accuracy = [], []\n",
    "val_loss , val_accuracy = [], []\n",
    "start = time.time()\n",
    "for epoch in range(epochs):\n",
    "    print(f\"Epoch {epoch+1} of {epochs}\")\n",
    "    train_epoch_loss, train_epoch_accuracy = fit(model, trainloader)\n",
    "    val_epoch_loss, val_epoch_accuracy = validate(model, valloader)\n",
    "    train_loss.append(train_epoch_loss)\n",
    "    train_accuracy.append(train_epoch_accuracy)\n",
    "    val_loss.append(val_epoch_loss)\n",
    "    val_accuracy.append(val_epoch_accuracy)\n",
    "end = time.time()\n",
    "\n",
    "print((end-start)/60, 'minutes')"
   ]
  },
  {
   "cell_type": "code",
   "execution_count": null,
   "metadata": {},
   "outputs": [],
   "source": []
  },
  {
   "cell_type": "code",
   "execution_count": null,
   "metadata": {},
   "outputs": [],
   "source": []
  },
  {
   "cell_type": "code",
   "execution_count": null,
   "metadata": {},
   "outputs": [],
   "source": []
  },
  {
   "cell_type": "code",
   "execution_count": null,
   "metadata": {},
   "outputs": [],
   "source": []
  },
  {
   "cell_type": "code",
   "execution_count": null,
   "metadata": {},
   "outputs": [],
   "source": []
  },
  {
   "cell_type": "code",
   "execution_count": null,
   "metadata": {},
   "outputs": [],
   "source": []
  },
  {
   "cell_type": "code",
   "execution_count": null,
   "metadata": {},
   "outputs": [],
   "source": []
  },
  {
   "cell_type": "code",
   "execution_count": null,
   "metadata": {},
   "outputs": [],
   "source": []
  },
  {
   "cell_type": "code",
   "execution_count": null,
   "metadata": {},
   "outputs": [],
   "source": []
  },
  {
   "cell_type": "code",
   "execution_count": null,
   "metadata": {},
   "outputs": [],
   "source": []
  },
  {
   "cell_type": "code",
   "execution_count": 5,
   "metadata": {},
   "outputs": [],
   "source": [
    "from PIL import Image\n",
    "image = Image.open(image_path)"
   ]
  },
  {
   "cell_type": "code",
   "execution_count": 6,
   "metadata": {},
   "outputs": [],
   "source": [
    "img = image.convert('RGB')"
   ]
  },
  {
   "cell_type": "code",
   "execution_count": 17,
   "metadata": {},
   "outputs": [],
   "source": [
    "def train_epoch(models, criterion, optimizers, dataloaders, epoch, epoch_loss, vis=None, plot_data=None):\n",
    "    models['backbone'].train()\n",
    "    # models['module'].train()\n",
    "    global iters\n",
    "\n",
    "    for data in tqdm(dataloaders['train'], leave=False, total=len(dataloaders['train'])):\n",
    "        inputs = data[0].cuda()\n",
    "        labels = data[1].cuda()\n",
    "        # print(inputs.shape, labels.shape)\n",
    "        iters += 1\n",
    "#         print(inputs.shape)\n",
    "        optimizers['backbone'].zero_grad()\n",
    "        # optimizers['module'].zero_grad()\n",
    "        models['backbone'].cuda()\n",
    "        scores, features, for_gcn = models['backbone'](inputs)\n",
    "        target_loss = criterion(scores, torch.max(labels, 1)[1].cuda())\n",
    "\n",
    "        # if epoch > epoch_loss:\n",
    "        #     # After 120 epochs, stop the gradient from the loss prediction module propagated to the target model.\n",
    "        #     features[0] = features[0].detach()\n",
    "        #     features[1] = features[1].detach()\n",
    "        #     features[2] = features[2].detach()\n",
    "        #     features[3] = features[3].detach()\n",
    "        # pred_loss = models['module'](features)\n",
    "        # pred_loss = pred_loss.view(pred_loss.size(0))\n",
    "\n",
    "        # m_backbone_loss = torch.sum(target_loss) / target_loss.size(0)\n",
    "        # m_module_loss   = LossPredLoss(pred_loss, target_loss, margin=MARGIN)\n",
    "        # loss            = m_backbone_loss + WEIGHT * m_module_loss\n",
    "\n",
    "        target_loss.backward()\n",
    "        optimizers['backbone'].step()\n",
    "        # optimizers['module'].step()\n",
    "\n",
    "        # Visualize\n",
    "        # if (iters % 100 == 0) and (vis != None) and (plot_data != None):\n",
    "        #     plot_data['X'].append(iters)\n",
    "        #     plot_data['Y'].append([\n",
    "        #         m_backbone_loss.item(),\n",
    "        #         m_module_loss.item(),\n",
    "        #         loss.item()\n",
    "        #     ])\n",
    "        #     vis.line(\n",
    "        #         X=np.stack([np.array(plot_data['X'])] * len(plot_data['legend']), 1),\n",
    "        #         Y=np.array(plot_data['Y']),\n",
    "        #         opts={\n",
    "        #             'title': 'Loss over Time',\n",
    "        #             'legend': plot_data['legend'],\n",
    "        #             'xlabel': 'Iterations',\n",
    "        #             'ylabel': 'Loss',\n",
    "        #             'width': 1200,\n",
    "        #             'height': 390,\n",
    "        #         },\n",
    "        #         win=1\n",
    "        #     )"
   ]
  },
  {
   "cell_type": "code",
   "execution_count": 18,
   "metadata": {},
   "outputs": [],
   "source": [
    "def train(models, criterion, optimizers, schedulers, dataloaders, num_epochs, epoch_loss, vis, plot_data, cycle, accuracies):\n",
    "    print('>> Train a Model.')\n",
    "    best_acc = 0.\n",
    "    checkpoint_dir = os.path.join('./cifar10', 'train', 'weights')\n",
    "    if not os.path.exists(checkpoint_dir):\n",
    "        os.makedirs(checkpoint_dir)\n",
    "    \n",
    "#     for epoch in range(num_epochs):\n",
    "    schedulers['backbone'].step()\n",
    "    # schedulers['module'].step()\n",
    "\n",
    "    train_epoch(models, criterion, optimizers, dataloaders, 1, epoch_loss, vis, plot_data)\n",
    "#     print(accuracies, epoch)\n",
    "\n",
    "    # Save a checkpoint\n",
    "    # acc = test(models, dataloaders, 'val')\n",
    "    # if best_acc < acc:\n",
    "    #     best_acc = acc\n",
    "    #     best_model = copy.deepcopy(models['backbone'])\n",
    "    # # test_acc = test(models, dataloaders, 'test')\n",
    "    # print(acc, 'val_acc', best_acc, 'best_acc', 'accs', accuracies, 'epoch', epoch, 'cycle' ,cycle)\n",
    "\n",
    "\n",
    "\n",
    "    # if False and epoch % 5 == 4:\n",
    "    #     acc = test(models, dataloaders, 'test')\n",
    "    #     if best_acc < acc:\n",
    "    #         best_acc = acc\n",
    "    #         torch.save({\n",
    "    #             'epoch': epoch + 1,\n",
    "    #             'state_dict_backbone': models['backbone'].state_dict(),\n",
    "    #             'state_dict_module': models['module'].state_dict()\n",
    "    #         },\n",
    "    #         '%s/active_resnet18_cifar10.pth' % (checkpoint_dir))\n",
    "    #     print('Val Acc: {:.3f} \\t Best Acc: {:.3f}'.format(acc, best_acc))\n",
    "\n",
    "    torch.save(models['backbone'].state_dict(), \"model_\" + str(cycle) + \".pt\")\n",
    "    print('>> Finished.')"
   ]
  },
  {
   "cell_type": "code",
   "execution_count": 19,
   "metadata": {},
   "outputs": [],
   "source": [
    "def test(models, dataloaders, mode='val'):\n",
    "    assert mode == 'val' or mode == 'test'\n",
    "    models['backbone'].eval()\n",
    "    # models['module'].eval()\n",
    "\n",
    "    total = 0\n",
    "    correct = 0\n",
    "    with torch.no_grad():\n",
    "        for (inputs, labels) in dataloaders[mode]:\n",
    "            inputs = inputs.cuda()\n",
    "            labels = labels.cuda()\n",
    "\n",
    "            scores, _, _ = models['backbone'](inputs)\n",
    "            _, preds = torch.max(scores.data, 1)\n",
    "            total += labels.size(0)\n",
    "            correct += (preds == labels).sum().item()\n",
    "    \n",
    "    return 100 * correct / total\n",
    "\n",
    "#\n",
    "#\n",
    "def get_uncertainty(models, unlabeled_loader):\n",
    "    models['backbone'].eval()\n",
    "    models['module'].eval()\n",
    "    uncertainty = torch.tensor([]).cuda()\n",
    "\n",
    "    with torch.no_grad():\n",
    "        for (inputs, labels) in unlabeled_loader:\n",
    "            inputs = inputs.cuda()\n",
    "            # labels = labels.cuda()\n",
    "\n",
    "            scores, features = models['backbone'](inputs)\n",
    "            pred_loss = models['module'](features) # pred_loss = criterion(scores, labels) # ground truth loss\n",
    "            pred_loss = pred_loss.view(pred_loss.size(0))\n",
    "\n",
    "            uncertainty = torch.cat((uncertainty, pred_loss), 0)\n",
    "    \n",
    "    return uncertainty.cpu()\n"
   ]
  },
  {
   "cell_type": "code",
   "execution_count": 23,
   "metadata": {},
   "outputs": [
    {
     "name": "stderr",
     "output_type": "stream",
     "text": [
      "\r",
      "  0%|          | 0/63 [00:00<?, ?it/s]"
     ]
    },
    {
     "name": "stdout",
     "output_type": "stream",
     "text": [
      ">> Train a Model.\n"
     ]
    },
    {
     "name": "stderr",
     "output_type": "stream",
     "text": [
      "                                               \r"
     ]
    },
    {
     "name": "stdout",
     "output_type": "stream",
     "text": [
      ">> Finished.\n"
     ]
    },
    {
     "ename": "RuntimeError",
     "evalue": "The size of tensor a (16) must match the size of tensor b (101) at non-singleton dimension 1",
     "output_type": "error",
     "traceback": [
      "\u001b[0;31m---------------------------------------------------------------------------\u001b[0m",
      "\u001b[0;31mRuntimeError\u001b[0m                              Traceback (most recent call last)",
      "\u001b[0;32m<ipython-input-23-1ecc18f41687>\u001b[0m in \u001b[0;36m<module>\u001b[0;34m\u001b[0m\n\u001b[1;32m     71\u001b[0m     \u001b[0;31m# Training and test\u001b[0m\u001b[0;34m\u001b[0m\u001b[0;34m\u001b[0m\u001b[0;34m\u001b[0m\u001b[0m\n\u001b[1;32m     72\u001b[0m     \u001b[0mtrain\u001b[0m\u001b[0;34m(\u001b[0m\u001b[0mmodels\u001b[0m\u001b[0;34m,\u001b[0m \u001b[0mcriterion\u001b[0m\u001b[0;34m,\u001b[0m \u001b[0moptimizers\u001b[0m\u001b[0;34m,\u001b[0m \u001b[0mschedulers\u001b[0m\u001b[0;34m,\u001b[0m \u001b[0mdataloaders\u001b[0m\u001b[0;34m,\u001b[0m \u001b[0mEPOCH\u001b[0m\u001b[0;34m,\u001b[0m \u001b[0mEPOCHL\u001b[0m\u001b[0;34m,\u001b[0m \u001b[0mvis\u001b[0m\u001b[0;34m,\u001b[0m \u001b[0mplot_data\u001b[0m\u001b[0;34m,\u001b[0m \u001b[0;36m0\u001b[0m\u001b[0;34m,\u001b[0m \u001b[0maccuracies\u001b[0m\u001b[0;34m)\u001b[0m\u001b[0;34m\u001b[0m\u001b[0;34m\u001b[0m\u001b[0m\n\u001b[0;32m---> 73\u001b[0;31m     \u001b[0macc\u001b[0m \u001b[0;34m=\u001b[0m \u001b[0mtest\u001b[0m\u001b[0;34m(\u001b[0m\u001b[0mmodels\u001b[0m\u001b[0;34m,\u001b[0m \u001b[0mdataloaders\u001b[0m\u001b[0;34m,\u001b[0m \u001b[0mmode\u001b[0m\u001b[0;34m=\u001b[0m\u001b[0;34m'test'\u001b[0m\u001b[0;34m)\u001b[0m\u001b[0;34m\u001b[0m\u001b[0;34m\u001b[0m\u001b[0m\n\u001b[0m\u001b[1;32m     74\u001b[0m     \u001b[0maccuracies\u001b[0m\u001b[0;34m.\u001b[0m\u001b[0mappend\u001b[0m\u001b[0;34m(\u001b[0m\u001b[0macc\u001b[0m\u001b[0;34m)\u001b[0m\u001b[0;34m\u001b[0m\u001b[0;34m\u001b[0m\u001b[0m\n\u001b[1;32m     75\u001b[0m     \u001b[0mprint\u001b[0m\u001b[0;34m(\u001b[0m\u001b[0;34m'Trial {}/{} || Cycle {}/{} || Label set size {}: Test acc {}'\u001b[0m\u001b[0;34m.\u001b[0m\u001b[0mformat\u001b[0m\u001b[0;34m(\u001b[0m\u001b[0mtrial\u001b[0m\u001b[0;34m+\u001b[0m\u001b[0;36m1\u001b[0m\u001b[0;34m,\u001b[0m \u001b[0mTRIALS\u001b[0m\u001b[0;34m,\u001b[0m \u001b[0mcycle\u001b[0m\u001b[0;34m+\u001b[0m\u001b[0;36m1\u001b[0m\u001b[0;34m,\u001b[0m \u001b[0mCYCLES\u001b[0m\u001b[0;34m,\u001b[0m \u001b[0mlen\u001b[0m\u001b[0;34m(\u001b[0m\u001b[0mcurrent_indices\u001b[0m\u001b[0;34m)\u001b[0m\u001b[0;34m,\u001b[0m \u001b[0macc\u001b[0m\u001b[0;34m)\u001b[0m\u001b[0;34m)\u001b[0m\u001b[0;34m\u001b[0m\u001b[0;34m\u001b[0m\u001b[0m\n",
      "\u001b[0;32m<ipython-input-22-f22fe11717d5>\u001b[0m in \u001b[0;36mtest\u001b[0;34m(models, dataloaders, mode)\u001b[0m\n\u001b[1;32m     14\u001b[0m             \u001b[0m_\u001b[0m\u001b[0;34m,\u001b[0m \u001b[0mpreds\u001b[0m \u001b[0;34m=\u001b[0m \u001b[0mtorch\u001b[0m\u001b[0;34m.\u001b[0m\u001b[0mmax\u001b[0m\u001b[0;34m(\u001b[0m\u001b[0mscores\u001b[0m\u001b[0;34m.\u001b[0m\u001b[0mdata\u001b[0m\u001b[0;34m,\u001b[0m \u001b[0;36m1\u001b[0m\u001b[0;34m)\u001b[0m\u001b[0;34m\u001b[0m\u001b[0;34m\u001b[0m\u001b[0m\n\u001b[1;32m     15\u001b[0m             \u001b[0mtotal\u001b[0m \u001b[0;34m+=\u001b[0m \u001b[0mlabels\u001b[0m\u001b[0;34m.\u001b[0m\u001b[0msize\u001b[0m\u001b[0;34m(\u001b[0m\u001b[0;36m0\u001b[0m\u001b[0;34m)\u001b[0m\u001b[0;34m\u001b[0m\u001b[0;34m\u001b[0m\u001b[0m\n\u001b[0;32m---> 16\u001b[0;31m             \u001b[0mcorrect\u001b[0m \u001b[0;34m+=\u001b[0m \u001b[0;34m(\u001b[0m\u001b[0mpreds\u001b[0m \u001b[0;34m==\u001b[0m \u001b[0mlabels\u001b[0m\u001b[0;34m)\u001b[0m\u001b[0;34m.\u001b[0m\u001b[0msum\u001b[0m\u001b[0;34m(\u001b[0m\u001b[0;34m)\u001b[0m\u001b[0;34m.\u001b[0m\u001b[0mitem\u001b[0m\u001b[0;34m(\u001b[0m\u001b[0;34m)\u001b[0m\u001b[0;34m\u001b[0m\u001b[0;34m\u001b[0m\u001b[0m\n\u001b[0m\u001b[1;32m     17\u001b[0m \u001b[0;34m\u001b[0m\u001b[0m\n\u001b[1;32m     18\u001b[0m     \u001b[0;32mreturn\u001b[0m \u001b[0;36m100\u001b[0m \u001b[0;34m*\u001b[0m \u001b[0mcorrect\u001b[0m \u001b[0;34m/\u001b[0m \u001b[0mtotal\u001b[0m\u001b[0;34m\u001b[0m\u001b[0;34m\u001b[0m\u001b[0m\n",
      "\u001b[0;31mRuntimeError\u001b[0m: The size of tensor a (16) must match the size of tensor b (101) at non-singleton dimension 1"
     ]
    }
   ],
   "source": [
    "##\n",
    "# Main\n",
    "# if __name__ == '__main__':\n",
    "# args = arguments.get_args()\n",
    "# os.environ['CUDA_VISIBLE_DEVICES'] = \"0\"\n",
    "# main(args)\n",
    "# vis = visdom.Visdom(server='http://localhost', port=9000)\n",
    "vis = None\n",
    "plot_data = {'X': [], 'Y': [], 'legend': ['Backbone Loss', 'Module Loss', 'Total Loss']}\n",
    "\n",
    "for trial in range(TRIALS):\n",
    "    # Initialize a labeled dataset by randomly sampling K=ADDENDUM=1,000 data points from the entire dataset.\n",
    "\n",
    "    all_indices = set(np.arange(NUM_TRAIN))\n",
    "    val_indices = random.sample(all_indices, 0)\n",
    "    all_indices = np.setdiff1d(list(all_indices), val_indices)\n",
    "\n",
    "    initial_indices = random.sample(list(all_indices), ADDENDUM)\n",
    "    f = open(\"./init_indice.pkl\", 'wb')\n",
    "    pickle.dump(initial_indices, f)\n",
    "    # indices = all_indices\n",
    "    # random.shuffle(indices)\n",
    "    # labeled_set = indices[:ADDENDUM]\n",
    "\n",
    "    # unlabeled_set = indices[ADDENDUM:]\n",
    "\n",
    "    current_indices = list(initial_indices)\n",
    "\n",
    "    train_loader = DataLoader(train_data, batch_size=BATCH, \n",
    "                                  sampler=SubsetRandomSampler(initial_indices), \n",
    "                                  pin_memory=True)\n",
    "    test_loader  = DataLoader(test_data, batch_size=BATCH)\n",
    "    val_loader = DataLoader(train_data, batch_size=BATCH, \n",
    "                              sampler=SubsetRandomSampler(val_indices), \n",
    "                              pin_memory=True)\n",
    "    dataloaders  = {'train': train_loader, 'test': test_loader, 'val': val_loader}\n",
    "\n",
    "    # Model\n",
    "    # resnet18    = resnet.ResNet18(num_classes=10).cuda()\n",
    "    # # loss_module = lossnet.LossNet().cuda()\n",
    "    # models      = {'backbone': resnet18}\n",
    "    # torch.backends.cudnn.benchmark = False\n",
    "\n",
    "    # Active learning cycles\n",
    "\n",
    "#         for cycle in range(CYCLES):\n",
    "    # Loss, criterion and scheduler (re)initialization\n",
    "\n",
    "    # Randomly sample 10000 unlabeled data points\n",
    "    # random.shuffle(unlabeled_set)\n",
    "    unlabeled_indices = np.setdiff1d(list(all_indices), current_indices)\n",
    "    # Create unlabeled dataloader for the unlabeled subset\n",
    "    unlabeled_loader = DataLoader(train_data, batch_size=BATCH, \n",
    "                                  sampler=SubsetSequentialSampler(unlabeled_indices), # more convenient if we maintain the order of subset\n",
    "                                  pin_memory=True)\n",
    "\n",
    "    resnet18    = resnet.ResNet18(num_classes=101).cuda()\n",
    "    # loss_module = lossnet.LossNet().cuda()\n",
    "    models      = {'backbone': resnet18}\n",
    "    criterion      = nn.CrossEntropyLoss()\n",
    "    optim_backbone = optim.SGD(models['backbone'].parameters(), lr=LR, \n",
    "                            momentum=MOMENTUM, weight_decay=WDECAY)\n",
    "    # optim_module   = optim.SGD(models['module'].parameters(), lr=LR, \n",
    "    #                         momentum=MOMENTUM, weight_decay=WDECAY)\n",
    "    sched_backbone = lr_scheduler.MultiStepLR(optim_backbone, milestones=MILESTONES)\n",
    "    # sched_module   = lr_scheduler.MultiStepLR(optim_module, milestones=MILESTONES)\n",
    "\n",
    "    optimizers = {'backbone': optim_backbone}\n",
    "    schedulers = {'backbone': sched_backbone}\n",
    "\n",
    "    # Training and test\n",
    "    train(models, criterion, optimizers, schedulers, dataloaders, EPOCH, EPOCHL, vis, plot_data, 0, accuracies)\n",
    "    acc = test(models, dataloaders, mode='test')\n",
    "    accuracies.append(acc)\n",
    "    print('Trial {}/{} || Cycle {}/{} || Label set size {}: Test acc {}'.format(trial+1, TRIALS, cycle+1, CYCLES, len(current_indices), acc))\n",
    "\n",
    "\n",
    "    #semi\n"
   ]
  },
  {
   "cell_type": "code",
   "execution_count": 7,
   "metadata": {},
   "outputs": [
    {
     "name": "stderr",
     "output_type": "stream",
     "text": [
      "\r",
      "  0%|          | 0/433 [00:00<?, ?it/s]"
     ]
    },
    {
     "name": "stdout",
     "output_type": "stream",
     "text": [
      "ResNet34(\n",
      "  (model): ResNet(\n",
      "    (conv1): Conv2d(3, 64, kernel_size=(7, 7), stride=(2, 2), padding=(3, 3), bias=False)\n",
      "    (bn1): BatchNorm2d(64, eps=1e-05, momentum=0.1, affine=True, track_running_stats=True)\n",
      "    (relu): ReLU(inplace)\n",
      "    (maxpool): MaxPool2d(kernel_size=3, stride=2, padding=1, dilation=1, ceil_mode=False)\n",
      "    (layer1): Sequential(\n",
      "      (0): BasicBlock(\n",
      "        (conv1): Conv2d(64, 64, kernel_size=(3, 3), stride=(1, 1), padding=(1, 1), bias=False)\n",
      "        (bn1): BatchNorm2d(64, eps=1e-05, momentum=0.1, affine=True, track_running_stats=True)\n",
      "        (relu): ReLU(inplace)\n",
      "        (conv2): Conv2d(64, 64, kernel_size=(3, 3), stride=(1, 1), padding=(1, 1), bias=False)\n",
      "        (bn2): BatchNorm2d(64, eps=1e-05, momentum=0.1, affine=True, track_running_stats=True)\n",
      "      )\n",
      "      (1): BasicBlock(\n",
      "        (conv1): Conv2d(64, 64, kernel_size=(3, 3), stride=(1, 1), padding=(1, 1), bias=False)\n",
      "        (bn1): BatchNorm2d(64, eps=1e-05, momentum=0.1, affine=True, track_running_stats=True)\n",
      "        (relu): ReLU(inplace)\n",
      "        (conv2): Conv2d(64, 64, kernel_size=(3, 3), stride=(1, 1), padding=(1, 1), bias=False)\n",
      "        (bn2): BatchNorm2d(64, eps=1e-05, momentum=0.1, affine=True, track_running_stats=True)\n",
      "      )\n",
      "      (2): BasicBlock(\n",
      "        (conv1): Conv2d(64, 64, kernel_size=(3, 3), stride=(1, 1), padding=(1, 1), bias=False)\n",
      "        (bn1): BatchNorm2d(64, eps=1e-05, momentum=0.1, affine=True, track_running_stats=True)\n",
      "        (relu): ReLU(inplace)\n",
      "        (conv2): Conv2d(64, 64, kernel_size=(3, 3), stride=(1, 1), padding=(1, 1), bias=False)\n",
      "        (bn2): BatchNorm2d(64, eps=1e-05, momentum=0.1, affine=True, track_running_stats=True)\n",
      "      )\n",
      "    )\n",
      "    (layer2): Sequential(\n",
      "      (0): BasicBlock(\n",
      "        (conv1): Conv2d(64, 128, kernel_size=(3, 3), stride=(2, 2), padding=(1, 1), bias=False)\n",
      "        (bn1): BatchNorm2d(128, eps=1e-05, momentum=0.1, affine=True, track_running_stats=True)\n",
      "        (relu): ReLU(inplace)\n",
      "        (conv2): Conv2d(128, 128, kernel_size=(3, 3), stride=(1, 1), padding=(1, 1), bias=False)\n",
      "        (bn2): BatchNorm2d(128, eps=1e-05, momentum=0.1, affine=True, track_running_stats=True)\n",
      "        (downsample): Sequential(\n",
      "          (0): Conv2d(64, 128, kernel_size=(1, 1), stride=(2, 2), bias=False)\n",
      "          (1): BatchNorm2d(128, eps=1e-05, momentum=0.1, affine=True, track_running_stats=True)\n",
      "        )\n",
      "      )\n",
      "      (1): BasicBlock(\n",
      "        (conv1): Conv2d(128, 128, kernel_size=(3, 3), stride=(1, 1), padding=(1, 1), bias=False)\n",
      "        (bn1): BatchNorm2d(128, eps=1e-05, momentum=0.1, affine=True, track_running_stats=True)\n",
      "        (relu): ReLU(inplace)\n",
      "        (conv2): Conv2d(128, 128, kernel_size=(3, 3), stride=(1, 1), padding=(1, 1), bias=False)\n",
      "        (bn2): BatchNorm2d(128, eps=1e-05, momentum=0.1, affine=True, track_running_stats=True)\n",
      "      )\n",
      "      (2): BasicBlock(\n",
      "        (conv1): Conv2d(128, 128, kernel_size=(3, 3), stride=(1, 1), padding=(1, 1), bias=False)\n",
      "        (bn1): BatchNorm2d(128, eps=1e-05, momentum=0.1, affine=True, track_running_stats=True)\n",
      "        (relu): ReLU(inplace)\n",
      "        (conv2): Conv2d(128, 128, kernel_size=(3, 3), stride=(1, 1), padding=(1, 1), bias=False)\n",
      "        (bn2): BatchNorm2d(128, eps=1e-05, momentum=0.1, affine=True, track_running_stats=True)\n",
      "      )\n",
      "      (3): BasicBlock(\n",
      "        (conv1): Conv2d(128, 128, kernel_size=(3, 3), stride=(1, 1), padding=(1, 1), bias=False)\n",
      "        (bn1): BatchNorm2d(128, eps=1e-05, momentum=0.1, affine=True, track_running_stats=True)\n",
      "        (relu): ReLU(inplace)\n",
      "        (conv2): Conv2d(128, 128, kernel_size=(3, 3), stride=(1, 1), padding=(1, 1), bias=False)\n",
      "        (bn2): BatchNorm2d(128, eps=1e-05, momentum=0.1, affine=True, track_running_stats=True)\n",
      "      )\n",
      "    )\n",
      "    (layer3): Sequential(\n",
      "      (0): BasicBlock(\n",
      "        (conv1): Conv2d(128, 256, kernel_size=(3, 3), stride=(2, 2), padding=(1, 1), bias=False)\n",
      "        (bn1): BatchNorm2d(256, eps=1e-05, momentum=0.1, affine=True, track_running_stats=True)\n",
      "        (relu): ReLU(inplace)\n",
      "        (conv2): Conv2d(256, 256, kernel_size=(3, 3), stride=(1, 1), padding=(1, 1), bias=False)\n",
      "        (bn2): BatchNorm2d(256, eps=1e-05, momentum=0.1, affine=True, track_running_stats=True)\n",
      "        (downsample): Sequential(\n",
      "          (0): Conv2d(128, 256, kernel_size=(1, 1), stride=(2, 2), bias=False)\n",
      "          (1): BatchNorm2d(256, eps=1e-05, momentum=0.1, affine=True, track_running_stats=True)\n",
      "        )\n",
      "      )\n",
      "      (1): BasicBlock(\n",
      "        (conv1): Conv2d(256, 256, kernel_size=(3, 3), stride=(1, 1), padding=(1, 1), bias=False)\n",
      "        (bn1): BatchNorm2d(256, eps=1e-05, momentum=0.1, affine=True, track_running_stats=True)\n",
      "        (relu): ReLU(inplace)\n",
      "        (conv2): Conv2d(256, 256, kernel_size=(3, 3), stride=(1, 1), padding=(1, 1), bias=False)\n",
      "        (bn2): BatchNorm2d(256, eps=1e-05, momentum=0.1, affine=True, track_running_stats=True)\n",
      "      )\n",
      "      (2): BasicBlock(\n",
      "        (conv1): Conv2d(256, 256, kernel_size=(3, 3), stride=(1, 1), padding=(1, 1), bias=False)\n",
      "        (bn1): BatchNorm2d(256, eps=1e-05, momentum=0.1, affine=True, track_running_stats=True)\n",
      "        (relu): ReLU(inplace)\n",
      "        (conv2): Conv2d(256, 256, kernel_size=(3, 3), stride=(1, 1), padding=(1, 1), bias=False)\n",
      "        (bn2): BatchNorm2d(256, eps=1e-05, momentum=0.1, affine=True, track_running_stats=True)\n",
      "      )\n",
      "      (3): BasicBlock(\n",
      "        (conv1): Conv2d(256, 256, kernel_size=(3, 3), stride=(1, 1), padding=(1, 1), bias=False)\n",
      "        (bn1): BatchNorm2d(256, eps=1e-05, momentum=0.1, affine=True, track_running_stats=True)\n",
      "        (relu): ReLU(inplace)\n",
      "        (conv2): Conv2d(256, 256, kernel_size=(3, 3), stride=(1, 1), padding=(1, 1), bias=False)\n",
      "        (bn2): BatchNorm2d(256, eps=1e-05, momentum=0.1, affine=True, track_running_stats=True)\n",
      "      )\n",
      "      (4): BasicBlock(\n",
      "        (conv1): Conv2d(256, 256, kernel_size=(3, 3), stride=(1, 1), padding=(1, 1), bias=False)\n",
      "        (bn1): BatchNorm2d(256, eps=1e-05, momentum=0.1, affine=True, track_running_stats=True)\n",
      "        (relu): ReLU(inplace)\n",
      "        (conv2): Conv2d(256, 256, kernel_size=(3, 3), stride=(1, 1), padding=(1, 1), bias=False)\n",
      "        (bn2): BatchNorm2d(256, eps=1e-05, momentum=0.1, affine=True, track_running_stats=True)\n",
      "      )\n",
      "      (5): BasicBlock(\n",
      "        (conv1): Conv2d(256, 256, kernel_size=(3, 3), stride=(1, 1), padding=(1, 1), bias=False)\n",
      "        (bn1): BatchNorm2d(256, eps=1e-05, momentum=0.1, affine=True, track_running_stats=True)\n",
      "        (relu): ReLU(inplace)\n",
      "        (conv2): Conv2d(256, 256, kernel_size=(3, 3), stride=(1, 1), padding=(1, 1), bias=False)\n",
      "        (bn2): BatchNorm2d(256, eps=1e-05, momentum=0.1, affine=True, track_running_stats=True)\n",
      "      )\n",
      "    )\n",
      "    (layer4): Sequential(\n",
      "      (0): BasicBlock(\n",
      "        (conv1): Conv2d(256, 512, kernel_size=(3, 3), stride=(2, 2), padding=(1, 1), bias=False)\n",
      "        (bn1): BatchNorm2d(512, eps=1e-05, momentum=0.1, affine=True, track_running_stats=True)\n",
      "        (relu): ReLU(inplace)\n",
      "        (conv2): Conv2d(512, 512, kernel_size=(3, 3), stride=(1, 1), padding=(1, 1), bias=False)\n",
      "        (bn2): BatchNorm2d(512, eps=1e-05, momentum=0.1, affine=True, track_running_stats=True)\n",
      "        (downsample): Sequential(\n",
      "          (0): Conv2d(256, 512, kernel_size=(1, 1), stride=(2, 2), bias=False)\n",
      "          (1): BatchNorm2d(512, eps=1e-05, momentum=0.1, affine=True, track_running_stats=True)\n",
      "        )\n",
      "      )\n",
      "      (1): BasicBlock(\n",
      "        (conv1): Conv2d(512, 512, kernel_size=(3, 3), stride=(1, 1), padding=(1, 1), bias=False)\n",
      "        (bn1): BatchNorm2d(512, eps=1e-05, momentum=0.1, affine=True, track_running_stats=True)\n",
      "        (relu): ReLU(inplace)\n",
      "        (conv2): Conv2d(512, 512, kernel_size=(3, 3), stride=(1, 1), padding=(1, 1), bias=False)\n",
      "        (bn2): BatchNorm2d(512, eps=1e-05, momentum=0.1, affine=True, track_running_stats=True)\n",
      "      )\n",
      "      (2): BasicBlock(\n",
      "        (conv1): Conv2d(512, 512, kernel_size=(3, 3), stride=(1, 1), padding=(1, 1), bias=False)\n",
      "        (bn1): BatchNorm2d(512, eps=1e-05, momentum=0.1, affine=True, track_running_stats=True)\n",
      "        (relu): ReLU(inplace)\n",
      "        (conv2): Conv2d(512, 512, kernel_size=(3, 3), stride=(1, 1), padding=(1, 1), bias=False)\n",
      "        (bn2): BatchNorm2d(512, eps=1e-05, momentum=0.1, affine=True, track_running_stats=True)\n",
      "      )\n",
      "    )\n",
      "    (avgpool): AdaptiveAvgPool2d(output_size=(1, 1))\n",
      "    (fc): None\n",
      "    (last_linear): Linear(in_features=512, out_features=1000, bias=True)\n",
      "  )\n",
      "  (l0): Linear(in_features=512, out_features=101, bias=True)\n",
      "  (dropout): Dropout2d(p=0.4)\n",
      ")\n",
      "Epoch 1 of 1\n",
      "Training\n"
     ]
    },
    {
     "name": "stderr",
     "output_type": "stream",
     "text": [
      "434it [08:42,  1.20s/it]                         "
     ]
    },
    {
     "name": "stdout",
     "output_type": "stream",
     "text": [
      "Train Loss: 0.2185, Train Acc: 26.55\n"
     ]
    },
    {
     "name": "stderr",
     "output_type": "stream",
     "text": [
      "\n"
     ]
    },
    {
     "ename": "NameError",
     "evalue": "name 'valloader' is not defined",
     "output_type": "error",
     "traceback": [
      "\u001b[0;31m---------------------------------------------------------------------------\u001b[0m",
      "\u001b[0;31mNameError\u001b[0m                                 Traceback (most recent call last)",
      "\u001b[0;32m<ipython-input-7-2d98d3eb4b7d>\u001b[0m in \u001b[0;36m<module>\u001b[0;34m\u001b[0m\n\u001b[1;32m     89\u001b[0m     \u001b[0mprint\u001b[0m\u001b[0;34m(\u001b[0m\u001b[0;34mf\"Epoch {epoch+1} of {1}\"\u001b[0m\u001b[0;34m)\u001b[0m\u001b[0;34m\u001b[0m\u001b[0;34m\u001b[0m\u001b[0m\n\u001b[1;32m     90\u001b[0m     \u001b[0mtrain_epoch_loss\u001b[0m\u001b[0;34m,\u001b[0m \u001b[0mtrain_epoch_accuracy\u001b[0m \u001b[0;34m=\u001b[0m \u001b[0mfit\u001b[0m\u001b[0;34m(\u001b[0m\u001b[0mmodel\u001b[0m\u001b[0;34m,\u001b[0m \u001b[0mtrainloader\u001b[0m\u001b[0;34m)\u001b[0m\u001b[0;34m\u001b[0m\u001b[0;34m\u001b[0m\u001b[0m\n\u001b[0;32m---> 91\u001b[0;31m     \u001b[0mval_epoch_loss\u001b[0m\u001b[0;34m,\u001b[0m \u001b[0mval_epoch_accuracy\u001b[0m \u001b[0;34m=\u001b[0m \u001b[0mvalidate\u001b[0m\u001b[0;34m(\u001b[0m\u001b[0mmodel\u001b[0m\u001b[0;34m,\u001b[0m \u001b[0mvalloader\u001b[0m\u001b[0;34m)\u001b[0m\u001b[0;34m\u001b[0m\u001b[0;34m\u001b[0m\u001b[0m\n\u001b[0m\u001b[1;32m     92\u001b[0m     \u001b[0mtrain_loss\u001b[0m\u001b[0;34m.\u001b[0m\u001b[0mappend\u001b[0m\u001b[0;34m(\u001b[0m\u001b[0mtrain_epoch_loss\u001b[0m\u001b[0;34m)\u001b[0m\u001b[0;34m\u001b[0m\u001b[0;34m\u001b[0m\u001b[0m\n\u001b[1;32m     93\u001b[0m     \u001b[0mtrain_accuracy\u001b[0m\u001b[0;34m.\u001b[0m\u001b[0mappend\u001b[0m\u001b[0;34m(\u001b[0m\u001b[0mtrain_epoch_accuracy\u001b[0m\u001b[0;34m)\u001b[0m\u001b[0;34m\u001b[0m\u001b[0;34m\u001b[0m\u001b[0m\n",
      "\u001b[0;31mNameError\u001b[0m: name 'valloader' is not defined"
     ]
    }
   ],
   "source": [
    "trainloader = DataLoader(train_data, batch_size=16, shuffle=True)\n",
    "# valloader = DataLoader(val_data, batch_size=16, shuffle=True)\n",
    "testloader = DataLoader(test_data, batch_size=16, shuffle=False)\n",
    "\n",
    "device = \"cuda:0\"\n",
    "class ResNet34(nn.Module):\n",
    "    def __init__(self, pretrained):\n",
    "        super(ResNet34, self).__init__()\n",
    "        if pretrained is True:\n",
    "            self.model = pretrainedmodels.__dict__['resnet34'](pretrained='imagenet')\n",
    "        else:\n",
    "            self.model = pretrainedmodels.__dict__['resnet34'](pretrained=None)\n",
    "        \n",
    "        self.l0 = nn.Linear(512, len(lb.classes_))\n",
    "        self.dropout = nn.Dropout2d(0.4)\n",
    "\n",
    "    def forward(self, x):\n",
    "        # get the batch size only, ignore (c, h, w)\n",
    "        batch, _, _, _ = x.shape\n",
    "        x = self.model.features(x)\n",
    "        x = F.adaptive_avg_pool2d(x, 1).reshape(batch, -1)\n",
    "        x = self.dropout(x)\n",
    "        l0 = self.l0(x)\n",
    "        return l0\n",
    "\n",
    "model = ResNet34(pretrained=False).to(device)\n",
    "print(model)\n",
    "\n",
    "# optimizer\n",
    "optimizer = optim.Adam(model.parameters(), lr=1e-4)\n",
    "# loss function\n",
    "criterion = nn.CrossEntropyLoss()\n",
    "\n",
    "# print(f\"Training on {len(train_data)} examples, validating on {len(val_data)} examples\")\n",
    "\n",
    "#validation function\n",
    "def validate(model, dataloader):\n",
    "    print('Validating')\n",
    "    model.eval()\n",
    "    val_running_loss = 0.0\n",
    "    val_running_correct = 0\n",
    "    with torch.no_grad():\n",
    "        for i, data in tqdm(enumerate(dataloader), total=int(len(val_data)/dataloader.batch_size)):\n",
    "            data, target = data[0].to(device), data[1].to(device)\n",
    "            outputs = model(data)\n",
    "            loss = criterion(outputs, torch.max(target, 1)[1])\n",
    "            \n",
    "            val_running_loss += loss.item()\n",
    "            _, preds = torch.max(outputs.data, 1)\n",
    "            val_running_correct += (preds == torch.max(target, 1)[1]).sum().item()\n",
    "        \n",
    "        val_loss = val_running_loss/len(dataloader.dataset)\n",
    "        val_accuracy = 100. * val_running_correct/len(dataloader.dataset)\n",
    "        print(f'Val Loss: {val_loss:.4f}, Val Acc: {val_accuracy:.2f}')\n",
    "        \n",
    "        return val_loss, val_accuracy\n",
    "\n",
    "# training function\n",
    "def fit(model, dataloader):\n",
    "    print('Training')\n",
    "    model.train()\n",
    "    train_running_loss = 0.0\n",
    "    train_running_correct = 0\n",
    "    for i, data in tqdm(enumerate(dataloader), total=int(len(train_data)/dataloader.batch_size)):\n",
    "        data, target = data[0].to(device), data[1].to(device)\n",
    "        optimizer.zero_grad()\n",
    "        outputs = model(data)\n",
    "        # print(outputs)\n",
    "        # print(torch.max(target, 1)[1])\n",
    "        loss = criterion(outputs, torch.max(target, 1)[1])\n",
    "        train_running_loss += loss.item()\n",
    "        _, preds = torch.max(outputs.data, 1)\n",
    "        train_running_correct += (preds == torch.max(target, 1)[1]).sum().item()\n",
    "        loss.backward()\n",
    "        optimizer.step()\n",
    "        \n",
    "    train_loss = train_running_loss/len(dataloader.dataset)\n",
    "    train_accuracy = 100. * train_running_correct/len(dataloader.dataset)\n",
    "    \n",
    "    print(f\"Train Loss: {train_loss:.4f}, Train Acc: {train_accuracy:.2f}\")\n",
    "    \n",
    "    return train_loss, train_accuracy\n",
    "\n",
    "\n",
    "train_loss , train_accuracy = [], []\n",
    "val_loss , val_accuracy = [], []\n",
    "start = time.time()\n",
    "for epoch in range(1):\n",
    "    print(f\"Epoch {epoch+1} of {1}\")\n",
    "    train_epoch_loss, train_epoch_accuracy = fit(model, trainloader)\n",
    "    val_epoch_loss, val_epoch_accuracy = validate(model, valloader)\n",
    "    train_loss.append(train_epoch_loss)\n",
    "    train_accuracy.append(train_epoch_accuracy)\n",
    "    val_loss.append(val_epoch_loss)\n",
    "    val_accuracy.append(val_epoch_accuracy)\n",
    "end = time.time()\n",
    "\n",
    "print((end-start)/60, 'minutes')"
   ]
  },
  {
   "cell_type": "code",
   "execution_count": 10,
   "metadata": {},
   "outputs": [],
   "source": [
    "cifar10_train = Caltech101('./caltech', download=False, transform=train_transform)"
   ]
  },
  {
   "cell_type": "code",
   "execution_count": 11,
   "metadata": {},
   "outputs": [],
   "source": [
    "test_loader  = DataLoader(cifar10_train, batch_size=BATCH)"
   ]
  },
  {
   "cell_type": "code",
   "execution_count": 12,
   "metadata": {},
   "outputs": [],
   "source": [
    "trainloader = DataLoader(cifar10_train, batch_size=16, shuffle=True)\n",
    "# valloader = DataLoader(val_data, batch_size=16, shuffle=True)\n",
    "testloader = DataLoader(cifar10_train, batch_size=16, shuffle=False)"
   ]
  },
  {
   "cell_type": "code",
   "execution_count": 13,
   "metadata": {},
   "outputs": [
    {
     "name": "stderr",
     "output_type": "stream",
     "text": [
      "\r",
      "  0%|          | 0/543 [00:00<?, ?it/s]"
     ]
    },
    {
     "name": "stdout",
     "output_type": "stream",
     "text": [
      "ResNet34(\n",
      "  (model): ResNet(\n",
      "    (conv1): Conv2d(3, 64, kernel_size=(7, 7), stride=(2, 2), padding=(3, 3), bias=False)\n",
      "    (bn1): BatchNorm2d(64, eps=1e-05, momentum=0.1, affine=True, track_running_stats=True)\n",
      "    (relu): ReLU(inplace)\n",
      "    (maxpool): MaxPool2d(kernel_size=3, stride=2, padding=1, dilation=1, ceil_mode=False)\n",
      "    (layer1): Sequential(\n",
      "      (0): BasicBlock(\n",
      "        (conv1): Conv2d(64, 64, kernel_size=(3, 3), stride=(1, 1), padding=(1, 1), bias=False)\n",
      "        (bn1): BatchNorm2d(64, eps=1e-05, momentum=0.1, affine=True, track_running_stats=True)\n",
      "        (relu): ReLU(inplace)\n",
      "        (conv2): Conv2d(64, 64, kernel_size=(3, 3), stride=(1, 1), padding=(1, 1), bias=False)\n",
      "        (bn2): BatchNorm2d(64, eps=1e-05, momentum=0.1, affine=True, track_running_stats=True)\n",
      "      )\n",
      "      (1): BasicBlock(\n",
      "        (conv1): Conv2d(64, 64, kernel_size=(3, 3), stride=(1, 1), padding=(1, 1), bias=False)\n",
      "        (bn1): BatchNorm2d(64, eps=1e-05, momentum=0.1, affine=True, track_running_stats=True)\n",
      "        (relu): ReLU(inplace)\n",
      "        (conv2): Conv2d(64, 64, kernel_size=(3, 3), stride=(1, 1), padding=(1, 1), bias=False)\n",
      "        (bn2): BatchNorm2d(64, eps=1e-05, momentum=0.1, affine=True, track_running_stats=True)\n",
      "      )\n",
      "      (2): BasicBlock(\n",
      "        (conv1): Conv2d(64, 64, kernel_size=(3, 3), stride=(1, 1), padding=(1, 1), bias=False)\n",
      "        (bn1): BatchNorm2d(64, eps=1e-05, momentum=0.1, affine=True, track_running_stats=True)\n",
      "        (relu): ReLU(inplace)\n",
      "        (conv2): Conv2d(64, 64, kernel_size=(3, 3), stride=(1, 1), padding=(1, 1), bias=False)\n",
      "        (bn2): BatchNorm2d(64, eps=1e-05, momentum=0.1, affine=True, track_running_stats=True)\n",
      "      )\n",
      "    )\n",
      "    (layer2): Sequential(\n",
      "      (0): BasicBlock(\n",
      "        (conv1): Conv2d(64, 128, kernel_size=(3, 3), stride=(2, 2), padding=(1, 1), bias=False)\n",
      "        (bn1): BatchNorm2d(128, eps=1e-05, momentum=0.1, affine=True, track_running_stats=True)\n",
      "        (relu): ReLU(inplace)\n",
      "        (conv2): Conv2d(128, 128, kernel_size=(3, 3), stride=(1, 1), padding=(1, 1), bias=False)\n",
      "        (bn2): BatchNorm2d(128, eps=1e-05, momentum=0.1, affine=True, track_running_stats=True)\n",
      "        (downsample): Sequential(\n",
      "          (0): Conv2d(64, 128, kernel_size=(1, 1), stride=(2, 2), bias=False)\n",
      "          (1): BatchNorm2d(128, eps=1e-05, momentum=0.1, affine=True, track_running_stats=True)\n",
      "        )\n",
      "      )\n",
      "      (1): BasicBlock(\n",
      "        (conv1): Conv2d(128, 128, kernel_size=(3, 3), stride=(1, 1), padding=(1, 1), bias=False)\n",
      "        (bn1): BatchNorm2d(128, eps=1e-05, momentum=0.1, affine=True, track_running_stats=True)\n",
      "        (relu): ReLU(inplace)\n",
      "        (conv2): Conv2d(128, 128, kernel_size=(3, 3), stride=(1, 1), padding=(1, 1), bias=False)\n",
      "        (bn2): BatchNorm2d(128, eps=1e-05, momentum=0.1, affine=True, track_running_stats=True)\n",
      "      )\n",
      "      (2): BasicBlock(\n",
      "        (conv1): Conv2d(128, 128, kernel_size=(3, 3), stride=(1, 1), padding=(1, 1), bias=False)\n",
      "        (bn1): BatchNorm2d(128, eps=1e-05, momentum=0.1, affine=True, track_running_stats=True)\n",
      "        (relu): ReLU(inplace)\n",
      "        (conv2): Conv2d(128, 128, kernel_size=(3, 3), stride=(1, 1), padding=(1, 1), bias=False)\n",
      "        (bn2): BatchNorm2d(128, eps=1e-05, momentum=0.1, affine=True, track_running_stats=True)\n",
      "      )\n",
      "      (3): BasicBlock(\n",
      "        (conv1): Conv2d(128, 128, kernel_size=(3, 3), stride=(1, 1), padding=(1, 1), bias=False)\n",
      "        (bn1): BatchNorm2d(128, eps=1e-05, momentum=0.1, affine=True, track_running_stats=True)\n",
      "        (relu): ReLU(inplace)\n",
      "        (conv2): Conv2d(128, 128, kernel_size=(3, 3), stride=(1, 1), padding=(1, 1), bias=False)\n",
      "        (bn2): BatchNorm2d(128, eps=1e-05, momentum=0.1, affine=True, track_running_stats=True)\n",
      "      )\n",
      "    )\n",
      "    (layer3): Sequential(\n",
      "      (0): BasicBlock(\n",
      "        (conv1): Conv2d(128, 256, kernel_size=(3, 3), stride=(2, 2), padding=(1, 1), bias=False)\n",
      "        (bn1): BatchNorm2d(256, eps=1e-05, momentum=0.1, affine=True, track_running_stats=True)\n",
      "        (relu): ReLU(inplace)\n",
      "        (conv2): Conv2d(256, 256, kernel_size=(3, 3), stride=(1, 1), padding=(1, 1), bias=False)\n",
      "        (bn2): BatchNorm2d(256, eps=1e-05, momentum=0.1, affine=True, track_running_stats=True)\n",
      "        (downsample): Sequential(\n",
      "          (0): Conv2d(128, 256, kernel_size=(1, 1), stride=(2, 2), bias=False)\n",
      "          (1): BatchNorm2d(256, eps=1e-05, momentum=0.1, affine=True, track_running_stats=True)\n",
      "        )\n",
      "      )\n",
      "      (1): BasicBlock(\n",
      "        (conv1): Conv2d(256, 256, kernel_size=(3, 3), stride=(1, 1), padding=(1, 1), bias=False)\n",
      "        (bn1): BatchNorm2d(256, eps=1e-05, momentum=0.1, affine=True, track_running_stats=True)\n",
      "        (relu): ReLU(inplace)\n",
      "        (conv2): Conv2d(256, 256, kernel_size=(3, 3), stride=(1, 1), padding=(1, 1), bias=False)\n",
      "        (bn2): BatchNorm2d(256, eps=1e-05, momentum=0.1, affine=True, track_running_stats=True)\n",
      "      )\n",
      "      (2): BasicBlock(\n",
      "        (conv1): Conv2d(256, 256, kernel_size=(3, 3), stride=(1, 1), padding=(1, 1), bias=False)\n",
      "        (bn1): BatchNorm2d(256, eps=1e-05, momentum=0.1, affine=True, track_running_stats=True)\n",
      "        (relu): ReLU(inplace)\n",
      "        (conv2): Conv2d(256, 256, kernel_size=(3, 3), stride=(1, 1), padding=(1, 1), bias=False)\n",
      "        (bn2): BatchNorm2d(256, eps=1e-05, momentum=0.1, affine=True, track_running_stats=True)\n",
      "      )\n",
      "      (3): BasicBlock(\n",
      "        (conv1): Conv2d(256, 256, kernel_size=(3, 3), stride=(1, 1), padding=(1, 1), bias=False)\n",
      "        (bn1): BatchNorm2d(256, eps=1e-05, momentum=0.1, affine=True, track_running_stats=True)\n",
      "        (relu): ReLU(inplace)\n",
      "        (conv2): Conv2d(256, 256, kernel_size=(3, 3), stride=(1, 1), padding=(1, 1), bias=False)\n",
      "        (bn2): BatchNorm2d(256, eps=1e-05, momentum=0.1, affine=True, track_running_stats=True)\n",
      "      )\n",
      "      (4): BasicBlock(\n",
      "        (conv1): Conv2d(256, 256, kernel_size=(3, 3), stride=(1, 1), padding=(1, 1), bias=False)\n",
      "        (bn1): BatchNorm2d(256, eps=1e-05, momentum=0.1, affine=True, track_running_stats=True)\n",
      "        (relu): ReLU(inplace)\n",
      "        (conv2): Conv2d(256, 256, kernel_size=(3, 3), stride=(1, 1), padding=(1, 1), bias=False)\n",
      "        (bn2): BatchNorm2d(256, eps=1e-05, momentum=0.1, affine=True, track_running_stats=True)\n",
      "      )\n",
      "      (5): BasicBlock(\n",
      "        (conv1): Conv2d(256, 256, kernel_size=(3, 3), stride=(1, 1), padding=(1, 1), bias=False)\n",
      "        (bn1): BatchNorm2d(256, eps=1e-05, momentum=0.1, affine=True, track_running_stats=True)\n",
      "        (relu): ReLU(inplace)\n",
      "        (conv2): Conv2d(256, 256, kernel_size=(3, 3), stride=(1, 1), padding=(1, 1), bias=False)\n",
      "        (bn2): BatchNorm2d(256, eps=1e-05, momentum=0.1, affine=True, track_running_stats=True)\n",
      "      )\n",
      "    )\n",
      "    (layer4): Sequential(\n",
      "      (0): BasicBlock(\n",
      "        (conv1): Conv2d(256, 512, kernel_size=(3, 3), stride=(2, 2), padding=(1, 1), bias=False)\n",
      "        (bn1): BatchNorm2d(512, eps=1e-05, momentum=0.1, affine=True, track_running_stats=True)\n",
      "        (relu): ReLU(inplace)\n",
      "        (conv2): Conv2d(512, 512, kernel_size=(3, 3), stride=(1, 1), padding=(1, 1), bias=False)\n",
      "        (bn2): BatchNorm2d(512, eps=1e-05, momentum=0.1, affine=True, track_running_stats=True)\n",
      "        (downsample): Sequential(\n",
      "          (0): Conv2d(256, 512, kernel_size=(1, 1), stride=(2, 2), bias=False)\n",
      "          (1): BatchNorm2d(512, eps=1e-05, momentum=0.1, affine=True, track_running_stats=True)\n",
      "        )\n",
      "      )\n",
      "      (1): BasicBlock(\n",
      "        (conv1): Conv2d(512, 512, kernel_size=(3, 3), stride=(1, 1), padding=(1, 1), bias=False)\n",
      "        (bn1): BatchNorm2d(512, eps=1e-05, momentum=0.1, affine=True, track_running_stats=True)\n",
      "        (relu): ReLU(inplace)\n",
      "        (conv2): Conv2d(512, 512, kernel_size=(3, 3), stride=(1, 1), padding=(1, 1), bias=False)\n",
      "        (bn2): BatchNorm2d(512, eps=1e-05, momentum=0.1, affine=True, track_running_stats=True)\n",
      "      )\n",
      "      (2): BasicBlock(\n",
      "        (conv1): Conv2d(512, 512, kernel_size=(3, 3), stride=(1, 1), padding=(1, 1), bias=False)\n",
      "        (bn1): BatchNorm2d(512, eps=1e-05, momentum=0.1, affine=True, track_running_stats=True)\n",
      "        (relu): ReLU(inplace)\n",
      "        (conv2): Conv2d(512, 512, kernel_size=(3, 3), stride=(1, 1), padding=(1, 1), bias=False)\n",
      "        (bn2): BatchNorm2d(512, eps=1e-05, momentum=0.1, affine=True, track_running_stats=True)\n",
      "      )\n",
      "    )\n",
      "    (avgpool): AdaptiveAvgPool2d(output_size=(1, 1))\n",
      "    (fc): None\n",
      "    (last_linear): Linear(in_features=512, out_features=1000, bias=True)\n",
      "  )\n",
      "  (l0): Linear(in_features=512, out_features=101, bias=True)\n",
      "  (dropout): Dropout2d(p=0.4)\n",
      ")\n",
      "Epoch 1 of 1\n",
      "Training\n"
     ]
    },
    {
     "ename": "TypeError",
     "evalue": "pic should be Tensor or ndarray. Got <class 'PIL.Image.Image'>.",
     "output_type": "error",
     "traceback": [
      "\u001b[0;31m---------------------------------------------------------------------------\u001b[0m",
      "\u001b[0;31mTypeError\u001b[0m                                 Traceback (most recent call last)",
      "\u001b[0;32m<ipython-input-13-a3ef81213660>\u001b[0m in \u001b[0;36m<module>\u001b[0;34m\u001b[0m\n\u001b[1;32m     84\u001b[0m \u001b[0;32mfor\u001b[0m \u001b[0mepoch\u001b[0m \u001b[0;32min\u001b[0m \u001b[0mrange\u001b[0m\u001b[0;34m(\u001b[0m\u001b[0;36m1\u001b[0m\u001b[0;34m)\u001b[0m\u001b[0;34m:\u001b[0m\u001b[0;34m\u001b[0m\u001b[0;34m\u001b[0m\u001b[0m\n\u001b[1;32m     85\u001b[0m     \u001b[0mprint\u001b[0m\u001b[0;34m(\u001b[0m\u001b[0;34mf\"Epoch {epoch+1} of {1}\"\u001b[0m\u001b[0;34m)\u001b[0m\u001b[0;34m\u001b[0m\u001b[0;34m\u001b[0m\u001b[0m\n\u001b[0;32m---> 86\u001b[0;31m     \u001b[0mtrain_epoch_loss\u001b[0m\u001b[0;34m,\u001b[0m \u001b[0mtrain_epoch_accuracy\u001b[0m \u001b[0;34m=\u001b[0m \u001b[0mfit\u001b[0m\u001b[0;34m(\u001b[0m\u001b[0mmodel\u001b[0m\u001b[0;34m,\u001b[0m \u001b[0mtrainloader\u001b[0m\u001b[0;34m)\u001b[0m\u001b[0;34m\u001b[0m\u001b[0;34m\u001b[0m\u001b[0m\n\u001b[0m\u001b[1;32m     87\u001b[0m     \u001b[0mval_epoch_loss\u001b[0m\u001b[0;34m,\u001b[0m \u001b[0mval_epoch_accuracy\u001b[0m \u001b[0;34m=\u001b[0m \u001b[0mvalidate\u001b[0m\u001b[0;34m(\u001b[0m\u001b[0mmodel\u001b[0m\u001b[0;34m,\u001b[0m \u001b[0mvalloader\u001b[0m\u001b[0;34m)\u001b[0m\u001b[0;34m\u001b[0m\u001b[0;34m\u001b[0m\u001b[0m\n\u001b[1;32m     88\u001b[0m     \u001b[0mtrain_loss\u001b[0m\u001b[0;34m.\u001b[0m\u001b[0mappend\u001b[0m\u001b[0;34m(\u001b[0m\u001b[0mtrain_epoch_loss\u001b[0m\u001b[0;34m)\u001b[0m\u001b[0;34m\u001b[0m\u001b[0;34m\u001b[0m\u001b[0m\n",
      "\u001b[0;32m<ipython-input-13-a3ef81213660>\u001b[0m in \u001b[0;36mfit\u001b[0;34m(model, dataloader)\u001b[0m\n\u001b[1;32m     58\u001b[0m     \u001b[0mtrain_running_loss\u001b[0m \u001b[0;34m=\u001b[0m \u001b[0;36m0.0\u001b[0m\u001b[0;34m\u001b[0m\u001b[0;34m\u001b[0m\u001b[0m\n\u001b[1;32m     59\u001b[0m     \u001b[0mtrain_running_correct\u001b[0m \u001b[0;34m=\u001b[0m \u001b[0;36m0\u001b[0m\u001b[0;34m\u001b[0m\u001b[0;34m\u001b[0m\u001b[0m\n\u001b[0;32m---> 60\u001b[0;31m     \u001b[0;32mfor\u001b[0m \u001b[0mdata\u001b[0m \u001b[0;32min\u001b[0m \u001b[0mtqdm\u001b[0m\u001b[0;34m(\u001b[0m\u001b[0mdataloader\u001b[0m\u001b[0;34m,\u001b[0m \u001b[0mleave\u001b[0m\u001b[0;34m=\u001b[0m\u001b[0;32mFalse\u001b[0m\u001b[0;34m,\u001b[0m \u001b[0mtotal\u001b[0m\u001b[0;34m=\u001b[0m\u001b[0mlen\u001b[0m\u001b[0;34m(\u001b[0m\u001b[0mdataloader\u001b[0m\u001b[0;34m)\u001b[0m\u001b[0;34m)\u001b[0m\u001b[0;34m:\u001b[0m\u001b[0;34m\u001b[0m\u001b[0;34m\u001b[0m\u001b[0m\n\u001b[0m\u001b[1;32m     61\u001b[0m         \u001b[0mdata\u001b[0m\u001b[0;34m,\u001b[0m \u001b[0mtarget\u001b[0m \u001b[0;34m=\u001b[0m \u001b[0mdata\u001b[0m\u001b[0;34m[\u001b[0m\u001b[0;36m0\u001b[0m\u001b[0;34m]\u001b[0m\u001b[0;34m.\u001b[0m\u001b[0mto\u001b[0m\u001b[0;34m(\u001b[0m\u001b[0mdevice\u001b[0m\u001b[0;34m)\u001b[0m\u001b[0;34m,\u001b[0m \u001b[0mdata\u001b[0m\u001b[0;34m[\u001b[0m\u001b[0;36m1\u001b[0m\u001b[0;34m]\u001b[0m\u001b[0;34m.\u001b[0m\u001b[0mto\u001b[0m\u001b[0;34m(\u001b[0m\u001b[0mdevice\u001b[0m\u001b[0;34m)\u001b[0m\u001b[0;34m\u001b[0m\u001b[0;34m\u001b[0m\u001b[0m\n\u001b[1;32m     62\u001b[0m         \u001b[0moptimizer\u001b[0m\u001b[0;34m.\u001b[0m\u001b[0mzero_grad\u001b[0m\u001b[0;34m(\u001b[0m\u001b[0;34m)\u001b[0m\u001b[0;34m\u001b[0m\u001b[0;34m\u001b[0m\u001b[0m\n",
      "\u001b[0;32m~/.local/lib/python3.6/site-packages/tqdm/std.py\u001b[0m in \u001b[0;36m__iter__\u001b[0;34m(self)\u001b[0m\n\u001b[1;32m   1091\u001b[0m                 fp_write=getattr(self.fp, 'write', sys.stderr.write))\n\u001b[1;32m   1092\u001b[0m \u001b[0;34m\u001b[0m\u001b[0m\n\u001b[0;32m-> 1093\u001b[0;31m         \u001b[0;32mfor\u001b[0m \u001b[0mobj\u001b[0m \u001b[0;32min\u001b[0m \u001b[0miterable\u001b[0m\u001b[0;34m:\u001b[0m\u001b[0;34m\u001b[0m\u001b[0;34m\u001b[0m\u001b[0m\n\u001b[0m\u001b[1;32m   1094\u001b[0m             \u001b[0;32myield\u001b[0m \u001b[0mobj\u001b[0m\u001b[0;34m\u001b[0m\u001b[0;34m\u001b[0m\u001b[0m\n\u001b[1;32m   1095\u001b[0m             \u001b[0;31m# Update and possibly print the progressbar.\u001b[0m\u001b[0;34m\u001b[0m\u001b[0;34m\u001b[0m\u001b[0;34m\u001b[0m\u001b[0m\n",
      "\u001b[0;32m/usr/local/lib/python3.6/dist-packages/torch/utils/data/dataloader.py\u001b[0m in \u001b[0;36m__next__\u001b[0;34m(self)\u001b[0m\n\u001b[1;32m    558\u001b[0m         \u001b[0;32mif\u001b[0m \u001b[0mself\u001b[0m\u001b[0;34m.\u001b[0m\u001b[0mnum_workers\u001b[0m \u001b[0;34m==\u001b[0m \u001b[0;36m0\u001b[0m\u001b[0;34m:\u001b[0m  \u001b[0;31m# same-process loading\u001b[0m\u001b[0;34m\u001b[0m\u001b[0;34m\u001b[0m\u001b[0m\n\u001b[1;32m    559\u001b[0m             \u001b[0mindices\u001b[0m \u001b[0;34m=\u001b[0m \u001b[0mnext\u001b[0m\u001b[0;34m(\u001b[0m\u001b[0mself\u001b[0m\u001b[0;34m.\u001b[0m\u001b[0msample_iter\u001b[0m\u001b[0;34m)\u001b[0m  \u001b[0;31m# may raise StopIteration\u001b[0m\u001b[0;34m\u001b[0m\u001b[0;34m\u001b[0m\u001b[0m\n\u001b[0;32m--> 560\u001b[0;31m             \u001b[0mbatch\u001b[0m \u001b[0;34m=\u001b[0m \u001b[0mself\u001b[0m\u001b[0;34m.\u001b[0m\u001b[0mcollate_fn\u001b[0m\u001b[0;34m(\u001b[0m\u001b[0;34m[\u001b[0m\u001b[0mself\u001b[0m\u001b[0;34m.\u001b[0m\u001b[0mdataset\u001b[0m\u001b[0;34m[\u001b[0m\u001b[0mi\u001b[0m\u001b[0;34m]\u001b[0m \u001b[0;32mfor\u001b[0m \u001b[0mi\u001b[0m \u001b[0;32min\u001b[0m \u001b[0mindices\u001b[0m\u001b[0;34m]\u001b[0m\u001b[0;34m)\u001b[0m\u001b[0;34m\u001b[0m\u001b[0;34m\u001b[0m\u001b[0m\n\u001b[0m\u001b[1;32m    561\u001b[0m             \u001b[0;32mif\u001b[0m \u001b[0mself\u001b[0m\u001b[0;34m.\u001b[0m\u001b[0mpin_memory\u001b[0m\u001b[0;34m:\u001b[0m\u001b[0;34m\u001b[0m\u001b[0;34m\u001b[0m\u001b[0m\n\u001b[1;32m    562\u001b[0m                 \u001b[0mbatch\u001b[0m \u001b[0;34m=\u001b[0m \u001b[0m_utils\u001b[0m\u001b[0;34m.\u001b[0m\u001b[0mpin_memory\u001b[0m\u001b[0;34m.\u001b[0m\u001b[0mpin_memory_batch\u001b[0m\u001b[0;34m(\u001b[0m\u001b[0mbatch\u001b[0m\u001b[0;34m)\u001b[0m\u001b[0;34m\u001b[0m\u001b[0;34m\u001b[0m\u001b[0m\n",
      "\u001b[0;32m/usr/local/lib/python3.6/dist-packages/torch/utils/data/dataloader.py\u001b[0m in \u001b[0;36m<listcomp>\u001b[0;34m(.0)\u001b[0m\n\u001b[1;32m    558\u001b[0m         \u001b[0;32mif\u001b[0m \u001b[0mself\u001b[0m\u001b[0;34m.\u001b[0m\u001b[0mnum_workers\u001b[0m \u001b[0;34m==\u001b[0m \u001b[0;36m0\u001b[0m\u001b[0;34m:\u001b[0m  \u001b[0;31m# same-process loading\u001b[0m\u001b[0;34m\u001b[0m\u001b[0;34m\u001b[0m\u001b[0m\n\u001b[1;32m    559\u001b[0m             \u001b[0mindices\u001b[0m \u001b[0;34m=\u001b[0m \u001b[0mnext\u001b[0m\u001b[0;34m(\u001b[0m\u001b[0mself\u001b[0m\u001b[0;34m.\u001b[0m\u001b[0msample_iter\u001b[0m\u001b[0;34m)\u001b[0m  \u001b[0;31m# may raise StopIteration\u001b[0m\u001b[0;34m\u001b[0m\u001b[0;34m\u001b[0m\u001b[0m\n\u001b[0;32m--> 560\u001b[0;31m             \u001b[0mbatch\u001b[0m \u001b[0;34m=\u001b[0m \u001b[0mself\u001b[0m\u001b[0;34m.\u001b[0m\u001b[0mcollate_fn\u001b[0m\u001b[0;34m(\u001b[0m\u001b[0;34m[\u001b[0m\u001b[0mself\u001b[0m\u001b[0;34m.\u001b[0m\u001b[0mdataset\u001b[0m\u001b[0;34m[\u001b[0m\u001b[0mi\u001b[0m\u001b[0;34m]\u001b[0m \u001b[0;32mfor\u001b[0m \u001b[0mi\u001b[0m \u001b[0;32min\u001b[0m \u001b[0mindices\u001b[0m\u001b[0;34m]\u001b[0m\u001b[0;34m)\u001b[0m\u001b[0;34m\u001b[0m\u001b[0;34m\u001b[0m\u001b[0m\n\u001b[0m\u001b[1;32m    561\u001b[0m             \u001b[0;32mif\u001b[0m \u001b[0mself\u001b[0m\u001b[0;34m.\u001b[0m\u001b[0mpin_memory\u001b[0m\u001b[0;34m:\u001b[0m\u001b[0;34m\u001b[0m\u001b[0;34m\u001b[0m\u001b[0m\n\u001b[1;32m    562\u001b[0m                 \u001b[0mbatch\u001b[0m \u001b[0;34m=\u001b[0m \u001b[0m_utils\u001b[0m\u001b[0;34m.\u001b[0m\u001b[0mpin_memory\u001b[0m\u001b[0;34m.\u001b[0m\u001b[0mpin_memory_batch\u001b[0m\u001b[0;34m(\u001b[0m\u001b[0mbatch\u001b[0m\u001b[0;34m)\u001b[0m\u001b[0;34m\u001b[0m\u001b[0;34m\u001b[0m\u001b[0m\n",
      "\u001b[0;32m/usr/local/lib/python3.6/dist-packages/torchvision/datasets/caltech.py\u001b[0m in \u001b[0;36m__getitem__\u001b[0;34m(self, index)\u001b[0m\n\u001b[1;32m     96\u001b[0m \u001b[0;34m\u001b[0m\u001b[0m\n\u001b[1;32m     97\u001b[0m         \u001b[0;32mif\u001b[0m \u001b[0mself\u001b[0m\u001b[0;34m.\u001b[0m\u001b[0mtransform\u001b[0m \u001b[0;32mis\u001b[0m \u001b[0;32mnot\u001b[0m \u001b[0;32mNone\u001b[0m\u001b[0;34m:\u001b[0m\u001b[0;34m\u001b[0m\u001b[0;34m\u001b[0m\u001b[0m\n\u001b[0;32m---> 98\u001b[0;31m             \u001b[0mimg\u001b[0m \u001b[0;34m=\u001b[0m \u001b[0mself\u001b[0m\u001b[0;34m.\u001b[0m\u001b[0mtransform\u001b[0m\u001b[0;34m(\u001b[0m\u001b[0mimg\u001b[0m\u001b[0;34m)\u001b[0m\u001b[0;34m\u001b[0m\u001b[0;34m\u001b[0m\u001b[0m\n\u001b[0m\u001b[1;32m     99\u001b[0m \u001b[0;34m\u001b[0m\u001b[0m\n\u001b[1;32m    100\u001b[0m         \u001b[0;32mif\u001b[0m \u001b[0mself\u001b[0m\u001b[0;34m.\u001b[0m\u001b[0mtarget_transform\u001b[0m \u001b[0;32mis\u001b[0m \u001b[0;32mnot\u001b[0m \u001b[0;32mNone\u001b[0m\u001b[0;34m:\u001b[0m\u001b[0;34m\u001b[0m\u001b[0;34m\u001b[0m\u001b[0m\n",
      "\u001b[0;32m/usr/local/lib/python3.6/dist-packages/torchvision/transforms/transforms.py\u001b[0m in \u001b[0;36m__call__\u001b[0;34m(self, img)\u001b[0m\n\u001b[1;32m     59\u001b[0m     \u001b[0;32mdef\u001b[0m \u001b[0m__call__\u001b[0m\u001b[0;34m(\u001b[0m\u001b[0mself\u001b[0m\u001b[0;34m,\u001b[0m \u001b[0mimg\u001b[0m\u001b[0;34m)\u001b[0m\u001b[0;34m:\u001b[0m\u001b[0;34m\u001b[0m\u001b[0;34m\u001b[0m\u001b[0m\n\u001b[1;32m     60\u001b[0m         \u001b[0;32mfor\u001b[0m \u001b[0mt\u001b[0m \u001b[0;32min\u001b[0m \u001b[0mself\u001b[0m\u001b[0;34m.\u001b[0m\u001b[0mtransforms\u001b[0m\u001b[0;34m:\u001b[0m\u001b[0;34m\u001b[0m\u001b[0;34m\u001b[0m\u001b[0m\n\u001b[0;32m---> 61\u001b[0;31m             \u001b[0mimg\u001b[0m \u001b[0;34m=\u001b[0m \u001b[0mt\u001b[0m\u001b[0;34m(\u001b[0m\u001b[0mimg\u001b[0m\u001b[0;34m)\u001b[0m\u001b[0;34m\u001b[0m\u001b[0;34m\u001b[0m\u001b[0m\n\u001b[0m\u001b[1;32m     62\u001b[0m         \u001b[0;32mreturn\u001b[0m \u001b[0mimg\u001b[0m\u001b[0;34m\u001b[0m\u001b[0;34m\u001b[0m\u001b[0m\n\u001b[1;32m     63\u001b[0m \u001b[0;34m\u001b[0m\u001b[0m\n",
      "\u001b[0;32m/usr/local/lib/python3.6/dist-packages/torchvision/transforms/transforms.py\u001b[0m in \u001b[0;36m__call__\u001b[0;34m(self, pic)\u001b[0m\n\u001b[1;32m    125\u001b[0m \u001b[0;34m\u001b[0m\u001b[0m\n\u001b[1;32m    126\u001b[0m         \"\"\"\n\u001b[0;32m--> 127\u001b[0;31m         \u001b[0;32mreturn\u001b[0m \u001b[0mF\u001b[0m\u001b[0;34m.\u001b[0m\u001b[0mto_pil_image\u001b[0m\u001b[0;34m(\u001b[0m\u001b[0mpic\u001b[0m\u001b[0;34m,\u001b[0m \u001b[0mself\u001b[0m\u001b[0;34m.\u001b[0m\u001b[0mmode\u001b[0m\u001b[0;34m)\u001b[0m\u001b[0;34m\u001b[0m\u001b[0;34m\u001b[0m\u001b[0m\n\u001b[0m\u001b[1;32m    128\u001b[0m \u001b[0;34m\u001b[0m\u001b[0m\n\u001b[1;32m    129\u001b[0m     \u001b[0;32mdef\u001b[0m \u001b[0m__repr__\u001b[0m\u001b[0;34m(\u001b[0m\u001b[0mself\u001b[0m\u001b[0;34m)\u001b[0m\u001b[0;34m:\u001b[0m\u001b[0;34m\u001b[0m\u001b[0;34m\u001b[0m\u001b[0m\n",
      "\u001b[0;32m/usr/local/lib/python3.6/dist-packages/torchvision/transforms/functional.py\u001b[0m in \u001b[0;36mto_pil_image\u001b[0;34m(pic, mode)\u001b[0m\n\u001b[1;32m    110\u001b[0m     \"\"\"\n\u001b[1;32m    111\u001b[0m     \u001b[0;32mif\u001b[0m \u001b[0;32mnot\u001b[0m\u001b[0;34m(\u001b[0m\u001b[0misinstance\u001b[0m\u001b[0;34m(\u001b[0m\u001b[0mpic\u001b[0m\u001b[0;34m,\u001b[0m \u001b[0mtorch\u001b[0m\u001b[0;34m.\u001b[0m\u001b[0mTensor\u001b[0m\u001b[0;34m)\u001b[0m \u001b[0;32mor\u001b[0m \u001b[0misinstance\u001b[0m\u001b[0;34m(\u001b[0m\u001b[0mpic\u001b[0m\u001b[0;34m,\u001b[0m \u001b[0mnp\u001b[0m\u001b[0;34m.\u001b[0m\u001b[0mndarray\u001b[0m\u001b[0;34m)\u001b[0m\u001b[0;34m)\u001b[0m\u001b[0;34m:\u001b[0m\u001b[0;34m\u001b[0m\u001b[0;34m\u001b[0m\u001b[0m\n\u001b[0;32m--> 112\u001b[0;31m         \u001b[0;32mraise\u001b[0m \u001b[0mTypeError\u001b[0m\u001b[0;34m(\u001b[0m\u001b[0;34m'pic should be Tensor or ndarray. Got {}.'\u001b[0m\u001b[0;34m.\u001b[0m\u001b[0mformat\u001b[0m\u001b[0;34m(\u001b[0m\u001b[0mtype\u001b[0m\u001b[0;34m(\u001b[0m\u001b[0mpic\u001b[0m\u001b[0;34m)\u001b[0m\u001b[0;34m)\u001b[0m\u001b[0;34m)\u001b[0m\u001b[0;34m\u001b[0m\u001b[0;34m\u001b[0m\u001b[0m\n\u001b[0m\u001b[1;32m    113\u001b[0m \u001b[0;34m\u001b[0m\u001b[0m\n\u001b[1;32m    114\u001b[0m     \u001b[0;32melif\u001b[0m \u001b[0misinstance\u001b[0m\u001b[0;34m(\u001b[0m\u001b[0mpic\u001b[0m\u001b[0;34m,\u001b[0m \u001b[0mtorch\u001b[0m\u001b[0;34m.\u001b[0m\u001b[0mTensor\u001b[0m\u001b[0;34m)\u001b[0m\u001b[0;34m:\u001b[0m\u001b[0;34m\u001b[0m\u001b[0;34m\u001b[0m\u001b[0m\n",
      "\u001b[0;31mTypeError\u001b[0m: pic should be Tensor or ndarray. Got <class 'PIL.Image.Image'>."
     ]
    }
   ],
   "source": [
    "device = \"cuda:0\"\n",
    "class ResNet34(nn.Module):\n",
    "    def __init__(self, pretrained):\n",
    "        super(ResNet34, self).__init__()\n",
    "        if pretrained is True:\n",
    "            self.model = pretrainedmodels.__dict__['resnet34'](pretrained='imagenet')\n",
    "        else:\n",
    "            self.model = pretrainedmodels.__dict__['resnet34'](pretrained=None)\n",
    "        \n",
    "        self.l0 = nn.Linear(512, 101)\n",
    "        self.dropout = nn.Dropout2d(0.4)\n",
    "\n",
    "    def forward(self, x):\n",
    "        # get the batch size only, ignore (c, h, w)\n",
    "        batch, _, _, _ = x.shape\n",
    "        x = self.model.features(x)\n",
    "        x = F.adaptive_avg_pool2d(x, 1).reshape(batch, -1)\n",
    "        x = self.dropout(x)\n",
    "        l0 = self.l0(x)\n",
    "        return l0\n",
    "\n",
    "model = ResNet34(pretrained=False).to(device)\n",
    "print(model)\n",
    "\n",
    "# optimizer\n",
    "optimizer = optim.Adam(model.parameters(), lr=1e-4)\n",
    "# loss function\n",
    "criterion = nn.CrossEntropyLoss()\n",
    "\n",
    "# print(f\"Training on {len(train_data)} examples, validating on {len(val_data)} examples\")\n",
    "\n",
    "#validation function\n",
    "def validate(model, dataloader):\n",
    "    print('Validating')\n",
    "    model.eval()\n",
    "    val_running_loss = 0.0\n",
    "    val_running_correct = 0\n",
    "    with torch.no_grad():\n",
    "        for i, data in tqdm(enumerate(dataloader), total=int(len(val_data)/dataloader.batch_size)):\n",
    "            data, target = data[0].to(device), data[1].to(device)\n",
    "            outputs = model(data)\n",
    "            loss = criterion(outputs, torch.max(target, 1)[1])\n",
    "            \n",
    "            val_running_loss += loss.item()\n",
    "            _, preds = torch.max(outputs.data, 1)\n",
    "            val_running_correct += (preds == torch.max(target, 1)[1]).sum().item()\n",
    "        \n",
    "        val_loss = val_running_loss/len(dataloader.dataset)\n",
    "        val_accuracy = 100. * val_running_correct/len(dataloader.dataset)\n",
    "        print(f'Val Loss: {val_loss:.4f}, Val Acc: {val_accuracy:.2f}')\n",
    "        \n",
    "        return val_loss, val_accuracy\n",
    "\n",
    "# training function\n",
    "def fit(model, dataloader):\n",
    "    print('Training')\n",
    "    model.train()\n",
    "    train_running_loss = 0.0\n",
    "    train_running_correct = 0\n",
    "    for data in tqdm(dataloader, leave=False, total=len(dataloader)):\n",
    "        data, target = data[0].to(device), data[1].to(device)\n",
    "        optimizer.zero_grad()\n",
    "        outputs = model(data)\n",
    "        # print(outputs)\n",
    "        # print(torch.max(target, 1)[1])\n",
    "        loss = criterion(outputs, target)\n",
    "        train_running_loss += loss.item()\n",
    "        _, preds = torch.max(outputs.data, 1)\n",
    "        train_running_correct += (preds == torch.max(target, 1)[1]).sum().item()\n",
    "        loss.backward()\n",
    "        optimizer.step()\n",
    "        \n",
    "    train_loss = train_running_loss/len(dataloader.dataset)\n",
    "    train_accuracy = 100. * train_running_correct/len(dataloader.dataset)\n",
    "    \n",
    "    print(f\"Train Loss: {train_loss:.4f}, Train Acc: {train_accuracy:.2f}\")\n",
    "    \n",
    "    return train_loss, train_accuracy\n",
    "\n",
    "\n",
    "train_loss , train_accuracy = [], []\n",
    "val_loss , val_accuracy = [], []\n",
    "start = time.time()\n",
    "for epoch in range(1):\n",
    "    print(f\"Epoch {epoch+1} of {1}\")\n",
    "    train_epoch_loss, train_epoch_accuracy = fit(model, trainloader)\n",
    "    val_epoch_loss, val_epoch_accuracy = validate(model, valloader)\n",
    "    train_loss.append(train_epoch_loss)\n",
    "    train_accuracy.append(train_epoch_accuracy)\n",
    "    val_loss.append(val_epoch_loss)\n",
    "    val_accuracy.append(val_epoch_accuracy)\n",
    "end = time.time()\n",
    "\n",
    "print((end-start)/60, 'minutes')"
   ]
  },
  {
   "cell_type": "code",
   "execution_count": 2,
   "metadata": {},
   "outputs": [],
   "source": [
    "from fastai import *\n",
    "from fastai.vision import *\n",
    "from fastai.metrics import error_rate\n",
    "# from fastai.widgets import *\n",
    "import re"
   ]
  },
  {
   "cell_type": "code",
   "execution_count": 3,
   "metadata": {},
   "outputs": [
    {
     "ename": "NameError",
     "evalue": "name 'Path' is not defined",
     "output_type": "error",
     "traceback": [
      "\u001b[0;31m---------------------------------------------------------------------------\u001b[0m",
      "\u001b[0;31mNameError\u001b[0m                                 Traceback (most recent call last)",
      "\u001b[0;32m<ipython-input-3-1a1293aef082>\u001b[0m in \u001b[0;36m<module>\u001b[0;34m\u001b[0m\n\u001b[0;32m----> 1\u001b[0;31m \u001b[0mPATH1\u001b[0m \u001b[0;34m=\u001b[0m \u001b[0mPath\u001b[0m\u001b[0;34m(\u001b[0m\u001b[0;34m'./caltech'\u001b[0m\u001b[0;34m)\u001b[0m\u001b[0;34m\u001b[0m\u001b[0;34m\u001b[0m\u001b[0m\n\u001b[0m\u001b[1;32m      2\u001b[0m \u001b[0mpath\u001b[0m \u001b[0;34m=\u001b[0m \u001b[0muntar_data\u001b[0m\u001b[0;34m(\u001b[0m\u001b[0mURLs\u001b[0m\u001b[0;34m.\u001b[0m\u001b[0mCALTECH_101\u001b[0m\u001b[0;34m,\u001b[0m \u001b[0mdest\u001b[0m\u001b[0;34m=\u001b[0m\u001b[0mPATH1\u001b[0m\u001b[0;34m)\u001b[0m\u001b[0;34m\u001b[0m\u001b[0;34m\u001b[0m\u001b[0m\n\u001b[1;32m      3\u001b[0m \u001b[0mpath\u001b[0m\u001b[0;34m.\u001b[0m\u001b[0mls\u001b[0m\u001b[0;34m(\u001b[0m\u001b[0;34m)\u001b[0m\u001b[0;34m\u001b[0m\u001b[0;34m\u001b[0m\u001b[0m\n",
      "\u001b[0;31mNameError\u001b[0m: name 'Path' is not defined"
     ]
    }
   ],
   "source": [
    "PATH1 = Path('./caltech')\n",
    "path = untar_data(URLs.CALTECH_101, dest=PATH1)\n",
    "path.ls()"
   ]
  },
  {
   "cell_type": "code",
   "execution_count": null,
   "metadata": {},
   "outputs": [],
   "source": []
  }
 ],
 "metadata": {
  "kernelspec": {
   "display_name": "Python 3",
   "language": "python",
   "name": "python3"
  },
  "language_info": {
   "codemirror_mode": {
    "name": "ipython",
    "version": 3
   },
   "file_extension": ".py",
   "mimetype": "text/x-python",
   "name": "python",
   "nbconvert_exporter": "python",
   "pygments_lexer": "ipython3",
   "version": "3.6.9"
  }
 },
 "nbformat": 4,
 "nbformat_minor": 2
}
